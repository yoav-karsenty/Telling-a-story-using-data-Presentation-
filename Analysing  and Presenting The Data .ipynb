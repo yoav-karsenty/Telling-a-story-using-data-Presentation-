{
 "cells": [
  {
   "cell_type": "markdown",
   "metadata": {},
   "source": [
    "# Telling A Story Using Data Project"
   ]
  },
  {
   "cell_type": "markdown",
   "metadata": {},
   "source": [
    "In this project, I will investigate data on Restaurants in LA, in order to understand the market's current condition and make recommendations for a robot-run cafe partners that wants to opean a venue in LA. \n",
    "In order to do that, i will do the following :\n",
    "\n",
    "1. Explore the data\n",
    "2. Investigate the proportions of the various types of establishments.\n",
    "3. Investigate the proportions of chain and nonchain establishments.\n",
    "4. Determine What characterizes chains in terms of venue type and number of seats.\n",
    "5. Determine the average number of seats for each type of restaurant. \n",
    "6. Plot a graph of the top ten streets by number of restaurants.\n",
    "7. Find the number of streets that only have one restaurant.\n",
    "8. For streets with a lot of restaurants, I will look for trends in terms of average seats. \n",
    "9. conclusion\n"
   ]
  },
  {
   "cell_type": "code",
   "execution_count": 33,
   "metadata": {},
   "outputs": [
    {
     "name": "stdout",
     "output_type": "stream",
     "text": [
      "Requirement already satisfied: usaddress in /Users/yaakovkarsenty/opt/anaconda3/lib/python3.8/site-packages (0.5.10)\r\n",
      "Requirement already satisfied: future>=0.14 in /Users/yaakovkarsenty/opt/anaconda3/lib/python3.8/site-packages (from usaddress) (0.18.2)\r\n",
      "Requirement already satisfied: python-crfsuite>=0.7 in /Users/yaakovkarsenty/opt/anaconda3/lib/python3.8/site-packages (from usaddress) (0.9.8)\r\n",
      "Requirement already satisfied: probableparsing in /Users/yaakovkarsenty/opt/anaconda3/lib/python3.8/site-packages (from usaddress) (0.0.1)\r\n"
     ]
    },
    {
     "data": {
      "text/html": [
       "        <script type=\"text/javascript\">\n",
       "        window.PlotlyConfig = {MathJaxConfig: 'local'};\n",
       "        if (window.MathJax) {MathJax.Hub.Config({SVG: {font: \"STIX-Web\"}});}\n",
       "        if (typeof require !== 'undefined') {\n",
       "        require.undef(\"plotly\");\n",
       "        requirejs.config({\n",
       "            paths: {\n",
       "                'plotly': ['https://cdn.plot.ly/plotly-2.11.1.min']\n",
       "            }\n",
       "        });\n",
       "        require(['plotly'], function(Plotly) {\n",
       "            window._Plotly = Plotly;\n",
       "        });\n",
       "        }\n",
       "        </script>\n",
       "        "
      ]
     },
     "metadata": {},
     "output_type": "display_data"
    }
   ],
   "source": [
    "# Loading all the libraries i will use:\n",
    "!pip install usaddress\n",
    "import usaddress\n",
    "import pandas as pd\n",
    "import pandas as pd\n",
    "import numpy as np\n",
    "import matplotlib.pyplot as plt\n",
    "import datetime\n",
    "import seaborn as sns\n",
    "import math \n",
    "from functools import reduce\n",
    "from scipy import stats as st\n",
    "import warnings\n",
    "warnings.filterwarnings(\"ignore\")\n",
    "import plotly.express as px\n",
    "\n",
    "import plotly.graph_objects as go\n",
    "\n",
    "import plotly.offline\n",
    "\n",
    "plotly.offline.init_notebook_mode(connected=True)\n",
    "import requests \n",
    "import io\n",
    "import nltk, re\n",
    "import string\n",
    "from collections import Counter\n",
    "from string import punctuation\n"
   ]
  },
  {
   "cell_type": "code",
   "execution_count": 34,
   "metadata": {},
   "outputs": [
    {
     "data": {
      "text/html": [
       "<div>\n",
       "<style scoped>\n",
       "    .dataframe tbody tr th:only-of-type {\n",
       "        vertical-align: middle;\n",
       "    }\n",
       "\n",
       "    .dataframe tbody tr th {\n",
       "        vertical-align: top;\n",
       "    }\n",
       "\n",
       "    .dataframe thead th {\n",
       "        text-align: right;\n",
       "    }\n",
       "</style>\n",
       "<table border=\"1\" class=\"dataframe\">\n",
       "  <thead>\n",
       "    <tr style=\"text-align: right;\">\n",
       "      <th></th>\n",
       "      <th>id</th>\n",
       "      <th>object_name</th>\n",
       "      <th>address</th>\n",
       "      <th>chain</th>\n",
       "      <th>object_type</th>\n",
       "      <th>number</th>\n",
       "    </tr>\n",
       "  </thead>\n",
       "  <tbody>\n",
       "    <tr>\n",
       "      <th>0</th>\n",
       "      <td>11786</td>\n",
       "      <td>HABITAT COFFEE SHOP</td>\n",
       "      <td>3708 N EAGLE ROCK BLVD</td>\n",
       "      <td>False</td>\n",
       "      <td>Cafe</td>\n",
       "      <td>26</td>\n",
       "    </tr>\n",
       "    <tr>\n",
       "      <th>1</th>\n",
       "      <td>11787</td>\n",
       "      <td>REILLY'S</td>\n",
       "      <td>100 WORLD WAY # 120</td>\n",
       "      <td>False</td>\n",
       "      <td>Restaurant</td>\n",
       "      <td>9</td>\n",
       "    </tr>\n",
       "    <tr>\n",
       "      <th>2</th>\n",
       "      <td>11788</td>\n",
       "      <td>STREET CHURROS</td>\n",
       "      <td>6801 HOLLYWOOD BLVD # 253</td>\n",
       "      <td>False</td>\n",
       "      <td>Fast Food</td>\n",
       "      <td>20</td>\n",
       "    </tr>\n",
       "    <tr>\n",
       "      <th>3</th>\n",
       "      <td>11789</td>\n",
       "      <td>TRINITI ECHO PARK</td>\n",
       "      <td>1814 W SUNSET BLVD</td>\n",
       "      <td>False</td>\n",
       "      <td>Restaurant</td>\n",
       "      <td>22</td>\n",
       "    </tr>\n",
       "    <tr>\n",
       "      <th>4</th>\n",
       "      <td>11790</td>\n",
       "      <td>POLLEN</td>\n",
       "      <td>2100 ECHO PARK AVE</td>\n",
       "      <td>False</td>\n",
       "      <td>Restaurant</td>\n",
       "      <td>20</td>\n",
       "    </tr>\n",
       "  </tbody>\n",
       "</table>\n",
       "</div>"
      ],
      "text/plain": [
       "      id          object_name                    address  chain object_type  \\\n",
       "0  11786  HABITAT COFFEE SHOP     3708 N EAGLE ROCK BLVD  False        Cafe   \n",
       "1  11787             REILLY'S        100 WORLD WAY # 120  False  Restaurant   \n",
       "2  11788       STREET CHURROS  6801 HOLLYWOOD BLVD # 253  False   Fast Food   \n",
       "3  11789    TRINITI ECHO PARK         1814 W SUNSET BLVD  False  Restaurant   \n",
       "4  11790               POLLEN         2100 ECHO PARK AVE  False  Restaurant   \n",
       "\n",
       "   number  \n",
       "0      26  \n",
       "1       9  \n",
       "2      20  \n",
       "3      22  \n",
       "4      20  "
      ]
     },
     "execution_count": 34,
     "metadata": {},
     "output_type": "execute_result"
    }
   ],
   "source": [
    "# Downloading the csv file from my GitHub account\n",
    "\n",
    "url = \"https://raw.githubusercontent.com/yoav-karsenty/Telling-a-story-using-data-Presentation-/main/rest_data_us%20(1).csv\"\n",
    "download = requests.get(url).content\n",
    "\n",
    "# Reading the downloaded content and turning it into a pandas dataframe\n",
    "\n",
    "rest = pd.read_csv(io.StringIO(download.decode('utf-8')))\n",
    "\n",
    "#Exploring the data \n",
    "\n",
    "\n",
    "rest.head()"
   ]
  },
  {
   "cell_type": "code",
   "execution_count": null,
   "metadata": {},
   "outputs": [],
   "source": []
  },
  {
   "cell_type": "code",
   "execution_count": 35,
   "metadata": {
    "scrolled": true
   },
   "outputs": [
    {
     "name": "stdout",
     "output_type": "stream",
     "text": [
      "<class 'pandas.core.frame.DataFrame'>\n",
      "RangeIndex: 9651 entries, 0 to 9650\n",
      "Data columns (total 6 columns):\n",
      " #   Column       Non-Null Count  Dtype \n",
      "---  ------       --------------  ----- \n",
      " 0   id           9651 non-null   int64 \n",
      " 1   object_name  9651 non-null   object\n",
      " 2   address      9651 non-null   object\n",
      " 3   chain        9648 non-null   object\n",
      " 4   object_type  9651 non-null   object\n",
      " 5   number       9651 non-null   int64 \n",
      "dtypes: int64(2), object(4)\n",
      "memory usage: 452.5+ KB\n"
     ]
    }
   ],
   "source": [
    "rest.info()"
   ]
  },
  {
   "cell_type": "code",
   "execution_count": 36,
   "metadata": {
    "scrolled": true
   },
   "outputs": [
    {
     "data": {
      "text/html": [
       "<div>\n",
       "<style scoped>\n",
       "    .dataframe tbody tr th:only-of-type {\n",
       "        vertical-align: middle;\n",
       "    }\n",
       "\n",
       "    .dataframe tbody tr th {\n",
       "        vertical-align: top;\n",
       "    }\n",
       "\n",
       "    .dataframe thead th {\n",
       "        text-align: right;\n",
       "    }\n",
       "</style>\n",
       "<table border=\"1\" class=\"dataframe\">\n",
       "  <thead>\n",
       "    <tr style=\"text-align: right;\">\n",
       "      <th></th>\n",
       "      <th>id</th>\n",
       "      <th>object_name</th>\n",
       "      <th>address</th>\n",
       "      <th>chain</th>\n",
       "      <th>object_type</th>\n",
       "      <th>number</th>\n",
       "    </tr>\n",
       "  </thead>\n",
       "  <tbody>\n",
       "  </tbody>\n",
       "</table>\n",
       "</div>"
      ],
      "text/plain": [
       "Empty DataFrame\n",
       "Columns: [id, object_name, address, chain, object_type, number]\n",
       "Index: []"
      ]
     },
     "execution_count": 36,
     "metadata": {},
     "output_type": "execute_result"
    }
   ],
   "source": [
    "rest[rest.duplicated() == True]"
   ]
  },
  {
   "cell_type": "markdown",
   "metadata": {},
   "source": [
    "No missing values or duplicates, we are good to go"
   ]
  },
  {
   "cell_type": "markdown",
   "metadata": {},
   "source": [
    "## Investigate the proportions of the various types of establishments."
   ]
  },
  {
   "cell_type": "code",
   "execution_count": 37,
   "metadata": {},
   "outputs": [
    {
     "data": {
      "text/html": [
       "<div>\n",
       "<style scoped>\n",
       "    .dataframe tbody tr th:only-of-type {\n",
       "        vertical-align: middle;\n",
       "    }\n",
       "\n",
       "    .dataframe tbody tr th {\n",
       "        vertical-align: top;\n",
       "    }\n",
       "\n",
       "    .dataframe thead th {\n",
       "        text-align: right;\n",
       "    }\n",
       "</style>\n",
       "<table border=\"1\" class=\"dataframe\">\n",
       "  <thead>\n",
       "    <tr style=\"text-align: right;\">\n",
       "      <th></th>\n",
       "      <th>object_type</th>\n",
       "      <th>number</th>\n",
       "    </tr>\n",
       "  </thead>\n",
       "  <tbody>\n",
       "    <tr>\n",
       "      <th>5</th>\n",
       "      <td>Restaurant</td>\n",
       "      <td>7255</td>\n",
       "    </tr>\n",
       "    <tr>\n",
       "      <th>3</th>\n",
       "      <td>Fast Food</td>\n",
       "      <td>1066</td>\n",
       "    </tr>\n",
       "    <tr>\n",
       "      <th>2</th>\n",
       "      <td>Cafe</td>\n",
       "      <td>435</td>\n",
       "    </tr>\n",
       "    <tr>\n",
       "      <th>4</th>\n",
       "      <td>Pizza</td>\n",
       "      <td>320</td>\n",
       "    </tr>\n",
       "    <tr>\n",
       "      <th>1</th>\n",
       "      <td>Bar</td>\n",
       "      <td>292</td>\n",
       "    </tr>\n",
       "    <tr>\n",
       "      <th>0</th>\n",
       "      <td>Bakery</td>\n",
       "      <td>283</td>\n",
       "    </tr>\n",
       "  </tbody>\n",
       "</table>\n",
       "</div>"
      ],
      "text/plain": [
       "  object_type  number\n",
       "5  Restaurant    7255\n",
       "3   Fast Food    1066\n",
       "2        Cafe     435\n",
       "4       Pizza     320\n",
       "1         Bar     292\n",
       "0      Bakery     283"
      ]
     },
     "execution_count": 37,
     "metadata": {},
     "output_type": "execute_result"
    }
   ],
   "source": [
    "#Grouping the data by establishment type\n",
    "type_group = rest.groupby('object_type')['number'].count().reset_index()\n",
    "\n",
    "type_group.sort_values(by='number', ascending=False)"
   ]
  },
  {
   "cell_type": "code",
   "execution_count": 38,
   "metadata": {
    "scrolled": false
   },
   "outputs": [
    {
     "data": {
      "application/vnd.plotly.v1+json": {
       "config": {
        "plotlyServerURL": "https://plot.ly"
       },
       "data": [
        {
         "labels": [
          "Restaurant",
          "Fast Food",
          "Cafe",
          "Pizza",
          "Bar",
          "Bakery"
         ],
         "type": "pie",
         "values": [
          7255,
          1066,
          435,
          320,
          292,
          283
         ]
        }
       ],
       "layout": {
        "template": {
         "data": {
          "bar": [
           {
            "error_x": {
             "color": "#2a3f5f"
            },
            "error_y": {
             "color": "#2a3f5f"
            },
            "marker": {
             "line": {
              "color": "#E5ECF6",
              "width": 0.5
             },
             "pattern": {
              "fillmode": "overlay",
              "size": 10,
              "solidity": 0.2
             }
            },
            "type": "bar"
           }
          ],
          "barpolar": [
           {
            "marker": {
             "line": {
              "color": "#E5ECF6",
              "width": 0.5
             },
             "pattern": {
              "fillmode": "overlay",
              "size": 10,
              "solidity": 0.2
             }
            },
            "type": "barpolar"
           }
          ],
          "carpet": [
           {
            "aaxis": {
             "endlinecolor": "#2a3f5f",
             "gridcolor": "white",
             "linecolor": "white",
             "minorgridcolor": "white",
             "startlinecolor": "#2a3f5f"
            },
            "baxis": {
             "endlinecolor": "#2a3f5f",
             "gridcolor": "white",
             "linecolor": "white",
             "minorgridcolor": "white",
             "startlinecolor": "#2a3f5f"
            },
            "type": "carpet"
           }
          ],
          "choropleth": [
           {
            "colorbar": {
             "outlinewidth": 0,
             "ticks": ""
            },
            "type": "choropleth"
           }
          ],
          "contour": [
           {
            "colorbar": {
             "outlinewidth": 0,
             "ticks": ""
            },
            "colorscale": [
             [
              0,
              "#0d0887"
             ],
             [
              0.1111111111111111,
              "#46039f"
             ],
             [
              0.2222222222222222,
              "#7201a8"
             ],
             [
              0.3333333333333333,
              "#9c179e"
             ],
             [
              0.4444444444444444,
              "#bd3786"
             ],
             [
              0.5555555555555556,
              "#d8576b"
             ],
             [
              0.6666666666666666,
              "#ed7953"
             ],
             [
              0.7777777777777778,
              "#fb9f3a"
             ],
             [
              0.8888888888888888,
              "#fdca26"
             ],
             [
              1,
              "#f0f921"
             ]
            ],
            "type": "contour"
           }
          ],
          "contourcarpet": [
           {
            "colorbar": {
             "outlinewidth": 0,
             "ticks": ""
            },
            "type": "contourcarpet"
           }
          ],
          "heatmap": [
           {
            "colorbar": {
             "outlinewidth": 0,
             "ticks": ""
            },
            "colorscale": [
             [
              0,
              "#0d0887"
             ],
             [
              0.1111111111111111,
              "#46039f"
             ],
             [
              0.2222222222222222,
              "#7201a8"
             ],
             [
              0.3333333333333333,
              "#9c179e"
             ],
             [
              0.4444444444444444,
              "#bd3786"
             ],
             [
              0.5555555555555556,
              "#d8576b"
             ],
             [
              0.6666666666666666,
              "#ed7953"
             ],
             [
              0.7777777777777778,
              "#fb9f3a"
             ],
             [
              0.8888888888888888,
              "#fdca26"
             ],
             [
              1,
              "#f0f921"
             ]
            ],
            "type": "heatmap"
           }
          ],
          "heatmapgl": [
           {
            "colorbar": {
             "outlinewidth": 0,
             "ticks": ""
            },
            "colorscale": [
             [
              0,
              "#0d0887"
             ],
             [
              0.1111111111111111,
              "#46039f"
             ],
             [
              0.2222222222222222,
              "#7201a8"
             ],
             [
              0.3333333333333333,
              "#9c179e"
             ],
             [
              0.4444444444444444,
              "#bd3786"
             ],
             [
              0.5555555555555556,
              "#d8576b"
             ],
             [
              0.6666666666666666,
              "#ed7953"
             ],
             [
              0.7777777777777778,
              "#fb9f3a"
             ],
             [
              0.8888888888888888,
              "#fdca26"
             ],
             [
              1,
              "#f0f921"
             ]
            ],
            "type": "heatmapgl"
           }
          ],
          "histogram": [
           {
            "marker": {
             "pattern": {
              "fillmode": "overlay",
              "size": 10,
              "solidity": 0.2
             }
            },
            "type": "histogram"
           }
          ],
          "histogram2d": [
           {
            "colorbar": {
             "outlinewidth": 0,
             "ticks": ""
            },
            "colorscale": [
             [
              0,
              "#0d0887"
             ],
             [
              0.1111111111111111,
              "#46039f"
             ],
             [
              0.2222222222222222,
              "#7201a8"
             ],
             [
              0.3333333333333333,
              "#9c179e"
             ],
             [
              0.4444444444444444,
              "#bd3786"
             ],
             [
              0.5555555555555556,
              "#d8576b"
             ],
             [
              0.6666666666666666,
              "#ed7953"
             ],
             [
              0.7777777777777778,
              "#fb9f3a"
             ],
             [
              0.8888888888888888,
              "#fdca26"
             ],
             [
              1,
              "#f0f921"
             ]
            ],
            "type": "histogram2d"
           }
          ],
          "histogram2dcontour": [
           {
            "colorbar": {
             "outlinewidth": 0,
             "ticks": ""
            },
            "colorscale": [
             [
              0,
              "#0d0887"
             ],
             [
              0.1111111111111111,
              "#46039f"
             ],
             [
              0.2222222222222222,
              "#7201a8"
             ],
             [
              0.3333333333333333,
              "#9c179e"
             ],
             [
              0.4444444444444444,
              "#bd3786"
             ],
             [
              0.5555555555555556,
              "#d8576b"
             ],
             [
              0.6666666666666666,
              "#ed7953"
             ],
             [
              0.7777777777777778,
              "#fb9f3a"
             ],
             [
              0.8888888888888888,
              "#fdca26"
             ],
             [
              1,
              "#f0f921"
             ]
            ],
            "type": "histogram2dcontour"
           }
          ],
          "mesh3d": [
           {
            "colorbar": {
             "outlinewidth": 0,
             "ticks": ""
            },
            "type": "mesh3d"
           }
          ],
          "parcoords": [
           {
            "line": {
             "colorbar": {
              "outlinewidth": 0,
              "ticks": ""
             }
            },
            "type": "parcoords"
           }
          ],
          "pie": [
           {
            "automargin": true,
            "type": "pie"
           }
          ],
          "scatter": [
           {
            "fillpattern": {
             "fillmode": "overlay",
             "size": 10,
             "solidity": 0.2
            },
            "type": "scatter"
           }
          ],
          "scatter3d": [
           {
            "line": {
             "colorbar": {
              "outlinewidth": 0,
              "ticks": ""
             }
            },
            "marker": {
             "colorbar": {
              "outlinewidth": 0,
              "ticks": ""
             }
            },
            "type": "scatter3d"
           }
          ],
          "scattercarpet": [
           {
            "marker": {
             "colorbar": {
              "outlinewidth": 0,
              "ticks": ""
             }
            },
            "type": "scattercarpet"
           }
          ],
          "scattergeo": [
           {
            "marker": {
             "colorbar": {
              "outlinewidth": 0,
              "ticks": ""
             }
            },
            "type": "scattergeo"
           }
          ],
          "scattergl": [
           {
            "marker": {
             "colorbar": {
              "outlinewidth": 0,
              "ticks": ""
             }
            },
            "type": "scattergl"
           }
          ],
          "scattermapbox": [
           {
            "marker": {
             "colorbar": {
              "outlinewidth": 0,
              "ticks": ""
             }
            },
            "type": "scattermapbox"
           }
          ],
          "scatterpolar": [
           {
            "marker": {
             "colorbar": {
              "outlinewidth": 0,
              "ticks": ""
             }
            },
            "type": "scatterpolar"
           }
          ],
          "scatterpolargl": [
           {
            "marker": {
             "colorbar": {
              "outlinewidth": 0,
              "ticks": ""
             }
            },
            "type": "scatterpolargl"
           }
          ],
          "scatterternary": [
           {
            "marker": {
             "colorbar": {
              "outlinewidth": 0,
              "ticks": ""
             }
            },
            "type": "scatterternary"
           }
          ],
          "surface": [
           {
            "colorbar": {
             "outlinewidth": 0,
             "ticks": ""
            },
            "colorscale": [
             [
              0,
              "#0d0887"
             ],
             [
              0.1111111111111111,
              "#46039f"
             ],
             [
              0.2222222222222222,
              "#7201a8"
             ],
             [
              0.3333333333333333,
              "#9c179e"
             ],
             [
              0.4444444444444444,
              "#bd3786"
             ],
             [
              0.5555555555555556,
              "#d8576b"
             ],
             [
              0.6666666666666666,
              "#ed7953"
             ],
             [
              0.7777777777777778,
              "#fb9f3a"
             ],
             [
              0.8888888888888888,
              "#fdca26"
             ],
             [
              1,
              "#f0f921"
             ]
            ],
            "type": "surface"
           }
          ],
          "table": [
           {
            "cells": {
             "fill": {
              "color": "#EBF0F8"
             },
             "line": {
              "color": "white"
             }
            },
            "header": {
             "fill": {
              "color": "#C8D4E3"
             },
             "line": {
              "color": "white"
             }
            },
            "type": "table"
           }
          ]
         },
         "layout": {
          "annotationdefaults": {
           "arrowcolor": "#2a3f5f",
           "arrowhead": 0,
           "arrowwidth": 1
          },
          "autotypenumbers": "strict",
          "coloraxis": {
           "colorbar": {
            "outlinewidth": 0,
            "ticks": ""
           }
          },
          "colorscale": {
           "diverging": [
            [
             0,
             "#8e0152"
            ],
            [
             0.1,
             "#c51b7d"
            ],
            [
             0.2,
             "#de77ae"
            ],
            [
             0.3,
             "#f1b6da"
            ],
            [
             0.4,
             "#fde0ef"
            ],
            [
             0.5,
             "#f7f7f7"
            ],
            [
             0.6,
             "#e6f5d0"
            ],
            [
             0.7,
             "#b8e186"
            ],
            [
             0.8,
             "#7fbc41"
            ],
            [
             0.9,
             "#4d9221"
            ],
            [
             1,
             "#276419"
            ]
           ],
           "sequential": [
            [
             0,
             "#0d0887"
            ],
            [
             0.1111111111111111,
             "#46039f"
            ],
            [
             0.2222222222222222,
             "#7201a8"
            ],
            [
             0.3333333333333333,
             "#9c179e"
            ],
            [
             0.4444444444444444,
             "#bd3786"
            ],
            [
             0.5555555555555556,
             "#d8576b"
            ],
            [
             0.6666666666666666,
             "#ed7953"
            ],
            [
             0.7777777777777778,
             "#fb9f3a"
            ],
            [
             0.8888888888888888,
             "#fdca26"
            ],
            [
             1,
             "#f0f921"
            ]
           ],
           "sequentialminus": [
            [
             0,
             "#0d0887"
            ],
            [
             0.1111111111111111,
             "#46039f"
            ],
            [
             0.2222222222222222,
             "#7201a8"
            ],
            [
             0.3333333333333333,
             "#9c179e"
            ],
            [
             0.4444444444444444,
             "#bd3786"
            ],
            [
             0.5555555555555556,
             "#d8576b"
            ],
            [
             0.6666666666666666,
             "#ed7953"
            ],
            [
             0.7777777777777778,
             "#fb9f3a"
            ],
            [
             0.8888888888888888,
             "#fdca26"
            ],
            [
             1,
             "#f0f921"
            ]
           ]
          },
          "colorway": [
           "#636efa",
           "#EF553B",
           "#00cc96",
           "#ab63fa",
           "#FFA15A",
           "#19d3f3",
           "#FF6692",
           "#B6E880",
           "#FF97FF",
           "#FECB52"
          ],
          "font": {
           "color": "#2a3f5f"
          },
          "geo": {
           "bgcolor": "white",
           "lakecolor": "white",
           "landcolor": "#E5ECF6",
           "showlakes": true,
           "showland": true,
           "subunitcolor": "white"
          },
          "hoverlabel": {
           "align": "left"
          },
          "hovermode": "closest",
          "mapbox": {
           "style": "light"
          },
          "paper_bgcolor": "white",
          "plot_bgcolor": "#E5ECF6",
          "polar": {
           "angularaxis": {
            "gridcolor": "white",
            "linecolor": "white",
            "ticks": ""
           },
           "bgcolor": "#E5ECF6",
           "radialaxis": {
            "gridcolor": "white",
            "linecolor": "white",
            "ticks": ""
           }
          },
          "scene": {
           "xaxis": {
            "backgroundcolor": "#E5ECF6",
            "gridcolor": "white",
            "gridwidth": 2,
            "linecolor": "white",
            "showbackground": true,
            "ticks": "",
            "zerolinecolor": "white"
           },
           "yaxis": {
            "backgroundcolor": "#E5ECF6",
            "gridcolor": "white",
            "gridwidth": 2,
            "linecolor": "white",
            "showbackground": true,
            "ticks": "",
            "zerolinecolor": "white"
           },
           "zaxis": {
            "backgroundcolor": "#E5ECF6",
            "gridcolor": "white",
            "gridwidth": 2,
            "linecolor": "white",
            "showbackground": true,
            "ticks": "",
            "zerolinecolor": "white"
           }
          },
          "shapedefaults": {
           "line": {
            "color": "#2a3f5f"
           }
          },
          "ternary": {
           "aaxis": {
            "gridcolor": "white",
            "linecolor": "white",
            "ticks": ""
           },
           "baxis": {
            "gridcolor": "white",
            "linecolor": "white",
            "ticks": ""
           },
           "bgcolor": "#E5ECF6",
           "caxis": {
            "gridcolor": "white",
            "linecolor": "white",
            "ticks": ""
           }
          },
          "title": {
           "x": 0.05
          },
          "xaxis": {
           "automargin": true,
           "gridcolor": "white",
           "linecolor": "white",
           "ticks": "",
           "title": {
            "standoff": 15
           },
           "zerolinecolor": "white",
           "zerolinewidth": 2
          },
          "yaxis": {
           "automargin": true,
           "gridcolor": "white",
           "linecolor": "white",
           "ticks": "",
           "title": {
            "standoff": 15
           },
           "zerolinecolor": "white",
           "zerolinewidth": 2
          }
         }
        },
        "title": {
         "text": "Establishment Type",
         "x": 0.5,
         "xanchor": "center",
         "y": 0.9,
         "yanchor": "top"
        }
       }
      },
      "text/html": [
       "<div>                            <div id=\"3bd54266-5780-4a17-b5fe-1e1e2c2a2030\" class=\"plotly-graph-div\" style=\"height:525px; width:100%;\"></div>            <script type=\"text/javascript\">                require([\"plotly\"], function(Plotly) {                    window.PLOTLYENV=window.PLOTLYENV || {};                                    if (document.getElementById(\"3bd54266-5780-4a17-b5fe-1e1e2c2a2030\")) {                    Plotly.newPlot(                        \"3bd54266-5780-4a17-b5fe-1e1e2c2a2030\",                        [{\"labels\":[\"Restaurant\",\"Fast Food\",\"Cafe\",\"Pizza\",\"Bar\",\"Bakery\"],\"values\":[7255,1066,435,320,292,283],\"type\":\"pie\"}],                        {\"template\":{\"data\":{\"histogram2dcontour\":[{\"type\":\"histogram2dcontour\",\"colorbar\":{\"outlinewidth\":0,\"ticks\":\"\"},\"colorscale\":[[0.0,\"#0d0887\"],[0.1111111111111111,\"#46039f\"],[0.2222222222222222,\"#7201a8\"],[0.3333333333333333,\"#9c179e\"],[0.4444444444444444,\"#bd3786\"],[0.5555555555555556,\"#d8576b\"],[0.6666666666666666,\"#ed7953\"],[0.7777777777777778,\"#fb9f3a\"],[0.8888888888888888,\"#fdca26\"],[1.0,\"#f0f921\"]]}],\"choropleth\":[{\"type\":\"choropleth\",\"colorbar\":{\"outlinewidth\":0,\"ticks\":\"\"}}],\"histogram2d\":[{\"type\":\"histogram2d\",\"colorbar\":{\"outlinewidth\":0,\"ticks\":\"\"},\"colorscale\":[[0.0,\"#0d0887\"],[0.1111111111111111,\"#46039f\"],[0.2222222222222222,\"#7201a8\"],[0.3333333333333333,\"#9c179e\"],[0.4444444444444444,\"#bd3786\"],[0.5555555555555556,\"#d8576b\"],[0.6666666666666666,\"#ed7953\"],[0.7777777777777778,\"#fb9f3a\"],[0.8888888888888888,\"#fdca26\"],[1.0,\"#f0f921\"]]}],\"heatmap\":[{\"type\":\"heatmap\",\"colorbar\":{\"outlinewidth\":0,\"ticks\":\"\"},\"colorscale\":[[0.0,\"#0d0887\"],[0.1111111111111111,\"#46039f\"],[0.2222222222222222,\"#7201a8\"],[0.3333333333333333,\"#9c179e\"],[0.4444444444444444,\"#bd3786\"],[0.5555555555555556,\"#d8576b\"],[0.6666666666666666,\"#ed7953\"],[0.7777777777777778,\"#fb9f3a\"],[0.8888888888888888,\"#fdca26\"],[1.0,\"#f0f921\"]]}],\"heatmapgl\":[{\"type\":\"heatmapgl\",\"colorbar\":{\"outlinewidth\":0,\"ticks\":\"\"},\"colorscale\":[[0.0,\"#0d0887\"],[0.1111111111111111,\"#46039f\"],[0.2222222222222222,\"#7201a8\"],[0.3333333333333333,\"#9c179e\"],[0.4444444444444444,\"#bd3786\"],[0.5555555555555556,\"#d8576b\"],[0.6666666666666666,\"#ed7953\"],[0.7777777777777778,\"#fb9f3a\"],[0.8888888888888888,\"#fdca26\"],[1.0,\"#f0f921\"]]}],\"contourcarpet\":[{\"type\":\"contourcarpet\",\"colorbar\":{\"outlinewidth\":0,\"ticks\":\"\"}}],\"contour\":[{\"type\":\"contour\",\"colorbar\":{\"outlinewidth\":0,\"ticks\":\"\"},\"colorscale\":[[0.0,\"#0d0887\"],[0.1111111111111111,\"#46039f\"],[0.2222222222222222,\"#7201a8\"],[0.3333333333333333,\"#9c179e\"],[0.4444444444444444,\"#bd3786\"],[0.5555555555555556,\"#d8576b\"],[0.6666666666666666,\"#ed7953\"],[0.7777777777777778,\"#fb9f3a\"],[0.8888888888888888,\"#fdca26\"],[1.0,\"#f0f921\"]]}],\"surface\":[{\"type\":\"surface\",\"colorbar\":{\"outlinewidth\":0,\"ticks\":\"\"},\"colorscale\":[[0.0,\"#0d0887\"],[0.1111111111111111,\"#46039f\"],[0.2222222222222222,\"#7201a8\"],[0.3333333333333333,\"#9c179e\"],[0.4444444444444444,\"#bd3786\"],[0.5555555555555556,\"#d8576b\"],[0.6666666666666666,\"#ed7953\"],[0.7777777777777778,\"#fb9f3a\"],[0.8888888888888888,\"#fdca26\"],[1.0,\"#f0f921\"]]}],\"mesh3d\":[{\"type\":\"mesh3d\",\"colorbar\":{\"outlinewidth\":0,\"ticks\":\"\"}}],\"scatter\":[{\"fillpattern\":{\"fillmode\":\"overlay\",\"size\":10,\"solidity\":0.2},\"type\":\"scatter\"}],\"parcoords\":[{\"type\":\"parcoords\",\"line\":{\"colorbar\":{\"outlinewidth\":0,\"ticks\":\"\"}}}],\"scatterpolargl\":[{\"type\":\"scatterpolargl\",\"marker\":{\"colorbar\":{\"outlinewidth\":0,\"ticks\":\"\"}}}],\"bar\":[{\"error_x\":{\"color\":\"#2a3f5f\"},\"error_y\":{\"color\":\"#2a3f5f\"},\"marker\":{\"line\":{\"color\":\"#E5ECF6\",\"width\":0.5},\"pattern\":{\"fillmode\":\"overlay\",\"size\":10,\"solidity\":0.2}},\"type\":\"bar\"}],\"scattergeo\":[{\"type\":\"scattergeo\",\"marker\":{\"colorbar\":{\"outlinewidth\":0,\"ticks\":\"\"}}}],\"scatterpolar\":[{\"type\":\"scatterpolar\",\"marker\":{\"colorbar\":{\"outlinewidth\":0,\"ticks\":\"\"}}}],\"histogram\":[{\"marker\":{\"pattern\":{\"fillmode\":\"overlay\",\"size\":10,\"solidity\":0.2}},\"type\":\"histogram\"}],\"scattergl\":[{\"type\":\"scattergl\",\"marker\":{\"colorbar\":{\"outlinewidth\":0,\"ticks\":\"\"}}}],\"scatter3d\":[{\"type\":\"scatter3d\",\"line\":{\"colorbar\":{\"outlinewidth\":0,\"ticks\":\"\"}},\"marker\":{\"colorbar\":{\"outlinewidth\":0,\"ticks\":\"\"}}}],\"scattermapbox\":[{\"type\":\"scattermapbox\",\"marker\":{\"colorbar\":{\"outlinewidth\":0,\"ticks\":\"\"}}}],\"scatterternary\":[{\"type\":\"scatterternary\",\"marker\":{\"colorbar\":{\"outlinewidth\":0,\"ticks\":\"\"}}}],\"scattercarpet\":[{\"type\":\"scattercarpet\",\"marker\":{\"colorbar\":{\"outlinewidth\":0,\"ticks\":\"\"}}}],\"carpet\":[{\"aaxis\":{\"endlinecolor\":\"#2a3f5f\",\"gridcolor\":\"white\",\"linecolor\":\"white\",\"minorgridcolor\":\"white\",\"startlinecolor\":\"#2a3f5f\"},\"baxis\":{\"endlinecolor\":\"#2a3f5f\",\"gridcolor\":\"white\",\"linecolor\":\"white\",\"minorgridcolor\":\"white\",\"startlinecolor\":\"#2a3f5f\"},\"type\":\"carpet\"}],\"table\":[{\"cells\":{\"fill\":{\"color\":\"#EBF0F8\"},\"line\":{\"color\":\"white\"}},\"header\":{\"fill\":{\"color\":\"#C8D4E3\"},\"line\":{\"color\":\"white\"}},\"type\":\"table\"}],\"barpolar\":[{\"marker\":{\"line\":{\"color\":\"#E5ECF6\",\"width\":0.5},\"pattern\":{\"fillmode\":\"overlay\",\"size\":10,\"solidity\":0.2}},\"type\":\"barpolar\"}],\"pie\":[{\"automargin\":true,\"type\":\"pie\"}]},\"layout\":{\"autotypenumbers\":\"strict\",\"colorway\":[\"#636efa\",\"#EF553B\",\"#00cc96\",\"#ab63fa\",\"#FFA15A\",\"#19d3f3\",\"#FF6692\",\"#B6E880\",\"#FF97FF\",\"#FECB52\"],\"font\":{\"color\":\"#2a3f5f\"},\"hovermode\":\"closest\",\"hoverlabel\":{\"align\":\"left\"},\"paper_bgcolor\":\"white\",\"plot_bgcolor\":\"#E5ECF6\",\"polar\":{\"bgcolor\":\"#E5ECF6\",\"angularaxis\":{\"gridcolor\":\"white\",\"linecolor\":\"white\",\"ticks\":\"\"},\"radialaxis\":{\"gridcolor\":\"white\",\"linecolor\":\"white\",\"ticks\":\"\"}},\"ternary\":{\"bgcolor\":\"#E5ECF6\",\"aaxis\":{\"gridcolor\":\"white\",\"linecolor\":\"white\",\"ticks\":\"\"},\"baxis\":{\"gridcolor\":\"white\",\"linecolor\":\"white\",\"ticks\":\"\"},\"caxis\":{\"gridcolor\":\"white\",\"linecolor\":\"white\",\"ticks\":\"\"}},\"coloraxis\":{\"colorbar\":{\"outlinewidth\":0,\"ticks\":\"\"}},\"colorscale\":{\"sequential\":[[0.0,\"#0d0887\"],[0.1111111111111111,\"#46039f\"],[0.2222222222222222,\"#7201a8\"],[0.3333333333333333,\"#9c179e\"],[0.4444444444444444,\"#bd3786\"],[0.5555555555555556,\"#d8576b\"],[0.6666666666666666,\"#ed7953\"],[0.7777777777777778,\"#fb9f3a\"],[0.8888888888888888,\"#fdca26\"],[1.0,\"#f0f921\"]],\"sequentialminus\":[[0.0,\"#0d0887\"],[0.1111111111111111,\"#46039f\"],[0.2222222222222222,\"#7201a8\"],[0.3333333333333333,\"#9c179e\"],[0.4444444444444444,\"#bd3786\"],[0.5555555555555556,\"#d8576b\"],[0.6666666666666666,\"#ed7953\"],[0.7777777777777778,\"#fb9f3a\"],[0.8888888888888888,\"#fdca26\"],[1.0,\"#f0f921\"]],\"diverging\":[[0,\"#8e0152\"],[0.1,\"#c51b7d\"],[0.2,\"#de77ae\"],[0.3,\"#f1b6da\"],[0.4,\"#fde0ef\"],[0.5,\"#f7f7f7\"],[0.6,\"#e6f5d0\"],[0.7,\"#b8e186\"],[0.8,\"#7fbc41\"],[0.9,\"#4d9221\"],[1,\"#276419\"]]},\"xaxis\":{\"gridcolor\":\"white\",\"linecolor\":\"white\",\"ticks\":\"\",\"title\":{\"standoff\":15},\"zerolinecolor\":\"white\",\"automargin\":true,\"zerolinewidth\":2},\"yaxis\":{\"gridcolor\":\"white\",\"linecolor\":\"white\",\"ticks\":\"\",\"title\":{\"standoff\":15},\"zerolinecolor\":\"white\",\"automargin\":true,\"zerolinewidth\":2},\"scene\":{\"xaxis\":{\"backgroundcolor\":\"#E5ECF6\",\"gridcolor\":\"white\",\"linecolor\":\"white\",\"showbackground\":true,\"ticks\":\"\",\"zerolinecolor\":\"white\",\"gridwidth\":2},\"yaxis\":{\"backgroundcolor\":\"#E5ECF6\",\"gridcolor\":\"white\",\"linecolor\":\"white\",\"showbackground\":true,\"ticks\":\"\",\"zerolinecolor\":\"white\",\"gridwidth\":2},\"zaxis\":{\"backgroundcolor\":\"#E5ECF6\",\"gridcolor\":\"white\",\"linecolor\":\"white\",\"showbackground\":true,\"ticks\":\"\",\"zerolinecolor\":\"white\",\"gridwidth\":2}},\"shapedefaults\":{\"line\":{\"color\":\"#2a3f5f\"}},\"annotationdefaults\":{\"arrowcolor\":\"#2a3f5f\",\"arrowhead\":0,\"arrowwidth\":1},\"geo\":{\"bgcolor\":\"white\",\"landcolor\":\"#E5ECF6\",\"subunitcolor\":\"white\",\"showland\":true,\"showlakes\":true,\"lakecolor\":\"white\"},\"title\":{\"x\":0.05},\"mapbox\":{\"style\":\"light\"}}},\"title\":{\"text\":\"Establishment Type\",\"y\":0.9,\"x\":0.5,\"xanchor\":\"center\",\"yanchor\":\"top\"}},                        {\"responsive\": true}                    ).then(function(){\n",
       "                            \n",
       "var gd = document.getElementById('3bd54266-5780-4a17-b5fe-1e1e2c2a2030');\n",
       "var x = new MutationObserver(function (mutations, observer) {{\n",
       "        var display = window.getComputedStyle(gd).display;\n",
       "        if (!display || display === 'none') {{\n",
       "            console.log([gd, 'removed!']);\n",
       "            Plotly.purge(gd);\n",
       "            observer.disconnect();\n",
       "        }}\n",
       "}});\n",
       "\n",
       "// Listen for the removal of the full notebook cells\n",
       "var notebookContainer = gd.closest('#notebook-container');\n",
       "if (notebookContainer) {{\n",
       "    x.observe(notebookContainer, {childList: true});\n",
       "}}\n",
       "\n",
       "// Listen for the clearing of the current output cell\n",
       "var outputEl = gd.closest('.output');\n",
       "if (outputEl) {{\n",
       "    x.observe(outputEl, {childList: true});\n",
       "}}\n",
       "\n",
       "                        })                };                });            </script>        </div>"
      ]
     },
     "metadata": {},
     "output_type": "display_data"
    }
   ],
   "source": [
    "#Visualising the data\n",
    "name_rest = ['Restaurant', 'Fast Food', 'Cafe', 'Pizza', 'Bar','Bakery']\n",
    "values = [7255, 1066, 435,320,292,283]\n",
    "\n",
    "fig = go.Figure(data=[go.Pie(labels=name_rest, values=values)])\n",
    "fig.update_layout(\n",
    "    title={\n",
    "        'text': \"Establishment Type\",\n",
    "        'y':0.9,\n",
    "        'x':0.5,\n",
    "        'xanchor': 'center',\n",
    "        'yanchor': 'top'})\n",
    "\n",
    "fig.show() \n"
   ]
  },
  {
   "cell_type": "markdown",
   "metadata": {},
   "source": [
    "We can see that Restaurants are the most common establishment in LA with 75.2% of the venues\n",
    "The least common: Cafes with 4.51% of the venues\n"
   ]
  },
  {
   "cell_type": "markdown",
   "metadata": {},
   "source": [
    "##  Investigate the proportions of chain and nonchain establishments.\n"
   ]
  },
  {
   "cell_type": "code",
   "execution_count": 39,
   "metadata": {},
   "outputs": [
    {
     "data": {
      "text/html": [
       "<div>\n",
       "<style scoped>\n",
       "    .dataframe tbody tr th:only-of-type {\n",
       "        vertical-align: middle;\n",
       "    }\n",
       "\n",
       "    .dataframe tbody tr th {\n",
       "        vertical-align: top;\n",
       "    }\n",
       "\n",
       "    .dataframe thead th {\n",
       "        text-align: right;\n",
       "    }\n",
       "</style>\n",
       "<table border=\"1\" class=\"dataframe\">\n",
       "  <thead>\n",
       "    <tr style=\"text-align: right;\">\n",
       "      <th></th>\n",
       "      <th>chain</th>\n",
       "      <th>number</th>\n",
       "    </tr>\n",
       "  </thead>\n",
       "  <tbody>\n",
       "    <tr>\n",
       "      <th>0</th>\n",
       "      <td>False</td>\n",
       "      <td>5972</td>\n",
       "    </tr>\n",
       "    <tr>\n",
       "      <th>1</th>\n",
       "      <td>True</td>\n",
       "      <td>3676</td>\n",
       "    </tr>\n",
       "  </tbody>\n",
       "</table>\n",
       "</div>"
      ],
      "text/plain": [
       "   chain  number\n",
       "0  False    5972\n",
       "1   True    3676"
      ]
     },
     "execution_count": 39,
     "metadata": {},
     "output_type": "execute_result"
    }
   ],
   "source": [
    "#Grouping by chain and nochain \n",
    "chain_group = rest.groupby('chain')['number'].count().reset_index()\n",
    "\n",
    "chain_group.sort_values(by='number', ascending=False)"
   ]
  },
  {
   "cell_type": "code",
   "execution_count": 40,
   "metadata": {},
   "outputs": [
    {
     "data": {
      "application/vnd.plotly.v1+json": {
       "config": {
        "plotlyServerURL": "https://plot.ly"
       },
       "data": [
        {
         "labels": [
          "No Chain",
          "Chain"
         ],
         "type": "pie",
         "values": [
          5972,
          3676
         ]
        }
       ],
       "layout": {
        "template": {
         "data": {
          "bar": [
           {
            "error_x": {
             "color": "#2a3f5f"
            },
            "error_y": {
             "color": "#2a3f5f"
            },
            "marker": {
             "line": {
              "color": "#E5ECF6",
              "width": 0.5
             },
             "pattern": {
              "fillmode": "overlay",
              "size": 10,
              "solidity": 0.2
             }
            },
            "type": "bar"
           }
          ],
          "barpolar": [
           {
            "marker": {
             "line": {
              "color": "#E5ECF6",
              "width": 0.5
             },
             "pattern": {
              "fillmode": "overlay",
              "size": 10,
              "solidity": 0.2
             }
            },
            "type": "barpolar"
           }
          ],
          "carpet": [
           {
            "aaxis": {
             "endlinecolor": "#2a3f5f",
             "gridcolor": "white",
             "linecolor": "white",
             "minorgridcolor": "white",
             "startlinecolor": "#2a3f5f"
            },
            "baxis": {
             "endlinecolor": "#2a3f5f",
             "gridcolor": "white",
             "linecolor": "white",
             "minorgridcolor": "white",
             "startlinecolor": "#2a3f5f"
            },
            "type": "carpet"
           }
          ],
          "choropleth": [
           {
            "colorbar": {
             "outlinewidth": 0,
             "ticks": ""
            },
            "type": "choropleth"
           }
          ],
          "contour": [
           {
            "colorbar": {
             "outlinewidth": 0,
             "ticks": ""
            },
            "colorscale": [
             [
              0,
              "#0d0887"
             ],
             [
              0.1111111111111111,
              "#46039f"
             ],
             [
              0.2222222222222222,
              "#7201a8"
             ],
             [
              0.3333333333333333,
              "#9c179e"
             ],
             [
              0.4444444444444444,
              "#bd3786"
             ],
             [
              0.5555555555555556,
              "#d8576b"
             ],
             [
              0.6666666666666666,
              "#ed7953"
             ],
             [
              0.7777777777777778,
              "#fb9f3a"
             ],
             [
              0.8888888888888888,
              "#fdca26"
             ],
             [
              1,
              "#f0f921"
             ]
            ],
            "type": "contour"
           }
          ],
          "contourcarpet": [
           {
            "colorbar": {
             "outlinewidth": 0,
             "ticks": ""
            },
            "type": "contourcarpet"
           }
          ],
          "heatmap": [
           {
            "colorbar": {
             "outlinewidth": 0,
             "ticks": ""
            },
            "colorscale": [
             [
              0,
              "#0d0887"
             ],
             [
              0.1111111111111111,
              "#46039f"
             ],
             [
              0.2222222222222222,
              "#7201a8"
             ],
             [
              0.3333333333333333,
              "#9c179e"
             ],
             [
              0.4444444444444444,
              "#bd3786"
             ],
             [
              0.5555555555555556,
              "#d8576b"
             ],
             [
              0.6666666666666666,
              "#ed7953"
             ],
             [
              0.7777777777777778,
              "#fb9f3a"
             ],
             [
              0.8888888888888888,
              "#fdca26"
             ],
             [
              1,
              "#f0f921"
             ]
            ],
            "type": "heatmap"
           }
          ],
          "heatmapgl": [
           {
            "colorbar": {
             "outlinewidth": 0,
             "ticks": ""
            },
            "colorscale": [
             [
              0,
              "#0d0887"
             ],
             [
              0.1111111111111111,
              "#46039f"
             ],
             [
              0.2222222222222222,
              "#7201a8"
             ],
             [
              0.3333333333333333,
              "#9c179e"
             ],
             [
              0.4444444444444444,
              "#bd3786"
             ],
             [
              0.5555555555555556,
              "#d8576b"
             ],
             [
              0.6666666666666666,
              "#ed7953"
             ],
             [
              0.7777777777777778,
              "#fb9f3a"
             ],
             [
              0.8888888888888888,
              "#fdca26"
             ],
             [
              1,
              "#f0f921"
             ]
            ],
            "type": "heatmapgl"
           }
          ],
          "histogram": [
           {
            "marker": {
             "pattern": {
              "fillmode": "overlay",
              "size": 10,
              "solidity": 0.2
             }
            },
            "type": "histogram"
           }
          ],
          "histogram2d": [
           {
            "colorbar": {
             "outlinewidth": 0,
             "ticks": ""
            },
            "colorscale": [
             [
              0,
              "#0d0887"
             ],
             [
              0.1111111111111111,
              "#46039f"
             ],
             [
              0.2222222222222222,
              "#7201a8"
             ],
             [
              0.3333333333333333,
              "#9c179e"
             ],
             [
              0.4444444444444444,
              "#bd3786"
             ],
             [
              0.5555555555555556,
              "#d8576b"
             ],
             [
              0.6666666666666666,
              "#ed7953"
             ],
             [
              0.7777777777777778,
              "#fb9f3a"
             ],
             [
              0.8888888888888888,
              "#fdca26"
             ],
             [
              1,
              "#f0f921"
             ]
            ],
            "type": "histogram2d"
           }
          ],
          "histogram2dcontour": [
           {
            "colorbar": {
             "outlinewidth": 0,
             "ticks": ""
            },
            "colorscale": [
             [
              0,
              "#0d0887"
             ],
             [
              0.1111111111111111,
              "#46039f"
             ],
             [
              0.2222222222222222,
              "#7201a8"
             ],
             [
              0.3333333333333333,
              "#9c179e"
             ],
             [
              0.4444444444444444,
              "#bd3786"
             ],
             [
              0.5555555555555556,
              "#d8576b"
             ],
             [
              0.6666666666666666,
              "#ed7953"
             ],
             [
              0.7777777777777778,
              "#fb9f3a"
             ],
             [
              0.8888888888888888,
              "#fdca26"
             ],
             [
              1,
              "#f0f921"
             ]
            ],
            "type": "histogram2dcontour"
           }
          ],
          "mesh3d": [
           {
            "colorbar": {
             "outlinewidth": 0,
             "ticks": ""
            },
            "type": "mesh3d"
           }
          ],
          "parcoords": [
           {
            "line": {
             "colorbar": {
              "outlinewidth": 0,
              "ticks": ""
             }
            },
            "type": "parcoords"
           }
          ],
          "pie": [
           {
            "automargin": true,
            "type": "pie"
           }
          ],
          "scatter": [
           {
            "fillpattern": {
             "fillmode": "overlay",
             "size": 10,
             "solidity": 0.2
            },
            "type": "scatter"
           }
          ],
          "scatter3d": [
           {
            "line": {
             "colorbar": {
              "outlinewidth": 0,
              "ticks": ""
             }
            },
            "marker": {
             "colorbar": {
              "outlinewidth": 0,
              "ticks": ""
             }
            },
            "type": "scatter3d"
           }
          ],
          "scattercarpet": [
           {
            "marker": {
             "colorbar": {
              "outlinewidth": 0,
              "ticks": ""
             }
            },
            "type": "scattercarpet"
           }
          ],
          "scattergeo": [
           {
            "marker": {
             "colorbar": {
              "outlinewidth": 0,
              "ticks": ""
             }
            },
            "type": "scattergeo"
           }
          ],
          "scattergl": [
           {
            "marker": {
             "colorbar": {
              "outlinewidth": 0,
              "ticks": ""
             }
            },
            "type": "scattergl"
           }
          ],
          "scattermapbox": [
           {
            "marker": {
             "colorbar": {
              "outlinewidth": 0,
              "ticks": ""
             }
            },
            "type": "scattermapbox"
           }
          ],
          "scatterpolar": [
           {
            "marker": {
             "colorbar": {
              "outlinewidth": 0,
              "ticks": ""
             }
            },
            "type": "scatterpolar"
           }
          ],
          "scatterpolargl": [
           {
            "marker": {
             "colorbar": {
              "outlinewidth": 0,
              "ticks": ""
             }
            },
            "type": "scatterpolargl"
           }
          ],
          "scatterternary": [
           {
            "marker": {
             "colorbar": {
              "outlinewidth": 0,
              "ticks": ""
             }
            },
            "type": "scatterternary"
           }
          ],
          "surface": [
           {
            "colorbar": {
             "outlinewidth": 0,
             "ticks": ""
            },
            "colorscale": [
             [
              0,
              "#0d0887"
             ],
             [
              0.1111111111111111,
              "#46039f"
             ],
             [
              0.2222222222222222,
              "#7201a8"
             ],
             [
              0.3333333333333333,
              "#9c179e"
             ],
             [
              0.4444444444444444,
              "#bd3786"
             ],
             [
              0.5555555555555556,
              "#d8576b"
             ],
             [
              0.6666666666666666,
              "#ed7953"
             ],
             [
              0.7777777777777778,
              "#fb9f3a"
             ],
             [
              0.8888888888888888,
              "#fdca26"
             ],
             [
              1,
              "#f0f921"
             ]
            ],
            "type": "surface"
           }
          ],
          "table": [
           {
            "cells": {
             "fill": {
              "color": "#EBF0F8"
             },
             "line": {
              "color": "white"
             }
            },
            "header": {
             "fill": {
              "color": "#C8D4E3"
             },
             "line": {
              "color": "white"
             }
            },
            "type": "table"
           }
          ]
         },
         "layout": {
          "annotationdefaults": {
           "arrowcolor": "#2a3f5f",
           "arrowhead": 0,
           "arrowwidth": 1
          },
          "autotypenumbers": "strict",
          "coloraxis": {
           "colorbar": {
            "outlinewidth": 0,
            "ticks": ""
           }
          },
          "colorscale": {
           "diverging": [
            [
             0,
             "#8e0152"
            ],
            [
             0.1,
             "#c51b7d"
            ],
            [
             0.2,
             "#de77ae"
            ],
            [
             0.3,
             "#f1b6da"
            ],
            [
             0.4,
             "#fde0ef"
            ],
            [
             0.5,
             "#f7f7f7"
            ],
            [
             0.6,
             "#e6f5d0"
            ],
            [
             0.7,
             "#b8e186"
            ],
            [
             0.8,
             "#7fbc41"
            ],
            [
             0.9,
             "#4d9221"
            ],
            [
             1,
             "#276419"
            ]
           ],
           "sequential": [
            [
             0,
             "#0d0887"
            ],
            [
             0.1111111111111111,
             "#46039f"
            ],
            [
             0.2222222222222222,
             "#7201a8"
            ],
            [
             0.3333333333333333,
             "#9c179e"
            ],
            [
             0.4444444444444444,
             "#bd3786"
            ],
            [
             0.5555555555555556,
             "#d8576b"
            ],
            [
             0.6666666666666666,
             "#ed7953"
            ],
            [
             0.7777777777777778,
             "#fb9f3a"
            ],
            [
             0.8888888888888888,
             "#fdca26"
            ],
            [
             1,
             "#f0f921"
            ]
           ],
           "sequentialminus": [
            [
             0,
             "#0d0887"
            ],
            [
             0.1111111111111111,
             "#46039f"
            ],
            [
             0.2222222222222222,
             "#7201a8"
            ],
            [
             0.3333333333333333,
             "#9c179e"
            ],
            [
             0.4444444444444444,
             "#bd3786"
            ],
            [
             0.5555555555555556,
             "#d8576b"
            ],
            [
             0.6666666666666666,
             "#ed7953"
            ],
            [
             0.7777777777777778,
             "#fb9f3a"
            ],
            [
             0.8888888888888888,
             "#fdca26"
            ],
            [
             1,
             "#f0f921"
            ]
           ]
          },
          "colorway": [
           "#636efa",
           "#EF553B",
           "#00cc96",
           "#ab63fa",
           "#FFA15A",
           "#19d3f3",
           "#FF6692",
           "#B6E880",
           "#FF97FF",
           "#FECB52"
          ],
          "font": {
           "color": "#2a3f5f"
          },
          "geo": {
           "bgcolor": "white",
           "lakecolor": "white",
           "landcolor": "#E5ECF6",
           "showlakes": true,
           "showland": true,
           "subunitcolor": "white"
          },
          "hoverlabel": {
           "align": "left"
          },
          "hovermode": "closest",
          "mapbox": {
           "style": "light"
          },
          "paper_bgcolor": "white",
          "plot_bgcolor": "#E5ECF6",
          "polar": {
           "angularaxis": {
            "gridcolor": "white",
            "linecolor": "white",
            "ticks": ""
           },
           "bgcolor": "#E5ECF6",
           "radialaxis": {
            "gridcolor": "white",
            "linecolor": "white",
            "ticks": ""
           }
          },
          "scene": {
           "xaxis": {
            "backgroundcolor": "#E5ECF6",
            "gridcolor": "white",
            "gridwidth": 2,
            "linecolor": "white",
            "showbackground": true,
            "ticks": "",
            "zerolinecolor": "white"
           },
           "yaxis": {
            "backgroundcolor": "#E5ECF6",
            "gridcolor": "white",
            "gridwidth": 2,
            "linecolor": "white",
            "showbackground": true,
            "ticks": "",
            "zerolinecolor": "white"
           },
           "zaxis": {
            "backgroundcolor": "#E5ECF6",
            "gridcolor": "white",
            "gridwidth": 2,
            "linecolor": "white",
            "showbackground": true,
            "ticks": "",
            "zerolinecolor": "white"
           }
          },
          "shapedefaults": {
           "line": {
            "color": "#2a3f5f"
           }
          },
          "ternary": {
           "aaxis": {
            "gridcolor": "white",
            "linecolor": "white",
            "ticks": ""
           },
           "baxis": {
            "gridcolor": "white",
            "linecolor": "white",
            "ticks": ""
           },
           "bgcolor": "#E5ECF6",
           "caxis": {
            "gridcolor": "white",
            "linecolor": "white",
            "ticks": ""
           }
          },
          "title": {
           "x": 0.05
          },
          "xaxis": {
           "automargin": true,
           "gridcolor": "white",
           "linecolor": "white",
           "ticks": "",
           "title": {
            "standoff": 15
           },
           "zerolinecolor": "white",
           "zerolinewidth": 2
          },
          "yaxis": {
           "automargin": true,
           "gridcolor": "white",
           "linecolor": "white",
           "ticks": "",
           "title": {
            "standoff": 15
           },
           "zerolinecolor": "white",
           "zerolinewidth": 2
          }
         }
        },
        "title": {
         "text": "Chain vs NoChain",
         "x": 0.5,
         "xanchor": "center",
         "y": 0.9,
         "yanchor": "top"
        }
       }
      },
      "text/html": [
       "<div>                            <div id=\"ee974c4d-b58f-4c4d-b628-4a10eacc1f69\" class=\"plotly-graph-div\" style=\"height:525px; width:100%;\"></div>            <script type=\"text/javascript\">                require([\"plotly\"], function(Plotly) {                    window.PLOTLYENV=window.PLOTLYENV || {};                                    if (document.getElementById(\"ee974c4d-b58f-4c4d-b628-4a10eacc1f69\")) {                    Plotly.newPlot(                        \"ee974c4d-b58f-4c4d-b628-4a10eacc1f69\",                        [{\"labels\":[\"No Chain\",\"Chain\"],\"values\":[5972,3676],\"type\":\"pie\"}],                        {\"template\":{\"data\":{\"histogram2dcontour\":[{\"type\":\"histogram2dcontour\",\"colorbar\":{\"outlinewidth\":0,\"ticks\":\"\"},\"colorscale\":[[0.0,\"#0d0887\"],[0.1111111111111111,\"#46039f\"],[0.2222222222222222,\"#7201a8\"],[0.3333333333333333,\"#9c179e\"],[0.4444444444444444,\"#bd3786\"],[0.5555555555555556,\"#d8576b\"],[0.6666666666666666,\"#ed7953\"],[0.7777777777777778,\"#fb9f3a\"],[0.8888888888888888,\"#fdca26\"],[1.0,\"#f0f921\"]]}],\"choropleth\":[{\"type\":\"choropleth\",\"colorbar\":{\"outlinewidth\":0,\"ticks\":\"\"}}],\"histogram2d\":[{\"type\":\"histogram2d\",\"colorbar\":{\"outlinewidth\":0,\"ticks\":\"\"},\"colorscale\":[[0.0,\"#0d0887\"],[0.1111111111111111,\"#46039f\"],[0.2222222222222222,\"#7201a8\"],[0.3333333333333333,\"#9c179e\"],[0.4444444444444444,\"#bd3786\"],[0.5555555555555556,\"#d8576b\"],[0.6666666666666666,\"#ed7953\"],[0.7777777777777778,\"#fb9f3a\"],[0.8888888888888888,\"#fdca26\"],[1.0,\"#f0f921\"]]}],\"heatmap\":[{\"type\":\"heatmap\",\"colorbar\":{\"outlinewidth\":0,\"ticks\":\"\"},\"colorscale\":[[0.0,\"#0d0887\"],[0.1111111111111111,\"#46039f\"],[0.2222222222222222,\"#7201a8\"],[0.3333333333333333,\"#9c179e\"],[0.4444444444444444,\"#bd3786\"],[0.5555555555555556,\"#d8576b\"],[0.6666666666666666,\"#ed7953\"],[0.7777777777777778,\"#fb9f3a\"],[0.8888888888888888,\"#fdca26\"],[1.0,\"#f0f921\"]]}],\"heatmapgl\":[{\"type\":\"heatmapgl\",\"colorbar\":{\"outlinewidth\":0,\"ticks\":\"\"},\"colorscale\":[[0.0,\"#0d0887\"],[0.1111111111111111,\"#46039f\"],[0.2222222222222222,\"#7201a8\"],[0.3333333333333333,\"#9c179e\"],[0.4444444444444444,\"#bd3786\"],[0.5555555555555556,\"#d8576b\"],[0.6666666666666666,\"#ed7953\"],[0.7777777777777778,\"#fb9f3a\"],[0.8888888888888888,\"#fdca26\"],[1.0,\"#f0f921\"]]}],\"contourcarpet\":[{\"type\":\"contourcarpet\",\"colorbar\":{\"outlinewidth\":0,\"ticks\":\"\"}}],\"contour\":[{\"type\":\"contour\",\"colorbar\":{\"outlinewidth\":0,\"ticks\":\"\"},\"colorscale\":[[0.0,\"#0d0887\"],[0.1111111111111111,\"#46039f\"],[0.2222222222222222,\"#7201a8\"],[0.3333333333333333,\"#9c179e\"],[0.4444444444444444,\"#bd3786\"],[0.5555555555555556,\"#d8576b\"],[0.6666666666666666,\"#ed7953\"],[0.7777777777777778,\"#fb9f3a\"],[0.8888888888888888,\"#fdca26\"],[1.0,\"#f0f921\"]]}],\"surface\":[{\"type\":\"surface\",\"colorbar\":{\"outlinewidth\":0,\"ticks\":\"\"},\"colorscale\":[[0.0,\"#0d0887\"],[0.1111111111111111,\"#46039f\"],[0.2222222222222222,\"#7201a8\"],[0.3333333333333333,\"#9c179e\"],[0.4444444444444444,\"#bd3786\"],[0.5555555555555556,\"#d8576b\"],[0.6666666666666666,\"#ed7953\"],[0.7777777777777778,\"#fb9f3a\"],[0.8888888888888888,\"#fdca26\"],[1.0,\"#f0f921\"]]}],\"mesh3d\":[{\"type\":\"mesh3d\",\"colorbar\":{\"outlinewidth\":0,\"ticks\":\"\"}}],\"scatter\":[{\"fillpattern\":{\"fillmode\":\"overlay\",\"size\":10,\"solidity\":0.2},\"type\":\"scatter\"}],\"parcoords\":[{\"type\":\"parcoords\",\"line\":{\"colorbar\":{\"outlinewidth\":0,\"ticks\":\"\"}}}],\"scatterpolargl\":[{\"type\":\"scatterpolargl\",\"marker\":{\"colorbar\":{\"outlinewidth\":0,\"ticks\":\"\"}}}],\"bar\":[{\"error_x\":{\"color\":\"#2a3f5f\"},\"error_y\":{\"color\":\"#2a3f5f\"},\"marker\":{\"line\":{\"color\":\"#E5ECF6\",\"width\":0.5},\"pattern\":{\"fillmode\":\"overlay\",\"size\":10,\"solidity\":0.2}},\"type\":\"bar\"}],\"scattergeo\":[{\"type\":\"scattergeo\",\"marker\":{\"colorbar\":{\"outlinewidth\":0,\"ticks\":\"\"}}}],\"scatterpolar\":[{\"type\":\"scatterpolar\",\"marker\":{\"colorbar\":{\"outlinewidth\":0,\"ticks\":\"\"}}}],\"histogram\":[{\"marker\":{\"pattern\":{\"fillmode\":\"overlay\",\"size\":10,\"solidity\":0.2}},\"type\":\"histogram\"}],\"scattergl\":[{\"type\":\"scattergl\",\"marker\":{\"colorbar\":{\"outlinewidth\":0,\"ticks\":\"\"}}}],\"scatter3d\":[{\"type\":\"scatter3d\",\"line\":{\"colorbar\":{\"outlinewidth\":0,\"ticks\":\"\"}},\"marker\":{\"colorbar\":{\"outlinewidth\":0,\"ticks\":\"\"}}}],\"scattermapbox\":[{\"type\":\"scattermapbox\",\"marker\":{\"colorbar\":{\"outlinewidth\":0,\"ticks\":\"\"}}}],\"scatterternary\":[{\"type\":\"scatterternary\",\"marker\":{\"colorbar\":{\"outlinewidth\":0,\"ticks\":\"\"}}}],\"scattercarpet\":[{\"type\":\"scattercarpet\",\"marker\":{\"colorbar\":{\"outlinewidth\":0,\"ticks\":\"\"}}}],\"carpet\":[{\"aaxis\":{\"endlinecolor\":\"#2a3f5f\",\"gridcolor\":\"white\",\"linecolor\":\"white\",\"minorgridcolor\":\"white\",\"startlinecolor\":\"#2a3f5f\"},\"baxis\":{\"endlinecolor\":\"#2a3f5f\",\"gridcolor\":\"white\",\"linecolor\":\"white\",\"minorgridcolor\":\"white\",\"startlinecolor\":\"#2a3f5f\"},\"type\":\"carpet\"}],\"table\":[{\"cells\":{\"fill\":{\"color\":\"#EBF0F8\"},\"line\":{\"color\":\"white\"}},\"header\":{\"fill\":{\"color\":\"#C8D4E3\"},\"line\":{\"color\":\"white\"}},\"type\":\"table\"}],\"barpolar\":[{\"marker\":{\"line\":{\"color\":\"#E5ECF6\",\"width\":0.5},\"pattern\":{\"fillmode\":\"overlay\",\"size\":10,\"solidity\":0.2}},\"type\":\"barpolar\"}],\"pie\":[{\"automargin\":true,\"type\":\"pie\"}]},\"layout\":{\"autotypenumbers\":\"strict\",\"colorway\":[\"#636efa\",\"#EF553B\",\"#00cc96\",\"#ab63fa\",\"#FFA15A\",\"#19d3f3\",\"#FF6692\",\"#B6E880\",\"#FF97FF\",\"#FECB52\"],\"font\":{\"color\":\"#2a3f5f\"},\"hovermode\":\"closest\",\"hoverlabel\":{\"align\":\"left\"},\"paper_bgcolor\":\"white\",\"plot_bgcolor\":\"#E5ECF6\",\"polar\":{\"bgcolor\":\"#E5ECF6\",\"angularaxis\":{\"gridcolor\":\"white\",\"linecolor\":\"white\",\"ticks\":\"\"},\"radialaxis\":{\"gridcolor\":\"white\",\"linecolor\":\"white\",\"ticks\":\"\"}},\"ternary\":{\"bgcolor\":\"#E5ECF6\",\"aaxis\":{\"gridcolor\":\"white\",\"linecolor\":\"white\",\"ticks\":\"\"},\"baxis\":{\"gridcolor\":\"white\",\"linecolor\":\"white\",\"ticks\":\"\"},\"caxis\":{\"gridcolor\":\"white\",\"linecolor\":\"white\",\"ticks\":\"\"}},\"coloraxis\":{\"colorbar\":{\"outlinewidth\":0,\"ticks\":\"\"}},\"colorscale\":{\"sequential\":[[0.0,\"#0d0887\"],[0.1111111111111111,\"#46039f\"],[0.2222222222222222,\"#7201a8\"],[0.3333333333333333,\"#9c179e\"],[0.4444444444444444,\"#bd3786\"],[0.5555555555555556,\"#d8576b\"],[0.6666666666666666,\"#ed7953\"],[0.7777777777777778,\"#fb9f3a\"],[0.8888888888888888,\"#fdca26\"],[1.0,\"#f0f921\"]],\"sequentialminus\":[[0.0,\"#0d0887\"],[0.1111111111111111,\"#46039f\"],[0.2222222222222222,\"#7201a8\"],[0.3333333333333333,\"#9c179e\"],[0.4444444444444444,\"#bd3786\"],[0.5555555555555556,\"#d8576b\"],[0.6666666666666666,\"#ed7953\"],[0.7777777777777778,\"#fb9f3a\"],[0.8888888888888888,\"#fdca26\"],[1.0,\"#f0f921\"]],\"diverging\":[[0,\"#8e0152\"],[0.1,\"#c51b7d\"],[0.2,\"#de77ae\"],[0.3,\"#f1b6da\"],[0.4,\"#fde0ef\"],[0.5,\"#f7f7f7\"],[0.6,\"#e6f5d0\"],[0.7,\"#b8e186\"],[0.8,\"#7fbc41\"],[0.9,\"#4d9221\"],[1,\"#276419\"]]},\"xaxis\":{\"gridcolor\":\"white\",\"linecolor\":\"white\",\"ticks\":\"\",\"title\":{\"standoff\":15},\"zerolinecolor\":\"white\",\"automargin\":true,\"zerolinewidth\":2},\"yaxis\":{\"gridcolor\":\"white\",\"linecolor\":\"white\",\"ticks\":\"\",\"title\":{\"standoff\":15},\"zerolinecolor\":\"white\",\"automargin\":true,\"zerolinewidth\":2},\"scene\":{\"xaxis\":{\"backgroundcolor\":\"#E5ECF6\",\"gridcolor\":\"white\",\"linecolor\":\"white\",\"showbackground\":true,\"ticks\":\"\",\"zerolinecolor\":\"white\",\"gridwidth\":2},\"yaxis\":{\"backgroundcolor\":\"#E5ECF6\",\"gridcolor\":\"white\",\"linecolor\":\"white\",\"showbackground\":true,\"ticks\":\"\",\"zerolinecolor\":\"white\",\"gridwidth\":2},\"zaxis\":{\"backgroundcolor\":\"#E5ECF6\",\"gridcolor\":\"white\",\"linecolor\":\"white\",\"showbackground\":true,\"ticks\":\"\",\"zerolinecolor\":\"white\",\"gridwidth\":2}},\"shapedefaults\":{\"line\":{\"color\":\"#2a3f5f\"}},\"annotationdefaults\":{\"arrowcolor\":\"#2a3f5f\",\"arrowhead\":0,\"arrowwidth\":1},\"geo\":{\"bgcolor\":\"white\",\"landcolor\":\"#E5ECF6\",\"subunitcolor\":\"white\",\"showland\":true,\"showlakes\":true,\"lakecolor\":\"white\"},\"title\":{\"x\":0.05},\"mapbox\":{\"style\":\"light\"}}},\"title\":{\"text\":\"Chain vs NoChain\",\"y\":0.9,\"x\":0.5,\"xanchor\":\"center\",\"yanchor\":\"top\"}},                        {\"responsive\": true}                    ).then(function(){\n",
       "                            \n",
       "var gd = document.getElementById('ee974c4d-b58f-4c4d-b628-4a10eacc1f69');\n",
       "var x = new MutationObserver(function (mutations, observer) {{\n",
       "        var display = window.getComputedStyle(gd).display;\n",
       "        if (!display || display === 'none') {{\n",
       "            console.log([gd, 'removed!']);\n",
       "            Plotly.purge(gd);\n",
       "            observer.disconnect();\n",
       "        }}\n",
       "}});\n",
       "\n",
       "// Listen for the removal of the full notebook cells\n",
       "var notebookContainer = gd.closest('#notebook-container');\n",
       "if (notebookContainer) {{\n",
       "    x.observe(notebookContainer, {childList: true});\n",
       "}}\n",
       "\n",
       "// Listen for the clearing of the current output cell\n",
       "var outputEl = gd.closest('.output');\n",
       "if (outputEl) {{\n",
       "    x.observe(outputEl, {childList: true});\n",
       "}}\n",
       "\n",
       "                        })                };                });            </script>        </div>"
      ]
     },
     "metadata": {},
     "output_type": "display_data"
    }
   ],
   "source": [
    "#Visualising the data\n",
    "\n",
    "chain_or = ['No Chain', 'Chain']\n",
    "values = [5972, 3676]\n",
    "\n",
    "fig = go.Figure(data=[go.Pie(labels=chain_or, values=values)])\n",
    "\n",
    "fig.update_layout(\n",
    "    title={\n",
    "        'text': \"Chain vs NoChain\",\n",
    "        'y':0.9,\n",
    "        'x':0.5,\n",
    "        'xanchor': 'center',\n",
    "        'yanchor': 'top'})\n",
    "\n",
    "fig.show() \n"
   ]
  },
  {
   "cell_type": "markdown",
   "metadata": {},
   "source": [
    "We can see that for Chains Vs. single branch venues,\n",
    "Only 38.1% of the venues are part of a chain"
   ]
  },
  {
   "cell_type": "code",
   "execution_count": 41,
   "metadata": {
    "scrolled": true
   },
   "outputs": [
    {
     "data": {
      "text/html": [
       "<div>\n",
       "<style scoped>\n",
       "    .dataframe tbody tr th:only-of-type {\n",
       "        vertical-align: middle;\n",
       "    }\n",
       "\n",
       "    .dataframe tbody tr th {\n",
       "        vertical-align: top;\n",
       "    }\n",
       "\n",
       "    .dataframe thead th {\n",
       "        text-align: right;\n",
       "    }\n",
       "</style>\n",
       "<table border=\"1\" class=\"dataframe\">\n",
       "  <thead>\n",
       "    <tr style=\"text-align: right;\">\n",
       "      <th></th>\n",
       "      <th>establish_type</th>\n",
       "      <th>is_chain_num</th>\n",
       "      <th>total_num</th>\n",
       "      <th>chain_perc</th>\n",
       "    </tr>\n",
       "  </thead>\n",
       "  <tbody>\n",
       "    <tr>\n",
       "      <th>0</th>\n",
       "      <td>Bakery</td>\n",
       "      <td>283</td>\n",
       "      <td>283</td>\n",
       "      <td>1.000000</td>\n",
       "    </tr>\n",
       "    <tr>\n",
       "      <th>1</th>\n",
       "      <td>Bar</td>\n",
       "      <td>77</td>\n",
       "      <td>292</td>\n",
       "      <td>0.263699</td>\n",
       "    </tr>\n",
       "    <tr>\n",
       "      <th>2</th>\n",
       "      <td>Cafe</td>\n",
       "      <td>266</td>\n",
       "      <td>435</td>\n",
       "      <td>0.611494</td>\n",
       "    </tr>\n",
       "    <tr>\n",
       "      <th>3</th>\n",
       "      <td>Fast Food</td>\n",
       "      <td>605</td>\n",
       "      <td>1066</td>\n",
       "      <td>0.567542</td>\n",
       "    </tr>\n",
       "    <tr>\n",
       "      <th>4</th>\n",
       "      <td>Pizza</td>\n",
       "      <td>153</td>\n",
       "      <td>320</td>\n",
       "      <td>0.478125</td>\n",
       "    </tr>\n",
       "    <tr>\n",
       "      <th>5</th>\n",
       "      <td>Restaurant</td>\n",
       "      <td>2292</td>\n",
       "      <td>7255</td>\n",
       "      <td>0.315920</td>\n",
       "    </tr>\n",
       "  </tbody>\n",
       "</table>\n",
       "</div>"
      ],
      "text/plain": [
       "  establish_type  is_chain_num  total_num  chain_perc\n",
       "0         Bakery           283        283    1.000000\n",
       "1            Bar            77        292    0.263699\n",
       "2           Cafe           266        435    0.611494\n",
       "3      Fast Food           605       1066    0.567542\n",
       "4          Pizza           153        320    0.478125\n",
       "5     Restaurant          2292       7255    0.315920"
      ]
     },
     "execution_count": 41,
     "metadata": {},
     "output_type": "execute_result"
    }
   ],
   "source": [
    "#Grouping establishments tht are a part of a chain by establishmebt type\n",
    "rest_chain = rest.query('chain == True').groupby(['object_type'])['number'].count().reset_index()\n",
    "rest_chain = rest_chain.merge(type_group,on = 'object_type')\n",
    "rest_chain.columns = ['establish_type','is_chain_num','total_num']\n",
    "rest_chain['chain_perc'] = rest_chain['is_chain_num'] /rest_chain['total_num'] \n",
    "rest_chain"
   ]
  },
  {
   "cell_type": "markdown",
   "metadata": {},
   "source": [
    "Most likely to be a chain: Bakery with 100% of the venues being a part of chain.\n",
    "Cafes are  61.1% likely to be a part of a chain  \n",
    "Retsaurantes, wich had the biggest market share, are only 31% likely to ba a part of a chain \n"
   ]
  },
  {
   "cell_type": "code",
   "execution_count": 42,
   "metadata": {},
   "outputs": [
    {
     "data": {
      "image/png": "[encoded data removed]",
      "text/plain": [
       "<Figure size 432x288 with 1 Axes>"
      ]
     },
     "metadata": {
      "needs_background": "light"
     },
     "output_type": "display_data"
    }
   ],
   "source": [
    "#Visualising the data\n",
    "\n",
    "ax = sns.countplot(x=\"object_type\", hue=\"chain\", data=rest)\n",
    "\n",
    "ax.set_ylabel(\"Number of Establishments\", fontsize = 10)\n",
    "ax.set_xlabel(\"Establishment Type\", fontsize = 10)\n",
    "ax.xaxis.label.set_color('blue')\n",
    "ax.yaxis.label.set_color('blue')\n",
    "\n",
    "\n",
    "sns.set_palette('bright') \n"
   ]
  },
  {
   "cell_type": "markdown",
   "metadata": {},
   "source": [
    "There are 3 Establishment types that are more likely to be a chain:\n",
    "Café, Fast food and bakery. It is probably cheaper for those types to get ingredients if they are a part of a chain.\n"
   ]
  },
  {
   "cell_type": "markdown",
   "metadata": {},
   "source": [
    "## What characterizes chains ?"
   ]
  },
  {
   "cell_type": "markdown",
   "metadata": {},
   "source": [
    "Next, i want to understand what  characterizes chains: many establishments with a small number of seats or a few establishments with a lot of seats?\n"
   ]
  },
  {
   "cell_type": "code",
   "execution_count": 43,
   "metadata": {},
   "outputs": [
    {
     "name": "stdout",
     "output_type": "stream",
     "text": [
      "<class 'pandas.core.frame.DataFrame'>\n",
      "Int64Index: 3676 entries, 8 to 9650\n",
      "Data columns (total 6 columns):\n",
      " #   Column       Non-Null Count  Dtype \n",
      "---  ------       --------------  ----- \n",
      " 0   id           3676 non-null   int64 \n",
      " 1   object_name  3676 non-null   object\n",
      " 2   address      3676 non-null   object\n",
      " 3   chain        3676 non-null   object\n",
      " 4   object_type  3676 non-null   object\n",
      " 5   number       3676 non-null   int64 \n",
      "dtypes: int64(2), object(4)\n",
      "memory usage: 201.0+ KB\n"
     ]
    }
   ],
   "source": [
    "#Creating a dataframe with only \"is chain\" establishments\n",
    "chain =rest.query('chain == True')\n",
    "chain.info()"
   ]
  },
  {
   "cell_type": "code",
   "execution_count": 44,
   "metadata": {},
   "outputs": [
    {
     "data": {
      "text/html": [
       "<div>\n",
       "<style scoped>\n",
       "    .dataframe tbody tr th:only-of-type {\n",
       "        vertical-align: middle;\n",
       "    }\n",
       "\n",
       "    .dataframe tbody tr th {\n",
       "        vertical-align: top;\n",
       "    }\n",
       "\n",
       "    .dataframe thead th {\n",
       "        text-align: right;\n",
       "    }\n",
       "</style>\n",
       "<table border=\"1\" class=\"dataframe\">\n",
       "  <thead>\n",
       "    <tr style=\"text-align: right;\">\n",
       "      <th></th>\n",
       "      <th>rest_name</th>\n",
       "      <th>num_of_establish</th>\n",
       "      <th>avg_seat</th>\n",
       "    </tr>\n",
       "  </thead>\n",
       "  <tbody>\n",
       "    <tr>\n",
       "      <th>2459</th>\n",
       "      <td>THE COFFEE BEAN &amp; TEA LEAF</td>\n",
       "      <td>47</td>\n",
       "      <td>26.723404</td>\n",
       "    </tr>\n",
       "    <tr>\n",
       "      <th>2226</th>\n",
       "      <td>SUBWAY</td>\n",
       "      <td>31</td>\n",
       "      <td>16.419355</td>\n",
       "    </tr>\n",
       "    <tr>\n",
       "      <th>519</th>\n",
       "      <td>DOMINO'S PIZZA</td>\n",
       "      <td>15</td>\n",
       "      <td>12.333333</td>\n",
       "    </tr>\n",
       "    <tr>\n",
       "      <th>2608</th>\n",
       "      <td>WABA GRILL</td>\n",
       "      <td>14</td>\n",
       "      <td>42.857143</td>\n",
       "    </tr>\n",
       "    <tr>\n",
       "      <th>1089</th>\n",
       "      <td>KENTUCKY FRIED CHICKEN</td>\n",
       "      <td>14</td>\n",
       "      <td>33.357143</td>\n",
       "    </tr>\n",
       "    <tr>\n",
       "      <th>1433</th>\n",
       "      <td>MCDONALD'S</td>\n",
       "      <td>13</td>\n",
       "      <td>96.846154</td>\n",
       "    </tr>\n",
       "    <tr>\n",
       "      <th>2544</th>\n",
       "      <td>TRIMANA</td>\n",
       "      <td>13</td>\n",
       "      <td>43.461538</td>\n",
       "    </tr>\n",
       "    <tr>\n",
       "      <th>2103</th>\n",
       "      <td>STARBUCKS</td>\n",
       "      <td>12</td>\n",
       "      <td>18.000000</td>\n",
       "    </tr>\n",
       "    <tr>\n",
       "      <th>1735</th>\n",
       "      <td>PAPA JOHN'S PIZZA</td>\n",
       "      <td>12</td>\n",
       "      <td>14.500000</td>\n",
       "    </tr>\n",
       "    <tr>\n",
       "      <th>2667</th>\n",
       "      <td>YOGURTLAND</td>\n",
       "      <td>12</td>\n",
       "      <td>16.416667</td>\n",
       "    </tr>\n",
       "  </tbody>\n",
       "</table>\n",
       "</div>"
      ],
      "text/plain": [
       "                       rest_name  num_of_establish   avg_seat\n",
       "2459  THE COFFEE BEAN & TEA LEAF                47  26.723404\n",
       "2226                      SUBWAY                31  16.419355\n",
       "519               DOMINO'S PIZZA                15  12.333333\n",
       "2608                  WABA GRILL                14  42.857143\n",
       "1089      KENTUCKY FRIED CHICKEN                14  33.357143\n",
       "1433                  MCDONALD'S                13  96.846154\n",
       "2544                     TRIMANA                13  43.461538\n",
       "2103                   STARBUCKS                12  18.000000\n",
       "1735           PAPA JOHN'S PIZZA                12  14.500000\n",
       "2667                  YOGURTLAND                12  16.416667"
      ]
     },
     "execution_count": 44,
     "metadata": {},
     "output_type": "execute_result"
    }
   ],
   "source": [
    "#Grouping by chains and calculating the number of venues in each chain and the average seat numner \n",
    "avg_seats =chain.groupby(['object_name'])['object_type','number'].agg({'object_type':'count','number' : 'mean'}).reset_index()\n",
    "avg_seats.columns = ['rest_name','num_of_establish','avg_seat']\n",
    "avg_seats.sort_values(by ='num_of_establish',ascending = False).head(10)\n",
    "\n"
   ]
  },
  {
   "cell_type": "code",
   "execution_count": 45,
   "metadata": {},
   "outputs": [
    {
     "data": {
      "application/vnd.plotly.v1+json": {
       "config": {
        "plotlyServerURL": "https://plot.ly"
       },
       "data": [
        {
         "hovertemplate": "avg_seat=%{x}<br>num_of_establish=%{y}<extra></extra>",
         "legendgroup": "",
         "marker": {
          "color": "#636efa",
          "symbol": "circle"
         },
         "mode": "markers",
         "name": "",
         "showlegend": false,
         "type": "scattergl",
         "x": [
          6,
          45,
          180,
          7,
          18,
          41,
          115,
          45,
          37,
          204,
          105,
          97,
          3,
          15,
          13,
          11,
          15,
          159,
          71.5,
          211,
          12,
          35,
          11,
          5,
          2,
          122,
          15,
          12,
          115,
          41,
          42,
          16,
          3,
          64,
          105,
          21,
          14,
          12,
          46,
          1,
          7,
          29,
          36,
          13,
          4,
          24,
          16,
          2,
          25,
          28,
          26,
          24,
          10,
          17,
          1,
          20,
          3,
          20,
          21,
          23.5,
          21,
          23,
          4,
          7,
          49,
          181,
          6,
          13,
          4,
          42,
          32,
          32,
          218,
          5,
          46,
          118,
          3,
          25,
          25,
          23,
          65,
          36,
          12.5,
          21,
          8,
          26,
          182,
          13.5,
          20,
          29,
          1,
          42,
          40,
          26,
          20,
          46,
          118,
          24,
          37,
          66,
          43,
          21,
          20,
          46,
          102,
          47.5,
          2,
          39,
          132,
          16,
          17.666666666666668,
          11,
          12,
          12,
          20.333333333333332,
          87,
          2,
          18.375,
          23,
          7,
          29,
          6,
          10,
          17.333333333333332,
          16,
          1,
          40.5,
          4,
          69,
          17,
          24,
          43,
          23,
          14,
          13,
          9,
          20,
          13,
          13,
          45,
          160,
          27,
          90,
          3,
          62,
          26,
          8,
          59,
          24,
          17,
          26.5,
          12,
          155.5,
          194.5,
          165,
          5,
          47.333333333333336,
          19,
          12,
          38,
          37,
          35,
          31,
          21.88888888888889,
          43,
          46.5,
          20,
          13,
          7.5,
          16.5,
          7,
          1,
          35,
          44,
          25.5,
          18,
          43,
          13,
          13,
          64,
          19,
          7.5,
          4,
          31,
          7,
          25,
          12,
          5,
          141,
          19,
          113,
          18,
          111,
          23,
          164.33333333333334,
          216,
          3,
          1,
          107,
          11,
          92,
          103,
          28,
          42,
          118,
          43,
          46,
          41,
          140,
          64,
          137,
          125,
          86,
          84,
          81,
          40,
          67,
          124,
          109,
          31,
          72,
          142,
          87,
          48,
          137,
          63,
          49,
          89,
          109,
          118,
          70,
          47,
          77,
          67,
          149,
          105,
          48,
          144,
          21,
          27,
          96,
          23.333333333333332,
          42,
          65.5,
          120,
          27,
          12,
          37,
          69.5,
          13,
          13,
          1,
          13,
          23,
          16,
          39,
          19,
          117,
          24,
          14.5,
          6,
          136,
          26,
          4,
          3,
          181,
          162,
          62,
          39.5,
          225,
          12.666666666666666,
          33,
          20,
          53.5,
          161,
          145,
          30.5,
          18,
          31,
          24.5,
          47,
          3,
          15,
          17,
          16,
          47,
          10,
          70,
          65.875,
          117,
          119,
          106,
          146,
          161,
          127,
          89,
          219,
          45,
          45,
          100,
          123,
          134,
          70,
          31,
          69,
          17,
          92,
          38,
          22,
          10,
          22,
          33,
          26,
          44,
          112,
          23,
          122.5,
          170,
          12,
          177,
          20,
          99,
          43,
          34,
          6,
          95,
          20.5,
          7.5,
          133,
          89,
          7,
          20,
          32,
          21,
          64,
          18,
          28.5,
          146,
          46,
          33,
          161,
          18,
          25,
          28,
          13,
          14,
          27,
          11,
          20,
          26,
          143,
          39,
          24.5,
          5,
          13,
          45,
          33,
          14.5,
          29,
          24,
          12,
          2,
          29,
          7,
          8,
          24.5,
          36,
          39,
          13,
          12,
          13,
          10,
          29,
          39,
          47,
          37.9,
          107,
          32,
          36,
          74,
          42,
          6,
          23,
          19,
          98,
          112,
          135,
          226,
          61.5,
          167,
          228,
          200,
          66,
          78,
          42,
          21,
          194,
          22,
          14,
          34,
          20,
          36,
          208,
          37,
          24,
          22,
          31,
          22,
          108.25,
          124,
          16.333333333333332,
          18,
          6,
          35,
          8,
          29,
          5,
          2,
          18.2,
          21,
          32.333333333333336,
          44,
          21,
          27,
          19,
          36,
          16,
          36,
          14,
          84,
          19,
          31,
          96,
          18,
          12,
          117,
          8,
          16.5,
          19,
          35,
          161,
          77,
          16,
          32,
          19,
          51.666666666666664,
          202,
          177,
          25,
          185,
          41,
          6,
          49,
          18,
          17,
          5,
          68,
          21,
          73,
          44,
          40,
          26,
          12,
          114,
          4,
          125,
          17,
          16.666666666666668,
          29,
          10.666666666666666,
          28,
          11.5,
          111,
          197.5,
          31,
          13,
          36,
          1,
          40,
          31,
          49,
          62,
          43,
          25,
          19,
          46,
          13,
          36,
          6,
          1,
          33,
          31,
          5,
          45,
          18,
          8,
          20.5,
          18,
          2,
          14,
          14,
          2,
          17.5,
          7,
          26.333333333333332,
          70,
          190,
          157,
          95,
          11.5,
          19,
          130,
          20,
          69,
          16,
          20,
          203,
          95,
          40,
          12.333333333333334,
          3,
          11,
          22,
          5,
          29,
          7,
          24,
          4,
          12,
          25,
          28,
          14,
          14,
          20,
          13,
          7,
          22,
          68,
          28,
          33,
          42,
          23,
          6,
          26,
          13,
          21.5,
          22.333333333333332,
          2,
          19,
          25,
          27.5,
          34,
          15,
          23,
          42,
          24,
          19,
          24,
          28,
          13,
          126,
          7,
          16,
          118,
          15.5,
          16.5,
          83,
          7,
          20,
          16,
          19,
          6,
          24,
          41,
          40,
          17,
          10,
          6,
          18,
          22.5,
          3,
          33,
          15.6,
          10,
          11,
          23,
          19,
          39,
          109.5,
          24,
          48,
          20,
          11,
          41,
          2,
          2,
          44,
          43,
          136,
          67,
          44,
          8,
          15.5,
          21,
          86,
          38,
          75,
          81.5,
          103.5,
          84,
          13,
          27,
          18.5,
          1,
          14,
          25,
          12.5,
          39,
          23,
          16,
          36,
          29,
          11,
          39,
          14,
          15,
          45,
          33,
          22.5,
          17,
          1,
          22,
          77,
          63.6,
          47,
          142,
          48,
          76,
          31,
          37,
          49,
          43,
          98,
          95,
          109,
          48,
          87,
          148,
          47,
          49,
          49,
          42,
          36,
          102,
          117,
          91,
          44,
          40,
          31,
          100,
          29,
          11,
          21,
          8,
          25.5,
          14,
          8.5,
          16,
          139,
          37.5,
          33,
          9,
          26,
          29,
          46,
          15,
          15,
          26,
          126.5,
          4,
          24.5,
          101,
          28.5,
          49,
          27,
          99,
          33,
          133,
          28,
          16,
          33,
          17,
          106.5,
          4,
          24,
          21,
          32,
          5,
          15,
          205,
          33,
          9,
          80,
          205,
          190,
          142,
          12,
          34,
          9,
          38,
          122,
          20.5,
          4,
          21.666666666666668,
          9,
          45,
          42,
          8,
          88.5,
          4,
          29,
          13,
          2,
          78,
          9,
          15.5,
          18,
          82,
          6,
          3,
          22,
          38,
          35,
          49,
          12,
          107,
          25,
          27,
          21,
          21,
          17,
          25,
          9,
          16,
          16,
          15,
          29.5,
          21,
          27,
          28,
          47,
          20,
          20,
          191,
          6,
          49,
          160.5,
          36,
          7,
          18,
          33,
          22,
          1,
          22,
          28,
          7.5,
          37,
          26,
          1,
          4,
          22,
          36,
          93,
          8,
          9,
          118,
          85,
          44,
          26.5,
          103,
          19,
          10,
          44,
          46,
          16,
          40,
          21,
          65.33333333333333,
          80,
          41,
          11,
          14,
          44,
          23,
          92.5,
          15,
          3,
          11,
          15,
          11.5,
          45,
          10,
          117,
          35,
          28,
          5,
          24,
          6,
          2,
          48,
          35,
          27.5,
          27,
          39,
          27,
          38,
          28,
          26,
          13.5,
          35,
          49,
          37,
          32,
          10,
          3,
          17,
          10,
          3,
          41,
          45,
          84,
          22,
          51.333333333333336,
          49.5,
          42,
          145,
          106,
          39,
          38,
          43,
          36,
          45,
          16.5,
          155,
          18,
          21.666666666666668,
          9,
          13,
          47,
          164,
          194,
          19.5,
          6,
          11,
          1,
          1,
          35,
          41.5,
          18,
          3,
          32,
          55.5,
          23,
          105,
          46,
          99,
          4,
          4,
          18,
          37,
          20,
          100.5,
          20,
          29.5,
          13.666666666666666,
          21.5,
          92,
          11.6,
          18.583333333333332,
          2,
          1,
          44,
          167,
          127,
          130,
          39,
          32,
          89,
          3,
          19,
          192,
          11.333333333333334,
          117,
          6,
          40,
          48,
          10,
          17,
          19,
          31,
          3,
          16,
          20,
          17.4,
          18,
          18,
          11,
          113.66666666666667,
          133,
          194,
          94,
          18,
          144,
          2,
          25,
          7,
          27,
          22,
          12,
          13,
          73,
          119,
          142,
          108.5,
          21,
          65,
          114,
          20,
          19,
          122,
          36.5,
          42,
          35,
          9,
          48,
          145.5,
          33,
          32,
          24,
          10,
          46,
          13,
          19,
          15,
          48,
          45,
          26,
          10,
          42,
          28,
          32,
          139,
          138,
          42,
          95,
          104,
          24,
          128,
          121,
          126,
          91,
          38,
          74,
          37,
          38,
          44,
          88,
          25,
          115,
          38,
          47,
          44,
          29,
          38,
          11,
          5,
          31,
          140,
          130,
          71,
          80,
          76.5,
          109,
          44,
          92,
          33,
          106,
          83,
          34,
          45,
          35,
          93,
          113,
          48,
          42,
          35,
          118,
          2,
          27,
          48,
          7,
          27,
          16,
          27,
          43,
          1,
          1,
          25,
          19,
          29,
          13,
          12,
          23,
          34,
          12,
          1,
          4,
          23,
          1,
          8,
          102,
          8.5,
          7,
          41,
          25.375,
          9,
          19,
          2,
          29,
          18,
          47.25,
          43,
          22.4,
          29,
          37,
          17,
          10,
          171,
          77,
          15,
          23,
          21,
          80,
          12,
          32,
          26,
          11,
          16.5,
          67,
          88,
          36,
          112,
          46,
          12.5,
          17,
          1,
          16,
          18,
          10,
          19,
          49,
          6,
          3,
          19,
          20.75,
          21.75,
          64,
          12.5,
          33,
          6,
          152,
          9,
          6,
          184,
          45,
          34,
          25,
          39,
          199,
          119,
          27,
          19,
          172,
          178,
          8,
          12,
          18.5,
          24,
          10,
          33.357142857142854,
          26,
          121,
          44,
          108,
          145,
          42.55555555555556,
          48,
          28,
          36,
          40,
          44,
          23,
          21,
          24,
          1,
          9,
          4,
          10,
          102,
          16,
          47,
          12,
          18.5,
          22,
          32,
          13,
          23,
          22,
          217,
          11,
          125,
          14,
          17,
          182,
          49,
          42.5,
          85,
          20,
          72.5,
          35.5,
          96,
          49,
          12,
          12,
          38,
          25.666666666666668,
          15,
          15,
          12,
          17.5,
          4,
          32,
          6,
          24,
          26,
          23,
          12,
          59,
          41,
          19.5,
          22,
          72.5,
          37,
          43,
          12,
          17,
          25,
          26,
          8.5,
          14.333333333333334,
          4,
          17,
          46,
          4,
          42,
          25,
          16,
          8,
          10,
          10,
          1,
          1,
          29,
          16,
          23,
          4,
          6,
          225,
          14,
          10,
          24,
          23,
          38,
          45,
          12,
          15,
          8,
          4,
          37,
          2,
          27,
          3,
          15,
          18,
          24,
          8,
          5,
          4,
          28,
          52,
          7,
          20,
          1,
          18,
          60,
          47,
          39,
          48,
          34,
          88,
          103,
          63,
          2.5,
          27,
          4,
          8,
          29,
          29,
          42,
          23,
          25,
          80,
          16,
          45,
          15,
          3,
          78,
          21,
          39,
          36,
          19.666666666666668,
          46,
          18,
          176,
          3,
          46,
          45,
          34,
          20,
          24,
          11,
          65,
          22,
          129,
          42,
          39,
          21,
          6,
          19,
          37,
          8,
          11.5,
          20.5,
          65.4,
          39,
          41,
          19,
          21,
          77.5,
          24,
          35,
          111,
          16,
          17,
          24,
          203,
          19.5,
          181,
          212,
          29,
          11.333333333333334,
          85,
          49,
          27,
          12,
          10,
          47,
          5,
          27,
          24,
          17.5,
          13,
          9,
          24,
          7,
          4,
          7,
          14,
          13,
          27,
          13.666666666666666,
          18,
          14,
          18,
          15,
          19,
          4,
          14,
          23,
          15,
          10.5,
          99,
          44,
          25,
          37,
          27,
          11,
          3,
          25,
          25.5,
          21,
          27,
          16.5,
          13,
          28,
          7,
          23,
          41,
          182,
          91,
          125,
          58.5,
          72,
          48,
          26,
          22,
          22,
          5,
          29,
          29,
          88,
          38,
          41,
          32,
          21.5,
          19,
          47,
          4,
          4,
          16,
          15,
          21,
          34,
          26,
          22,
          20,
          7,
          9.9,
          27,
          25,
          9.666666666666666,
          2,
          6,
          9,
          124,
          42,
          31,
          20,
          4,
          112,
          6,
          24,
          42,
          3,
          15.5,
          21,
          2,
          22,
          22,
          141,
          27.5,
          43,
          26,
          22,
          26,
          162,
          10,
          37,
          23,
          36,
          9,
          71.5,
          31,
          10,
          158,
          22,
          91,
          41.5,
          33,
          38,
          6,
          223.5,
          11,
          18,
          26,
          35.5,
          48,
          21,
          12,
          42,
          20,
          17,
          18,
          19,
          82,
          36,
          34,
          15,
          40,
          46,
          62,
          20,
          19,
          137,
          1,
          10.5,
          175,
          18,
          22,
          14,
          9,
          48,
          14,
          27,
          137,
          3,
          87,
          16,
          22,
          153,
          13,
          104,
          147,
          96.84615384615384,
          78,
          88,
          77,
          138,
          67,
          47,
          98,
          35,
          16.5,
          71,
          31,
          36,
          124,
          141,
          43,
          145,
          66,
          63,
          110,
          80,
          104,
          105,
          135,
          91,
          95,
          139,
          113,
          103,
          38,
          67,
          37,
          113,
          107,
          67,
          14,
          115,
          112,
          147,
          108,
          112,
          123,
          64,
          93,
          99,
          33,
          44,
          89,
          81,
          140,
          79,
          67,
          140,
          86,
          144,
          85,
          61,
          112,
          87,
          177,
          91,
          195,
          227,
          196,
          142,
          144,
          21,
          67,
          43,
          123,
          7,
          67,
          13.5,
          49,
          32,
          27,
          33,
          35,
          18,
          14,
          2,
          17.5,
          13,
          32.8,
          13,
          148.5,
          27,
          1,
          8,
          142,
          8,
          66,
          222,
          42,
          4,
          40,
          22,
          32,
          17,
          12,
          57,
          26,
          18,
          23,
          14,
          9,
          18,
          15,
          14,
          25,
          8,
          8.5,
          28,
          1,
          7,
          45,
          19,
          43,
          103,
          35,
          15,
          18,
          41,
          28.5,
          47,
          27,
          11.5,
          10,
          16,
          9,
          36,
          45,
          42,
          39,
          10,
          12.5,
          107,
          1,
          25,
          229,
          24.5,
          21,
          109,
          26.5,
          26,
          158,
          29,
          15,
          10,
          28,
          17,
          29,
          13.5,
          46,
          147,
          9,
          38,
          16,
          42,
          3,
          41,
          110,
          1,
          18,
          101,
          45,
          126,
          29,
          49,
          29,
          14,
          16,
          4,
          16,
          26,
          45,
          7,
          15,
          14,
          28,
          143,
          43,
          15,
          109,
          28,
          26,
          44.5,
          45,
          25,
          2,
          15,
          177,
          16,
          7,
          29,
          83.5,
          27.5,
          49.5,
          36,
          78,
          28,
          21.5,
          38,
          25,
          45,
          25,
          20,
          109,
          19,
          195,
          216,
          125,
          118,
          35,
          44,
          34,
          102,
          32,
          18,
          84,
          41,
          102,
          18.5,
          4,
          16,
          21,
          23,
          21,
          19.5,
          20,
          8,
          4,
          45,
          10,
          35.8,
          18,
          23,
          6,
          27,
          7,
          23,
          2,
          44,
          23,
          18.333333333333332,
          1,
          99,
          49,
          25.5,
          18,
          24,
          13,
          18,
          117,
          9,
          25,
          140,
          111,
          43,
          12.333333333333334,
          79,
          29,
          4,
          9,
          9.666666666666666,
          13,
          40,
          29,
          1,
          36,
          23,
          5,
          29,
          41.666666666666664,
          49,
          111,
          43,
          7,
          45,
          31,
          5,
          6,
          32,
          22,
          36,
          48,
          49,
          7,
          33,
          40,
          15,
          160,
          25.333333333333332,
          3,
          37.666666666666664,
          22,
          12,
          62,
          67.5,
          91,
          29,
          9,
          14.5,
          6,
          27,
          17.5,
          12,
          14,
          12.8,
          23,
          23,
          20,
          9,
          1,
          17,
          28,
          24,
          22,
          47,
          49,
          5,
          23.5,
          24,
          19,
          22,
          33,
          32,
          69,
          23,
          23,
          15,
          94,
          14,
          30,
          41.5,
          82,
          48,
          42,
          11,
          28,
          3,
          42,
          28,
          20,
          10,
          40,
          21,
          19,
          25,
          39.333333333333336,
          27.666666666666668,
          21,
          28,
          21,
          45,
          199,
          138,
          23.428571428571427,
          29,
          3,
          13,
          17,
          28,
          12,
          5,
          14,
          18.5,
          24.666666666666668,
          19,
          22,
          6,
          27,
          15,
          41,
          6,
          5,
          19,
          16,
          24,
          14,
          15,
          19,
          27,
          24,
          11,
          7,
          17,
          20,
          12,
          10,
          12,
          4,
          6,
          18,
          5,
          14,
          3,
          14,
          6,
          11,
          11.333333333333334,
          17,
          25,
          13,
          3,
          40,
          24.5,
          94,
          168,
          11,
          118,
          20,
          39.5,
          90,
          5,
          16.5,
          25,
          12.75,
          17.5,
          48,
          26,
          106,
          117,
          12,
          15,
          22,
          17,
          41,
          36.4,
          37,
          47,
          84,
          42,
          8,
          48,
          119,
          11.5,
          7,
          22,
          28,
          158,
          5.5,
          9,
          12,
          9.5,
          16,
          24,
          25,
          23,
          16,
          22,
          4,
          46,
          18.5,
          36,
          17,
          42.5,
          17,
          14,
          25.5,
          28,
          49,
          20,
          22,
          47,
          46,
          14,
          34.5,
          29,
          12,
          27,
          13,
          39,
          27,
          27,
          11,
          19,
          5.333333333333333,
          142,
          74,
          24,
          41,
          11,
          1,
          32,
          48,
          29,
          25,
          11,
          34,
          48,
          21,
          24,
          23,
          25,
          32,
          46,
          12,
          17,
          13,
          39,
          33,
          3,
          18,
          17,
          43,
          20,
          13,
          4,
          28,
          17,
          11,
          27,
          2,
          86.5,
          16,
          40,
          42,
          27,
          29,
          22,
          20,
          26,
          15,
          60.666666666666664,
          40,
          17,
          134,
          84,
          69,
          88,
          19,
          182,
          96,
          46,
          205,
          18,
          9,
          76,
          12,
          27,
          48,
          4,
          9,
          48,
          66,
          11.5,
          16,
          70,
          26,
          16,
          17.5,
          17,
          15,
          29,
          13,
          3,
          181,
          20,
          1,
          44,
          5,
          17,
          20,
          13,
          22,
          22.5,
          2,
          35,
          23,
          37,
          11.5,
          39,
          8,
          21,
          32,
          34,
          21,
          2,
          2,
          22,
          3,
          62,
          17,
          28.5,
          25,
          33,
          17.5,
          91,
          35,
          17,
          48,
          3,
          13,
          24,
          27,
          130,
          106,
          65,
          28,
          95,
          148,
          22.5,
          12,
          109,
          18.5,
          111,
          120,
          43.5,
          27,
          46,
          26,
          126,
          10,
          36,
          33,
          3,
          35,
          24,
          40,
          45,
          26,
          47,
          18,
          10,
          37,
          21,
          11,
          24.333333333333332,
          13,
          222,
          209,
          170,
          151,
          6,
          20,
          45,
          49,
          22.5,
          23.5,
          33,
          44,
          24,
          12.5,
          31,
          203,
          187,
          199,
          218,
          189,
          16,
          31,
          202,
          206,
          90,
          42.5,
          46.666666666666664,
          45,
          9.5,
          13,
          3,
          16,
          7.5,
          15,
          2,
          13.5,
          17,
          31,
          17,
          88,
          18,
          17,
          44,
          24,
          49,
          12,
          3,
          35,
          39,
          43,
          11,
          35,
          105,
          142,
          80,
          25,
          32,
          31,
          44,
          39,
          36,
          16,
          4,
          36,
          20,
          26,
          15,
          11,
          38,
          3,
          11,
          32,
          7,
          39,
          36,
          12,
          18,
          7,
          19,
          3,
          36,
          47,
          45,
          17,
          3,
          7,
          45,
          25,
          22,
          34,
          4,
          29,
          40,
          43,
          10,
          13,
          2,
          31,
          9,
          19,
          42,
          19,
          8,
          17,
          21,
          18,
          42,
          28,
          27,
          32,
          108,
          13,
          7,
          14,
          27,
          11,
          3,
          17,
          40,
          28,
          17,
          41,
          46,
          45,
          7,
          29,
          49,
          45,
          4,
          14,
          46,
          43,
          2,
          32,
          27,
          37,
          44,
          26,
          6,
          10,
          4,
          44,
          29,
          15,
          13,
          27,
          38,
          46,
          12,
          49,
          39,
          29.5,
          26,
          31,
          44,
          36,
          10,
          25.5,
          44,
          18,
          8,
          22,
          2,
          16.419354838709676,
          14,
          25,
          39,
          14,
          19,
          23,
          12,
          9,
          24,
          23,
          1,
          16,
          21,
          26,
          21,
          4,
          16,
          18,
          9,
          17,
          28,
          16,
          5,
          20,
          7,
          24,
          5,
          27,
          17,
          29,
          19,
          12,
          7,
          20,
          9,
          7,
          16,
          15,
          24,
          10,
          10,
          7,
          22.5,
          10,
          3,
          24,
          12,
          23,
          37,
          29,
          4,
          23,
          10,
          1,
          7,
          25,
          13,
          7,
          8,
          6,
          5,
          24,
          5,
          11,
          12,
          13,
          3,
          38,
          21,
          35,
          6,
          49,
          10,
          48,
          15,
          6,
          27,
          9,
          5,
          2,
          47,
          18,
          45,
          37,
          23,
          15,
          4,
          5,
          7.666666666666667,
          9,
          31,
          4,
          29,
          22.545454545454547,
          37,
          28,
          19,
          11.666666666666666,
          13,
          32,
          7.5,
          1,
          17,
          48,
          40.333333333333336,
          31,
          5,
          24,
          5.5,
          21,
          24,
          19.5,
          3,
          9,
          6,
          18,
          11,
          2,
          102,
          14.333333333333334,
          3,
          45,
          19,
          8,
          10,
          69.5,
          13.666666666666666,
          16.5,
          17,
          42,
          33,
          19,
          29,
          16,
          14.333333333333334,
          21,
          18,
          45.333333333333336,
          110,
          47,
          15,
          31,
          13,
          34,
          13,
          32,
          44,
          38,
          17,
          119,
          42,
          24,
          5,
          36,
          36,
          141,
          48,
          33,
          39,
          18,
          122,
          127,
          44,
          76.5,
          35.5,
          18,
          5,
          103.25,
          28,
          16.333333333333332,
          21,
          13.666666666666666,
          22,
          19,
          14,
          1,
          120,
          211,
          39.5,
          22,
          7,
          137,
          31,
          23,
          40,
          9,
          4,
          43,
          27,
          186,
          45,
          177,
          14,
          16,
          20,
          38,
          21,
          8,
          67,
          22.5,
          27.5,
          17,
          11,
          74,
          178,
          110.6,
          67.5,
          26.5,
          8,
          78,
          195,
          77,
          21,
          107,
          27,
          16,
          19,
          45,
          39,
          25,
          33,
          136,
          41,
          7,
          191,
          36,
          39,
          30.5,
          8.5,
          14,
          29,
          44,
          26.72340425531915,
          41,
          27,
          4,
          10,
          5,
          7,
          17,
          7,
          59,
          14,
          134,
          20,
          164,
          18,
          25,
          29.4,
          26,
          23,
          10.5,
          8,
          18,
          31,
          140,
          3,
          19,
          11,
          45,
          24,
          18,
          36,
          9,
          159,
          119,
          82,
          35,
          194,
          29,
          5,
          25,
          155,
          8.5,
          9,
          10,
          35,
          101.5,
          107,
          43,
          18,
          17,
          28,
          28,
          40,
          28.333333333333332,
          23,
          38,
          18,
          88,
          66,
          11,
          19,
          13,
          29,
          41,
          16,
          49,
          27,
          14.5,
          67,
          9,
          78,
          9,
          36,
          21,
          10.5,
          16.333333333333332,
          9,
          48,
          17,
          114,
          10.5,
          1,
          224,
          113,
          44.5,
          43.46153846153846,
          34,
          5,
          9,
          49,
          7,
          25,
          41,
          12,
          37,
          15,
          203,
          110,
          29,
          4,
          2,
          123,
          43,
          11,
          17.666666666666668,
          28,
          28,
          11,
          145,
          96,
          145,
          69,
          2,
          32.5,
          22,
          9,
          5,
          21,
          227,
          12.5,
          10,
          18.5,
          29.25,
          33.5,
          38,
          2,
          168,
          15,
          18,
          22,
          103.5,
          44,
          5,
          8,
          1,
          26,
          13.5,
          68,
          3,
          44,
          10,
          143,
          57,
          79,
          13.5,
          6,
          39,
          10,
          3,
          42.857142857142854,
          45,
          12,
          64,
          41,
          29,
          216,
          23,
          7,
          14.666666666666666,
          4,
          14,
          21,
          20,
          2,
          39.5,
          18,
          11,
          24.166666666666668,
          26,
          31,
          23,
          2,
          27,
          20.5,
          37,
          36,
          20.2,
          48,
          2,
          41,
          8,
          35,
          9,
          28,
          160,
          129,
          9,
          14,
          27,
          29,
          43,
          43,
          33,
          22,
          10,
          12.333333333333334,
          177,
          72,
          23,
          46,
          10,
          17,
          48,
          135,
          114,
          38,
          18,
          9,
          16.416666666666668,
          10,
          26,
          4,
          23,
          20,
          11,
          7,
          10.5,
          19,
          14,
          37.25,
          39.5,
          49,
          44,
          42,
          33,
          42,
          122,
          35,
          37,
          49,
          49,
          45,
          111,
          49,
          40,
          39,
          36,
          42,
          135,
          3,
          5,
          32,
          45,
          40,
          64,
          43,
          74,
          36,
          21,
          28,
          16.666666666666668,
          2,
          24,
          22,
          11,
          26,
          25,
          16,
          29,
          5,
          3,
          18,
          6,
          28,
          2,
          29,
          41,
          94,
          61,
          53.5,
          19,
          10,
          16,
          98
         ],
         "xaxis": "x",
         "y": [
          1,
          1,
          1,
          1,
          1,
          1,
          1,
          1,
          1,
          1,
          1,
          1,
          1,
          1,
          1,
          2,
          1,
          1,
          2,
          1,
          1,
          1,
          1,
          1,
          1,
          1,
          1,
          1,
          1,
          1,
          1,
          1,
          1,
          1,
          1,
          1,
          1,
          1,
          1,
          1,
          1,
          1,
          1,
          1,
          1,
          1,
          1,
          1,
          1,
          1,
          1,
          1,
          1,
          2,
          1,
          2,
          1,
          1,
          1,
          2,
          1,
          1,
          1,
          2,
          1,
          1,
          1,
          1,
          1,
          1,
          1,
          1,
          1,
          1,
          1,
          1,
          1,
          1,
          2,
          1,
          1,
          1,
          2,
          1,
          1,
          1,
          2,
          2,
          2,
          1,
          1,
          1,
          1,
          1,
          2,
          1,
          1,
          1,
          2,
          5,
          1,
          1,
          1,
          1,
          1,
          2,
          1,
          1,
          1,
          1,
          3,
          1,
          1,
          1,
          3,
          1,
          1,
          8,
          1,
          1,
          1,
          1,
          1,
          3,
          1,
          1,
          2,
          1,
          1,
          1,
          1,
          1,
          1,
          2,
          2,
          1,
          1,
          2,
          1,
          1,
          1,
          1,
          1,
          1,
          1,
          1,
          1,
          3,
          1,
          2,
          2,
          1,
          2,
          2,
          1,
          1,
          3,
          1,
          1,
          1,
          1,
          2,
          1,
          9,
          1,
          2,
          1,
          2,
          2,
          4,
          1,
          1,
          1,
          1,
          2,
          1,
          1,
          1,
          1,
          1,
          1,
          2,
          1,
          1,
          2,
          1,
          1,
          1,
          1,
          1,
          1,
          1,
          1,
          1,
          3,
          1,
          1,
          1,
          1,
          2,
          1,
          1,
          1,
          1,
          1,
          1,
          1,
          1,
          1,
          1,
          1,
          1,
          1,
          1,
          1,
          1,
          1,
          1,
          1,
          1,
          1,
          1,
          1,
          1,
          1,
          1,
          1,
          1,
          1,
          1,
          1,
          1,
          1,
          1,
          1,
          1,
          1,
          1,
          2,
          2,
          1,
          3,
          1,
          2,
          2,
          1,
          1,
          1,
          2,
          2,
          1,
          1,
          1,
          1,
          2,
          1,
          1,
          2,
          1,
          2,
          2,
          1,
          3,
          1,
          1,
          2,
          1,
          1,
          2,
          1,
          3,
          1,
          1,
          2,
          2,
          1,
          2,
          1,
          1,
          2,
          1,
          1,
          1,
          1,
          1,
          1,
          1,
          1,
          8,
          1,
          1,
          1,
          1,
          1,
          1,
          1,
          1,
          1,
          1,
          1,
          1,
          1,
          1,
          1,
          1,
          1,
          2,
          1,
          1,
          1,
          1,
          2,
          1,
          1,
          1,
          1,
          2,
          1,
          1,
          1,
          3,
          1,
          1,
          1,
          1,
          1,
          2,
          2,
          1,
          1,
          1,
          1,
          2,
          1,
          1,
          3,
          2,
          1,
          1,
          1,
          1,
          1,
          1,
          3,
          1,
          2,
          1,
          1,
          7,
          1,
          1,
          1,
          2,
          1,
          1,
          1,
          1,
          6,
          1,
          1,
          1,
          1,
          1,
          1,
          2,
          2,
          1,
          1,
          1,
          1,
          1,
          1,
          1,
          1,
          1,
          10,
          1,
          1,
          1,
          1,
          1,
          1,
          1,
          1,
          1,
          1,
          1,
          1,
          2,
          1,
          1,
          1,
          1,
          1,
          1,
          1,
          1,
          1,
          5,
          1,
          1,
          1,
          1,
          1,
          1,
          1,
          1,
          1,
          4,
          1,
          3,
          3,
          1,
          1,
          1,
          3,
          1,
          1,
          5,
          1,
          3,
          1,
          1,
          2,
          1,
          1,
          1,
          2,
          1,
          1,
          1,
          1,
          1,
          2,
          1,
          1,
          1,
          2,
          1,
          1,
          1,
          1,
          1,
          1,
          1,
          3,
          1,
          1,
          1,
          1,
          2,
          1,
          1,
          1,
          1,
          1,
          1,
          1,
          2,
          1,
          1,
          1,
          1,
          1,
          1,
          1,
          1,
          3,
          1,
          3,
          1,
          2,
          1,
          2,
          1,
          1,
          1,
          1,
          1,
          1,
          1,
          1,
          1,
          1,
          1,
          1,
          1,
          1,
          1,
          1,
          1,
          1,
          1,
          1,
          1,
          1,
          2,
          1,
          1,
          1,
          1,
          1,
          2,
          1,
          3,
          1,
          1,
          1,
          1,
          2,
          1,
          1,
          1,
          1,
          1,
          1,
          1,
          1,
          1,
          15,
          1,
          1,
          1,
          1,
          1,
          1,
          1,
          1,
          1,
          1,
          1,
          1,
          1,
          1,
          1,
          2,
          1,
          1,
          1,
          1,
          1,
          1,
          1,
          2,
          1,
          4,
          3,
          1,
          1,
          1,
          2,
          1,
          1,
          1,
          1,
          1,
          1,
          1,
          1,
          1,
          1,
          1,
          1,
          1,
          2,
          4,
          1,
          1,
          1,
          1,
          1,
          1,
          1,
          1,
          1,
          1,
          1,
          1,
          1,
          4,
          1,
          2,
          5,
          1,
          2,
          1,
          2,
          1,
          2,
          1,
          1,
          1,
          1,
          1,
          1,
          2,
          1,
          1,
          1,
          1,
          2,
          2,
          2,
          1,
          1,
          1,
          1,
          2,
          2,
          1,
          1,
          2,
          2,
          1,
          1,
          1,
          2,
          1,
          1,
          2,
          1,
          1,
          1,
          1,
          1,
          1,
          1,
          1,
          2,
          2,
          1,
          1,
          1,
          10,
          1,
          1,
          1,
          1,
          1,
          1,
          1,
          1,
          1,
          1,
          1,
          1,
          1,
          1,
          1,
          1,
          1,
          1,
          1,
          1,
          1,
          1,
          1,
          1,
          1,
          1,
          1,
          1,
          1,
          1,
          2,
          1,
          2,
          1,
          1,
          2,
          1,
          1,
          1,
          1,
          1,
          2,
          1,
          1,
          2,
          1,
          2,
          1,
          2,
          1,
          1,
          1,
          1,
          1,
          1,
          1,
          1,
          1,
          2,
          1,
          1,
          1,
          1,
          1,
          1,
          1,
          1,
          1,
          1,
          1,
          1,
          1,
          1,
          1,
          1,
          1,
          1,
          2,
          1,
          6,
          1,
          1,
          1,
          1,
          2,
          1,
          1,
          1,
          1,
          2,
          1,
          2,
          1,
          1,
          1,
          1,
          1,
          1,
          1,
          1,
          1,
          1,
          2,
          1,
          1,
          1,
          1,
          1,
          1,
          1,
          1,
          1,
          2,
          1,
          1,
          1,
          1,
          1,
          1,
          1,
          1,
          1,
          2,
          2,
          1,
          1,
          1,
          1,
          1,
          1,
          1,
          2,
          1,
          1,
          1,
          1,
          1,
          1,
          1,
          1,
          1,
          1,
          1,
          2,
          2,
          1,
          2,
          1,
          2,
          1,
          1,
          1,
          1,
          3,
          1,
          1,
          1,
          1,
          1,
          1,
          2,
          1,
          1,
          2,
          1,
          2,
          1,
          1,
          1,
          1,
          1,
          1,
          1,
          1,
          1,
          1,
          1,
          2,
          1,
          1,
          1,
          2,
          1,
          1,
          2,
          1,
          1,
          1,
          1,
          1,
          1,
          2,
          1,
          1,
          1,
          1,
          1,
          1,
          3,
          2,
          1,
          1,
          1,
          1,
          1,
          1,
          1,
          1,
          2,
          1,
          1,
          3,
          1,
          1,
          1,
          1,
          1,
          2,
          1,
          1,
          1,
          1,
          1,
          2,
          1,
          1,
          1,
          2,
          1,
          1,
          1,
          1,
          1,
          1,
          1,
          1,
          1,
          2,
          1,
          2,
          3,
          2,
          1,
          5,
          12,
          1,
          1,
          1,
          1,
          1,
          1,
          2,
          1,
          1,
          1,
          1,
          1,
          3,
          1,
          1,
          1,
          1,
          1,
          2,
          1,
          1,
          1,
          1,
          2,
          5,
          1,
          1,
          1,
          3,
          1,
          1,
          2,
          1,
          1,
          1,
          1,
          1,
          1,
          1,
          1,
          1,
          1,
          1,
          1,
          2,
          1,
          1,
          2,
          1,
          1,
          1,
          2,
          1,
          1,
          1,
          1,
          2,
          3,
          1,
          1,
          1,
          1,
          1,
          1,
          1,
          1,
          1,
          1,
          1,
          1,
          1,
          1,
          1,
          1,
          1,
          1,
          1,
          1,
          1,
          1,
          1,
          1,
          1,
          1,
          1,
          1,
          1,
          1,
          1,
          1,
          1,
          1,
          1,
          1,
          1,
          1,
          1,
          1,
          1,
          1,
          1,
          1,
          2,
          1,
          1,
          1,
          1,
          1,
          1,
          1,
          1,
          1,
          1,
          1,
          1,
          1,
          1,
          1,
          1,
          1,
          1,
          2,
          1,
          1,
          2,
          1,
          1,
          1,
          1,
          1,
          1,
          2,
          1,
          1,
          2,
          1,
          1,
          1,
          1,
          1,
          1,
          1,
          2,
          1,
          1,
          8,
          1,
          1,
          1,
          1,
          1,
          4,
          1,
          5,
          1,
          1,
          1,
          1,
          1,
          1,
          1,
          1,
          1,
          1,
          1,
          2,
          1,
          1,
          2,
          1,
          1,
          2,
          1,
          1,
          2,
          1,
          1,
          1,
          1,
          1,
          1,
          1,
          1,
          1,
          1,
          4,
          4,
          2,
          2,
          1,
          1,
          1,
          1,
          1,
          2,
          1,
          1,
          1,
          1,
          1,
          1,
          1,
          1,
          2,
          1,
          1,
          1,
          2,
          2,
          1,
          14,
          1,
          1,
          1,
          1,
          1,
          9,
          1,
          1,
          1,
          1,
          1,
          1,
          1,
          1,
          1,
          1,
          1,
          1,
          1,
          1,
          1,
          1,
          2,
          1,
          1,
          1,
          1,
          1,
          1,
          2,
          1,
          1,
          1,
          1,
          1,
          2,
          1,
          1,
          2,
          2,
          1,
          1,
          1,
          2,
          1,
          3,
          1,
          1,
          1,
          2,
          1,
          1,
          1,
          1,
          1,
          1,
          1,
          3,
          1,
          2,
          1,
          2,
          1,
          1,
          1,
          1,
          1,
          1,
          2,
          3,
          1,
          1,
          1,
          1,
          1,
          1,
          1,
          1,
          1,
          1,
          1,
          1,
          1,
          1,
          1,
          1,
          1,
          1,
          1,
          1,
          1,
          1,
          1,
          1,
          1,
          1,
          1,
          1,
          1,
          1,
          1,
          1,
          1,
          1,
          6,
          1,
          1,
          1,
          1,
          2,
          1,
          1,
          1,
          1,
          2,
          1,
          1,
          1,
          1,
          2,
          1,
          1,
          2,
          1,
          1,
          1,
          1,
          1,
          1,
          1,
          1,
          1,
          1,
          1,
          1,
          1,
          1,
          1,
          1,
          1,
          3,
          1,
          1,
          1,
          1,
          1,
          1,
          1,
          1,
          1,
          1,
          1,
          1,
          1,
          1,
          1,
          1,
          1,
          1,
          1,
          2,
          2,
          2,
          5,
          1,
          2,
          1,
          1,
          4,
          1,
          2,
          1,
          1,
          1,
          1,
          2,
          2,
          1,
          1,
          1,
          3,
          3,
          1,
          1,
          1,
          1,
          1,
          1,
          1,
          1,
          2,
          1,
          1,
          1,
          1,
          1,
          1,
          1,
          1,
          1,
          6,
          1,
          1,
          1,
          1,
          1,
          1,
          1,
          1,
          2,
          2,
          1,
          1,
          1,
          1,
          2,
          1,
          1,
          1,
          2,
          1,
          1,
          2,
          1,
          1,
          1,
          1,
          1,
          1,
          1,
          1,
          2,
          1,
          1,
          1,
          1,
          1,
          2,
          1,
          1,
          2,
          1,
          1,
          1,
          2,
          1,
          1,
          1,
          1,
          1,
          1,
          1,
          1,
          1,
          2,
          1,
          2,
          10,
          1,
          1,
          3,
          1,
          1,
          1,
          1,
          1,
          2,
          1,
          1,
          1,
          1,
          1,
          1,
          1,
          2,
          1,
          1,
          1,
          1,
          1,
          2,
          1,
          1,
          1,
          1,
          1,
          1,
          1,
          1,
          1,
          1,
          2,
          1,
          1,
          1,
          1,
          1,
          2,
          1,
          1,
          1,
          2,
          1,
          1,
          1,
          2,
          1,
          1,
          1,
          1,
          1,
          1,
          1,
          1,
          1,
          1,
          1,
          1,
          1,
          1,
          1,
          1,
          1,
          2,
          1,
          2,
          1,
          1,
          1,
          1,
          2,
          1,
          4,
          1,
          1,
          1,
          1,
          1,
          1,
          1,
          1,
          2,
          1,
          13,
          1,
          1,
          1,
          1,
          1,
          1,
          1,
          1,
          2,
          1,
          1,
          1,
          1,
          1,
          1,
          1,
          1,
          1,
          1,
          1,
          1,
          1,
          1,
          1,
          1,
          1,
          1,
          1,
          1,
          1,
          1,
          1,
          1,
          1,
          1,
          1,
          1,
          1,
          1,
          1,
          1,
          1,
          1,
          1,
          1,
          1,
          1,
          1,
          1,
          1,
          1,
          1,
          1,
          1,
          1,
          1,
          1,
          1,
          1,
          1,
          1,
          1,
          1,
          1,
          1,
          1,
          1,
          1,
          1,
          1,
          1,
          2,
          1,
          1,
          1,
          1,
          1,
          1,
          1,
          1,
          2,
          1,
          5,
          1,
          2,
          1,
          1,
          1,
          1,
          1,
          1,
          1,
          1,
          1,
          1,
          1,
          1,
          1,
          1,
          3,
          1,
          1,
          2,
          1,
          1,
          2,
          1,
          1,
          1,
          1,
          2,
          1,
          1,
          1,
          1,
          1,
          1,
          1,
          1,
          1,
          1,
          1,
          2,
          1,
          2,
          2,
          1,
          1,
          1,
          2,
          2,
          1,
          1,
          2,
          2,
          1,
          1,
          1,
          1,
          2,
          1,
          1,
          2,
          1,
          1,
          1,
          1,
          1,
          1,
          1,
          2,
          2,
          1,
          1,
          1,
          1,
          1,
          1,
          1,
          1,
          1,
          1,
          1,
          2,
          1,
          1,
          1,
          1,
          1,
          1,
          1,
          1,
          1,
          1,
          1,
          1,
          3,
          1,
          1,
          1,
          1,
          1,
          1,
          1,
          2,
          2,
          1,
          1,
          1,
          1,
          1,
          1,
          2,
          2,
          2,
          2,
          4,
          1,
          2,
          1,
          2,
          1,
          1,
          1,
          1,
          1,
          1,
          1,
          1,
          1,
          1,
          1,
          1,
          1,
          1,
          1,
          1,
          1,
          1,
          1,
          1,
          2,
          1,
          1,
          1,
          2,
          1,
          2,
          1,
          1,
          1,
          1,
          2,
          5,
          1,
          1,
          1,
          2,
          1,
          1,
          1,
          1,
          1,
          3,
          1,
          1,
          1,
          2,
          1,
          1,
          1,
          1,
          1,
          1,
          1,
          1,
          2,
          1,
          3,
          1,
          1,
          1,
          1,
          3,
          2,
          1,
          1,
          1,
          1,
          1,
          1,
          1,
          6,
          1,
          1,
          1,
          1,
          1,
          1,
          1,
          1,
          1,
          1,
          1,
          1,
          1,
          1,
          1,
          1,
          1,
          1,
          3,
          1,
          3,
          1,
          1,
          2,
          2,
          1,
          1,
          1,
          12,
          1,
          1,
          2,
          1,
          1,
          5,
          1,
          1,
          1,
          1,
          1,
          1,
          2,
          1,
          1,
          1,
          1,
          1,
          2,
          1,
          1,
          3,
          1,
          1,
          1,
          1,
          1,
          2,
          1,
          1,
          2,
          2,
          1,
          1,
          1,
          1,
          1,
          1,
          1,
          1,
          2,
          1,
          1,
          1,
          1,
          1,
          3,
          3,
          1,
          1,
          1,
          1,
          1,
          1,
          7,
          1,
          1,
          1,
          1,
          1,
          1,
          1,
          2,
          2,
          3,
          1,
          1,
          1,
          1,
          1,
          1,
          1,
          1,
          1,
          1,
          1,
          1,
          1,
          1,
          1,
          1,
          1,
          1,
          1,
          1,
          1,
          1,
          1,
          1,
          1,
          1,
          1,
          1,
          1,
          1,
          1,
          3,
          3,
          1,
          1,
          1,
          1,
          2,
          2,
          2,
          1,
          1,
          1,
          1,
          2,
          1,
          2,
          2,
          1,
          4,
          2,
          1,
          1,
          6,
          1,
          1,
          1,
          1,
          1,
          2,
          5,
          1,
          1,
          1,
          1,
          1,
          1,
          1,
          4,
          1,
          1,
          1,
          1,
          2,
          1,
          1,
          2,
          1,
          1,
          1,
          1,
          1,
          1,
          1,
          1,
          2,
          1,
          2,
          2,
          1,
          1,
          2,
          1,
          1,
          1,
          1,
          1,
          1,
          2,
          2,
          1,
          1,
          1,
          1,
          1,
          1,
          1,
          1,
          1,
          3,
          1,
          1,
          1,
          1,
          1,
          1,
          1,
          1,
          1,
          1,
          1,
          1,
          1,
          1,
          1,
          1,
          1,
          1,
          1,
          1,
          1,
          1,
          1,
          1,
          1,
          1,
          1,
          1,
          1,
          1,
          1,
          1,
          1,
          1,
          1,
          1,
          2,
          1,
          1,
          1,
          2,
          1,
          1,
          2,
          1,
          1,
          3,
          1,
          1,
          1,
          1,
          1,
          1,
          1,
          1,
          2,
          1,
          1,
          1,
          1,
          1,
          1,
          1,
          1,
          1,
          1,
          1,
          1,
          2,
          1,
          1,
          1,
          1,
          2,
          1,
          1,
          1,
          1,
          1,
          1,
          2,
          1,
          1,
          1,
          1,
          1,
          1,
          1,
          2,
          1,
          1,
          1,
          2,
          2,
          1,
          1,
          2,
          1,
          1,
          1,
          1,
          1,
          1,
          1,
          1,
          1,
          2,
          1,
          1,
          2,
          1,
          1,
          3,
          1,
          1,
          1,
          1,
          1,
          2,
          1,
          1,
          1,
          2,
          1,
          2,
          1,
          1,
          2,
          1,
          1,
          4,
          1,
          1,
          1,
          1,
          1,
          2,
          1,
          1,
          1,
          2,
          1,
          1,
          1,
          1,
          1,
          1,
          1,
          1,
          1,
          3,
          2,
          1,
          1,
          1,
          1,
          1,
          1,
          1,
          1,
          2,
          2,
          1,
          1,
          1,
          2,
          1,
          3,
          1,
          1,
          1,
          1,
          1,
          1,
          2,
          1,
          1,
          2,
          3,
          1,
          2,
          1,
          1,
          1,
          2,
          1,
          1,
          2,
          1,
          1,
          1,
          2,
          12,
          1,
          1,
          1,
          1,
          1,
          1,
          1,
          1,
          1,
          1,
          1,
          1,
          1,
          1,
          1,
          1,
          1,
          1,
          1,
          1,
          1,
          1,
          1,
          1,
          2,
          1,
          1,
          1,
          1,
          1,
          1,
          1,
          1,
          1,
          1,
          1,
          1,
          1,
          1,
          1,
          1,
          1,
          1,
          1,
          1,
          1,
          1,
          1,
          1,
          1,
          1,
          1,
          1,
          1,
          1,
          1,
          1,
          2,
          1,
          1,
          1,
          1,
          1,
          1,
          1,
          1,
          1,
          1,
          1,
          1,
          1,
          1,
          1,
          1,
          1,
          1,
          1,
          1,
          1,
          1,
          1,
          1,
          1,
          1,
          1,
          1,
          1,
          1,
          1,
          1,
          1,
          1,
          1,
          1,
          1,
          1,
          1,
          1,
          1,
          1,
          1,
          1,
          1,
          1,
          1,
          1,
          1,
          1,
          1,
          1,
          2,
          1,
          1,
          1,
          2,
          1,
          2,
          1,
          1,
          1,
          1,
          1,
          31,
          1,
          1,
          1,
          1,
          1,
          1,
          1,
          1,
          1,
          1,
          1,
          1,
          1,
          1,
          1,
          1,
          1,
          1,
          1,
          1,
          1,
          1,
          1,
          1,
          1,
          1,
          1,
          1,
          2,
          1,
          1,
          1,
          1,
          1,
          1,
          1,
          1,
          1,
          1,
          1,
          1,
          1,
          2,
          1,
          1,
          1,
          1,
          1,
          1,
          1,
          1,
          1,
          1,
          1,
          1,
          1,
          1,
          1,
          1,
          1,
          1,
          1,
          1,
          1,
          1,
          1,
          1,
          1,
          1,
          1,
          1,
          1,
          1,
          1,
          1,
          1,
          1,
          1,
          1,
          1,
          1,
          1,
          1,
          1,
          1,
          1,
          1,
          1,
          3,
          1,
          1,
          1,
          1,
          11,
          1,
          1,
          1,
          3,
          1,
          1,
          2,
          1,
          1,
          1,
          3,
          1,
          1,
          1,
          2,
          1,
          1,
          2,
          1,
          2,
          2,
          1,
          1,
          1,
          1,
          3,
          1,
          1,
          2,
          1,
          2,
          2,
          3,
          2,
          2,
          1,
          2,
          1,
          1,
          5,
          3,
          1,
          1,
          6,
          1,
          1,
          1,
          1,
          1,
          1,
          1,
          1,
          1,
          1,
          1,
          1,
          1,
          1,
          1,
          1,
          1,
          1,
          1,
          1,
          1,
          1,
          1,
          1,
          1,
          2,
          2,
          1,
          1,
          4,
          1,
          3,
          1,
          3,
          2,
          1,
          1,
          1,
          1,
          1,
          2,
          1,
          1,
          1,
          1,
          2,
          1,
          1,
          1,
          1,
          1,
          1,
          1,
          1,
          1,
          1,
          1,
          1,
          2,
          1,
          1,
          2,
          2,
          1,
          2,
          1,
          1,
          5,
          2,
          2,
          2,
          1,
          1,
          1,
          1,
          1,
          1,
          1,
          1,
          1,
          1,
          1,
          1,
          1,
          1,
          1,
          1,
          1,
          1,
          2,
          2,
          1,
          2,
          2,
          47,
          1,
          1,
          1,
          1,
          1,
          1,
          1,
          1,
          2,
          1,
          4,
          1,
          1,
          1,
          1,
          5,
          1,
          1,
          2,
          1,
          1,
          1,
          1,
          1,
          2,
          1,
          1,
          2,
          1,
          1,
          1,
          1,
          1,
          2,
          1,
          1,
          2,
          1,
          1,
          1,
          2,
          1,
          1,
          3,
          2,
          1,
          1,
          2,
          1,
          1,
          1,
          1,
          3,
          1,
          1,
          1,
          1,
          1,
          1,
          1,
          3,
          1,
          1,
          1,
          1,
          1,
          2,
          4,
          1,
          1,
          1,
          1,
          1,
          2,
          3,
          1,
          1,
          1,
          1,
          2,
          1,
          1,
          1,
          2,
          13,
          1,
          1,
          1,
          1,
          2,
          2,
          1,
          1,
          1,
          1,
          1,
          1,
          1,
          1,
          1,
          1,
          1,
          3,
          3,
          1,
          1,
          1,
          1,
          3,
          1,
          1,
          1,
          2,
          1,
          1,
          1,
          2,
          1,
          2,
          1,
          2,
          4,
          2,
          1,
          1,
          1,
          1,
          1,
          1,
          2,
          1,
          1,
          1,
          1,
          1,
          2,
          1,
          1,
          1,
          1,
          1,
          3,
          1,
          2,
          1,
          1,
          1,
          1,
          14,
          1,
          1,
          2,
          1,
          1,
          1,
          1,
          1,
          6,
          1,
          4,
          2,
          1,
          1,
          2,
          2,
          1,
          6,
          1,
          1,
          1,
          1,
          1,
          2,
          1,
          1,
          10,
          1,
          1,
          1,
          1,
          1,
          1,
          1,
          2,
          1,
          1,
          1,
          1,
          1,
          1,
          1,
          1,
          1,
          2,
          3,
          1,
          1,
          1,
          1,
          1,
          1,
          1,
          1,
          1,
          1,
          2,
          1,
          12,
          1,
          1,
          1,
          1,
          1,
          1,
          1,
          2,
          1,
          1,
          4,
          2,
          1,
          1,
          1,
          1,
          1,
          1,
          1,
          1,
          1,
          1,
          1,
          1,
          1,
          1,
          1,
          1,
          1,
          1,
          1,
          1,
          1,
          1,
          1,
          1,
          1,
          1,
          1,
          2,
          1,
          3,
          1,
          1,
          1,
          1,
          1,
          1,
          1,
          1,
          1,
          1,
          1,
          1,
          1,
          1,
          1,
          3,
          1,
          1,
          2,
          1,
          1,
          1,
          1
         ],
         "yaxis": "y"
        }
       ],
       "layout": {
        "legend": {
         "tracegroupgap": 0
        },
        "margin": {
         "t": 60
        },
        "template": {
         "data": {
          "bar": [
           {
            "error_x": {
             "color": "#2a3f5f"
            },
            "error_y": {
             "color": "#2a3f5f"
            },
            "marker": {
             "line": {
              "color": "#E5ECF6",
              "width": 0.5
             },
             "pattern": {
              "fillmode": "overlay",
              "size": 10,
              "solidity": 0.2
             }
            },
            "type": "bar"
           }
          ],
          "barpolar": [
           {
            "marker": {
             "line": {
              "color": "#E5ECF6",
              "width": 0.5
             },
             "pattern": {
              "fillmode": "overlay",
              "size": 10,
              "solidity": 0.2
             }
            },
            "type": "barpolar"
           }
          ],
          "carpet": [
           {
            "aaxis": {
             "endlinecolor": "#2a3f5f",
             "gridcolor": "white",
             "linecolor": "white",
             "minorgridcolor": "white",
             "startlinecolor": "#2a3f5f"
            },
            "baxis": {
             "endlinecolor": "#2a3f5f",
             "gridcolor": "white",
             "linecolor": "white",
             "minorgridcolor": "white",
             "startlinecolor": "#2a3f5f"
            },
            "type": "carpet"
           }
          ],
          "choropleth": [
           {
            "colorbar": {
             "outlinewidth": 0,
             "ticks": ""
            },
            "type": "choropleth"
           }
          ],
          "contour": [
           {
            "colorbar": {
             "outlinewidth": 0,
             "ticks": ""
            },
            "colorscale": [
             [
              0,
              "#0d0887"
             ],
             [
              0.1111111111111111,
              "#46039f"
             ],
             [
              0.2222222222222222,
              "#7201a8"
             ],
             [
              0.3333333333333333,
              "#9c179e"
             ],
             [
              0.4444444444444444,
              "#bd3786"
             ],
             [
              0.5555555555555556,
              "#d8576b"
             ],
             [
              0.6666666666666666,
              "#ed7953"
             ],
             [
              0.7777777777777778,
              "#fb9f3a"
             ],
             [
              0.8888888888888888,
              "#fdca26"
             ],
             [
              1,
              "#f0f921"
             ]
            ],
            "type": "contour"
           }
          ],
          "contourcarpet": [
           {
            "colorbar": {
             "outlinewidth": 0,
             "ticks": ""
            },
            "type": "contourcarpet"
           }
          ],
          "heatmap": [
           {
            "colorbar": {
             "outlinewidth": 0,
             "ticks": ""
            },
            "colorscale": [
             [
              0,
              "#0d0887"
             ],
             [
              0.1111111111111111,
              "#46039f"
             ],
             [
              0.2222222222222222,
              "#7201a8"
             ],
             [
              0.3333333333333333,
              "#9c179e"
             ],
             [
              0.4444444444444444,
              "#bd3786"
             ],
             [
              0.5555555555555556,
              "#d8576b"
             ],
             [
              0.6666666666666666,
              "#ed7953"
             ],
             [
              0.7777777777777778,
              "#fb9f3a"
             ],
             [
              0.8888888888888888,
              "#fdca26"
             ],
             [
              1,
              "#f0f921"
             ]
            ],
            "type": "heatmap"
           }
          ],
          "heatmapgl": [
           {
            "colorbar": {
             "outlinewidth": 0,
             "ticks": ""
            },
            "colorscale": [
             [
              0,
              "#0d0887"
             ],
             [
              0.1111111111111111,
              "#46039f"
             ],
             [
              0.2222222222222222,
              "#7201a8"
             ],
             [
              0.3333333333333333,
              "#9c179e"
             ],
             [
              0.4444444444444444,
              "#bd3786"
             ],
             [
              0.5555555555555556,
              "#d8576b"
             ],
             [
              0.6666666666666666,
              "#ed7953"
             ],
             [
              0.7777777777777778,
              "#fb9f3a"
             ],
             [
              0.8888888888888888,
              "#fdca26"
             ],
             [
              1,
              "#f0f921"
             ]
            ],
            "type": "heatmapgl"
           }
          ],
          "histogram": [
           {
            "marker": {
             "pattern": {
              "fillmode": "overlay",
              "size": 10,
              "solidity": 0.2
             }
            },
            "type": "histogram"
           }
          ],
          "histogram2d": [
           {
            "colorbar": {
             "outlinewidth": 0,
             "ticks": ""
            },
            "colorscale": [
             [
              0,
              "#0d0887"
             ],
             [
              0.1111111111111111,
              "#46039f"
             ],
             [
              0.2222222222222222,
              "#7201a8"
             ],
             [
              0.3333333333333333,
              "#9c179e"
             ],
             [
              0.4444444444444444,
              "#bd3786"
             ],
             [
              0.5555555555555556,
              "#d8576b"
             ],
             [
              0.6666666666666666,
              "#ed7953"
             ],
             [
              0.7777777777777778,
              "#fb9f3a"
             ],
             [
              0.8888888888888888,
              "#fdca26"
             ],
             [
              1,
              "#f0f921"
             ]
            ],
            "type": "histogram2d"
           }
          ],
          "histogram2dcontour": [
           {
            "colorbar": {
             "outlinewidth": 0,
             "ticks": ""
            },
            "colorscale": [
             [
              0,
              "#0d0887"
             ],
             [
              0.1111111111111111,
              "#46039f"
             ],
             [
              0.2222222222222222,
              "#7201a8"
             ],
             [
              0.3333333333333333,
              "#9c179e"
             ],
             [
              0.4444444444444444,
              "#bd3786"
             ],
             [
              0.5555555555555556,
              "#d8576b"
             ],
             [
              0.6666666666666666,
              "#ed7953"
             ],
             [
              0.7777777777777778,
              "#fb9f3a"
             ],
             [
              0.8888888888888888,
              "#fdca26"
             ],
             [
              1,
              "#f0f921"
             ]
            ],
            "type": "histogram2dcontour"
           }
          ],
          "mesh3d": [
           {
            "colorbar": {
             "outlinewidth": 0,
             "ticks": ""
            },
            "type": "mesh3d"
           }
          ],
          "parcoords": [
           {
            "line": {
             "colorbar": {
              "outlinewidth": 0,
              "ticks": ""
             }
            },
            "type": "parcoords"
           }
          ],
          "pie": [
           {
            "automargin": true,
            "type": "pie"
           }
          ],
          "scatter": [
           {
            "fillpattern": {
             "fillmode": "overlay",
             "size": 10,
             "solidity": 0.2
            },
            "type": "scatter"
           }
          ],
          "scatter3d": [
           {
            "line": {
             "colorbar": {
              "outlinewidth": 0,
              "ticks": ""
             }
            },
            "marker": {
             "colorbar": {
              "outlinewidth": 0,
              "ticks": ""
             }
            },
            "type": "scatter3d"
           }
          ],
          "scattercarpet": [
           {
            "marker": {
             "colorbar": {
              "outlinewidth": 0,
              "ticks": ""
             }
            },
            "type": "scattercarpet"
           }
          ],
          "scattergeo": [
           {
            "marker": {
             "colorbar": {
              "outlinewidth": 0,
              "ticks": ""
             }
            },
            "type": "scattergeo"
           }
          ],
          "scattergl": [
           {
            "marker": {
             "colorbar": {
              "outlinewidth": 0,
              "ticks": ""
             }
            },
            "type": "scattergl"
           }
          ],
          "scattermapbox": [
           {
            "marker": {
             "colorbar": {
              "outlinewidth": 0,
              "ticks": ""
             }
            },
            "type": "scattermapbox"
           }
          ],
          "scatterpolar": [
           {
            "marker": {
             "colorbar": {
              "outlinewidth": 0,
              "ticks": ""
             }
            },
            "type": "scatterpolar"
           }
          ],
          "scatterpolargl": [
           {
            "marker": {
             "colorbar": {
              "outlinewidth": 0,
              "ticks": ""
             }
            },
            "type": "scatterpolargl"
           }
          ],
          "scatterternary": [
           {
            "marker": {
             "colorbar": {
              "outlinewidth": 0,
              "ticks": ""
             }
            },
            "type": "scatterternary"
           }
          ],
          "surface": [
           {
            "colorbar": {
             "outlinewidth": 0,
             "ticks": ""
            },
            "colorscale": [
             [
              0,
              "#0d0887"
             ],
             [
              0.1111111111111111,
              "#46039f"
             ],
             [
              0.2222222222222222,
              "#7201a8"
             ],
             [
              0.3333333333333333,
              "#9c179e"
             ],
             [
              0.4444444444444444,
              "#bd3786"
             ],
             [
              0.5555555555555556,
              "#d8576b"
             ],
             [
              0.6666666666666666,
              "#ed7953"
             ],
             [
              0.7777777777777778,
              "#fb9f3a"
             ],
             [
              0.8888888888888888,
              "#fdca26"
             ],
             [
              1,
              "#f0f921"
             ]
            ],
            "type": "surface"
           }
          ],
          "table": [
           {
            "cells": {
             "fill": {
              "color": "#EBF0F8"
             },
             "line": {
              "color": "white"
             }
            },
            "header": {
             "fill": {
              "color": "#C8D4E3"
             },
             "line": {
              "color": "white"
             }
            },
            "type": "table"
           }
          ]
         },
         "layout": {
          "annotationdefaults": {
           "arrowcolor": "#2a3f5f",
           "arrowhead": 0,
           "arrowwidth": 1
          },
          "autotypenumbers": "strict",
          "coloraxis": {
           "colorbar": {
            "outlinewidth": 0,
            "ticks": ""
           }
          },
          "colorscale": {
           "diverging": [
            [
             0,
             "#8e0152"
            ],
            [
             0.1,
             "#c51b7d"
            ],
            [
             0.2,
             "#de77ae"
            ],
            [
             0.3,
             "#f1b6da"
            ],
            [
             0.4,
             "#fde0ef"
            ],
            [
             0.5,
             "#f7f7f7"
            ],
            [
             0.6,
             "#e6f5d0"
            ],
            [
             0.7,
             "#b8e186"
            ],
            [
             0.8,
             "#7fbc41"
            ],
            [
             0.9,
             "#4d9221"
            ],
            [
             1,
             "#276419"
            ]
           ],
           "sequential": [
            [
             0,
             "#0d0887"
            ],
            [
             0.1111111111111111,
             "#46039f"
            ],
            [
             0.2222222222222222,
             "#7201a8"
            ],
            [
             0.3333333333333333,
             "#9c179e"
            ],
            [
             0.4444444444444444,
             "#bd3786"
            ],
            [
             0.5555555555555556,
             "#d8576b"
            ],
            [
             0.6666666666666666,
             "#ed7953"
            ],
            [
             0.7777777777777778,
             "#fb9f3a"
            ],
            [
             0.8888888888888888,
             "#fdca26"
            ],
            [
             1,
             "#f0f921"
            ]
           ],
           "sequentialminus": [
            [
             0,
             "#0d0887"
            ],
            [
             0.1111111111111111,
             "#46039f"
            ],
            [
             0.2222222222222222,
             "#7201a8"
            ],
            [
             0.3333333333333333,
             "#9c179e"
            ],
            [
             0.4444444444444444,
             "#bd3786"
            ],
            [
             0.5555555555555556,
             "#d8576b"
            ],
            [
             0.6666666666666666,
             "#ed7953"
            ],
            [
             0.7777777777777778,
             "#fb9f3a"
            ],
            [
             0.8888888888888888,
             "#fdca26"
            ],
            [
             1,
             "#f0f921"
            ]
           ]
          },
          "colorway": [
           "#636efa",
           "#EF553B",
           "#00cc96",
           "#ab63fa",
           "#FFA15A",
           "#19d3f3",
           "#FF6692",
           "#B6E880",
           "#FF97FF",
           "#FECB52"
          ],
          "font": {
           "color": "#2a3f5f"
          },
          "geo": {
           "bgcolor": "white",
           "lakecolor": "white",
           "landcolor": "#E5ECF6",
           "showlakes": true,
           "showland": true,
           "subunitcolor": "white"
          },
          "hoverlabel": {
           "align": "left"
          },
          "hovermode": "closest",
          "mapbox": {
           "style": "light"
          },
          "paper_bgcolor": "white",
          "plot_bgcolor": "#E5ECF6",
          "polar": {
           "angularaxis": {
            "gridcolor": "white",
            "linecolor": "white",
            "ticks": ""
           },
           "bgcolor": "#E5ECF6",
           "radialaxis": {
            "gridcolor": "white",
            "linecolor": "white",
            "ticks": ""
           }
          },
          "scene": {
           "xaxis": {
            "backgroundcolor": "#E5ECF6",
            "gridcolor": "white",
            "gridwidth": 2,
            "linecolor": "white",
            "showbackground": true,
            "ticks": "",
            "zerolinecolor": "white"
           },
           "yaxis": {
            "backgroundcolor": "#E5ECF6",
            "gridcolor": "white",
            "gridwidth": 2,
            "linecolor": "white",
            "showbackground": true,
            "ticks": "",
            "zerolinecolor": "white"
           },
           "zaxis": {
            "backgroundcolor": "#E5ECF6",
            "gridcolor": "white",
            "gridwidth": 2,
            "linecolor": "white",
            "showbackground": true,
            "ticks": "",
            "zerolinecolor": "white"
           }
          },
          "shapedefaults": {
           "line": {
            "color": "#2a3f5f"
           }
          },
          "ternary": {
           "aaxis": {
            "gridcolor": "white",
            "linecolor": "white",
            "ticks": ""
           },
           "baxis": {
            "gridcolor": "white",
            "linecolor": "white",
            "ticks": ""
           },
           "bgcolor": "#E5ECF6",
           "caxis": {
            "gridcolor": "white",
            "linecolor": "white",
            "ticks": ""
           }
          },
          "title": {
           "x": 0.05
          },
          "xaxis": {
           "automargin": true,
           "gridcolor": "white",
           "linecolor": "white",
           "ticks": "",
           "title": {
            "standoff": 15
           },
           "zerolinecolor": "white",
           "zerolinewidth": 2
          },
          "yaxis": {
           "automargin": true,
           "gridcolor": "white",
           "linecolor": "white",
           "ticks": "",
           "title": {
            "standoff": 15
           },
           "zerolinecolor": "white",
           "zerolinewidth": 2
          }
         }
        },
        "title": {
         "text": "What characterizes chains?"
        },
        "xaxis": {
         "anchor": "y",
         "domain": [
          0,
          1
         ],
         "title": {
          "text": "Number of establishments"
         }
        },
        "yaxis": {
         "anchor": "x",
         "domain": [
          0,
          1
         ],
         "title": {
          "text": "Number of seats"
         }
        }
       }
      },
      "text/html": [
       "<div>                            <div id=\"6959ccc5-983e-402d-8f6d-bbdc701a0c84\" class=\"plotly-graph-div\" style=\"height:525px; width:100%;\"></div>            <script type=\"text/javascript\">                require([\"plotly\"], function(Plotly) {                    window.PLOTLYENV=window.PLOTLYENV || {};                                    if (document.getElementById(\"6959ccc5-983e-402d-8f6d-bbdc701a0c84\")) {                    Plotly.newPlot(                        \"6959ccc5-983e-402d-8f6d-bbdc701a0c84\",                        [{\"hovertemplate\":\"avg_seat=%{x}<br>num_of_establish=%{y}<extra></extra>\",\"legendgroup\":\"\",\"marker\":{\"color\":\"#636efa\",\"symbol\":\"circle\"},\"mode\":\"markers\",\"name\":\"\",\"showlegend\":false,\"x\":[6.0,45.0,180.0,7.0,18.0,41.0,115.0,45.0,37.0,204.0,105.0,97.0,3.0,15.0,13.0,11.0,15.0,159.0,71.5,211.0,12.0,35.0,11.0,5.0,2.0,122.0,15.0,12.0,115.0,41.0,42.0,16.0,3.0,64.0,105.0,21.0,14.0,12.0,46.0,1.0,7.0,29.0,36.0,13.0,4.0,24.0,16.0,2.0,25.0,28.0,26.0,24.0,10.0,17.0,1.0,20.0,3.0,20.0,21.0,23.5,21.0,23.0,4.0,7.0,49.0,181.0,6.0,13.0,4.0,42.0,32.0,32.0,218.0,5.0,46.0,118.0,3.0,25.0,25.0,23.0,65.0,36.0,12.5,21.0,8.0,26.0,182.0,13.5,20.0,29.0,1.0,42.0,40.0,26.0,20.0,46.0,118.0,24.0,37.0,66.0,43.0,21.0,20.0,46.0,102.0,47.5,2.0,39.0,132.0,16.0,17.666666666666668,11.0,12.0,12.0,20.333333333333332,87.0,2.0,18.375,23.0,7.0,29.0,6.0,10.0,17.333333333333332,16.0,1.0,40.5,4.0,69.0,17.0,24.0,43.0,23.0,14.0,13.0,9.0,20.0,13.0,13.0,45.0,160.0,27.0,90.0,3.0,62.0,26.0,8.0,59.0,24.0,17.0,26.5,12.0,155.5,194.5,165.0,5.0,47.333333333333336,19.0,12.0,38.0,37.0,35.0,31.0,21.88888888888889,43.0,46.5,20.0,13.0,7.5,16.5,7.0,1.0,35.0,44.0,25.5,18.0,43.0,13.0,13.0,64.0,19.0,7.5,4.0,31.0,7.0,25.0,12.0,5.0,141.0,19.0,113.0,18.0,111.0,23.0,164.33333333333334,216.0,3.0,1.0,107.0,11.0,92.0,103.0,28.0,42.0,118.0,43.0,46.0,41.0,140.0,64.0,137.0,125.0,86.0,84.0,81.0,40.0,67.0,124.0,109.0,31.0,72.0,142.0,87.0,48.0,137.0,63.0,49.0,89.0,109.0,118.0,70.0,47.0,77.0,67.0,149.0,105.0,48.0,144.0,21.0,27.0,96.0,23.333333333333332,42.0,65.5,120.0,27.0,12.0,37.0,69.5,13.0,13.0,1.0,13.0,23.0,16.0,39.0,19.0,117.0,24.0,14.5,6.0,136.0,26.0,4.0,3.0,181.0,162.0,62.0,39.5,225.0,12.666666666666666,33.0,20.0,53.5,161.0,145.0,30.5,18.0,31.0,24.5,47.0,3.0,15.0,17.0,16.0,47.0,10.0,70.0,65.875,117.0,119.0,106.0,146.0,161.0,127.0,89.0,219.0,45.0,45.0,100.0,123.0,134.0,70.0,31.0,69.0,17.0,92.0,38.0,22.0,10.0,22.0,33.0,26.0,44.0,112.0,23.0,122.5,170.0,12.0,177.0,20.0,99.0,43.0,34.0,6.0,95.0,20.5,7.5,133.0,89.0,7.0,20.0,32.0,21.0,64.0,18.0,28.5,146.0,46.0,33.0,161.0,18.0,25.0,28.0,13.0,14.0,27.0,11.0,20.0,26.0,143.0,39.0,24.5,5.0,13.0,45.0,33.0,14.5,29.0,24.0,12.0,2.0,29.0,7.0,8.0,24.5,36.0,39.0,13.0,12.0,13.0,10.0,29.0,39.0,47.0,37.9,107.0,32.0,36.0,74.0,42.0,6.0,23.0,19.0,98.0,112.0,135.0,226.0,61.5,167.0,228.0,200.0,66.0,78.0,42.0,21.0,194.0,22.0,14.0,34.0,20.0,36.0,208.0,37.0,24.0,22.0,31.0,22.0,108.25,124.0,16.333333333333332,18.0,6.0,35.0,8.0,29.0,5.0,2.0,18.2,21.0,32.333333333333336,44.0,21.0,27.0,19.0,36.0,16.0,36.0,14.0,84.0,19.0,31.0,96.0,18.0,12.0,117.0,8.0,16.5,19.0,35.0,161.0,77.0,16.0,32.0,19.0,51.666666666666664,202.0,177.0,25.0,185.0,41.0,6.0,49.0,18.0,17.0,5.0,68.0,21.0,73.0,44.0,40.0,26.0,12.0,114.0,4.0,125.0,17.0,16.666666666666668,29.0,10.666666666666666,28.0,11.5,111.0,197.5,31.0,13.0,36.0,1.0,40.0,31.0,49.0,62.0,43.0,25.0,19.0,46.0,13.0,36.0,6.0,1.0,33.0,31.0,5.0,45.0,18.0,8.0,20.5,18.0,2.0,14.0,14.0,2.0,17.5,7.0,26.333333333333332,70.0,190.0,157.0,95.0,11.5,19.0,130.0,20.0,69.0,16.0,20.0,203.0,95.0,40.0,12.333333333333334,3.0,11.0,22.0,5.0,29.0,7.0,24.0,4.0,12.0,25.0,28.0,14.0,14.0,20.0,13.0,7.0,22.0,68.0,28.0,33.0,42.0,23.0,6.0,26.0,13.0,21.5,22.333333333333332,2.0,19.0,25.0,27.5,34.0,15.0,23.0,42.0,24.0,19.0,24.0,28.0,13.0,126.0,7.0,16.0,118.0,15.5,16.5,83.0,7.0,20.0,16.0,19.0,6.0,24.0,41.0,40.0,17.0,10.0,6.0,18.0,22.5,3.0,33.0,15.6,10.0,11.0,23.0,19.0,39.0,109.5,24.0,48.0,20.0,11.0,41.0,2.0,2.0,44.0,43.0,136.0,67.0,44.0,8.0,15.5,21.0,86.0,38.0,75.0,81.5,103.5,84.0,13.0,27.0,18.5,1.0,14.0,25.0,12.5,39.0,23.0,16.0,36.0,29.0,11.0,39.0,14.0,15.0,45.0,33.0,22.5,17.0,1.0,22.0,77.0,63.6,47.0,142.0,48.0,76.0,31.0,37.0,49.0,43.0,98.0,95.0,109.0,48.0,87.0,148.0,47.0,49.0,49.0,42.0,36.0,102.0,117.0,91.0,44.0,40.0,31.0,100.0,29.0,11.0,21.0,8.0,25.5,14.0,8.5,16.0,139.0,37.5,33.0,9.0,26.0,29.0,46.0,15.0,15.0,26.0,126.5,4.0,24.5,101.0,28.5,49.0,27.0,99.0,33.0,133.0,28.0,16.0,33.0,17.0,106.5,4.0,24.0,21.0,32.0,5.0,15.0,205.0,33.0,9.0,80.0,205.0,190.0,142.0,12.0,34.0,9.0,38.0,122.0,20.5,4.0,21.666666666666668,9.0,45.0,42.0,8.0,88.5,4.0,29.0,13.0,2.0,78.0,9.0,15.5,18.0,82.0,6.0,3.0,22.0,38.0,35.0,49.0,12.0,107.0,25.0,27.0,21.0,21.0,17.0,25.0,9.0,16.0,16.0,15.0,29.5,21.0,27.0,28.0,47.0,20.0,20.0,191.0,6.0,49.0,160.5,36.0,7.0,18.0,33.0,22.0,1.0,22.0,28.0,7.5,37.0,26.0,1.0,4.0,22.0,36.0,93.0,8.0,9.0,118.0,85.0,44.0,26.5,103.0,19.0,10.0,44.0,46.0,16.0,40.0,21.0,65.33333333333333,80.0,41.0,11.0,14.0,44.0,23.0,92.5,15.0,3.0,11.0,15.0,11.5,45.0,10.0,117.0,35.0,28.0,5.0,24.0,6.0,2.0,48.0,35.0,27.5,27.0,39.0,27.0,38.0,28.0,26.0,13.5,35.0,49.0,37.0,32.0,10.0,3.0,17.0,10.0,3.0,41.0,45.0,84.0,22.0,51.333333333333336,49.5,42.0,145.0,106.0,39.0,38.0,43.0,36.0,45.0,16.5,155.0,18.0,21.666666666666668,9.0,13.0,47.0,164.0,194.0,19.5,6.0,11.0,1.0,1.0,35.0,41.5,18.0,3.0,32.0,55.5,23.0,105.0,46.0,99.0,4.0,4.0,18.0,37.0,20.0,100.5,20.0,29.5,13.666666666666666,21.5,92.0,11.6,18.583333333333332,2.0,1.0,44.0,167.0,127.0,130.0,39.0,32.0,89.0,3.0,19.0,192.0,11.333333333333334,117.0,6.0,40.0,48.0,10.0,17.0,19.0,31.0,3.0,16.0,20.0,17.4,18.0,18.0,11.0,113.66666666666667,133.0,194.0,94.0,18.0,144.0,2.0,25.0,7.0,27.0,22.0,12.0,13.0,73.0,119.0,142.0,108.5,21.0,65.0,114.0,20.0,19.0,122.0,36.5,42.0,35.0,9.0,48.0,145.5,33.0,32.0,24.0,10.0,46.0,13.0,19.0,15.0,48.0,45.0,26.0,10.0,42.0,28.0,32.0,139.0,138.0,42.0,95.0,104.0,24.0,128.0,121.0,126.0,91.0,38.0,74.0,37.0,38.0,44.0,88.0,25.0,115.0,38.0,47.0,44.0,29.0,38.0,11.0,5.0,31.0,140.0,130.0,71.0,80.0,76.5,109.0,44.0,92.0,33.0,106.0,83.0,34.0,45.0,35.0,93.0,113.0,48.0,42.0,35.0,118.0,2.0,27.0,48.0,7.0,27.0,16.0,27.0,43.0,1.0,1.0,25.0,19.0,29.0,13.0,12.0,23.0,34.0,12.0,1.0,4.0,23.0,1.0,8.0,102.0,8.5,7.0,41.0,25.375,9.0,19.0,2.0,29.0,18.0,47.25,43.0,22.4,29.0,37.0,17.0,10.0,171.0,77.0,15.0,23.0,21.0,80.0,12.0,32.0,26.0,11.0,16.5,67.0,88.0,36.0,112.0,46.0,12.5,17.0,1.0,16.0,18.0,10.0,19.0,49.0,6.0,3.0,19.0,20.75,21.75,64.0,12.5,33.0,6.0,152.0,9.0,6.0,184.0,45.0,34.0,25.0,39.0,199.0,119.0,27.0,19.0,172.0,178.0,8.0,12.0,18.5,24.0,10.0,33.357142857142854,26.0,121.0,44.0,108.0,145.0,42.55555555555556,48.0,28.0,36.0,40.0,44.0,23.0,21.0,24.0,1.0,9.0,4.0,10.0,102.0,16.0,47.0,12.0,18.5,22.0,32.0,13.0,23.0,22.0,217.0,11.0,125.0,14.0,17.0,182.0,49.0,42.5,85.0,20.0,72.5,35.5,96.0,49.0,12.0,12.0,38.0,25.666666666666668,15.0,15.0,12.0,17.5,4.0,32.0,6.0,24.0,26.0,23.0,12.0,59.0,41.0,19.5,22.0,72.5,37.0,43.0,12.0,17.0,25.0,26.0,8.5,14.333333333333334,4.0,17.0,46.0,4.0,42.0,25.0,16.0,8.0,10.0,10.0,1.0,1.0,29.0,16.0,23.0,4.0,6.0,225.0,14.0,10.0,24.0,23.0,38.0,45.0,12.0,15.0,8.0,4.0,37.0,2.0,27.0,3.0,15.0,18.0,24.0,8.0,5.0,4.0,28.0,52.0,7.0,20.0,1.0,18.0,60.0,47.0,39.0,48.0,34.0,88.0,103.0,63.0,2.5,27.0,4.0,8.0,29.0,29.0,42.0,23.0,25.0,80.0,16.0,45.0,15.0,3.0,78.0,21.0,39.0,36.0,19.666666666666668,46.0,18.0,176.0,3.0,46.0,45.0,34.0,20.0,24.0,11.0,65.0,22.0,129.0,42.0,39.0,21.0,6.0,19.0,37.0,8.0,11.5,20.5,65.4,39.0,41.0,19.0,21.0,77.5,24.0,35.0,111.0,16.0,17.0,24.0,203.0,19.5,181.0,212.0,29.0,11.333333333333334,85.0,49.0,27.0,12.0,10.0,47.0,5.0,27.0,24.0,17.5,13.0,9.0,24.0,7.0,4.0,7.0,14.0,13.0,27.0,13.666666666666666,18.0,14.0,18.0,15.0,19.0,4.0,14.0,23.0,15.0,10.5,99.0,44.0,25.0,37.0,27.0,11.0,3.0,25.0,25.5,21.0,27.0,16.5,13.0,28.0,7.0,23.0,41.0,182.0,91.0,125.0,58.5,72.0,48.0,26.0,22.0,22.0,5.0,29.0,29.0,88.0,38.0,41.0,32.0,21.5,19.0,47.0,4.0,4.0,16.0,15.0,21.0,34.0,26.0,22.0,20.0,7.0,9.9,27.0,25.0,9.666666666666666,2.0,6.0,9.0,124.0,42.0,31.0,20.0,4.0,112.0,6.0,24.0,42.0,3.0,15.5,21.0,2.0,22.0,22.0,141.0,27.5,43.0,26.0,22.0,26.0,162.0,10.0,37.0,23.0,36.0,9.0,71.5,31.0,10.0,158.0,22.0,91.0,41.5,33.0,38.0,6.0,223.5,11.0,18.0,26.0,35.5,48.0,21.0,12.0,42.0,20.0,17.0,18.0,19.0,82.0,36.0,34.0,15.0,40.0,46.0,62.0,20.0,19.0,137.0,1.0,10.5,175.0,18.0,22.0,14.0,9.0,48.0,14.0,27.0,137.0,3.0,87.0,16.0,22.0,153.0,13.0,104.0,147.0,96.84615384615384,78.0,88.0,77.0,138.0,67.0,47.0,98.0,35.0,16.5,71.0,31.0,36.0,124.0,141.0,43.0,145.0,66.0,63.0,110.0,80.0,104.0,105.0,135.0,91.0,95.0,139.0,113.0,103.0,38.0,67.0,37.0,113.0,107.0,67.0,14.0,115.0,112.0,147.0,108.0,112.0,123.0,64.0,93.0,99.0,33.0,44.0,89.0,81.0,140.0,79.0,67.0,140.0,86.0,144.0,85.0,61.0,112.0,87.0,177.0,91.0,195.0,227.0,196.0,142.0,144.0,21.0,67.0,43.0,123.0,7.0,67.0,13.5,49.0,32.0,27.0,33.0,35.0,18.0,14.0,2.0,17.5,13.0,32.8,13.0,148.5,27.0,1.0,8.0,142.0,8.0,66.0,222.0,42.0,4.0,40.0,22.0,32.0,17.0,12.0,57.0,26.0,18.0,23.0,14.0,9.0,18.0,15.0,14.0,25.0,8.0,8.5,28.0,1.0,7.0,45.0,19.0,43.0,103.0,35.0,15.0,18.0,41.0,28.5,47.0,27.0,11.5,10.0,16.0,9.0,36.0,45.0,42.0,39.0,10.0,12.5,107.0,1.0,25.0,229.0,24.5,21.0,109.0,26.5,26.0,158.0,29.0,15.0,10.0,28.0,17.0,29.0,13.5,46.0,147.0,9.0,38.0,16.0,42.0,3.0,41.0,110.0,1.0,18.0,101.0,45.0,126.0,29.0,49.0,29.0,14.0,16.0,4.0,16.0,26.0,45.0,7.0,15.0,14.0,28.0,143.0,43.0,15.0,109.0,28.0,26.0,44.5,45.0,25.0,2.0,15.0,177.0,16.0,7.0,29.0,83.5,27.5,49.5,36.0,78.0,28.0,21.5,38.0,25.0,45.0,25.0,20.0,109.0,19.0,195.0,216.0,125.0,118.0,35.0,44.0,34.0,102.0,32.0,18.0,84.0,41.0,102.0,18.5,4.0,16.0,21.0,23.0,21.0,19.5,20.0,8.0,4.0,45.0,10.0,35.8,18.0,23.0,6.0,27.0,7.0,23.0,2.0,44.0,23.0,18.333333333333332,1.0,99.0,49.0,25.5,18.0,24.0,13.0,18.0,117.0,9.0,25.0,140.0,111.0,43.0,12.333333333333334,79.0,29.0,4.0,9.0,9.666666666666666,13.0,40.0,29.0,1.0,36.0,23.0,5.0,29.0,41.666666666666664,49.0,111.0,43.0,7.0,45.0,31.0,5.0,6.0,32.0,22.0,36.0,48.0,49.0,7.0,33.0,40.0,15.0,160.0,25.333333333333332,3.0,37.666666666666664,22.0,12.0,62.0,67.5,91.0,29.0,9.0,14.5,6.0,27.0,17.5,12.0,14.0,12.8,23.0,23.0,20.0,9.0,1.0,17.0,28.0,24.0,22.0,47.0,49.0,5.0,23.5,24.0,19.0,22.0,33.0,32.0,69.0,23.0,23.0,15.0,94.0,14.0,30.0,41.5,82.0,48.0,42.0,11.0,28.0,3.0,42.0,28.0,20.0,10.0,40.0,21.0,19.0,25.0,39.333333333333336,27.666666666666668,21.0,28.0,21.0,45.0,199.0,138.0,23.428571428571427,29.0,3.0,13.0,17.0,28.0,12.0,5.0,14.0,18.5,24.666666666666668,19.0,22.0,6.0,27.0,15.0,41.0,6.0,5.0,19.0,16.0,24.0,14.0,15.0,19.0,27.0,24.0,11.0,7.0,17.0,20.0,12.0,10.0,12.0,4.0,6.0,18.0,5.0,14.0,3.0,14.0,6.0,11.0,11.333333333333334,17.0,25.0,13.0,3.0,40.0,24.5,94.0,168.0,11.0,118.0,20.0,39.5,90.0,5.0,16.5,25.0,12.75,17.5,48.0,26.0,106.0,117.0,12.0,15.0,22.0,17.0,41.0,36.4,37.0,47.0,84.0,42.0,8.0,48.0,119.0,11.5,7.0,22.0,28.0,158.0,5.5,9.0,12.0,9.5,16.0,24.0,25.0,23.0,16.0,22.0,4.0,46.0,18.5,36.0,17.0,42.5,17.0,14.0,25.5,28.0,49.0,20.0,22.0,47.0,46.0,14.0,34.5,29.0,12.0,27.0,13.0,39.0,27.0,27.0,11.0,19.0,5.333333333333333,142.0,74.0,24.0,41.0,11.0,1.0,32.0,48.0,29.0,25.0,11.0,34.0,48.0,21.0,24.0,23.0,25.0,32.0,46.0,12.0,17.0,13.0,39.0,33.0,3.0,18.0,17.0,43.0,20.0,13.0,4.0,28.0,17.0,11.0,27.0,2.0,86.5,16.0,40.0,42.0,27.0,29.0,22.0,20.0,26.0,15.0,60.666666666666664,40.0,17.0,134.0,84.0,69.0,88.0,19.0,182.0,96.0,46.0,205.0,18.0,9.0,76.0,12.0,27.0,48.0,4.0,9.0,48.0,66.0,11.5,16.0,70.0,26.0,16.0,17.5,17.0,15.0,29.0,13.0,3.0,181.0,20.0,1.0,44.0,5.0,17.0,20.0,13.0,22.0,22.5,2.0,35.0,23.0,37.0,11.5,39.0,8.0,21.0,32.0,34.0,21.0,2.0,2.0,22.0,3.0,62.0,17.0,28.5,25.0,33.0,17.5,91.0,35.0,17.0,48.0,3.0,13.0,24.0,27.0,130.0,106.0,65.0,28.0,95.0,148.0,22.5,12.0,109.0,18.5,111.0,120.0,43.5,27.0,46.0,26.0,126.0,10.0,36.0,33.0,3.0,35.0,24.0,40.0,45.0,26.0,47.0,18.0,10.0,37.0,21.0,11.0,24.333333333333332,13.0,222.0,209.0,170.0,151.0,6.0,20.0,45.0,49.0,22.5,23.5,33.0,44.0,24.0,12.5,31.0,203.0,187.0,199.0,218.0,189.0,16.0,31.0,202.0,206.0,90.0,42.5,46.666666666666664,45.0,9.5,13.0,3.0,16.0,7.5,15.0,2.0,13.5,17.0,31.0,17.0,88.0,18.0,17.0,44.0,24.0,49.0,12.0,3.0,35.0,39.0,43.0,11.0,35.0,105.0,142.0,80.0,25.0,32.0,31.0,44.0,39.0,36.0,16.0,4.0,36.0,20.0,26.0,15.0,11.0,38.0,3.0,11.0,32.0,7.0,39.0,36.0,12.0,18.0,7.0,19.0,3.0,36.0,47.0,45.0,17.0,3.0,7.0,45.0,25.0,22.0,34.0,4.0,29.0,40.0,43.0,10.0,13.0,2.0,31.0,9.0,19.0,42.0,19.0,8.0,17.0,21.0,18.0,42.0,28.0,27.0,32.0,108.0,13.0,7.0,14.0,27.0,11.0,3.0,17.0,40.0,28.0,17.0,41.0,46.0,45.0,7.0,29.0,49.0,45.0,4.0,14.0,46.0,43.0,2.0,32.0,27.0,37.0,44.0,26.0,6.0,10.0,4.0,44.0,29.0,15.0,13.0,27.0,38.0,46.0,12.0,49.0,39.0,29.5,26.0,31.0,44.0,36.0,10.0,25.5,44.0,18.0,8.0,22.0,2.0,16.419354838709676,14.0,25.0,39.0,14.0,19.0,23.0,12.0,9.0,24.0,23.0,1.0,16.0,21.0,26.0,21.0,4.0,16.0,18.0,9.0,17.0,28.0,16.0,5.0,20.0,7.0,24.0,5.0,27.0,17.0,29.0,19.0,12.0,7.0,20.0,9.0,7.0,16.0,15.0,24.0,10.0,10.0,7.0,22.5,10.0,3.0,24.0,12.0,23.0,37.0,29.0,4.0,23.0,10.0,1.0,7.0,25.0,13.0,7.0,8.0,6.0,5.0,24.0,5.0,11.0,12.0,13.0,3.0,38.0,21.0,35.0,6.0,49.0,10.0,48.0,15.0,6.0,27.0,9.0,5.0,2.0,47.0,18.0,45.0,37.0,23.0,15.0,4.0,5.0,7.666666666666667,9.0,31.0,4.0,29.0,22.545454545454547,37.0,28.0,19.0,11.666666666666666,13.0,32.0,7.5,1.0,17.0,48.0,40.333333333333336,31.0,5.0,24.0,5.5,21.0,24.0,19.5,3.0,9.0,6.0,18.0,11.0,2.0,102.0,14.333333333333334,3.0,45.0,19.0,8.0,10.0,69.5,13.666666666666666,16.5,17.0,42.0,33.0,19.0,29.0,16.0,14.333333333333334,21.0,18.0,45.333333333333336,110.0,47.0,15.0,31.0,13.0,34.0,13.0,32.0,44.0,38.0,17.0,119.0,42.0,24.0,5.0,36.0,36.0,141.0,48.0,33.0,39.0,18.0,122.0,127.0,44.0,76.5,35.5,18.0,5.0,103.25,28.0,16.333333333333332,21.0,13.666666666666666,22.0,19.0,14.0,1.0,120.0,211.0,39.5,22.0,7.0,137.0,31.0,23.0,40.0,9.0,4.0,43.0,27.0,186.0,45.0,177.0,14.0,16.0,20.0,38.0,21.0,8.0,67.0,22.5,27.5,17.0,11.0,74.0,178.0,110.6,67.5,26.5,8.0,78.0,195.0,77.0,21.0,107.0,27.0,16.0,19.0,45.0,39.0,25.0,33.0,136.0,41.0,7.0,191.0,36.0,39.0,30.5,8.5,14.0,29.0,44.0,26.72340425531915,41.0,27.0,4.0,10.0,5.0,7.0,17.0,7.0,59.0,14.0,134.0,20.0,164.0,18.0,25.0,29.4,26.0,23.0,10.5,8.0,18.0,31.0,140.0,3.0,19.0,11.0,45.0,24.0,18.0,36.0,9.0,159.0,119.0,82.0,35.0,194.0,29.0,5.0,25.0,155.0,8.5,9.0,10.0,35.0,101.5,107.0,43.0,18.0,17.0,28.0,28.0,40.0,28.333333333333332,23.0,38.0,18.0,88.0,66.0,11.0,19.0,13.0,29.0,41.0,16.0,49.0,27.0,14.5,67.0,9.0,78.0,9.0,36.0,21.0,10.5,16.333333333333332,9.0,48.0,17.0,114.0,10.5,1.0,224.0,113.0,44.5,43.46153846153846,34.0,5.0,9.0,49.0,7.0,25.0,41.0,12.0,37.0,15.0,203.0,110.0,29.0,4.0,2.0,123.0,43.0,11.0,17.666666666666668,28.0,28.0,11.0,145.0,96.0,145.0,69.0,2.0,32.5,22.0,9.0,5.0,21.0,227.0,12.5,10.0,18.5,29.25,33.5,38.0,2.0,168.0,15.0,18.0,22.0,103.5,44.0,5.0,8.0,1.0,26.0,13.5,68.0,3.0,44.0,10.0,143.0,57.0,79.0,13.5,6.0,39.0,10.0,3.0,42.857142857142854,45.0,12.0,64.0,41.0,29.0,216.0,23.0,7.0,14.666666666666666,4.0,14.0,21.0,20.0,2.0,39.5,18.0,11.0,24.166666666666668,26.0,31.0,23.0,2.0,27.0,20.5,37.0,36.0,20.2,48.0,2.0,41.0,8.0,35.0,9.0,28.0,160.0,129.0,9.0,14.0,27.0,29.0,43.0,43.0,33.0,22.0,10.0,12.333333333333334,177.0,72.0,23.0,46.0,10.0,17.0,48.0,135.0,114.0,38.0,18.0,9.0,16.416666666666668,10.0,26.0,4.0,23.0,20.0,11.0,7.0,10.5,19.0,14.0,37.25,39.5,49.0,44.0,42.0,33.0,42.0,122.0,35.0,37.0,49.0,49.0,45.0,111.0,49.0,40.0,39.0,36.0,42.0,135.0,3.0,5.0,32.0,45.0,40.0,64.0,43.0,74.0,36.0,21.0,28.0,16.666666666666668,2.0,24.0,22.0,11.0,26.0,25.0,16.0,29.0,5.0,3.0,18.0,6.0,28.0,2.0,29.0,41.0,94.0,61.0,53.5,19.0,10.0,16.0,98.0],\"xaxis\":\"x\",\"y\":[1,1,1,1,1,1,1,1,1,1,1,1,1,1,1,2,1,1,2,1,1,1,1,1,1,1,1,1,1,1,1,1,1,1,1,1,1,1,1,1,1,1,1,1,1,1,1,1,1,1,1,1,1,2,1,2,1,1,1,2,1,1,1,2,1,1,1,1,1,1,1,1,1,1,1,1,1,1,2,1,1,1,2,1,1,1,2,2,2,1,1,1,1,1,2,1,1,1,2,5,1,1,1,1,1,2,1,1,1,1,3,1,1,1,3,1,1,8,1,1,1,1,1,3,1,1,2,1,1,1,1,1,1,2,2,1,1,2,1,1,1,1,1,1,1,1,1,3,1,2,2,1,2,2,1,1,3,1,1,1,1,2,1,9,1,2,1,2,2,4,1,1,1,1,2,1,1,1,1,1,1,2,1,1,2,1,1,1,1,1,1,1,1,1,3,1,1,1,1,2,1,1,1,1,1,1,1,1,1,1,1,1,1,1,1,1,1,1,1,1,1,1,1,1,1,1,1,1,1,1,1,1,1,1,1,1,1,1,2,2,1,3,1,2,2,1,1,1,2,2,1,1,1,1,2,1,1,2,1,2,2,1,3,1,1,2,1,1,2,1,3,1,1,2,2,1,2,1,1,2,1,1,1,1,1,1,1,1,8,1,1,1,1,1,1,1,1,1,1,1,1,1,1,1,1,1,2,1,1,1,1,2,1,1,1,1,2,1,1,1,3,1,1,1,1,1,2,2,1,1,1,1,2,1,1,3,2,1,1,1,1,1,1,3,1,2,1,1,7,1,1,1,2,1,1,1,1,6,1,1,1,1,1,1,2,2,1,1,1,1,1,1,1,1,1,10,1,1,1,1,1,1,1,1,1,1,1,1,2,1,1,1,1,1,1,1,1,1,5,1,1,1,1,1,1,1,1,1,4,1,3,3,1,1,1,3,1,1,5,1,3,1,1,2,1,1,1,2,1,1,1,1,1,2,1,1,1,2,1,1,1,1,1,1,1,3,1,1,1,1,2,1,1,1,1,1,1,1,2,1,1,1,1,1,1,1,1,3,1,3,1,2,1,2,1,1,1,1,1,1,1,1,1,1,1,1,1,1,1,1,1,1,1,1,1,1,2,1,1,1,1,1,2,1,3,1,1,1,1,2,1,1,1,1,1,1,1,1,1,15,1,1,1,1,1,1,1,1,1,1,1,1,1,1,1,2,1,1,1,1,1,1,1,2,1,4,3,1,1,1,2,1,1,1,1,1,1,1,1,1,1,1,1,1,2,4,1,1,1,1,1,1,1,1,1,1,1,1,1,4,1,2,5,1,2,1,2,1,2,1,1,1,1,1,1,2,1,1,1,1,2,2,2,1,1,1,1,2,2,1,1,2,2,1,1,1,2,1,1,2,1,1,1,1,1,1,1,1,2,2,1,1,1,10,1,1,1,1,1,1,1,1,1,1,1,1,1,1,1,1,1,1,1,1,1,1,1,1,1,1,1,1,1,1,2,1,2,1,1,2,1,1,1,1,1,2,1,1,2,1,2,1,2,1,1,1,1,1,1,1,1,1,2,1,1,1,1,1,1,1,1,1,1,1,1,1,1,1,1,1,1,2,1,6,1,1,1,1,2,1,1,1,1,2,1,2,1,1,1,1,1,1,1,1,1,1,2,1,1,1,1,1,1,1,1,1,2,1,1,1,1,1,1,1,1,1,2,2,1,1,1,1,1,1,1,2,1,1,1,1,1,1,1,1,1,1,1,2,2,1,2,1,2,1,1,1,1,3,1,1,1,1,1,1,2,1,1,2,1,2,1,1,1,1,1,1,1,1,1,1,1,2,1,1,1,2,1,1,2,1,1,1,1,1,1,2,1,1,1,1,1,1,3,2,1,1,1,1,1,1,1,1,2,1,1,3,1,1,1,1,1,2,1,1,1,1,1,2,1,1,1,2,1,1,1,1,1,1,1,1,1,2,1,2,3,2,1,5,12,1,1,1,1,1,1,2,1,1,1,1,1,3,1,1,1,1,1,2,1,1,1,1,2,5,1,1,1,3,1,1,2,1,1,1,1,1,1,1,1,1,1,1,1,2,1,1,2,1,1,1,2,1,1,1,1,2,3,1,1,1,1,1,1,1,1,1,1,1,1,1,1,1,1,1,1,1,1,1,1,1,1,1,1,1,1,1,1,1,1,1,1,1,1,1,1,1,1,1,1,1,1,2,1,1,1,1,1,1,1,1,1,1,1,1,1,1,1,1,1,1,2,1,1,2,1,1,1,1,1,1,2,1,1,2,1,1,1,1,1,1,1,2,1,1,8,1,1,1,1,1,4,1,5,1,1,1,1,1,1,1,1,1,1,1,2,1,1,2,1,1,2,1,1,2,1,1,1,1,1,1,1,1,1,1,4,4,2,2,1,1,1,1,1,2,1,1,1,1,1,1,1,1,2,1,1,1,2,2,1,14,1,1,1,1,1,9,1,1,1,1,1,1,1,1,1,1,1,1,1,1,1,1,2,1,1,1,1,1,1,2,1,1,1,1,1,2,1,1,2,2,1,1,1,2,1,3,1,1,1,2,1,1,1,1,1,1,1,3,1,2,1,2,1,1,1,1,1,1,2,3,1,1,1,1,1,1,1,1,1,1,1,1,1,1,1,1,1,1,1,1,1,1,1,1,1,1,1,1,1,1,1,1,1,1,6,1,1,1,1,2,1,1,1,1,2,1,1,1,1,2,1,1,2,1,1,1,1,1,1,1,1,1,1,1,1,1,1,1,1,1,3,1,1,1,1,1,1,1,1,1,1,1,1,1,1,1,1,1,1,1,2,2,2,5,1,2,1,1,4,1,2,1,1,1,1,2,2,1,1,1,3,3,1,1,1,1,1,1,1,1,2,1,1,1,1,1,1,1,1,1,6,1,1,1,1,1,1,1,1,2,2,1,1,1,1,2,1,1,1,2,1,1,2,1,1,1,1,1,1,1,1,2,1,1,1,1,1,2,1,1,2,1,1,1,2,1,1,1,1,1,1,1,1,1,2,1,2,10,1,1,3,1,1,1,1,1,2,1,1,1,1,1,1,1,2,1,1,1,1,1,2,1,1,1,1,1,1,1,1,1,1,2,1,1,1,1,1,2,1,1,1,2,1,1,1,2,1,1,1,1,1,1,1,1,1,1,1,1,1,1,1,1,1,2,1,2,1,1,1,1,2,1,4,1,1,1,1,1,1,1,1,2,1,13,1,1,1,1,1,1,1,1,2,1,1,1,1,1,1,1,1,1,1,1,1,1,1,1,1,1,1,1,1,1,1,1,1,1,1,1,1,1,1,1,1,1,1,1,1,1,1,1,1,1,1,1,1,1,1,1,1,1,1,1,1,1,1,1,1,1,1,1,1,1,1,2,1,1,1,1,1,1,1,1,2,1,5,1,2,1,1,1,1,1,1,1,1,1,1,1,1,1,1,3,1,1,2,1,1,2,1,1,1,1,2,1,1,1,1,1,1,1,1,1,1,1,2,1,2,2,1,1,1,2,2,1,1,2,2,1,1,1,1,2,1,1,2,1,1,1,1,1,1,1,2,2,1,1,1,1,1,1,1,1,1,1,1,2,1,1,1,1,1,1,1,1,1,1,1,1,3,1,1,1,1,1,1,1,2,2,1,1,1,1,1,1,2,2,2,2,4,1,2,1,2,1,1,1,1,1,1,1,1,1,1,1,1,1,1,1,1,1,1,1,1,2,1,1,1,2,1,2,1,1,1,1,2,5,1,1,1,2,1,1,1,1,1,3,1,1,1,2,1,1,1,1,1,1,1,1,2,1,3,1,1,1,1,3,2,1,1,1,1,1,1,1,6,1,1,1,1,1,1,1,1,1,1,1,1,1,1,1,1,1,1,3,1,3,1,1,2,2,1,1,1,12,1,1,2,1,1,5,1,1,1,1,1,1,2,1,1,1,1,1,2,1,1,3,1,1,1,1,1,2,1,1,2,2,1,1,1,1,1,1,1,1,2,1,1,1,1,1,3,3,1,1,1,1,1,1,7,1,1,1,1,1,1,1,2,2,3,1,1,1,1,1,1,1,1,1,1,1,1,1,1,1,1,1,1,1,1,1,1,1,1,1,1,1,1,1,1,1,3,3,1,1,1,1,2,2,2,1,1,1,1,2,1,2,2,1,4,2,1,1,6,1,1,1,1,1,2,5,1,1,1,1,1,1,1,4,1,1,1,1,2,1,1,2,1,1,1,1,1,1,1,1,2,1,2,2,1,1,2,1,1,1,1,1,1,2,2,1,1,1,1,1,1,1,1,1,3,1,1,1,1,1,1,1,1,1,1,1,1,1,1,1,1,1,1,1,1,1,1,1,1,1,1,1,1,1,1,1,1,1,1,1,1,2,1,1,1,2,1,1,2,1,1,3,1,1,1,1,1,1,1,1,2,1,1,1,1,1,1,1,1,1,1,1,1,2,1,1,1,1,2,1,1,1,1,1,1,2,1,1,1,1,1,1,1,2,1,1,1,2,2,1,1,2,1,1,1,1,1,1,1,1,1,2,1,1,2,1,1,3,1,1,1,1,1,2,1,1,1,2,1,2,1,1,2,1,1,4,1,1,1,1,1,2,1,1,1,2,1,1,1,1,1,1,1,1,1,3,2,1,1,1,1,1,1,1,1,2,2,1,1,1,2,1,3,1,1,1,1,1,1,2,1,1,2,3,1,2,1,1,1,2,1,1,2,1,1,1,2,12,1,1,1,1,1,1,1,1,1,1,1,1,1,1,1,1,1,1,1,1,1,1,1,1,2,1,1,1,1,1,1,1,1,1,1,1,1,1,1,1,1,1,1,1,1,1,1,1,1,1,1,1,1,1,1,1,1,2,1,1,1,1,1,1,1,1,1,1,1,1,1,1,1,1,1,1,1,1,1,1,1,1,1,1,1,1,1,1,1,1,1,1,1,1,1,1,1,1,1,1,1,1,1,1,1,1,1,1,1,1,2,1,1,1,2,1,2,1,1,1,1,1,31,1,1,1,1,1,1,1,1,1,1,1,1,1,1,1,1,1,1,1,1,1,1,1,1,1,1,1,1,2,1,1,1,1,1,1,1,1,1,1,1,1,1,2,1,1,1,1,1,1,1,1,1,1,1,1,1,1,1,1,1,1,1,1,1,1,1,1,1,1,1,1,1,1,1,1,1,1,1,1,1,1,1,1,1,1,1,1,1,3,1,1,1,1,11,1,1,1,3,1,1,2,1,1,1,3,1,1,1,2,1,1,2,1,2,2,1,1,1,1,3,1,1,2,1,2,2,3,2,2,1,2,1,1,5,3,1,1,6,1,1,1,1,1,1,1,1,1,1,1,1,1,1,1,1,1,1,1,1,1,1,1,1,1,2,2,1,1,4,1,3,1,3,2,1,1,1,1,1,2,1,1,1,1,2,1,1,1,1,1,1,1,1,1,1,1,1,2,1,1,2,2,1,2,1,1,5,2,2,2,1,1,1,1,1,1,1,1,1,1,1,1,1,1,1,1,1,1,2,2,1,2,2,47,1,1,1,1,1,1,1,1,2,1,4,1,1,1,1,5,1,1,2,1,1,1,1,1,2,1,1,2,1,1,1,1,1,2,1,1,2,1,1,1,2,1,1,3,2,1,1,2,1,1,1,1,3,1,1,1,1,1,1,1,3,1,1,1,1,1,2,4,1,1,1,1,1,2,3,1,1,1,1,2,1,1,1,2,13,1,1,1,1,2,2,1,1,1,1,1,1,1,1,1,1,1,3,3,1,1,1,1,3,1,1,1,2,1,1,1,2,1,2,1,2,4,2,1,1,1,1,1,1,2,1,1,1,1,1,2,1,1,1,1,1,3,1,2,1,1,1,1,14,1,1,2,1,1,1,1,1,6,1,4,2,1,1,2,2,1,6,1,1,1,1,1,2,1,1,10,1,1,1,1,1,1,1,2,1,1,1,1,1,1,1,1,1,2,3,1,1,1,1,1,1,1,1,1,1,2,1,12,1,1,1,1,1,1,1,2,1,1,4,2,1,1,1,1,1,1,1,1,1,1,1,1,1,1,1,1,1,1,1,1,1,1,1,1,1,1,1,2,1,3,1,1,1,1,1,1,1,1,1,1,1,1,1,1,1,3,1,1,2,1,1,1,1],\"yaxis\":\"y\",\"type\":\"scattergl\"}],                        {\"template\":{\"data\":{\"histogram2dcontour\":[{\"type\":\"histogram2dcontour\",\"colorbar\":{\"outlinewidth\":0,\"ticks\":\"\"},\"colorscale\":[[0.0,\"#0d0887\"],[0.1111111111111111,\"#46039f\"],[0.2222222222222222,\"#7201a8\"],[0.3333333333333333,\"#9c179e\"],[0.4444444444444444,\"#bd3786\"],[0.5555555555555556,\"#d8576b\"],[0.6666666666666666,\"#ed7953\"],[0.7777777777777778,\"#fb9f3a\"],[0.8888888888888888,\"#fdca26\"],[1.0,\"#f0f921\"]]}],\"choropleth\":[{\"type\":\"choropleth\",\"colorbar\":{\"outlinewidth\":0,\"ticks\":\"\"}}],\"histogram2d\":[{\"type\":\"histogram2d\",\"colorbar\":{\"outlinewidth\":0,\"ticks\":\"\"},\"colorscale\":[[0.0,\"#0d0887\"],[0.1111111111111111,\"#46039f\"],[0.2222222222222222,\"#7201a8\"],[0.3333333333333333,\"#9c179e\"],[0.4444444444444444,\"#bd3786\"],[0.5555555555555556,\"#d8576b\"],[0.6666666666666666,\"#ed7953\"],[0.7777777777777778,\"#fb9f3a\"],[0.8888888888888888,\"#fdca26\"],[1.0,\"#f0f921\"]]}],\"heatmap\":[{\"type\":\"heatmap\",\"colorbar\":{\"outlinewidth\":0,\"ticks\":\"\"},\"colorscale\":[[0.0,\"#0d0887\"],[0.1111111111111111,\"#46039f\"],[0.2222222222222222,\"#7201a8\"],[0.3333333333333333,\"#9c179e\"],[0.4444444444444444,\"#bd3786\"],[0.5555555555555556,\"#d8576b\"],[0.6666666666666666,\"#ed7953\"],[0.7777777777777778,\"#fb9f3a\"],[0.8888888888888888,\"#fdca26\"],[1.0,\"#f0f921\"]]}],\"heatmapgl\":[{\"type\":\"heatmapgl\",\"colorbar\":{\"outlinewidth\":0,\"ticks\":\"\"},\"colorscale\":[[0.0,\"#0d0887\"],[0.1111111111111111,\"#46039f\"],[0.2222222222222222,\"#7201a8\"],[0.3333333333333333,\"#9c179e\"],[0.4444444444444444,\"#bd3786\"],[0.5555555555555556,\"#d8576b\"],[0.6666666666666666,\"#ed7953\"],[0.7777777777777778,\"#fb9f3a\"],[0.8888888888888888,\"#fdca26\"],[1.0,\"#f0f921\"]]}],\"contourcarpet\":[{\"type\":\"contourcarpet\",\"colorbar\":{\"outlinewidth\":0,\"ticks\":\"\"}}],\"contour\":[{\"type\":\"contour\",\"colorbar\":{\"outlinewidth\":0,\"ticks\":\"\"},\"colorscale\":[[0.0,\"#0d0887\"],[0.1111111111111111,\"#46039f\"],[0.2222222222222222,\"#7201a8\"],[0.3333333333333333,\"#9c179e\"],[0.4444444444444444,\"#bd3786\"],[0.5555555555555556,\"#d8576b\"],[0.6666666666666666,\"#ed7953\"],[0.7777777777777778,\"#fb9f3a\"],[0.8888888888888888,\"#fdca26\"],[1.0,\"#f0f921\"]]}],\"surface\":[{\"type\":\"surface\",\"colorbar\":{\"outlinewidth\":0,\"ticks\":\"\"},\"colorscale\":[[0.0,\"#0d0887\"],[0.1111111111111111,\"#46039f\"],[0.2222222222222222,\"#7201a8\"],[0.3333333333333333,\"#9c179e\"],[0.4444444444444444,\"#bd3786\"],[0.5555555555555556,\"#d8576b\"],[0.6666666666666666,\"#ed7953\"],[0.7777777777777778,\"#fb9f3a\"],[0.8888888888888888,\"#fdca26\"],[1.0,\"#f0f921\"]]}],\"mesh3d\":[{\"type\":\"mesh3d\",\"colorbar\":{\"outlinewidth\":0,\"ticks\":\"\"}}],\"scatter\":[{\"fillpattern\":{\"fillmode\":\"overlay\",\"size\":10,\"solidity\":0.2},\"type\":\"scatter\"}],\"parcoords\":[{\"type\":\"parcoords\",\"line\":{\"colorbar\":{\"outlinewidth\":0,\"ticks\":\"\"}}}],\"scatterpolargl\":[{\"type\":\"scatterpolargl\",\"marker\":{\"colorbar\":{\"outlinewidth\":0,\"ticks\":\"\"}}}],\"bar\":[{\"error_x\":{\"color\":\"#2a3f5f\"},\"error_y\":{\"color\":\"#2a3f5f\"},\"marker\":{\"line\":{\"color\":\"#E5ECF6\",\"width\":0.5},\"pattern\":{\"fillmode\":\"overlay\",\"size\":10,\"solidity\":0.2}},\"type\":\"bar\"}],\"scattergeo\":[{\"type\":\"scattergeo\",\"marker\":{\"colorbar\":{\"outlinewidth\":0,\"ticks\":\"\"}}}],\"scatterpolar\":[{\"type\":\"scatterpolar\",\"marker\":{\"colorbar\":{\"outlinewidth\":0,\"ticks\":\"\"}}}],\"histogram\":[{\"marker\":{\"pattern\":{\"fillmode\":\"overlay\",\"size\":10,\"solidity\":0.2}},\"type\":\"histogram\"}],\"scattergl\":[{\"type\":\"scattergl\",\"marker\":{\"colorbar\":{\"outlinewidth\":0,\"ticks\":\"\"}}}],\"scatter3d\":[{\"type\":\"scatter3d\",\"line\":{\"colorbar\":{\"outlinewidth\":0,\"ticks\":\"\"}},\"marker\":{\"colorbar\":{\"outlinewidth\":0,\"ticks\":\"\"}}}],\"scattermapbox\":[{\"type\":\"scattermapbox\",\"marker\":{\"colorbar\":{\"outlinewidth\":0,\"ticks\":\"\"}}}],\"scatterternary\":[{\"type\":\"scatterternary\",\"marker\":{\"colorbar\":{\"outlinewidth\":0,\"ticks\":\"\"}}}],\"scattercarpet\":[{\"type\":\"scattercarpet\",\"marker\":{\"colorbar\":{\"outlinewidth\":0,\"ticks\":\"\"}}}],\"carpet\":[{\"aaxis\":{\"endlinecolor\":\"#2a3f5f\",\"gridcolor\":\"white\",\"linecolor\":\"white\",\"minorgridcolor\":\"white\",\"startlinecolor\":\"#2a3f5f\"},\"baxis\":{\"endlinecolor\":\"#2a3f5f\",\"gridcolor\":\"white\",\"linecolor\":\"white\",\"minorgridcolor\":\"white\",\"startlinecolor\":\"#2a3f5f\"},\"type\":\"carpet\"}],\"table\":[{\"cells\":{\"fill\":{\"color\":\"#EBF0F8\"},\"line\":{\"color\":\"white\"}},\"header\":{\"fill\":{\"color\":\"#C8D4E3\"},\"line\":{\"color\":\"white\"}},\"type\":\"table\"}],\"barpolar\":[{\"marker\":{\"line\":{\"color\":\"#E5ECF6\",\"width\":0.5},\"pattern\":{\"fillmode\":\"overlay\",\"size\":10,\"solidity\":0.2}},\"type\":\"barpolar\"}],\"pie\":[{\"automargin\":true,\"type\":\"pie\"}]},\"layout\":{\"autotypenumbers\":\"strict\",\"colorway\":[\"#636efa\",\"#EF553B\",\"#00cc96\",\"#ab63fa\",\"#FFA15A\",\"#19d3f3\",\"#FF6692\",\"#B6E880\",\"#FF97FF\",\"#FECB52\"],\"font\":{\"color\":\"#2a3f5f\"},\"hovermode\":\"closest\",\"hoverlabel\":{\"align\":\"left\"},\"paper_bgcolor\":\"white\",\"plot_bgcolor\":\"#E5ECF6\",\"polar\":{\"bgcolor\":\"#E5ECF6\",\"angularaxis\":{\"gridcolor\":\"white\",\"linecolor\":\"white\",\"ticks\":\"\"},\"radialaxis\":{\"gridcolor\":\"white\",\"linecolor\":\"white\",\"ticks\":\"\"}},\"ternary\":{\"bgcolor\":\"#E5ECF6\",\"aaxis\":{\"gridcolor\":\"white\",\"linecolor\":\"white\",\"ticks\":\"\"},\"baxis\":{\"gridcolor\":\"white\",\"linecolor\":\"white\",\"ticks\":\"\"},\"caxis\":{\"gridcolor\":\"white\",\"linecolor\":\"white\",\"ticks\":\"\"}},\"coloraxis\":{\"colorbar\":{\"outlinewidth\":0,\"ticks\":\"\"}},\"colorscale\":{\"sequential\":[[0.0,\"#0d0887\"],[0.1111111111111111,\"#46039f\"],[0.2222222222222222,\"#7201a8\"],[0.3333333333333333,\"#9c179e\"],[0.4444444444444444,\"#bd3786\"],[0.5555555555555556,\"#d8576b\"],[0.6666666666666666,\"#ed7953\"],[0.7777777777777778,\"#fb9f3a\"],[0.8888888888888888,\"#fdca26\"],[1.0,\"#f0f921\"]],\"sequentialminus\":[[0.0,\"#0d0887\"],[0.1111111111111111,\"#46039f\"],[0.2222222222222222,\"#7201a8\"],[0.3333333333333333,\"#9c179e\"],[0.4444444444444444,\"#bd3786\"],[0.5555555555555556,\"#d8576b\"],[0.6666666666666666,\"#ed7953\"],[0.7777777777777778,\"#fb9f3a\"],[0.8888888888888888,\"#fdca26\"],[1.0,\"#f0f921\"]],\"diverging\":[[0,\"#8e0152\"],[0.1,\"#c51b7d\"],[0.2,\"#de77ae\"],[0.3,\"#f1b6da\"],[0.4,\"#fde0ef\"],[0.5,\"#f7f7f7\"],[0.6,\"#e6f5d0\"],[0.7,\"#b8e186\"],[0.8,\"#7fbc41\"],[0.9,\"#4d9221\"],[1,\"#276419\"]]},\"xaxis\":{\"gridcolor\":\"white\",\"linecolor\":\"white\",\"ticks\":\"\",\"title\":{\"standoff\":15},\"zerolinecolor\":\"white\",\"automargin\":true,\"zerolinewidth\":2},\"yaxis\":{\"gridcolor\":\"white\",\"linecolor\":\"white\",\"ticks\":\"\",\"title\":{\"standoff\":15},\"zerolinecolor\":\"white\",\"automargin\":true,\"zerolinewidth\":2},\"scene\":{\"xaxis\":{\"backgroundcolor\":\"#E5ECF6\",\"gridcolor\":\"white\",\"linecolor\":\"white\",\"showbackground\":true,\"ticks\":\"\",\"zerolinecolor\":\"white\",\"gridwidth\":2},\"yaxis\":{\"backgroundcolor\":\"#E5ECF6\",\"gridcolor\":\"white\",\"linecolor\":\"white\",\"showbackground\":true,\"ticks\":\"\",\"zerolinecolor\":\"white\",\"gridwidth\":2},\"zaxis\":{\"backgroundcolor\":\"#E5ECF6\",\"gridcolor\":\"white\",\"linecolor\":\"white\",\"showbackground\":true,\"ticks\":\"\",\"zerolinecolor\":\"white\",\"gridwidth\":2}},\"shapedefaults\":{\"line\":{\"color\":\"#2a3f5f\"}},\"annotationdefaults\":{\"arrowcolor\":\"#2a3f5f\",\"arrowhead\":0,\"arrowwidth\":1},\"geo\":{\"bgcolor\":\"white\",\"landcolor\":\"#E5ECF6\",\"subunitcolor\":\"white\",\"showland\":true,\"showlakes\":true,\"lakecolor\":\"white\"},\"title\":{\"x\":0.05},\"mapbox\":{\"style\":\"light\"}}},\"xaxis\":{\"anchor\":\"y\",\"domain\":[0.0,1.0],\"title\":{\"text\":\"Number of establishments\"}},\"yaxis\":{\"anchor\":\"x\",\"domain\":[0.0,1.0],\"title\":{\"text\":\"Number of seats\"}},\"legend\":{\"tracegroupgap\":0},\"margin\":{\"t\":60},\"title\":{\"text\":\"What characterizes chains?\"}},                        {\"responsive\": true}                    ).then(function(){\n",
       "                            \n",
       "var gd = document.getElementById('6959ccc5-983e-402d-8f6d-bbdc701a0c84');\n",
       "var x = new MutationObserver(function (mutations, observer) {{\n",
       "        var display = window.getComputedStyle(gd).display;\n",
       "        if (!display || display === 'none') {{\n",
       "            console.log([gd, 'removed!']);\n",
       "            Plotly.purge(gd);\n",
       "            observer.disconnect();\n",
       "        }}\n",
       "}});\n",
       "\n",
       "// Listen for the removal of the full notebook cells\n",
       "var notebookContainer = gd.closest('#notebook-container');\n",
       "if (notebookContainer) {{\n",
       "    x.observe(notebookContainer, {childList: true});\n",
       "}}\n",
       "\n",
       "// Listen for the clearing of the current output cell\n",
       "var outputEl = gd.closest('.output');\n",
       "if (outputEl) {{\n",
       "    x.observe(outputEl, {childList: true});\n",
       "}}\n",
       "\n",
       "                        })                };                });            </script>        </div>"
      ]
     },
     "metadata": {},
     "output_type": "display_data"
    }
   ],
   "source": [
    "#Visualising the data\n",
    "\n",
    "scat_seats = px.scatter(avg_seats, x=\"avg_seat\", y=\"num_of_establish\")\n",
    "\n",
    "scat_seats.update_layout(\n",
    "    title=\"What characterizes chains?\",\n",
    "    xaxis_title=\"Number of establishments\",\n",
    "    yaxis_title=\"Number of seats\",\n",
    ")\n",
    "scat_seats.show()\n",
    "    \n"
   ]
  },
  {
   "cell_type": "markdown",
   "metadata": {},
   "source": [
    "most establishments are in the left lower corner, which means:\n",
    "chains typically have lower number of venues with relatively low number of seats"
   ]
  },
  {
   "cell_type": "markdown",
   "metadata": {},
   "source": [
    "Next, i want to find the average number of seats for each type of restaurant."
   ]
  },
  {
   "cell_type": "markdown",
   "metadata": {},
   "source": [
    "## Average number of seats for each type of restaurant"
   ]
  },
  {
   "cell_type": "code",
   "execution_count": 46,
   "metadata": {},
   "outputs": [],
   "source": [
    "#Grouping by establishment type and calculating the average seats pper establishment \n",
    "avg_rest_seats = rest.groupby('object_type')['number'].mean().reset_index()\n",
    "avg_rest_seats = avg_rest_seats.sort_values(by = 'number',ascending = False)"
   ]
  },
  {
   "cell_type": "code",
   "execution_count": 47,
   "metadata": {
    "scrolled": false
   },
   "outputs": [
    {
     "data": {
      "application/vnd.plotly.v1+json": {
       "config": {
        "plotlyServerURL": "https://plot.ly"
       },
       "data": [
        {
         "alignmentgroup": "True",
         "hovertemplate": "object_type=%{x}<br>number=%{y}<extra></extra>",
         "legendgroup": "",
         "marker": {
          "color": "#636efa",
          "pattern": {
           "shape": ""
          }
         },
         "name": "",
         "offsetgroup": "",
         "orientation": "v",
         "showlegend": false,
         "textposition": "auto",
         "type": "bar",
         "x": [
          "Restaurant",
          "Bar",
          "Fast Food",
          "Pizza",
          "Cafe",
          "Bakery"
         ],
         "xaxis": "x",
         "y": [
          48.04231564438319,
          44.76712328767123,
          31.837711069418386,
          28.459375,
          25,
          21.773851590106005
         ],
         "yaxis": "y"
        }
       ],
       "layout": {
        "barmode": "relative",
        "legend": {
         "tracegroupgap": 0
        },
        "margin": {
         "t": 60
        },
        "template": {
         "data": {
          "bar": [
           {
            "error_x": {
             "color": "#2a3f5f"
            },
            "error_y": {
             "color": "#2a3f5f"
            },
            "marker": {
             "line": {
              "color": "#E5ECF6",
              "width": 0.5
             },
             "pattern": {
              "fillmode": "overlay",
              "size": 10,
              "solidity": 0.2
             }
            },
            "type": "bar"
           }
          ],
          "barpolar": [
           {
            "marker": {
             "line": {
              "color": "#E5ECF6",
              "width": 0.5
             },
             "pattern": {
              "fillmode": "overlay",
              "size": 10,
              "solidity": 0.2
             }
            },
            "type": "barpolar"
           }
          ],
          "carpet": [
           {
            "aaxis": {
             "endlinecolor": "#2a3f5f",
             "gridcolor": "white",
             "linecolor": "white",
             "minorgridcolor": "white",
             "startlinecolor": "#2a3f5f"
            },
            "baxis": {
             "endlinecolor": "#2a3f5f",
             "gridcolor": "white",
             "linecolor": "white",
             "minorgridcolor": "white",
             "startlinecolor": "#2a3f5f"
            },
            "type": "carpet"
           }
          ],
          "choropleth": [
           {
            "colorbar": {
             "outlinewidth": 0,
             "ticks": ""
            },
            "type": "choropleth"
           }
          ],
          "contour": [
           {
            "colorbar": {
             "outlinewidth": 0,
             "ticks": ""
            },
            "colorscale": [
             [
              0,
              "#0d0887"
             ],
             [
              0.1111111111111111,
              "#46039f"
             ],
             [
              0.2222222222222222,
              "#7201a8"
             ],
             [
              0.3333333333333333,
              "#9c179e"
             ],
             [
              0.4444444444444444,
              "#bd3786"
             ],
             [
              0.5555555555555556,
              "#d8576b"
             ],
             [
              0.6666666666666666,
              "#ed7953"
             ],
             [
              0.7777777777777778,
              "#fb9f3a"
             ],
             [
              0.8888888888888888,
              "#fdca26"
             ],
             [
              1,
              "#f0f921"
             ]
            ],
            "type": "contour"
           }
          ],
          "contourcarpet": [
           {
            "colorbar": {
             "outlinewidth": 0,
             "ticks": ""
            },
            "type": "contourcarpet"
           }
          ],
          "heatmap": [
           {
            "colorbar": {
             "outlinewidth": 0,
             "ticks": ""
            },
            "colorscale": [
             [
              0,
              "#0d0887"
             ],
             [
              0.1111111111111111,
              "#46039f"
             ],
             [
              0.2222222222222222,
              "#7201a8"
             ],
             [
              0.3333333333333333,
              "#9c179e"
             ],
             [
              0.4444444444444444,
              "#bd3786"
             ],
             [
              0.5555555555555556,
              "#d8576b"
             ],
             [
              0.6666666666666666,
              "#ed7953"
             ],
             [
              0.7777777777777778,
              "#fb9f3a"
             ],
             [
              0.8888888888888888,
              "#fdca26"
             ],
             [
              1,
              "#f0f921"
             ]
            ],
            "type": "heatmap"
           }
          ],
          "heatmapgl": [
           {
            "colorbar": {
             "outlinewidth": 0,
             "ticks": ""
            },
            "colorscale": [
             [
              0,
              "#0d0887"
             ],
             [
              0.1111111111111111,
              "#46039f"
             ],
             [
              0.2222222222222222,
              "#7201a8"
             ],
             [
              0.3333333333333333,
              "#9c179e"
             ],
             [
              0.4444444444444444,
              "#bd3786"
             ],
             [
              0.5555555555555556,
              "#d8576b"
             ],
             [
              0.6666666666666666,
              "#ed7953"
             ],
             [
              0.7777777777777778,
              "#fb9f3a"
             ],
             [
              0.8888888888888888,
              "#fdca26"
             ],
             [
              1,
              "#f0f921"
             ]
            ],
            "type": "heatmapgl"
           }
          ],
          "histogram": [
           {
            "marker": {
             "pattern": {
              "fillmode": "overlay",
              "size": 10,
              "solidity": 0.2
             }
            },
            "type": "histogram"
           }
          ],
          "histogram2d": [
           {
            "colorbar": {
             "outlinewidth": 0,
             "ticks": ""
            },
            "colorscale": [
             [
              0,
              "#0d0887"
             ],
             [
              0.1111111111111111,
              "#46039f"
             ],
             [
              0.2222222222222222,
              "#7201a8"
             ],
             [
              0.3333333333333333,
              "#9c179e"
             ],
             [
              0.4444444444444444,
              "#bd3786"
             ],
             [
              0.5555555555555556,
              "#d8576b"
             ],
             [
              0.6666666666666666,
              "#ed7953"
             ],
             [
              0.7777777777777778,
              "#fb9f3a"
             ],
             [
              0.8888888888888888,
              "#fdca26"
             ],
             [
              1,
              "#f0f921"
             ]
            ],
            "type": "histogram2d"
           }
          ],
          "histogram2dcontour": [
           {
            "colorbar": {
             "outlinewidth": 0,
             "ticks": ""
            },
            "colorscale": [
             [
              0,
              "#0d0887"
             ],
             [
              0.1111111111111111,
              "#46039f"
             ],
             [
              0.2222222222222222,
              "#7201a8"
             ],
             [
              0.3333333333333333,
              "#9c179e"
             ],
             [
              0.4444444444444444,
              "#bd3786"
             ],
             [
              0.5555555555555556,
              "#d8576b"
             ],
             [
              0.6666666666666666,
              "#ed7953"
             ],
             [
              0.7777777777777778,
              "#fb9f3a"
             ],
             [
              0.8888888888888888,
              "#fdca26"
             ],
             [
              1,
              "#f0f921"
             ]
            ],
            "type": "histogram2dcontour"
           }
          ],
          "mesh3d": [
           {
            "colorbar": {
             "outlinewidth": 0,
             "ticks": ""
            },
            "type": "mesh3d"
           }
          ],
          "parcoords": [
           {
            "line": {
             "colorbar": {
              "outlinewidth": 0,
              "ticks": ""
             }
            },
            "type": "parcoords"
           }
          ],
          "pie": [
           {
            "automargin": true,
            "type": "pie"
           }
          ],
          "scatter": [
           {
            "fillpattern": {
             "fillmode": "overlay",
             "size": 10,
             "solidity": 0.2
            },
            "type": "scatter"
           }
          ],
          "scatter3d": [
           {
            "line": {
             "colorbar": {
              "outlinewidth": 0,
              "ticks": ""
             }
            },
            "marker": {
             "colorbar": {
              "outlinewidth": 0,
              "ticks": ""
             }
            },
            "type": "scatter3d"
           }
          ],
          "scattercarpet": [
           {
            "marker": {
             "colorbar": {
              "outlinewidth": 0,
              "ticks": ""
             }
            },
            "type": "scattercarpet"
           }
          ],
          "scattergeo": [
           {
            "marker": {
             "colorbar": {
              "outlinewidth": 0,
              "ticks": ""
             }
            },
            "type": "scattergeo"
           }
          ],
          "scattergl": [
           {
            "marker": {
             "colorbar": {
              "outlinewidth": 0,
              "ticks": ""
             }
            },
            "type": "scattergl"
           }
          ],
          "scattermapbox": [
           {
            "marker": {
             "colorbar": {
              "outlinewidth": 0,
              "ticks": ""
             }
            },
            "type": "scattermapbox"
           }
          ],
          "scatterpolar": [
           {
            "marker": {
             "colorbar": {
              "outlinewidth": 0,
              "ticks": ""
             }
            },
            "type": "scatterpolar"
           }
          ],
          "scatterpolargl": [
           {
            "marker": {
             "colorbar": {
              "outlinewidth": 0,
              "ticks": ""
             }
            },
            "type": "scatterpolargl"
           }
          ],
          "scatterternary": [
           {
            "marker": {
             "colorbar": {
              "outlinewidth": 0,
              "ticks": ""
             }
            },
            "type": "scatterternary"
           }
          ],
          "surface": [
           {
            "colorbar": {
             "outlinewidth": 0,
             "ticks": ""
            },
            "colorscale": [
             [
              0,
              "#0d0887"
             ],
             [
              0.1111111111111111,
              "#46039f"
             ],
             [
              0.2222222222222222,
              "#7201a8"
             ],
             [
              0.3333333333333333,
              "#9c179e"
             ],
             [
              0.4444444444444444,
              "#bd3786"
             ],
             [
              0.5555555555555556,
              "#d8576b"
             ],
             [
              0.6666666666666666,
              "#ed7953"
             ],
             [
              0.7777777777777778,
              "#fb9f3a"
             ],
             [
              0.8888888888888888,
              "#fdca26"
             ],
             [
              1,
              "#f0f921"
             ]
            ],
            "type": "surface"
           }
          ],
          "table": [
           {
            "cells": {
             "fill": {
              "color": "#EBF0F8"
             },
             "line": {
              "color": "white"
             }
            },
            "header": {
             "fill": {
              "color": "#C8D4E3"
             },
             "line": {
              "color": "white"
             }
            },
            "type": "table"
           }
          ]
         },
         "layout": {
          "annotationdefaults": {
           "arrowcolor": "#2a3f5f",
           "arrowhead": 0,
           "arrowwidth": 1
          },
          "autotypenumbers": "strict",
          "coloraxis": {
           "colorbar": {
            "outlinewidth": 0,
            "ticks": ""
           }
          },
          "colorscale": {
           "diverging": [
            [
             0,
             "#8e0152"
            ],
            [
             0.1,
             "#c51b7d"
            ],
            [
             0.2,
             "#de77ae"
            ],
            [
             0.3,
             "#f1b6da"
            ],
            [
             0.4,
             "#fde0ef"
            ],
            [
             0.5,
             "#f7f7f7"
            ],
            [
             0.6,
             "#e6f5d0"
            ],
            [
             0.7,
             "#b8e186"
            ],
            [
             0.8,
             "#7fbc41"
            ],
            [
             0.9,
             "#4d9221"
            ],
            [
             1,
             "#276419"
            ]
           ],
           "sequential": [
            [
             0,
             "#0d0887"
            ],
            [
             0.1111111111111111,
             "#46039f"
            ],
            [
             0.2222222222222222,
             "#7201a8"
            ],
            [
             0.3333333333333333,
             "#9c179e"
            ],
            [
             0.4444444444444444,
             "#bd3786"
            ],
            [
             0.5555555555555556,
             "#d8576b"
            ],
            [
             0.6666666666666666,
             "#ed7953"
            ],
            [
             0.7777777777777778,
             "#fb9f3a"
            ],
            [
             0.8888888888888888,
             "#fdca26"
            ],
            [
             1,
             "#f0f921"
            ]
           ],
           "sequentialminus": [
            [
             0,
             "#0d0887"
            ],
            [
             0.1111111111111111,
             "#46039f"
            ],
            [
             0.2222222222222222,
             "#7201a8"
            ],
            [
             0.3333333333333333,
             "#9c179e"
            ],
            [
             0.4444444444444444,
             "#bd3786"
            ],
            [
             0.5555555555555556,
             "#d8576b"
            ],
            [
             0.6666666666666666,
             "#ed7953"
            ],
            [
             0.7777777777777778,
             "#fb9f3a"
            ],
            [
             0.8888888888888888,
             "#fdca26"
            ],
            [
             1,
             "#f0f921"
            ]
           ]
          },
          "colorway": [
           "#636efa",
           "#EF553B",
           "#00cc96",
           "#ab63fa",
           "#FFA15A",
           "#19d3f3",
           "#FF6692",
           "#B6E880",
           "#FF97FF",
           "#FECB52"
          ],
          "font": {
           "color": "#2a3f5f"
          },
          "geo": {
           "bgcolor": "white",
           "lakecolor": "white",
           "landcolor": "#E5ECF6",
           "showlakes": true,
           "showland": true,
           "subunitcolor": "white"
          },
          "hoverlabel": {
           "align": "left"
          },
          "hovermode": "closest",
          "mapbox": {
           "style": "light"
          },
          "paper_bgcolor": "white",
          "plot_bgcolor": "#E5ECF6",
          "polar": {
           "angularaxis": {
            "gridcolor": "white",
            "linecolor": "white",
            "ticks": ""
           },
           "bgcolor": "#E5ECF6",
           "radialaxis": {
            "gridcolor": "white",
            "linecolor": "white",
            "ticks": ""
           }
          },
          "scene": {
           "xaxis": {
            "backgroundcolor": "#E5ECF6",
            "gridcolor": "white",
            "gridwidth": 2,
            "linecolor": "white",
            "showbackground": true,
            "ticks": "",
            "zerolinecolor": "white"
           },
           "yaxis": {
            "backgroundcolor": "#E5ECF6",
            "gridcolor": "white",
            "gridwidth": 2,
            "linecolor": "white",
            "showbackground": true,
            "ticks": "",
            "zerolinecolor": "white"
           },
           "zaxis": {
            "backgroundcolor": "#E5ECF6",
            "gridcolor": "white",
            "gridwidth": 2,
            "linecolor": "white",
            "showbackground": true,
            "ticks": "",
            "zerolinecolor": "white"
           }
          },
          "shapedefaults": {
           "line": {
            "color": "#2a3f5f"
           }
          },
          "ternary": {
           "aaxis": {
            "gridcolor": "white",
            "linecolor": "white",
            "ticks": ""
           },
           "baxis": {
            "gridcolor": "white",
            "linecolor": "white",
            "ticks": ""
           },
           "bgcolor": "#E5ECF6",
           "caxis": {
            "gridcolor": "white",
            "linecolor": "white",
            "ticks": ""
           }
          },
          "title": {
           "x": 0.05
          },
          "xaxis": {
           "automargin": true,
           "gridcolor": "white",
           "linecolor": "white",
           "ticks": "",
           "title": {
            "standoff": 15
           },
           "zerolinecolor": "white",
           "zerolinewidth": 2
          },
          "yaxis": {
           "automargin": true,
           "gridcolor": "white",
           "linecolor": "white",
           "ticks": "",
           "title": {
            "standoff": 15
           },
           "zerolinecolor": "white",
           "zerolinewidth": 2
          }
         }
        },
        "title": {
         "text": "Average seats by Restaurant Type"
        },
        "xaxis": {
         "anchor": "y",
         "domain": [
          0,
          1
         ],
         "title": {
          "text": "Restaurant Type"
         }
        },
        "yaxis": {
         "anchor": "x",
         "domain": [
          0,
          1
         ],
         "title": {
          "text": "Average number of seats"
         }
        }
       }
      },
      "text/html": [
       "<div>                            <div id=\"e4c5e432-4189-4837-a085-8fdaef8554fa\" class=\"plotly-graph-div\" style=\"height:525px; width:100%;\"></div>            <script type=\"text/javascript\">                require([\"plotly\"], function(Plotly) {                    window.PLOTLYENV=window.PLOTLYENV || {};                                    if (document.getElementById(\"e4c5e432-4189-4837-a085-8fdaef8554fa\")) {                    Plotly.newPlot(                        \"e4c5e432-4189-4837-a085-8fdaef8554fa\",                        [{\"alignmentgroup\":\"True\",\"hovertemplate\":\"object_type=%{x}<br>number=%{y}<extra></extra>\",\"legendgroup\":\"\",\"marker\":{\"color\":\"#636efa\",\"pattern\":{\"shape\":\"\"}},\"name\":\"\",\"offsetgroup\":\"\",\"orientation\":\"v\",\"showlegend\":false,\"textposition\":\"auto\",\"x\":[\"Restaurant\",\"Bar\",\"Fast Food\",\"Pizza\",\"Cafe\",\"Bakery\"],\"xaxis\":\"x\",\"y\":[48.04231564438319,44.76712328767123,31.837711069418386,28.459375,25.0,21.773851590106005],\"yaxis\":\"y\",\"type\":\"bar\"}],                        {\"template\":{\"data\":{\"histogram2dcontour\":[{\"type\":\"histogram2dcontour\",\"colorbar\":{\"outlinewidth\":0,\"ticks\":\"\"},\"colorscale\":[[0.0,\"#0d0887\"],[0.1111111111111111,\"#46039f\"],[0.2222222222222222,\"#7201a8\"],[0.3333333333333333,\"#9c179e\"],[0.4444444444444444,\"#bd3786\"],[0.5555555555555556,\"#d8576b\"],[0.6666666666666666,\"#ed7953\"],[0.7777777777777778,\"#fb9f3a\"],[0.8888888888888888,\"#fdca26\"],[1.0,\"#f0f921\"]]}],\"choropleth\":[{\"type\":\"choropleth\",\"colorbar\":{\"outlinewidth\":0,\"ticks\":\"\"}}],\"histogram2d\":[{\"type\":\"histogram2d\",\"colorbar\":{\"outlinewidth\":0,\"ticks\":\"\"},\"colorscale\":[[0.0,\"#0d0887\"],[0.1111111111111111,\"#46039f\"],[0.2222222222222222,\"#7201a8\"],[0.3333333333333333,\"#9c179e\"],[0.4444444444444444,\"#bd3786\"],[0.5555555555555556,\"#d8576b\"],[0.6666666666666666,\"#ed7953\"],[0.7777777777777778,\"#fb9f3a\"],[0.8888888888888888,\"#fdca26\"],[1.0,\"#f0f921\"]]}],\"heatmap\":[{\"type\":\"heatmap\",\"colorbar\":{\"outlinewidth\":0,\"ticks\":\"\"},\"colorscale\":[[0.0,\"#0d0887\"],[0.1111111111111111,\"#46039f\"],[0.2222222222222222,\"#7201a8\"],[0.3333333333333333,\"#9c179e\"],[0.4444444444444444,\"#bd3786\"],[0.5555555555555556,\"#d8576b\"],[0.6666666666666666,\"#ed7953\"],[0.7777777777777778,\"#fb9f3a\"],[0.8888888888888888,\"#fdca26\"],[1.0,\"#f0f921\"]]}],\"heatmapgl\":[{\"type\":\"heatmapgl\",\"colorbar\":{\"outlinewidth\":0,\"ticks\":\"\"},\"colorscale\":[[0.0,\"#0d0887\"],[0.1111111111111111,\"#46039f\"],[0.2222222222222222,\"#7201a8\"],[0.3333333333333333,\"#9c179e\"],[0.4444444444444444,\"#bd3786\"],[0.5555555555555556,\"#d8576b\"],[0.6666666666666666,\"#ed7953\"],[0.7777777777777778,\"#fb9f3a\"],[0.8888888888888888,\"#fdca26\"],[1.0,\"#f0f921\"]]}],\"contourcarpet\":[{\"type\":\"contourcarpet\",\"colorbar\":{\"outlinewidth\":0,\"ticks\":\"\"}}],\"contour\":[{\"type\":\"contour\",\"colorbar\":{\"outlinewidth\":0,\"ticks\":\"\"},\"colorscale\":[[0.0,\"#0d0887\"],[0.1111111111111111,\"#46039f\"],[0.2222222222222222,\"#7201a8\"],[0.3333333333333333,\"#9c179e\"],[0.4444444444444444,\"#bd3786\"],[0.5555555555555556,\"#d8576b\"],[0.6666666666666666,\"#ed7953\"],[0.7777777777777778,\"#fb9f3a\"],[0.8888888888888888,\"#fdca26\"],[1.0,\"#f0f921\"]]}],\"surface\":[{\"type\":\"surface\",\"colorbar\":{\"outlinewidth\":0,\"ticks\":\"\"},\"colorscale\":[[0.0,\"#0d0887\"],[0.1111111111111111,\"#46039f\"],[0.2222222222222222,\"#7201a8\"],[0.3333333333333333,\"#9c179e\"],[0.4444444444444444,\"#bd3786\"],[0.5555555555555556,\"#d8576b\"],[0.6666666666666666,\"#ed7953\"],[0.7777777777777778,\"#fb9f3a\"],[0.8888888888888888,\"#fdca26\"],[1.0,\"#f0f921\"]]}],\"mesh3d\":[{\"type\":\"mesh3d\",\"colorbar\":{\"outlinewidth\":0,\"ticks\":\"\"}}],\"scatter\":[{\"fillpattern\":{\"fillmode\":\"overlay\",\"size\":10,\"solidity\":0.2},\"type\":\"scatter\"}],\"parcoords\":[{\"type\":\"parcoords\",\"line\":{\"colorbar\":{\"outlinewidth\":0,\"ticks\":\"\"}}}],\"scatterpolargl\":[{\"type\":\"scatterpolargl\",\"marker\":{\"colorbar\":{\"outlinewidth\":0,\"ticks\":\"\"}}}],\"bar\":[{\"error_x\":{\"color\":\"#2a3f5f\"},\"error_y\":{\"color\":\"#2a3f5f\"},\"marker\":{\"line\":{\"color\":\"#E5ECF6\",\"width\":0.5},\"pattern\":{\"fillmode\":\"overlay\",\"size\":10,\"solidity\":0.2}},\"type\":\"bar\"}],\"scattergeo\":[{\"type\":\"scattergeo\",\"marker\":{\"colorbar\":{\"outlinewidth\":0,\"ticks\":\"\"}}}],\"scatterpolar\":[{\"type\":\"scatterpolar\",\"marker\":{\"colorbar\":{\"outlinewidth\":0,\"ticks\":\"\"}}}],\"histogram\":[{\"marker\":{\"pattern\":{\"fillmode\":\"overlay\",\"size\":10,\"solidity\":0.2}},\"type\":\"histogram\"}],\"scattergl\":[{\"type\":\"scattergl\",\"marker\":{\"colorbar\":{\"outlinewidth\":0,\"ticks\":\"\"}}}],\"scatter3d\":[{\"type\":\"scatter3d\",\"line\":{\"colorbar\":{\"outlinewidth\":0,\"ticks\":\"\"}},\"marker\":{\"colorbar\":{\"outlinewidth\":0,\"ticks\":\"\"}}}],\"scattermapbox\":[{\"type\":\"scattermapbox\",\"marker\":{\"colorbar\":{\"outlinewidth\":0,\"ticks\":\"\"}}}],\"scatterternary\":[{\"type\":\"scatterternary\",\"marker\":{\"colorbar\":{\"outlinewidth\":0,\"ticks\":\"\"}}}],\"scattercarpet\":[{\"type\":\"scattercarpet\",\"marker\":{\"colorbar\":{\"outlinewidth\":0,\"ticks\":\"\"}}}],\"carpet\":[{\"aaxis\":{\"endlinecolor\":\"#2a3f5f\",\"gridcolor\":\"white\",\"linecolor\":\"white\",\"minorgridcolor\":\"white\",\"startlinecolor\":\"#2a3f5f\"},\"baxis\":{\"endlinecolor\":\"#2a3f5f\",\"gridcolor\":\"white\",\"linecolor\":\"white\",\"minorgridcolor\":\"white\",\"startlinecolor\":\"#2a3f5f\"},\"type\":\"carpet\"}],\"table\":[{\"cells\":{\"fill\":{\"color\":\"#EBF0F8\"},\"line\":{\"color\":\"white\"}},\"header\":{\"fill\":{\"color\":\"#C8D4E3\"},\"line\":{\"color\":\"white\"}},\"type\":\"table\"}],\"barpolar\":[{\"marker\":{\"line\":{\"color\":\"#E5ECF6\",\"width\":0.5},\"pattern\":{\"fillmode\":\"overlay\",\"size\":10,\"solidity\":0.2}},\"type\":\"barpolar\"}],\"pie\":[{\"automargin\":true,\"type\":\"pie\"}]},\"layout\":{\"autotypenumbers\":\"strict\",\"colorway\":[\"#636efa\",\"#EF553B\",\"#00cc96\",\"#ab63fa\",\"#FFA15A\",\"#19d3f3\",\"#FF6692\",\"#B6E880\",\"#FF97FF\",\"#FECB52\"],\"font\":{\"color\":\"#2a3f5f\"},\"hovermode\":\"closest\",\"hoverlabel\":{\"align\":\"left\"},\"paper_bgcolor\":\"white\",\"plot_bgcolor\":\"#E5ECF6\",\"polar\":{\"bgcolor\":\"#E5ECF6\",\"angularaxis\":{\"gridcolor\":\"white\",\"linecolor\":\"white\",\"ticks\":\"\"},\"radialaxis\":{\"gridcolor\":\"white\",\"linecolor\":\"white\",\"ticks\":\"\"}},\"ternary\":{\"bgcolor\":\"#E5ECF6\",\"aaxis\":{\"gridcolor\":\"white\",\"linecolor\":\"white\",\"ticks\":\"\"},\"baxis\":{\"gridcolor\":\"white\",\"linecolor\":\"white\",\"ticks\":\"\"},\"caxis\":{\"gridcolor\":\"white\",\"linecolor\":\"white\",\"ticks\":\"\"}},\"coloraxis\":{\"colorbar\":{\"outlinewidth\":0,\"ticks\":\"\"}},\"colorscale\":{\"sequential\":[[0.0,\"#0d0887\"],[0.1111111111111111,\"#46039f\"],[0.2222222222222222,\"#7201a8\"],[0.3333333333333333,\"#9c179e\"],[0.4444444444444444,\"#bd3786\"],[0.5555555555555556,\"#d8576b\"],[0.6666666666666666,\"#ed7953\"],[0.7777777777777778,\"#fb9f3a\"],[0.8888888888888888,\"#fdca26\"],[1.0,\"#f0f921\"]],\"sequentialminus\":[[0.0,\"#0d0887\"],[0.1111111111111111,\"#46039f\"],[0.2222222222222222,\"#7201a8\"],[0.3333333333333333,\"#9c179e\"],[0.4444444444444444,\"#bd3786\"],[0.5555555555555556,\"#d8576b\"],[0.6666666666666666,\"#ed7953\"],[0.7777777777777778,\"#fb9f3a\"],[0.8888888888888888,\"#fdca26\"],[1.0,\"#f0f921\"]],\"diverging\":[[0,\"#8e0152\"],[0.1,\"#c51b7d\"],[0.2,\"#de77ae\"],[0.3,\"#f1b6da\"],[0.4,\"#fde0ef\"],[0.5,\"#f7f7f7\"],[0.6,\"#e6f5d0\"],[0.7,\"#b8e186\"],[0.8,\"#7fbc41\"],[0.9,\"#4d9221\"],[1,\"#276419\"]]},\"xaxis\":{\"gridcolor\":\"white\",\"linecolor\":\"white\",\"ticks\":\"\",\"title\":{\"standoff\":15},\"zerolinecolor\":\"white\",\"automargin\":true,\"zerolinewidth\":2},\"yaxis\":{\"gridcolor\":\"white\",\"linecolor\":\"white\",\"ticks\":\"\",\"title\":{\"standoff\":15},\"zerolinecolor\":\"white\",\"automargin\":true,\"zerolinewidth\":2},\"scene\":{\"xaxis\":{\"backgroundcolor\":\"#E5ECF6\",\"gridcolor\":\"white\",\"linecolor\":\"white\",\"showbackground\":true,\"ticks\":\"\",\"zerolinecolor\":\"white\",\"gridwidth\":2},\"yaxis\":{\"backgroundcolor\":\"#E5ECF6\",\"gridcolor\":\"white\",\"linecolor\":\"white\",\"showbackground\":true,\"ticks\":\"\",\"zerolinecolor\":\"white\",\"gridwidth\":2},\"zaxis\":{\"backgroundcolor\":\"#E5ECF6\",\"gridcolor\":\"white\",\"linecolor\":\"white\",\"showbackground\":true,\"ticks\":\"\",\"zerolinecolor\":\"white\",\"gridwidth\":2}},\"shapedefaults\":{\"line\":{\"color\":\"#2a3f5f\"}},\"annotationdefaults\":{\"arrowcolor\":\"#2a3f5f\",\"arrowhead\":0,\"arrowwidth\":1},\"geo\":{\"bgcolor\":\"white\",\"landcolor\":\"#E5ECF6\",\"subunitcolor\":\"white\",\"showland\":true,\"showlakes\":true,\"lakecolor\":\"white\"},\"title\":{\"x\":0.05},\"mapbox\":{\"style\":\"light\"}}},\"xaxis\":{\"anchor\":\"y\",\"domain\":[0.0,1.0],\"title\":{\"text\":\"Restaurant Type\"}},\"yaxis\":{\"anchor\":\"x\",\"domain\":[0.0,1.0],\"title\":{\"text\":\"Average number of seats\"}},\"legend\":{\"tracegroupgap\":0},\"margin\":{\"t\":60},\"barmode\":\"relative\",\"title\":{\"text\":\"Average seats by Restaurant Type\"}},                        {\"responsive\": true}                    ).then(function(){\n",
       "                            \n",
       "var gd = document.getElementById('e4c5e432-4189-4837-a085-8fdaef8554fa');\n",
       "var x = new MutationObserver(function (mutations, observer) {{\n",
       "        var display = window.getComputedStyle(gd).display;\n",
       "        if (!display || display === 'none') {{\n",
       "            console.log([gd, 'removed!']);\n",
       "            Plotly.purge(gd);\n",
       "            observer.disconnect();\n",
       "        }}\n",
       "}});\n",
       "\n",
       "// Listen for the removal of the full notebook cells\n",
       "var notebookContainer = gd.closest('#notebook-container');\n",
       "if (notebookContainer) {{\n",
       "    x.observe(notebookContainer, {childList: true});\n",
       "}}\n",
       "\n",
       "// Listen for the clearing of the current output cell\n",
       "var outputEl = gd.closest('.output');\n",
       "if (outputEl) {{\n",
       "    x.observe(outputEl, {childList: true});\n",
       "}}\n",
       "\n",
       "                        })                };                });            </script>        </div>"
      ]
     },
     "metadata": {},
     "output_type": "display_data"
    }
   ],
   "source": [
    "#Visualising the data\n",
    "\n",
    "bar_seats = px.bar(avg_rest_seats, \n",
    "             x='object_type', \n",
    "             y='number',\n",
    "            )\n",
    "\n",
    "bar_seats.update_layout(\n",
    "    title=\"Average seats by Restaurant Type\",\n",
    "    xaxis_title=\"Restaurant Type\",\n",
    "    yaxis_title=\"Average number of seats\",\n",
    ")\n",
    "\n",
    "bar_seats.show()"
   ]
  },
  {
   "cell_type": "markdown",
   "metadata": {},
   "source": [
    "There are no establishment types with more than 50 average seats number \n",
    "Cafes have 25 seats average, only Bakerys have less with 21.7\n"
   ]
  },
  {
   "cell_type": "code",
   "execution_count": 48,
   "metadata": {
    "scrolled": true
   },
   "outputs": [
    {
     "data": {
      "text/plain": [
       "<AxesSubplot:xlabel='object_type', ylabel='number'>"
      ]
     },
     "execution_count": 48,
     "metadata": {},
     "output_type": "execute_result"
    },
    {
     "data": {
      "image/png": "[encoded data removed]",
      "text/plain": [
       "<Figure size 432x288 with 1 Axes>"
      ]
     },
     "metadata": {
      "needs_background": "light"
     },
     "output_type": "display_data"
    }
   ],
   "source": [
    "#Getting more info about the distribution of seats by establishment type  using a box plot \n",
    "sns.boxplot(x=\"object_type\", y=\"number\", data=rest, palette='rainbow') \n"
   ]
  },
  {
   "cell_type": "markdown",
   "metadata": {},
   "source": [
    "There are a lot of restaurants and fast food venues with a lot of seats, but not as much cafes.\n"
   ]
  },
  {
   "cell_type": "markdown",
   "metadata": {},
   "source": [
    "## Top ten streets by number of restaurants"
   ]
  },
  {
   "cell_type": "markdown",
   "metadata": {},
   "source": [
    "Next, i want to clean the address column from anything but the name of the street, so i could make calculations by streets."
   ]
  },
  {
   "cell_type": "code",
   "execution_count": 49,
   "metadata": {},
   "outputs": [],
   "source": [
    "#Creating a function that will help me get clean adress with only streets names \n",
    "def clean_address(df):\n",
    "    raw_address = usaddress.parse(df)\n",
    "    dict_address = {}\n",
    "    for i in raw_address:\n",
    "        dict_address.update({i[1] : i[0]})\n",
    "        #cheacking for normal cases with street name:\n",
    "    if 'StreetName' in dict_address.keys():\n",
    "        clean_address = str(dict_address['StreetName'])\n",
    "        return clean_address\n",
    "    else:\n",
    "        return 'no name'"
   ]
  },
  {
   "cell_type": "code",
   "execution_count": 50,
   "metadata": {},
   "outputs": [],
   "source": [
    "rest_copy = rest.copy()"
   ]
  },
  {
   "cell_type": "code",
   "execution_count": 51,
   "metadata": {
    "scrolled": true
   },
   "outputs": [
    {
     "data": {
      "text/html": [
       "<div>\n",
       "<style scoped>\n",
       "    .dataframe tbody tr th:only-of-type {\n",
       "        vertical-align: middle;\n",
       "    }\n",
       "\n",
       "    .dataframe tbody tr th {\n",
       "        vertical-align: top;\n",
       "    }\n",
       "\n",
       "    .dataframe thead th {\n",
       "        text-align: right;\n",
       "    }\n",
       "</style>\n",
       "<table border=\"1\" class=\"dataframe\">\n",
       "  <thead>\n",
       "    <tr style=\"text-align: right;\">\n",
       "      <th></th>\n",
       "      <th>id</th>\n",
       "      <th>object_name</th>\n",
       "      <th>address</th>\n",
       "      <th>chain</th>\n",
       "      <th>object_type</th>\n",
       "      <th>number</th>\n",
       "      <th>clean_street_check</th>\n",
       "    </tr>\n",
       "  </thead>\n",
       "  <tbody>\n",
       "    <tr>\n",
       "      <th>0</th>\n",
       "      <td>11786</td>\n",
       "      <td>HABITAT COFFEE SHOP</td>\n",
       "      <td>3708 N EAGLE ROCK BLVD</td>\n",
       "      <td>False</td>\n",
       "      <td>Cafe</td>\n",
       "      <td>26</td>\n",
       "      <td>ROCK</td>\n",
       "    </tr>\n",
       "    <tr>\n",
       "      <th>1</th>\n",
       "      <td>11787</td>\n",
       "      <td>REILLY'S</td>\n",
       "      <td>100 WORLD WAY # 120</td>\n",
       "      <td>False</td>\n",
       "      <td>Restaurant</td>\n",
       "      <td>9</td>\n",
       "      <td>WORLD</td>\n",
       "    </tr>\n",
       "    <tr>\n",
       "      <th>2</th>\n",
       "      <td>11788</td>\n",
       "      <td>STREET CHURROS</td>\n",
       "      <td>6801 HOLLYWOOD BLVD # 253</td>\n",
       "      <td>False</td>\n",
       "      <td>Fast Food</td>\n",
       "      <td>20</td>\n",
       "      <td>HOLLYWOOD</td>\n",
       "    </tr>\n",
       "    <tr>\n",
       "      <th>3</th>\n",
       "      <td>11789</td>\n",
       "      <td>TRINITI ECHO PARK</td>\n",
       "      <td>1814 W SUNSET BLVD</td>\n",
       "      <td>False</td>\n",
       "      <td>Restaurant</td>\n",
       "      <td>22</td>\n",
       "      <td>SUNSET</td>\n",
       "    </tr>\n",
       "    <tr>\n",
       "      <th>4</th>\n",
       "      <td>11790</td>\n",
       "      <td>POLLEN</td>\n",
       "      <td>2100 ECHO PARK AVE</td>\n",
       "      <td>False</td>\n",
       "      <td>Restaurant</td>\n",
       "      <td>20</td>\n",
       "      <td>PARK</td>\n",
       "    </tr>\n",
       "  </tbody>\n",
       "</table>\n",
       "</div>"
      ],
      "text/plain": [
       "      id          object_name                    address  chain object_type  \\\n",
       "0  11786  HABITAT COFFEE SHOP     3708 N EAGLE ROCK BLVD  False        Cafe   \n",
       "1  11787             REILLY'S        100 WORLD WAY # 120  False  Restaurant   \n",
       "2  11788       STREET CHURROS  6801 HOLLYWOOD BLVD # 253  False   Fast Food   \n",
       "3  11789    TRINITI ECHO PARK         1814 W SUNSET BLVD  False  Restaurant   \n",
       "4  11790               POLLEN         2100 ECHO PARK AVE  False  Restaurant   \n",
       "\n",
       "   number clean_street_check  \n",
       "0      26               ROCK  \n",
       "1       9              WORLD  \n",
       "2      20          HOLLYWOOD  \n",
       "3      22             SUNSET  \n",
       "4      20               PARK  "
      ]
     },
     "execution_count": 51,
     "metadata": {},
     "output_type": "execute_result"
    }
   ],
   "source": [
    "#Applying the function on a copy of the data to check if it worked \n",
    "rest_copy['clean_street_check'] = rest_copy.address.apply(clean_address)\n",
    "\n",
    "rest_copy.head()"
   ]
  },
  {
   "cell_type": "code",
   "execution_count": 52,
   "metadata": {
    "scrolled": true
   },
   "outputs": [
    {
     "data": {
      "text/html": [
       "<div>\n",
       "<style scoped>\n",
       "    .dataframe tbody tr th:only-of-type {\n",
       "        vertical-align: middle;\n",
       "    }\n",
       "\n",
       "    .dataframe tbody tr th {\n",
       "        vertical-align: top;\n",
       "    }\n",
       "\n",
       "    .dataframe thead th {\n",
       "        text-align: right;\n",
       "    }\n",
       "</style>\n",
       "<table border=\"1\" class=\"dataframe\">\n",
       "  <thead>\n",
       "    <tr style=\"text-align: right;\">\n",
       "      <th></th>\n",
       "      <th>id</th>\n",
       "      <th>object_name</th>\n",
       "      <th>address</th>\n",
       "      <th>chain</th>\n",
       "      <th>object_type</th>\n",
       "      <th>number</th>\n",
       "      <th>clean_street_check</th>\n",
       "    </tr>\n",
       "  </thead>\n",
       "  <tbody>\n",
       "    <tr>\n",
       "      <th>1888</th>\n",
       "      <td>13674</td>\n",
       "      <td>MAGDALENO DEBBIE</td>\n",
       "      <td>OLVERA ST E17</td>\n",
       "      <td>False</td>\n",
       "      <td>Restaurant</td>\n",
       "      <td>15</td>\n",
       "      <td>no name</td>\n",
       "    </tr>\n",
       "    <tr>\n",
       "      <th>3719</th>\n",
       "      <td>15505</td>\n",
       "      <td>LAS ANITAS</td>\n",
       "      <td>OLVERA ST 26</td>\n",
       "      <td>False</td>\n",
       "      <td>Restaurant</td>\n",
       "      <td>38</td>\n",
       "      <td>no name</td>\n",
       "    </tr>\n",
       "    <tr>\n",
       "      <th>7003</th>\n",
       "      <td>18789</td>\n",
       "      <td>D.K. DONUTS</td>\n",
       "      <td>1033 1/2 LOS ANGELES ST</td>\n",
       "      <td>False</td>\n",
       "      <td>Fast Food</td>\n",
       "      <td>8</td>\n",
       "      <td>no name</td>\n",
       "    </tr>\n",
       "    <tr>\n",
       "      <th>7281</th>\n",
       "      <td>19067</td>\n",
       "      <td>CIELITO LINDO</td>\n",
       "      <td>OLVERA ST 23</td>\n",
       "      <td>False</td>\n",
       "      <td>Restaurant</td>\n",
       "      <td>2</td>\n",
       "      <td>no name</td>\n",
       "    </tr>\n",
       "    <tr>\n",
       "      <th>7319</th>\n",
       "      <td>19105</td>\n",
       "      <td>JUANITA'S CAFE</td>\n",
       "      <td>OLVERA ST 20</td>\n",
       "      <td>False</td>\n",
       "      <td>Restaurant</td>\n",
       "      <td>12</td>\n",
       "      <td>no name</td>\n",
       "    </tr>\n",
       "    <tr>\n",
       "      <th>7321</th>\n",
       "      <td>19107</td>\n",
       "      <td>KITTY'S SNOW CONES</td>\n",
       "      <td>OLVERA ST 2</td>\n",
       "      <td>False</td>\n",
       "      <td>Restaurant</td>\n",
       "      <td>11</td>\n",
       "      <td>no name</td>\n",
       "    </tr>\n",
       "    <tr>\n",
       "      <th>7438</th>\n",
       "      <td>19224</td>\n",
       "      <td>LA GOLONDRINA</td>\n",
       "      <td>OLVERA ST W17</td>\n",
       "      <td>False</td>\n",
       "      <td>Restaurant</td>\n",
       "      <td>204</td>\n",
       "      <td>no name</td>\n",
       "    </tr>\n",
       "    <tr>\n",
       "      <th>7741</th>\n",
       "      <td>19527</td>\n",
       "      <td>RODOLFO'S RESTAURANT</td>\n",
       "      <td>OLVERA ST 5</td>\n",
       "      <td>True</td>\n",
       "      <td>Restaurant</td>\n",
       "      <td>4</td>\n",
       "      <td>no name</td>\n",
       "    </tr>\n",
       "  </tbody>\n",
       "</table>\n",
       "</div>"
      ],
      "text/plain": [
       "         id           object_name                  address  chain object_type  \\\n",
       "1888  13674      MAGDALENO DEBBIE            OLVERA ST E17  False  Restaurant   \n",
       "3719  15505            LAS ANITAS             OLVERA ST 26  False  Restaurant   \n",
       "7003  18789           D.K. DONUTS  1033 1/2 LOS ANGELES ST  False   Fast Food   \n",
       "7281  19067         CIELITO LINDO             OLVERA ST 23  False  Restaurant   \n",
       "7319  19105        JUANITA'S CAFE             OLVERA ST 20  False  Restaurant   \n",
       "7321  19107    KITTY'S SNOW CONES              OLVERA ST 2  False  Restaurant   \n",
       "7438  19224         LA GOLONDRINA            OLVERA ST W17  False  Restaurant   \n",
       "7741  19527  RODOLFO'S RESTAURANT              OLVERA ST 5   True  Restaurant   \n",
       "\n",
       "      number clean_street_check  \n",
       "1888      15            no name  \n",
       "3719      38            no name  \n",
       "7003       8            no name  \n",
       "7281       2            no name  \n",
       "7319      12            no name  \n",
       "7321      11            no name  \n",
       "7438     204            no name  \n",
       "7741       4            no name  "
      ]
     },
     "execution_count": 52,
     "metadata": {},
     "output_type": "execute_result"
    }
   ],
   "source": [
    "rest_copy[rest_copy['clean_street_check']=='no name']"
   ]
  },
  {
   "cell_type": "markdown",
   "metadata": {},
   "source": [
    "Seems there are two problems with the function:\n",
    "1. There are streets that the usaddress library doesnt recognise as street names \n",
    "2. the function only returns the first word of  street name, we want to get the full name "
   ]
  },
  {
   "cell_type": "code",
   "execution_count": 53,
   "metadata": {},
   "outputs": [],
   "source": [
    "def cleanest(df):\n",
    "    if df.startswith('OLVERA'):\n",
    "        clean_address = 'OLVERA'\n",
    "    elif df.startswith('1033 1/2 LOS ANGELES'):\n",
    "        clean_address = '1033 LOS ANGELES'\n",
    "    \n",
    "    else:\n",
    "        \n",
    "        \n",
    "\n",
    "        raw_address = usaddress.parse(df)\n",
    "\n",
    "        list_count = []\n",
    "       \n",
    "\n",
    "\n",
    "        for i in raw_address:\n",
    "            if i[1] == 'StreetName':\n",
    "                \n",
    "                list_count.append(i[0])\n",
    "                \n",
    "            else:\n",
    "                continue\n",
    "        for b in raw_address:\n",
    "            if len(list_count) == 1 :\n",
    "                 clean_address = str(list_count[0])\n",
    "            else:\n",
    "                clean_address = ' '.join(str(e) for e in list_count)\n",
    "\n",
    "        return clean_address\n",
    "\n",
    "                \n",
    "                \n",
    "                \n",
    "           "
   ]
  },
  {
   "cell_type": "code",
   "execution_count": 54,
   "metadata": {
    "scrolled": true
   },
   "outputs": [
    {
     "data": {
      "text/html": [
       "<div>\n",
       "<style scoped>\n",
       "    .dataframe tbody tr th:only-of-type {\n",
       "        vertical-align: middle;\n",
       "    }\n",
       "\n",
       "    .dataframe tbody tr th {\n",
       "        vertical-align: top;\n",
       "    }\n",
       "\n",
       "    .dataframe thead th {\n",
       "        text-align: right;\n",
       "    }\n",
       "</style>\n",
       "<table border=\"1\" class=\"dataframe\">\n",
       "  <thead>\n",
       "    <tr style=\"text-align: right;\">\n",
       "      <th></th>\n",
       "      <th>id</th>\n",
       "      <th>object_name</th>\n",
       "      <th>address</th>\n",
       "      <th>chain</th>\n",
       "      <th>object_type</th>\n",
       "      <th>number</th>\n",
       "      <th>clean_street_check</th>\n",
       "    </tr>\n",
       "  </thead>\n",
       "  <tbody>\n",
       "    <tr>\n",
       "      <th>0</th>\n",
       "      <td>11786</td>\n",
       "      <td>HABITAT COFFEE SHOP</td>\n",
       "      <td>3708 N EAGLE ROCK BLVD</td>\n",
       "      <td>False</td>\n",
       "      <td>Cafe</td>\n",
       "      <td>26</td>\n",
       "      <td>EAGLE ROCK</td>\n",
       "    </tr>\n",
       "    <tr>\n",
       "      <th>1</th>\n",
       "      <td>11787</td>\n",
       "      <td>REILLY'S</td>\n",
       "      <td>100 WORLD WAY # 120</td>\n",
       "      <td>False</td>\n",
       "      <td>Restaurant</td>\n",
       "      <td>9</td>\n",
       "      <td>WORLD</td>\n",
       "    </tr>\n",
       "    <tr>\n",
       "      <th>2</th>\n",
       "      <td>11788</td>\n",
       "      <td>STREET CHURROS</td>\n",
       "      <td>6801 HOLLYWOOD BLVD # 253</td>\n",
       "      <td>False</td>\n",
       "      <td>Fast Food</td>\n",
       "      <td>20</td>\n",
       "      <td>HOLLYWOOD</td>\n",
       "    </tr>\n",
       "    <tr>\n",
       "      <th>3</th>\n",
       "      <td>11789</td>\n",
       "      <td>TRINITI ECHO PARK</td>\n",
       "      <td>1814 W SUNSET BLVD</td>\n",
       "      <td>False</td>\n",
       "      <td>Restaurant</td>\n",
       "      <td>22</td>\n",
       "      <td>SUNSET</td>\n",
       "    </tr>\n",
       "    <tr>\n",
       "      <th>4</th>\n",
       "      <td>11790</td>\n",
       "      <td>POLLEN</td>\n",
       "      <td>2100 ECHO PARK AVE</td>\n",
       "      <td>False</td>\n",
       "      <td>Restaurant</td>\n",
       "      <td>20</td>\n",
       "      <td>ECHO PARK</td>\n",
       "    </tr>\n",
       "    <tr>\n",
       "      <th>5</th>\n",
       "      <td>11791</td>\n",
       "      <td>THE SPOT GRILL</td>\n",
       "      <td>10004 NATIONAL BLVD</td>\n",
       "      <td>False</td>\n",
       "      <td>Restaurant</td>\n",
       "      <td>14</td>\n",
       "      <td>NATIONAL</td>\n",
       "    </tr>\n",
       "    <tr>\n",
       "      <th>6</th>\n",
       "      <td>11792</td>\n",
       "      <td>CPK</td>\n",
       "      <td>100 WORLD WAY # 126</td>\n",
       "      <td>False</td>\n",
       "      <td>Restaurant</td>\n",
       "      <td>100</td>\n",
       "      <td>WORLD</td>\n",
       "    </tr>\n",
       "    <tr>\n",
       "      <th>7</th>\n",
       "      <td>11793</td>\n",
       "      <td>PHO LALA</td>\n",
       "      <td>3500 W 6TH ST STE 226</td>\n",
       "      <td>False</td>\n",
       "      <td>Restaurant</td>\n",
       "      <td>7</td>\n",
       "      <td>6TH</td>\n",
       "    </tr>\n",
       "    <tr>\n",
       "      <th>8</th>\n",
       "      <td>11794</td>\n",
       "      <td>ABC DONUTS</td>\n",
       "      <td>3027 N SAN FERNANDO RD UNIT 103</td>\n",
       "      <td>True</td>\n",
       "      <td>Fast Food</td>\n",
       "      <td>1</td>\n",
       "      <td>SAN FERNANDO</td>\n",
       "    </tr>\n",
       "    <tr>\n",
       "      <th>9</th>\n",
       "      <td>11795</td>\n",
       "      <td>UPSTAIRS</td>\n",
       "      <td>3707 N CAHUENGA BLVD</td>\n",
       "      <td>False</td>\n",
       "      <td>Restaurant</td>\n",
       "      <td>35</td>\n",
       "      <td>CAHUENGA</td>\n",
       "    </tr>\n",
       "    <tr>\n",
       "      <th>10</th>\n",
       "      <td>11796</td>\n",
       "      <td>EL POLLO LOCO</td>\n",
       "      <td>5319 W SUNSET BLVD</td>\n",
       "      <td>True</td>\n",
       "      <td>Restaurant</td>\n",
       "      <td>38</td>\n",
       "      <td>SUNSET</td>\n",
       "    </tr>\n",
       "    <tr>\n",
       "      <th>11</th>\n",
       "      <td>11797</td>\n",
       "      <td>POONG NYUN BAKERY</td>\n",
       "      <td>928 S WESTERN AVE STE 109</td>\n",
       "      <td>True</td>\n",
       "      <td>Bakery</td>\n",
       "      <td>17</td>\n",
       "      <td>WESTERN</td>\n",
       "    </tr>\n",
       "    <tr>\n",
       "      <th>12</th>\n",
       "      <td>11798</td>\n",
       "      <td>EMC RESTAURANT GROUP LLC</td>\n",
       "      <td>3500 W 6TH ST STE 101</td>\n",
       "      <td>True</td>\n",
       "      <td>Restaurant</td>\n",
       "      <td>133</td>\n",
       "      <td>6TH</td>\n",
       "    </tr>\n",
       "    <tr>\n",
       "      <th>13</th>\n",
       "      <td>11799</td>\n",
       "      <td>POPULAR DONUTS</td>\n",
       "      <td>3614 W SLAUSON AVE</td>\n",
       "      <td>False</td>\n",
       "      <td>Fast Food</td>\n",
       "      <td>18</td>\n",
       "      <td>SLAUSON</td>\n",
       "    </tr>\n",
       "    <tr>\n",
       "      <th>14</th>\n",
       "      <td>11800</td>\n",
       "      <td>CUSCATLECA BAKERY</td>\n",
       "      <td>2501 W SUNSET BLVD #A</td>\n",
       "      <td>True</td>\n",
       "      <td>Bakery</td>\n",
       "      <td>26</td>\n",
       "      <td>SUNSET</td>\n",
       "    </tr>\n",
       "    <tr>\n",
       "      <th>15</th>\n",
       "      <td>11801</td>\n",
       "      <td>FOOD COURT TRAY WASHING AREA</td>\n",
       "      <td>928 S WESTERN AVE STE 300</td>\n",
       "      <td>True</td>\n",
       "      <td>Restaurant</td>\n",
       "      <td>21</td>\n",
       "      <td>WESTERN</td>\n",
       "    </tr>\n",
       "    <tr>\n",
       "      <th>16</th>\n",
       "      <td>11802</td>\n",
       "      <td>HMS BOUNTY</td>\n",
       "      <td>3357 WILSHIRE BLVD</td>\n",
       "      <td>False</td>\n",
       "      <td>Restaurant</td>\n",
       "      <td>147</td>\n",
       "      <td>WILSHIRE</td>\n",
       "    </tr>\n",
       "    <tr>\n",
       "      <th>17</th>\n",
       "      <td>11803</td>\n",
       "      <td>AN'S CHAN BANG</td>\n",
       "      <td>244 S OXFORD AVE # 5</td>\n",
       "      <td>False</td>\n",
       "      <td>Restaurant</td>\n",
       "      <td>10</td>\n",
       "      <td>OXFORD</td>\n",
       "    </tr>\n",
       "    <tr>\n",
       "      <th>18</th>\n",
       "      <td>11804</td>\n",
       "      <td>MURAKAMI</td>\n",
       "      <td>7160 MELROSE AVE</td>\n",
       "      <td>False</td>\n",
       "      <td>Restaurant</td>\n",
       "      <td>139</td>\n",
       "      <td>MELROSE</td>\n",
       "    </tr>\n",
       "    <tr>\n",
       "      <th>19</th>\n",
       "      <td>11805</td>\n",
       "      <td>DELTA SKY CLUB T3</td>\n",
       "      <td>300 WORLD WAY</td>\n",
       "      <td>False</td>\n",
       "      <td>Restaurant</td>\n",
       "      <td>103</td>\n",
       "      <td>WORLD</td>\n",
       "    </tr>\n",
       "    <tr>\n",
       "      <th>20</th>\n",
       "      <td>11806</td>\n",
       "      <td>CRYSTAL CAFE</td>\n",
       "      <td>3500 W 6TH ST STE #321</td>\n",
       "      <td>False</td>\n",
       "      <td>Restaurant</td>\n",
       "      <td>16</td>\n",
       "      <td>6TH</td>\n",
       "    </tr>\n",
       "    <tr>\n",
       "      <th>21</th>\n",
       "      <td>11807</td>\n",
       "      <td>ORANGE TREE CAFE</td>\n",
       "      <td>3500 W 6TH ST STE #220</td>\n",
       "      <td>False</td>\n",
       "      <td>Restaurant</td>\n",
       "      <td>14</td>\n",
       "      <td>6TH</td>\n",
       "    </tr>\n",
       "    <tr>\n",
       "      <th>22</th>\n",
       "      <td>11808</td>\n",
       "      <td>CAMY'S GRILL</td>\n",
       "      <td>3339 WILSHIRE BLVD</td>\n",
       "      <td>False</td>\n",
       "      <td>Restaurant</td>\n",
       "      <td>39</td>\n",
       "      <td>WILSHIRE</td>\n",
       "    </tr>\n",
       "    <tr>\n",
       "      <th>23</th>\n",
       "      <td>11809</td>\n",
       "      <td>SABORES DEL PERU</td>\n",
       "      <td>1015 WALL ST STE 123</td>\n",
       "      <td>False</td>\n",
       "      <td>Restaurant</td>\n",
       "      <td>4</td>\n",
       "      <td>WALL</td>\n",
       "    </tr>\n",
       "    <tr>\n",
       "      <th>24</th>\n",
       "      <td>11810</td>\n",
       "      <td>M CAFE DE CHAYA</td>\n",
       "      <td>7119 MELROSE AVE</td>\n",
       "      <td>True</td>\n",
       "      <td>Restaurant</td>\n",
       "      <td>43</td>\n",
       "      <td>MELROSE</td>\n",
       "    </tr>\n",
       "    <tr>\n",
       "      <th>25</th>\n",
       "      <td>11811</td>\n",
       "      <td>INDIA'S GRILL</td>\n",
       "      <td>428 S SAN VICENTE BLVD</td>\n",
       "      <td>False</td>\n",
       "      <td>Restaurant</td>\n",
       "      <td>48</td>\n",
       "      <td>SAN VICENTE</td>\n",
       "    </tr>\n",
       "    <tr>\n",
       "      <th>26</th>\n",
       "      <td>11812</td>\n",
       "      <td>LA INDIA BONITA CAFE</td>\n",
       "      <td>1277 S INDIANA ST</td>\n",
       "      <td>False</td>\n",
       "      <td>Restaurant</td>\n",
       "      <td>19</td>\n",
       "      <td>INDIANA</td>\n",
       "    </tr>\n",
       "    <tr>\n",
       "      <th>27</th>\n",
       "      <td>11813</td>\n",
       "      <td>NORM'S RESTAURANT</td>\n",
       "      <td>470 N LA CIENEGA BLVD</td>\n",
       "      <td>True</td>\n",
       "      <td>Restaurant</td>\n",
       "      <td>80</td>\n",
       "      <td>LA CIENEGA</td>\n",
       "    </tr>\n",
       "    <tr>\n",
       "      <th>28</th>\n",
       "      <td>11814</td>\n",
       "      <td>BEVERLY FALAFEL</td>\n",
       "      <td>8508 W 3RD ST</td>\n",
       "      <td>False</td>\n",
       "      <td>Restaurant</td>\n",
       "      <td>31</td>\n",
       "      <td>3RD</td>\n",
       "    </tr>\n",
       "    <tr>\n",
       "      <th>29</th>\n",
       "      <td>11815</td>\n",
       "      <td>KRISPY KRUNCHY CHICKEN - ALVARADO</td>\n",
       "      <td>600 S ALVARADO ST STE 111C</td>\n",
       "      <td>True</td>\n",
       "      <td>Restaurant</td>\n",
       "      <td>15</td>\n",
       "      <td>ALVARADO</td>\n",
       "    </tr>\n",
       "    <tr>\n",
       "      <th>30</th>\n",
       "      <td>11816</td>\n",
       "      <td>CAFE 153</td>\n",
       "      <td>1125 3/4 WALL ST</td>\n",
       "      <td>False</td>\n",
       "      <td>Restaurant</td>\n",
       "      <td>5</td>\n",
       "      <td>3/4 WALL</td>\n",
       "    </tr>\n",
       "    <tr>\n",
       "      <th>31</th>\n",
       "      <td>11817</td>\n",
       "      <td>DUNES RESTAURANT</td>\n",
       "      <td>5625 W SUNSET BLVD</td>\n",
       "      <td>True</td>\n",
       "      <td>Restaurant</td>\n",
       "      <td>118</td>\n",
       "      <td>SUNSET</td>\n",
       "    </tr>\n",
       "    <tr>\n",
       "      <th>32</th>\n",
       "      <td>11818</td>\n",
       "      <td>THE FOUNDATION CENTER</td>\n",
       "      <td>11633 S WESTERN AVE</td>\n",
       "      <td>False</td>\n",
       "      <td>Restaurant</td>\n",
       "      <td>182</td>\n",
       "      <td>WESTERN</td>\n",
       "    </tr>\n",
       "    <tr>\n",
       "      <th>33</th>\n",
       "      <td>11819</td>\n",
       "      <td>ONO HAWAIIAN BBQ</td>\n",
       "      <td>5539 W SUNSET BLVD</td>\n",
       "      <td>True</td>\n",
       "      <td>Restaurant</td>\n",
       "      <td>35</td>\n",
       "      <td>SUNSET</td>\n",
       "    </tr>\n",
       "    <tr>\n",
       "      <th>34</th>\n",
       "      <td>11820</td>\n",
       "      <td>MUSH BAKERY</td>\n",
       "      <td>5224 W SUNSET BLVD</td>\n",
       "      <td>True</td>\n",
       "      <td>Bakery</td>\n",
       "      <td>15</td>\n",
       "      <td>SUNSET</td>\n",
       "    </tr>\n",
       "    <tr>\n",
       "      <th>35</th>\n",
       "      <td>11821</td>\n",
       "      <td>REGGIE'S DELI &amp; CAFE</td>\n",
       "      <td>1910 W SUNSET BLVD STE 150</td>\n",
       "      <td>True</td>\n",
       "      <td>Restaurant</td>\n",
       "      <td>1</td>\n",
       "      <td>SUNSET</td>\n",
       "    </tr>\n",
       "    <tr>\n",
       "      <th>36</th>\n",
       "      <td>11822</td>\n",
       "      <td>HOT THAI RESTAURANT</td>\n",
       "      <td>416 S SAN VICENTE BLVD</td>\n",
       "      <td>True</td>\n",
       "      <td>Restaurant</td>\n",
       "      <td>19</td>\n",
       "      <td>SAN VICENTE</td>\n",
       "    </tr>\n",
       "    <tr>\n",
       "      <th>37</th>\n",
       "      <td>11823</td>\n",
       "      <td>WABA GRILL</td>\n",
       "      <td>7109 W SUNSET BLVD</td>\n",
       "      <td>True</td>\n",
       "      <td>Restaurant</td>\n",
       "      <td>49</td>\n",
       "      <td>SUNSET</td>\n",
       "    </tr>\n",
       "    <tr>\n",
       "      <th>38</th>\n",
       "      <td>11824</td>\n",
       "      <td>THANK YOU FOR COMING</td>\n",
       "      <td>3416 GLENDALE BLVD</td>\n",
       "      <td>False</td>\n",
       "      <td>Restaurant</td>\n",
       "      <td>13</td>\n",
       "      <td>GLENDALE</td>\n",
       "    </tr>\n",
       "    <tr>\n",
       "      <th>39</th>\n",
       "      <td>11825</td>\n",
       "      <td>TROPICAL FRUITS &amp; JUICES</td>\n",
       "      <td>5729 N FIGUEROA ST</td>\n",
       "      <td>False</td>\n",
       "      <td>Restaurant</td>\n",
       "      <td>14</td>\n",
       "      <td>FIGUEROA</td>\n",
       "    </tr>\n",
       "  </tbody>\n",
       "</table>\n",
       "</div>"
      ],
      "text/plain": [
       "       id                        object_name                          address  \\\n",
       "0   11786                HABITAT COFFEE SHOP           3708 N EAGLE ROCK BLVD   \n",
       "1   11787                           REILLY'S              100 WORLD WAY # 120   \n",
       "2   11788                     STREET CHURROS        6801 HOLLYWOOD BLVD # 253   \n",
       "3   11789                  TRINITI ECHO PARK               1814 W SUNSET BLVD   \n",
       "4   11790                             POLLEN               2100 ECHO PARK AVE   \n",
       "5   11791                     THE SPOT GRILL              10004 NATIONAL BLVD   \n",
       "6   11792                                CPK              100 WORLD WAY # 126   \n",
       "7   11793                           PHO LALA            3500 W 6TH ST STE 226   \n",
       "8   11794                         ABC DONUTS  3027 N SAN FERNANDO RD UNIT 103   \n",
       "9   11795                           UPSTAIRS             3707 N CAHUENGA BLVD   \n",
       "10  11796                      EL POLLO LOCO               5319 W SUNSET BLVD   \n",
       "11  11797                  POONG NYUN BAKERY        928 S WESTERN AVE STE 109   \n",
       "12  11798           EMC RESTAURANT GROUP LLC            3500 W 6TH ST STE 101   \n",
       "13  11799                     POPULAR DONUTS               3614 W SLAUSON AVE   \n",
       "14  11800                  CUSCATLECA BAKERY            2501 W SUNSET BLVD #A   \n",
       "15  11801       FOOD COURT TRAY WASHING AREA        928 S WESTERN AVE STE 300   \n",
       "16  11802                         HMS BOUNTY               3357 WILSHIRE BLVD   \n",
       "17  11803                     AN'S CHAN BANG             244 S OXFORD AVE # 5   \n",
       "18  11804                           MURAKAMI                 7160 MELROSE AVE   \n",
       "19  11805                  DELTA SKY CLUB T3                    300 WORLD WAY   \n",
       "20  11806                       CRYSTAL CAFE           3500 W 6TH ST STE #321   \n",
       "21  11807                   ORANGE TREE CAFE           3500 W 6TH ST STE #220   \n",
       "22  11808                       CAMY'S GRILL               3339 WILSHIRE BLVD   \n",
       "23  11809                   SABORES DEL PERU             1015 WALL ST STE 123   \n",
       "24  11810                    M CAFE DE CHAYA                 7119 MELROSE AVE   \n",
       "25  11811                      INDIA'S GRILL           428 S SAN VICENTE BLVD   \n",
       "26  11812               LA INDIA BONITA CAFE                1277 S INDIANA ST   \n",
       "27  11813                  NORM'S RESTAURANT            470 N LA CIENEGA BLVD   \n",
       "28  11814                    BEVERLY FALAFEL                    8508 W 3RD ST   \n",
       "29  11815  KRISPY KRUNCHY CHICKEN - ALVARADO       600 S ALVARADO ST STE 111C   \n",
       "30  11816                           CAFE 153                 1125 3/4 WALL ST   \n",
       "31  11817                   DUNES RESTAURANT               5625 W SUNSET BLVD   \n",
       "32  11818              THE FOUNDATION CENTER              11633 S WESTERN AVE   \n",
       "33  11819                   ONO HAWAIIAN BBQ               5539 W SUNSET BLVD   \n",
       "34  11820                        MUSH BAKERY               5224 W SUNSET BLVD   \n",
       "35  11821               REGGIE'S DELI & CAFE       1910 W SUNSET BLVD STE 150   \n",
       "36  11822                HOT THAI RESTAURANT           416 S SAN VICENTE BLVD   \n",
       "37  11823                         WABA GRILL               7109 W SUNSET BLVD   \n",
       "38  11824               THANK YOU FOR COMING               3416 GLENDALE BLVD   \n",
       "39  11825           TROPICAL FRUITS & JUICES               5729 N FIGUEROA ST   \n",
       "\n",
       "    chain object_type  number clean_street_check  \n",
       "0   False        Cafe      26         EAGLE ROCK  \n",
       "1   False  Restaurant       9              WORLD  \n",
       "2   False   Fast Food      20          HOLLYWOOD  \n",
       "3   False  Restaurant      22             SUNSET  \n",
       "4   False  Restaurant      20          ECHO PARK  \n",
       "5   False  Restaurant      14           NATIONAL  \n",
       "6   False  Restaurant     100              WORLD  \n",
       "7   False  Restaurant       7                6TH  \n",
       "8    True   Fast Food       1       SAN FERNANDO  \n",
       "9   False  Restaurant      35           CAHUENGA  \n",
       "10   True  Restaurant      38             SUNSET  \n",
       "11   True      Bakery      17            WESTERN  \n",
       "12   True  Restaurant     133                6TH  \n",
       "13  False   Fast Food      18            SLAUSON  \n",
       "14   True      Bakery      26             SUNSET  \n",
       "15   True  Restaurant      21            WESTERN  \n",
       "16  False  Restaurant     147           WILSHIRE  \n",
       "17  False  Restaurant      10             OXFORD  \n",
       "18  False  Restaurant     139            MELROSE  \n",
       "19  False  Restaurant     103              WORLD  \n",
       "20  False  Restaurant      16                6TH  \n",
       "21  False  Restaurant      14                6TH  \n",
       "22  False  Restaurant      39           WILSHIRE  \n",
       "23  False  Restaurant       4               WALL  \n",
       "24   True  Restaurant      43            MELROSE  \n",
       "25  False  Restaurant      48        SAN VICENTE  \n",
       "26  False  Restaurant      19            INDIANA  \n",
       "27   True  Restaurant      80         LA CIENEGA  \n",
       "28  False  Restaurant      31                3RD  \n",
       "29   True  Restaurant      15           ALVARADO  \n",
       "30  False  Restaurant       5           3/4 WALL  \n",
       "31   True  Restaurant     118             SUNSET  \n",
       "32  False  Restaurant     182            WESTERN  \n",
       "33   True  Restaurant      35             SUNSET  \n",
       "34   True      Bakery      15             SUNSET  \n",
       "35   True  Restaurant       1             SUNSET  \n",
       "36   True  Restaurant      19        SAN VICENTE  \n",
       "37   True  Restaurant      49             SUNSET  \n",
       "38  False  Restaurant      13           GLENDALE  \n",
       "39  False  Restaurant      14           FIGUEROA  "
      ]
     },
     "execution_count": 54,
     "metadata": {},
     "output_type": "execute_result"
    }
   ],
   "source": [
    "#Applying the function on the data to check if it worked \n",
    "\n",
    "rest['clean_street_check'] = rest.address.apply(cleanest)\n",
    "rest.head(40)"
   ]
  },
  {
   "cell_type": "markdown",
   "metadata": {},
   "source": [
    "Seems everything works fine. no before we group by streets names, we need to make sure the values are in the same casing."
   ]
  },
  {
   "cell_type": "code",
   "execution_count": 55,
   "metadata": {},
   "outputs": [
    {
     "data": {
      "text/html": [
       "<div>\n",
       "<style scoped>\n",
       "    .dataframe tbody tr th:only-of-type {\n",
       "        vertical-align: middle;\n",
       "    }\n",
       "\n",
       "    .dataframe tbody tr th {\n",
       "        vertical-align: top;\n",
       "    }\n",
       "\n",
       "    .dataframe thead th {\n",
       "        text-align: right;\n",
       "    }\n",
       "</style>\n",
       "<table border=\"1\" class=\"dataframe\">\n",
       "  <thead>\n",
       "    <tr style=\"text-align: right;\">\n",
       "      <th></th>\n",
       "      <th>id</th>\n",
       "      <th>object_name</th>\n",
       "      <th>address</th>\n",
       "      <th>chain</th>\n",
       "      <th>object_type</th>\n",
       "      <th>number</th>\n",
       "      <th>clean_street_check</th>\n",
       "    </tr>\n",
       "  </thead>\n",
       "  <tbody>\n",
       "    <tr>\n",
       "      <th>0</th>\n",
       "      <td>11786</td>\n",
       "      <td>HABITAT COFFEE SHOP</td>\n",
       "      <td>3708 N EAGLE ROCK BLVD</td>\n",
       "      <td>False</td>\n",
       "      <td>Cafe</td>\n",
       "      <td>26</td>\n",
       "      <td>eagle rock</td>\n",
       "    </tr>\n",
       "    <tr>\n",
       "      <th>1</th>\n",
       "      <td>11787</td>\n",
       "      <td>REILLY'S</td>\n",
       "      <td>100 WORLD WAY # 120</td>\n",
       "      <td>False</td>\n",
       "      <td>Restaurant</td>\n",
       "      <td>9</td>\n",
       "      <td>world</td>\n",
       "    </tr>\n",
       "    <tr>\n",
       "      <th>2</th>\n",
       "      <td>11788</td>\n",
       "      <td>STREET CHURROS</td>\n",
       "      <td>6801 HOLLYWOOD BLVD # 253</td>\n",
       "      <td>False</td>\n",
       "      <td>Fast Food</td>\n",
       "      <td>20</td>\n",
       "      <td>hollywood</td>\n",
       "    </tr>\n",
       "    <tr>\n",
       "      <th>3</th>\n",
       "      <td>11789</td>\n",
       "      <td>TRINITI ECHO PARK</td>\n",
       "      <td>1814 W SUNSET BLVD</td>\n",
       "      <td>False</td>\n",
       "      <td>Restaurant</td>\n",
       "      <td>22</td>\n",
       "      <td>sunset</td>\n",
       "    </tr>\n",
       "    <tr>\n",
       "      <th>4</th>\n",
       "      <td>11790</td>\n",
       "      <td>POLLEN</td>\n",
       "      <td>2100 ECHO PARK AVE</td>\n",
       "      <td>False</td>\n",
       "      <td>Restaurant</td>\n",
       "      <td>20</td>\n",
       "      <td>echo park</td>\n",
       "    </tr>\n",
       "  </tbody>\n",
       "</table>\n",
       "</div>"
      ],
      "text/plain": [
       "      id          object_name                    address  chain object_type  \\\n",
       "0  11786  HABITAT COFFEE SHOP     3708 N EAGLE ROCK BLVD  False        Cafe   \n",
       "1  11787             REILLY'S        100 WORLD WAY # 120  False  Restaurant   \n",
       "2  11788       STREET CHURROS  6801 HOLLYWOOD BLVD # 253  False   Fast Food   \n",
       "3  11789    TRINITI ECHO PARK         1814 W SUNSET BLVD  False  Restaurant   \n",
       "4  11790               POLLEN         2100 ECHO PARK AVE  False  Restaurant   \n",
       "\n",
       "   number clean_street_check  \n",
       "0      26         eagle rock  \n",
       "1       9              world  \n",
       "2      20          hollywood  \n",
       "3      22             sunset  \n",
       "4      20          echo park  "
      ]
     },
     "execution_count": 55,
     "metadata": {},
     "output_type": "execute_result"
    }
   ],
   "source": [
    "rest['clean_street_check']=rest['clean_street_check'].str.lower()\n",
    "rest.head()"
   ]
  },
  {
   "cell_type": "code",
   "execution_count": 56,
   "metadata": {
    "scrolled": true
   },
   "outputs": [
    {
     "data": {
      "text/html": [
       "<div>\n",
       "<style scoped>\n",
       "    .dataframe tbody tr th:only-of-type {\n",
       "        vertical-align: middle;\n",
       "    }\n",
       "\n",
       "    .dataframe tbody tr th {\n",
       "        vertical-align: top;\n",
       "    }\n",
       "\n",
       "    .dataframe thead th {\n",
       "        text-align: right;\n",
       "    }\n",
       "</style>\n",
       "<table border=\"1\" class=\"dataframe\">\n",
       "  <thead>\n",
       "    <tr style=\"text-align: right;\">\n",
       "      <th></th>\n",
       "      <th>clean_street_check</th>\n",
       "      <th>object_name</th>\n",
       "    </tr>\n",
       "  </thead>\n",
       "  <tbody>\n",
       "    <tr>\n",
       "      <th>0</th>\n",
       "      <td>sunset</td>\n",
       "      <td>405</td>\n",
       "    </tr>\n",
       "    <tr>\n",
       "      <th>1</th>\n",
       "      <td>wilshire</td>\n",
       "      <td>398</td>\n",
       "    </tr>\n",
       "    <tr>\n",
       "      <th>2</th>\n",
       "      <td>pico</td>\n",
       "      <td>371</td>\n",
       "    </tr>\n",
       "    <tr>\n",
       "      <th>3</th>\n",
       "      <td>western</td>\n",
       "      <td>369</td>\n",
       "    </tr>\n",
       "    <tr>\n",
       "      <th>4</th>\n",
       "      <td>figueroa</td>\n",
       "      <td>334</td>\n",
       "    </tr>\n",
       "    <tr>\n",
       "      <th>5</th>\n",
       "      <td>olympic</td>\n",
       "      <td>309</td>\n",
       "    </tr>\n",
       "    <tr>\n",
       "      <th>6</th>\n",
       "      <td>vermont</td>\n",
       "      <td>288</td>\n",
       "    </tr>\n",
       "    <tr>\n",
       "      <th>7</th>\n",
       "      <td>santa monica</td>\n",
       "      <td>264</td>\n",
       "    </tr>\n",
       "    <tr>\n",
       "      <th>8</th>\n",
       "      <td>3rd</td>\n",
       "      <td>263</td>\n",
       "    </tr>\n",
       "    <tr>\n",
       "      <th>9</th>\n",
       "      <td>hollywood</td>\n",
       "      <td>254</td>\n",
       "    </tr>\n",
       "  </tbody>\n",
       "</table>\n",
       "</div>"
      ],
      "text/plain": [
       "  clean_street_check  object_name\n",
       "0             sunset          405\n",
       "1           wilshire          398\n",
       "2               pico          371\n",
       "3            western          369\n",
       "4           figueroa          334\n",
       "5            olympic          309\n",
       "6            vermont          288\n",
       "7       santa monica          264\n",
       "8                3rd          263\n",
       "9          hollywood          254"
      ]
     },
     "execution_count": 56,
     "metadata": {},
     "output_type": "execute_result"
    }
   ],
   "source": [
    "#Grouping by street names and calculating number of venues per street\n",
    "rest_streets = rest.groupby('clean_street_check')['object_name'].count().reset_index()\n",
    "rest10 = rest_streets.sort_values(by = 'object_name',ascending = False).head(10).reset_index(drop=True)\n",
    "rest10"
   ]
  },
  {
   "cell_type": "code",
   "execution_count": 57,
   "metadata": {},
   "outputs": [
    {
     "data": {
      "application/vnd.plotly.v1+json": {
       "config": {
        "plotlyServerURL": "https://plot.ly"
       },
       "data": [
        {
         "alignmentgroup": "True",
         "hovertemplate": "clean_street_check=%{x}<br>object_name=%{y}<extra></extra>",
         "legendgroup": "",
         "marker": {
          "color": "#636efa",
          "pattern": {
           "shape": ""
          }
         },
         "name": "",
         "offsetgroup": "",
         "orientation": "v",
         "showlegend": false,
         "textposition": "auto",
         "type": "bar",
         "x": [
          "sunset",
          "wilshire",
          "pico",
          "western",
          "figueroa",
          "olympic",
          "vermont",
          "santa monica",
          "3rd",
          "hollywood"
         ],
         "xaxis": "x",
         "y": [
          405,
          398,
          371,
          369,
          334,
          309,
          288,
          264,
          263,
          254
         ],
         "yaxis": "y"
        }
       ],
       "layout": {
        "barmode": "relative",
        "legend": {
         "tracegroupgap": 0
        },
        "template": {
         "data": {
          "bar": [
           {
            "error_x": {
             "color": "#2a3f5f"
            },
            "error_y": {
             "color": "#2a3f5f"
            },
            "marker": {
             "line": {
              "color": "#E5ECF6",
              "width": 0.5
             },
             "pattern": {
              "fillmode": "overlay",
              "size": 10,
              "solidity": 0.2
             }
            },
            "type": "bar"
           }
          ],
          "barpolar": [
           {
            "marker": {
             "line": {
              "color": "#E5ECF6",
              "width": 0.5
             },
             "pattern": {
              "fillmode": "overlay",
              "size": 10,
              "solidity": 0.2
             }
            },
            "type": "barpolar"
           }
          ],
          "carpet": [
           {
            "aaxis": {
             "endlinecolor": "#2a3f5f",
             "gridcolor": "white",
             "linecolor": "white",
             "minorgridcolor": "white",
             "startlinecolor": "#2a3f5f"
            },
            "baxis": {
             "endlinecolor": "#2a3f5f",
             "gridcolor": "white",
             "linecolor": "white",
             "minorgridcolor": "white",
             "startlinecolor": "#2a3f5f"
            },
            "type": "carpet"
           }
          ],
          "choropleth": [
           {
            "colorbar": {
             "outlinewidth": 0,
             "ticks": ""
            },
            "type": "choropleth"
           }
          ],
          "contour": [
           {
            "colorbar": {
             "outlinewidth": 0,
             "ticks": ""
            },
            "colorscale": [
             [
              0,
              "#0d0887"
             ],
             [
              0.1111111111111111,
              "#46039f"
             ],
             [
              0.2222222222222222,
              "#7201a8"
             ],
             [
              0.3333333333333333,
              "#9c179e"
             ],
             [
              0.4444444444444444,
              "#bd3786"
             ],
             [
              0.5555555555555556,
              "#d8576b"
             ],
             [
              0.6666666666666666,
              "#ed7953"
             ],
             [
              0.7777777777777778,
              "#fb9f3a"
             ],
             [
              0.8888888888888888,
              "#fdca26"
             ],
             [
              1,
              "#f0f921"
             ]
            ],
            "type": "contour"
           }
          ],
          "contourcarpet": [
           {
            "colorbar": {
             "outlinewidth": 0,
             "ticks": ""
            },
            "type": "contourcarpet"
           }
          ],
          "heatmap": [
           {
            "colorbar": {
             "outlinewidth": 0,
             "ticks": ""
            },
            "colorscale": [
             [
              0,
              "#0d0887"
             ],
             [
              0.1111111111111111,
              "#46039f"
             ],
             [
              0.2222222222222222,
              "#7201a8"
             ],
             [
              0.3333333333333333,
              "#9c179e"
             ],
             [
              0.4444444444444444,
              "#bd3786"
             ],
             [
              0.5555555555555556,
              "#d8576b"
             ],
             [
              0.6666666666666666,
              "#ed7953"
             ],
             [
              0.7777777777777778,
              "#fb9f3a"
             ],
             [
              0.8888888888888888,
              "#fdca26"
             ],
             [
              1,
              "#f0f921"
             ]
            ],
            "type": "heatmap"
           }
          ],
          "heatmapgl": [
           {
            "colorbar": {
             "outlinewidth": 0,
             "ticks": ""
            },
            "colorscale": [
             [
              0,
              "#0d0887"
             ],
             [
              0.1111111111111111,
              "#46039f"
             ],
             [
              0.2222222222222222,
              "#7201a8"
             ],
             [
              0.3333333333333333,
              "#9c179e"
             ],
             [
              0.4444444444444444,
              "#bd3786"
             ],
             [
              0.5555555555555556,
              "#d8576b"
             ],
             [
              0.6666666666666666,
              "#ed7953"
             ],
             [
              0.7777777777777778,
              "#fb9f3a"
             ],
             [
              0.8888888888888888,
              "#fdca26"
             ],
             [
              1,
              "#f0f921"
             ]
            ],
            "type": "heatmapgl"
           }
          ],
          "histogram": [
           {
            "marker": {
             "pattern": {
              "fillmode": "overlay",
              "size": 10,
              "solidity": 0.2
             }
            },
            "type": "histogram"
           }
          ],
          "histogram2d": [
           {
            "colorbar": {
             "outlinewidth": 0,
             "ticks": ""
            },
            "colorscale": [
             [
              0,
              "#0d0887"
             ],
             [
              0.1111111111111111,
              "#46039f"
             ],
             [
              0.2222222222222222,
              "#7201a8"
             ],
             [
              0.3333333333333333,
              "#9c179e"
             ],
             [
              0.4444444444444444,
              "#bd3786"
             ],
             [
              0.5555555555555556,
              "#d8576b"
             ],
             [
              0.6666666666666666,
              "#ed7953"
             ],
             [
              0.7777777777777778,
              "#fb9f3a"
             ],
             [
              0.8888888888888888,
              "#fdca26"
             ],
             [
              1,
              "#f0f921"
             ]
            ],
            "type": "histogram2d"
           }
          ],
          "histogram2dcontour": [
           {
            "colorbar": {
             "outlinewidth": 0,
             "ticks": ""
            },
            "colorscale": [
             [
              0,
              "#0d0887"
             ],
             [
              0.1111111111111111,
              "#46039f"
             ],
             [
              0.2222222222222222,
              "#7201a8"
             ],
             [
              0.3333333333333333,
              "#9c179e"
             ],
             [
              0.4444444444444444,
              "#bd3786"
             ],
             [
              0.5555555555555556,
              "#d8576b"
             ],
             [
              0.6666666666666666,
              "#ed7953"
             ],
             [
              0.7777777777777778,
              "#fb9f3a"
             ],
             [
              0.8888888888888888,
              "#fdca26"
             ],
             [
              1,
              "#f0f921"
             ]
            ],
            "type": "histogram2dcontour"
           }
          ],
          "mesh3d": [
           {
            "colorbar": {
             "outlinewidth": 0,
             "ticks": ""
            },
            "type": "mesh3d"
           }
          ],
          "parcoords": [
           {
            "line": {
             "colorbar": {
              "outlinewidth": 0,
              "ticks": ""
             }
            },
            "type": "parcoords"
           }
          ],
          "pie": [
           {
            "automargin": true,
            "type": "pie"
           }
          ],
          "scatter": [
           {
            "fillpattern": {
             "fillmode": "overlay",
             "size": 10,
             "solidity": 0.2
            },
            "type": "scatter"
           }
          ],
          "scatter3d": [
           {
            "line": {
             "colorbar": {
              "outlinewidth": 0,
              "ticks": ""
             }
            },
            "marker": {
             "colorbar": {
              "outlinewidth": 0,
              "ticks": ""
             }
            },
            "type": "scatter3d"
           }
          ],
          "scattercarpet": [
           {
            "marker": {
             "colorbar": {
              "outlinewidth": 0,
              "ticks": ""
             }
            },
            "type": "scattercarpet"
           }
          ],
          "scattergeo": [
           {
            "marker": {
             "colorbar": {
              "outlinewidth": 0,
              "ticks": ""
             }
            },
            "type": "scattergeo"
           }
          ],
          "scattergl": [
           {
            "marker": {
             "colorbar": {
              "outlinewidth": 0,
              "ticks": ""
             }
            },
            "type": "scattergl"
           }
          ],
          "scattermapbox": [
           {
            "marker": {
             "colorbar": {
              "outlinewidth": 0,
              "ticks": ""
             }
            },
            "type": "scattermapbox"
           }
          ],
          "scatterpolar": [
           {
            "marker": {
             "colorbar": {
              "outlinewidth": 0,
              "ticks": ""
             }
            },
            "type": "scatterpolar"
           }
          ],
          "scatterpolargl": [
           {
            "marker": {
             "colorbar": {
              "outlinewidth": 0,
              "ticks": ""
             }
            },
            "type": "scatterpolargl"
           }
          ],
          "scatterternary": [
           {
            "marker": {
             "colorbar": {
              "outlinewidth": 0,
              "ticks": ""
             }
            },
            "type": "scatterternary"
           }
          ],
          "surface": [
           {
            "colorbar": {
             "outlinewidth": 0,
             "ticks": ""
            },
            "colorscale": [
             [
              0,
              "#0d0887"
             ],
             [
              0.1111111111111111,
              "#46039f"
             ],
             [
              0.2222222222222222,
              "#7201a8"
             ],
             [
              0.3333333333333333,
              "#9c179e"
             ],
             [
              0.4444444444444444,
              "#bd3786"
             ],
             [
              0.5555555555555556,
              "#d8576b"
             ],
             [
              0.6666666666666666,
              "#ed7953"
             ],
             [
              0.7777777777777778,
              "#fb9f3a"
             ],
             [
              0.8888888888888888,
              "#fdca26"
             ],
             [
              1,
              "#f0f921"
             ]
            ],
            "type": "surface"
           }
          ],
          "table": [
           {
            "cells": {
             "fill": {
              "color": "#EBF0F8"
             },
             "line": {
              "color": "white"
             }
            },
            "header": {
             "fill": {
              "color": "#C8D4E3"
             },
             "line": {
              "color": "white"
             }
            },
            "type": "table"
           }
          ]
         },
         "layout": {
          "annotationdefaults": {
           "arrowcolor": "#2a3f5f",
           "arrowhead": 0,
           "arrowwidth": 1
          },
          "autotypenumbers": "strict",
          "coloraxis": {
           "colorbar": {
            "outlinewidth": 0,
            "ticks": ""
           }
          },
          "colorscale": {
           "diverging": [
            [
             0,
             "#8e0152"
            ],
            [
             0.1,
             "#c51b7d"
            ],
            [
             0.2,
             "#de77ae"
            ],
            [
             0.3,
             "#f1b6da"
            ],
            [
             0.4,
             "#fde0ef"
            ],
            [
             0.5,
             "#f7f7f7"
            ],
            [
             0.6,
             "#e6f5d0"
            ],
            [
             0.7,
             "#b8e186"
            ],
            [
             0.8,
             "#7fbc41"
            ],
            [
             0.9,
             "#4d9221"
            ],
            [
             1,
             "#276419"
            ]
           ],
           "sequential": [
            [
             0,
             "#0d0887"
            ],
            [
             0.1111111111111111,
             "#46039f"
            ],
            [
             0.2222222222222222,
             "#7201a8"
            ],
            [
             0.3333333333333333,
             "#9c179e"
            ],
            [
             0.4444444444444444,
             "#bd3786"
            ],
            [
             0.5555555555555556,
             "#d8576b"
            ],
            [
             0.6666666666666666,
             "#ed7953"
            ],
            [
             0.7777777777777778,
             "#fb9f3a"
            ],
            [
             0.8888888888888888,
             "#fdca26"
            ],
            [
             1,
             "#f0f921"
            ]
           ],
           "sequentialminus": [
            [
             0,
             "#0d0887"
            ],
            [
             0.1111111111111111,
             "#46039f"
            ],
            [
             0.2222222222222222,
             "#7201a8"
            ],
            [
             0.3333333333333333,
             "#9c179e"
            ],
            [
             0.4444444444444444,
             "#bd3786"
            ],
            [
             0.5555555555555556,
             "#d8576b"
            ],
            [
             0.6666666666666666,
             "#ed7953"
            ],
            [
             0.7777777777777778,
             "#fb9f3a"
            ],
            [
             0.8888888888888888,
             "#fdca26"
            ],
            [
             1,
             "#f0f921"
            ]
           ]
          },
          "colorway": [
           "#636efa",
           "#EF553B",
           "#00cc96",
           "#ab63fa",
           "#FFA15A",
           "#19d3f3",
           "#FF6692",
           "#B6E880",
           "#FF97FF",
           "#FECB52"
          ],
          "font": {
           "color": "#2a3f5f"
          },
          "geo": {
           "bgcolor": "white",
           "lakecolor": "white",
           "landcolor": "#E5ECF6",
           "showlakes": true,
           "showland": true,
           "subunitcolor": "white"
          },
          "hoverlabel": {
           "align": "left"
          },
          "hovermode": "closest",
          "mapbox": {
           "style": "light"
          },
          "paper_bgcolor": "white",
          "plot_bgcolor": "#E5ECF6",
          "polar": {
           "angularaxis": {
            "gridcolor": "white",
            "linecolor": "white",
            "ticks": ""
           },
           "bgcolor": "#E5ECF6",
           "radialaxis": {
            "gridcolor": "white",
            "linecolor": "white",
            "ticks": ""
           }
          },
          "scene": {
           "xaxis": {
            "backgroundcolor": "#E5ECF6",
            "gridcolor": "white",
            "gridwidth": 2,
            "linecolor": "white",
            "showbackground": true,
            "ticks": "",
            "zerolinecolor": "white"
           },
           "yaxis": {
            "backgroundcolor": "#E5ECF6",
            "gridcolor": "white",
            "gridwidth": 2,
            "linecolor": "white",
            "showbackground": true,
            "ticks": "",
            "zerolinecolor": "white"
           },
           "zaxis": {
            "backgroundcolor": "#E5ECF6",
            "gridcolor": "white",
            "gridwidth": 2,
            "linecolor": "white",
            "showbackground": true,
            "ticks": "",
            "zerolinecolor": "white"
           }
          },
          "shapedefaults": {
           "line": {
            "color": "#2a3f5f"
           }
          },
          "ternary": {
           "aaxis": {
            "gridcolor": "white",
            "linecolor": "white",
            "ticks": ""
           },
           "baxis": {
            "gridcolor": "white",
            "linecolor": "white",
            "ticks": ""
           },
           "bgcolor": "#E5ECF6",
           "caxis": {
            "gridcolor": "white",
            "linecolor": "white",
            "ticks": ""
           }
          },
          "title": {
           "x": 0.05
          },
          "xaxis": {
           "automargin": true,
           "gridcolor": "white",
           "linecolor": "white",
           "ticks": "",
           "title": {
            "standoff": 15
           },
           "zerolinecolor": "white",
           "zerolinewidth": 2
          },
          "yaxis": {
           "automargin": true,
           "gridcolor": "white",
           "linecolor": "white",
           "ticks": "",
           "title": {
            "standoff": 15
           },
           "zerolinecolor": "white",
           "zerolinewidth": 2
          }
         }
        },
        "title": {
         "text": "Top 10 streets by venue count"
        },
        "xaxis": {
         "anchor": "y",
         "domain": [
          0,
          1
         ],
         "tickangle": 45,
         "tickfont": {
          "size": 20
         },
         "title": {
          "text": "clean_street_check"
         }
        },
        "yaxis": {
         "anchor": "x",
         "domain": [
          0,
          1
         ],
         "title": {
          "text": "object_name"
         }
        }
       }
      },
      "text/html": [
       "<div>                            <div id=\"f192c59e-76ef-4584-8e5b-b0267bfaa222\" class=\"plotly-graph-div\" style=\"height:525px; width:100%;\"></div>            <script type=\"text/javascript\">                require([\"plotly\"], function(Plotly) {                    window.PLOTLYENV=window.PLOTLYENV || {};                                    if (document.getElementById(\"f192c59e-76ef-4584-8e5b-b0267bfaa222\")) {                    Plotly.newPlot(                        \"f192c59e-76ef-4584-8e5b-b0267bfaa222\",                        [{\"alignmentgroup\":\"True\",\"hovertemplate\":\"clean_street_check=%{x}<br>object_name=%{y}<extra></extra>\",\"legendgroup\":\"\",\"marker\":{\"color\":\"#636efa\",\"pattern\":{\"shape\":\"\"}},\"name\":\"\",\"offsetgroup\":\"\",\"orientation\":\"v\",\"showlegend\":false,\"textposition\":\"auto\",\"x\":[\"sunset\",\"wilshire\",\"pico\",\"western\",\"figueroa\",\"olympic\",\"vermont\",\"santa monica\",\"3rd\",\"hollywood\"],\"xaxis\":\"x\",\"y\":[405,398,371,369,334,309,288,264,263,254],\"yaxis\":\"y\",\"type\":\"bar\"}],                        {\"template\":{\"data\":{\"histogram2dcontour\":[{\"type\":\"histogram2dcontour\",\"colorbar\":{\"outlinewidth\":0,\"ticks\":\"\"},\"colorscale\":[[0.0,\"#0d0887\"],[0.1111111111111111,\"#46039f\"],[0.2222222222222222,\"#7201a8\"],[0.3333333333333333,\"#9c179e\"],[0.4444444444444444,\"#bd3786\"],[0.5555555555555556,\"#d8576b\"],[0.6666666666666666,\"#ed7953\"],[0.7777777777777778,\"#fb9f3a\"],[0.8888888888888888,\"#fdca26\"],[1.0,\"#f0f921\"]]}],\"choropleth\":[{\"type\":\"choropleth\",\"colorbar\":{\"outlinewidth\":0,\"ticks\":\"\"}}],\"histogram2d\":[{\"type\":\"histogram2d\",\"colorbar\":{\"outlinewidth\":0,\"ticks\":\"\"},\"colorscale\":[[0.0,\"#0d0887\"],[0.1111111111111111,\"#46039f\"],[0.2222222222222222,\"#7201a8\"],[0.3333333333333333,\"#9c179e\"],[0.4444444444444444,\"#bd3786\"],[0.5555555555555556,\"#d8576b\"],[0.6666666666666666,\"#ed7953\"],[0.7777777777777778,\"#fb9f3a\"],[0.8888888888888888,\"#fdca26\"],[1.0,\"#f0f921\"]]}],\"heatmap\":[{\"type\":\"heatmap\",\"colorbar\":{\"outlinewidth\":0,\"ticks\":\"\"},\"colorscale\":[[0.0,\"#0d0887\"],[0.1111111111111111,\"#46039f\"],[0.2222222222222222,\"#7201a8\"],[0.3333333333333333,\"#9c179e\"],[0.4444444444444444,\"#bd3786\"],[0.5555555555555556,\"#d8576b\"],[0.6666666666666666,\"#ed7953\"],[0.7777777777777778,\"#fb9f3a\"],[0.8888888888888888,\"#fdca26\"],[1.0,\"#f0f921\"]]}],\"heatmapgl\":[{\"type\":\"heatmapgl\",\"colorbar\":{\"outlinewidth\":0,\"ticks\":\"\"},\"colorscale\":[[0.0,\"#0d0887\"],[0.1111111111111111,\"#46039f\"],[0.2222222222222222,\"#7201a8\"],[0.3333333333333333,\"#9c179e\"],[0.4444444444444444,\"#bd3786\"],[0.5555555555555556,\"#d8576b\"],[0.6666666666666666,\"#ed7953\"],[0.7777777777777778,\"#fb9f3a\"],[0.8888888888888888,\"#fdca26\"],[1.0,\"#f0f921\"]]}],\"contourcarpet\":[{\"type\":\"contourcarpet\",\"colorbar\":{\"outlinewidth\":0,\"ticks\":\"\"}}],\"contour\":[{\"type\":\"contour\",\"colorbar\":{\"outlinewidth\":0,\"ticks\":\"\"},\"colorscale\":[[0.0,\"#0d0887\"],[0.1111111111111111,\"#46039f\"],[0.2222222222222222,\"#7201a8\"],[0.3333333333333333,\"#9c179e\"],[0.4444444444444444,\"#bd3786\"],[0.5555555555555556,\"#d8576b\"],[0.6666666666666666,\"#ed7953\"],[0.7777777777777778,\"#fb9f3a\"],[0.8888888888888888,\"#fdca26\"],[1.0,\"#f0f921\"]]}],\"surface\":[{\"type\":\"surface\",\"colorbar\":{\"outlinewidth\":0,\"ticks\":\"\"},\"colorscale\":[[0.0,\"#0d0887\"],[0.1111111111111111,\"#46039f\"],[0.2222222222222222,\"#7201a8\"],[0.3333333333333333,\"#9c179e\"],[0.4444444444444444,\"#bd3786\"],[0.5555555555555556,\"#d8576b\"],[0.6666666666666666,\"#ed7953\"],[0.7777777777777778,\"#fb9f3a\"],[0.8888888888888888,\"#fdca26\"],[1.0,\"#f0f921\"]]}],\"mesh3d\":[{\"type\":\"mesh3d\",\"colorbar\":{\"outlinewidth\":0,\"ticks\":\"\"}}],\"scatter\":[{\"fillpattern\":{\"fillmode\":\"overlay\",\"size\":10,\"solidity\":0.2},\"type\":\"scatter\"}],\"parcoords\":[{\"type\":\"parcoords\",\"line\":{\"colorbar\":{\"outlinewidth\":0,\"ticks\":\"\"}}}],\"scatterpolargl\":[{\"type\":\"scatterpolargl\",\"marker\":{\"colorbar\":{\"outlinewidth\":0,\"ticks\":\"\"}}}],\"bar\":[{\"error_x\":{\"color\":\"#2a3f5f\"},\"error_y\":{\"color\":\"#2a3f5f\"},\"marker\":{\"line\":{\"color\":\"#E5ECF6\",\"width\":0.5},\"pattern\":{\"fillmode\":\"overlay\",\"size\":10,\"solidity\":0.2}},\"type\":\"bar\"}],\"scattergeo\":[{\"type\":\"scattergeo\",\"marker\":{\"colorbar\":{\"outlinewidth\":0,\"ticks\":\"\"}}}],\"scatterpolar\":[{\"type\":\"scatterpolar\",\"marker\":{\"colorbar\":{\"outlinewidth\":0,\"ticks\":\"\"}}}],\"histogram\":[{\"marker\":{\"pattern\":{\"fillmode\":\"overlay\",\"size\":10,\"solidity\":0.2}},\"type\":\"histogram\"}],\"scattergl\":[{\"type\":\"scattergl\",\"marker\":{\"colorbar\":{\"outlinewidth\":0,\"ticks\":\"\"}}}],\"scatter3d\":[{\"type\":\"scatter3d\",\"line\":{\"colorbar\":{\"outlinewidth\":0,\"ticks\":\"\"}},\"marker\":{\"colorbar\":{\"outlinewidth\":0,\"ticks\":\"\"}}}],\"scattermapbox\":[{\"type\":\"scattermapbox\",\"marker\":{\"colorbar\":{\"outlinewidth\":0,\"ticks\":\"\"}}}],\"scatterternary\":[{\"type\":\"scatterternary\",\"marker\":{\"colorbar\":{\"outlinewidth\":0,\"ticks\":\"\"}}}],\"scattercarpet\":[{\"type\":\"scattercarpet\",\"marker\":{\"colorbar\":{\"outlinewidth\":0,\"ticks\":\"\"}}}],\"carpet\":[{\"aaxis\":{\"endlinecolor\":\"#2a3f5f\",\"gridcolor\":\"white\",\"linecolor\":\"white\",\"minorgridcolor\":\"white\",\"startlinecolor\":\"#2a3f5f\"},\"baxis\":{\"endlinecolor\":\"#2a3f5f\",\"gridcolor\":\"white\",\"linecolor\":\"white\",\"minorgridcolor\":\"white\",\"startlinecolor\":\"#2a3f5f\"},\"type\":\"carpet\"}],\"table\":[{\"cells\":{\"fill\":{\"color\":\"#EBF0F8\"},\"line\":{\"color\":\"white\"}},\"header\":{\"fill\":{\"color\":\"#C8D4E3\"},\"line\":{\"color\":\"white\"}},\"type\":\"table\"}],\"barpolar\":[{\"marker\":{\"line\":{\"color\":\"#E5ECF6\",\"width\":0.5},\"pattern\":{\"fillmode\":\"overlay\",\"size\":10,\"solidity\":0.2}},\"type\":\"barpolar\"}],\"pie\":[{\"automargin\":true,\"type\":\"pie\"}]},\"layout\":{\"autotypenumbers\":\"strict\",\"colorway\":[\"#636efa\",\"#EF553B\",\"#00cc96\",\"#ab63fa\",\"#FFA15A\",\"#19d3f3\",\"#FF6692\",\"#B6E880\",\"#FF97FF\",\"#FECB52\"],\"font\":{\"color\":\"#2a3f5f\"},\"hovermode\":\"closest\",\"hoverlabel\":{\"align\":\"left\"},\"paper_bgcolor\":\"white\",\"plot_bgcolor\":\"#E5ECF6\",\"polar\":{\"bgcolor\":\"#E5ECF6\",\"angularaxis\":{\"gridcolor\":\"white\",\"linecolor\":\"white\",\"ticks\":\"\"},\"radialaxis\":{\"gridcolor\":\"white\",\"linecolor\":\"white\",\"ticks\":\"\"}},\"ternary\":{\"bgcolor\":\"#E5ECF6\",\"aaxis\":{\"gridcolor\":\"white\",\"linecolor\":\"white\",\"ticks\":\"\"},\"baxis\":{\"gridcolor\":\"white\",\"linecolor\":\"white\",\"ticks\":\"\"},\"caxis\":{\"gridcolor\":\"white\",\"linecolor\":\"white\",\"ticks\":\"\"}},\"coloraxis\":{\"colorbar\":{\"outlinewidth\":0,\"ticks\":\"\"}},\"colorscale\":{\"sequential\":[[0.0,\"#0d0887\"],[0.1111111111111111,\"#46039f\"],[0.2222222222222222,\"#7201a8\"],[0.3333333333333333,\"#9c179e\"],[0.4444444444444444,\"#bd3786\"],[0.5555555555555556,\"#d8576b\"],[0.6666666666666666,\"#ed7953\"],[0.7777777777777778,\"#fb9f3a\"],[0.8888888888888888,\"#fdca26\"],[1.0,\"#f0f921\"]],\"sequentialminus\":[[0.0,\"#0d0887\"],[0.1111111111111111,\"#46039f\"],[0.2222222222222222,\"#7201a8\"],[0.3333333333333333,\"#9c179e\"],[0.4444444444444444,\"#bd3786\"],[0.5555555555555556,\"#d8576b\"],[0.6666666666666666,\"#ed7953\"],[0.7777777777777778,\"#fb9f3a\"],[0.8888888888888888,\"#fdca26\"],[1.0,\"#f0f921\"]],\"diverging\":[[0,\"#8e0152\"],[0.1,\"#c51b7d\"],[0.2,\"#de77ae\"],[0.3,\"#f1b6da\"],[0.4,\"#fde0ef\"],[0.5,\"#f7f7f7\"],[0.6,\"#e6f5d0\"],[0.7,\"#b8e186\"],[0.8,\"#7fbc41\"],[0.9,\"#4d9221\"],[1,\"#276419\"]]},\"xaxis\":{\"gridcolor\":\"white\",\"linecolor\":\"white\",\"ticks\":\"\",\"title\":{\"standoff\":15},\"zerolinecolor\":\"white\",\"automargin\":true,\"zerolinewidth\":2},\"yaxis\":{\"gridcolor\":\"white\",\"linecolor\":\"white\",\"ticks\":\"\",\"title\":{\"standoff\":15},\"zerolinecolor\":\"white\",\"automargin\":true,\"zerolinewidth\":2},\"scene\":{\"xaxis\":{\"backgroundcolor\":\"#E5ECF6\",\"gridcolor\":\"white\",\"linecolor\":\"white\",\"showbackground\":true,\"ticks\":\"\",\"zerolinecolor\":\"white\",\"gridwidth\":2},\"yaxis\":{\"backgroundcolor\":\"#E5ECF6\",\"gridcolor\":\"white\",\"linecolor\":\"white\",\"showbackground\":true,\"ticks\":\"\",\"zerolinecolor\":\"white\",\"gridwidth\":2},\"zaxis\":{\"backgroundcolor\":\"#E5ECF6\",\"gridcolor\":\"white\",\"linecolor\":\"white\",\"showbackground\":true,\"ticks\":\"\",\"zerolinecolor\":\"white\",\"gridwidth\":2}},\"shapedefaults\":{\"line\":{\"color\":\"#2a3f5f\"}},\"annotationdefaults\":{\"arrowcolor\":\"#2a3f5f\",\"arrowhead\":0,\"arrowwidth\":1},\"geo\":{\"bgcolor\":\"white\",\"landcolor\":\"#E5ECF6\",\"subunitcolor\":\"white\",\"showland\":true,\"showlakes\":true,\"lakecolor\":\"white\"},\"title\":{\"x\":0.05},\"mapbox\":{\"style\":\"light\"}}},\"xaxis\":{\"anchor\":\"y\",\"domain\":[0.0,1.0],\"title\":{\"text\":\"clean_street_check\"},\"tickfont\":{\"size\":20},\"tickangle\":45},\"yaxis\":{\"anchor\":\"x\",\"domain\":[0.0,1.0],\"title\":{\"text\":\"object_name\"}},\"legend\":{\"tracegroupgap\":0},\"title\":{\"text\":\"Top 10 streets by venue count\"},\"barmode\":\"relative\"},                        {\"responsive\": true}                    ).then(function(){\n",
       "                            \n",
       "var gd = document.getElementById('f192c59e-76ef-4584-8e5b-b0267bfaa222');\n",
       "var x = new MutationObserver(function (mutations, observer) {{\n",
       "        var display = window.getComputedStyle(gd).display;\n",
       "        if (!display || display === 'none') {{\n",
       "            console.log([gd, 'removed!']);\n",
       "            Plotly.purge(gd);\n",
       "            observer.disconnect();\n",
       "        }}\n",
       "}});\n",
       "\n",
       "// Listen for the removal of the full notebook cells\n",
       "var notebookContainer = gd.closest('#notebook-container');\n",
       "if (notebookContainer) {{\n",
       "    x.observe(notebookContainer, {childList: true});\n",
       "}}\n",
       "\n",
       "// Listen for the clearing of the current output cell\n",
       "var outputEl = gd.closest('.output');\n",
       "if (outputEl) {{\n",
       "    x.observe(outputEl, {childList: true});\n",
       "}}\n",
       "\n",
       "                        })                };                });            </script>        </div>"
      ]
     },
     "metadata": {},
     "output_type": "display_data"
    }
   ],
   "source": [
    "#Visualising the data\n",
    "\n",
    "fig = px.bar(rest10, x='clean_street_check', y='object_name', title='Top 10 streets by venue count')\n",
    "fig.update_layout(\n",
    "xaxis = dict(\n",
    "tickfont = dict(size=20)))\n",
    "fig.update_xaxes(tickangle=45)\n",
    "\n",
    "fig.show() "
   ]
  },
  {
   "cell_type": "code",
   "execution_count": 58,
   "metadata": {},
   "outputs": [
    {
     "data": {
      "text/html": [
       "<div>\n",
       "<style scoped>\n",
       "    .dataframe tbody tr th:only-of-type {\n",
       "        vertical-align: middle;\n",
       "    }\n",
       "\n",
       "    .dataframe tbody tr th {\n",
       "        vertical-align: top;\n",
       "    }\n",
       "\n",
       "    .dataframe thead th {\n",
       "        text-align: right;\n",
       "    }\n",
       "</style>\n",
       "<table border=\"1\" class=\"dataframe\">\n",
       "  <thead>\n",
       "    <tr style=\"text-align: right;\">\n",
       "      <th></th>\n",
       "      <th>clean_street_check</th>\n",
       "      <th>object_name</th>\n",
       "    </tr>\n",
       "  </thead>\n",
       "  <tbody>\n",
       "    <tr>\n",
       "      <th>0</th>\n",
       "      <td>1/4 fair park</td>\n",
       "      <td>1</td>\n",
       "    </tr>\n",
       "    <tr>\n",
       "      <th>1</th>\n",
       "      <td>103</td>\n",
       "      <td>1</td>\n",
       "    </tr>\n",
       "    <tr>\n",
       "      <th>3</th>\n",
       "      <td>10th</td>\n",
       "      <td>1</td>\n",
       "    </tr>\n",
       "    <tr>\n",
       "      <th>8</th>\n",
       "      <td>16th</td>\n",
       "      <td>1</td>\n",
       "    </tr>\n",
       "    <tr>\n",
       "      <th>9</th>\n",
       "      <td>17th</td>\n",
       "      <td>1</td>\n",
       "    </tr>\n",
       "  </tbody>\n",
       "</table>\n",
       "</div>"
      ],
      "text/plain": [
       "  clean_street_check  object_name\n",
       "0      1/4 fair park            1\n",
       "1                103            1\n",
       "3               10th            1\n",
       "8               16th            1\n",
       "9               17th            1"
      ]
     },
     "execution_count": 58,
     "metadata": {},
     "output_type": "execute_result"
    }
   ],
   "source": [
    "#Finding the number of streets that only have one restaurant.\n",
    "one_rest_streets = rest_streets[rest_streets['object_name'] ==1]\n",
    "one_rest_streets.head()"
   ]
  },
  {
   "cell_type": "code",
   "execution_count": 59,
   "metadata": {},
   "outputs": [
    {
     "data": {
      "text/plain": [
       "196"
      ]
     },
     "execution_count": 59,
     "metadata": {},
     "output_type": "execute_result"
    }
   ],
   "source": [
    "one_rest_streets.shape[0]"
   ]
  },
  {
   "cell_type": "markdown",
   "metadata": {},
   "source": [
    "## Trends in  of average seats for top streets"
   ]
  },
  {
   "cell_type": "code",
   "execution_count": 60,
   "metadata": {
    "scrolled": true
   },
   "outputs": [
    {
     "data": {
      "text/html": [
       "<div>\n",
       "<style scoped>\n",
       "    .dataframe tbody tr th:only-of-type {\n",
       "        vertical-align: middle;\n",
       "    }\n",
       "\n",
       "    .dataframe tbody tr th {\n",
       "        vertical-align: top;\n",
       "    }\n",
       "\n",
       "    .dataframe thead th {\n",
       "        text-align: right;\n",
       "    }\n",
       "</style>\n",
       "<table border=\"1\" class=\"dataframe\">\n",
       "  <thead>\n",
       "    <tr style=\"text-align: right;\">\n",
       "      <th></th>\n",
       "      <th>clean_street_check</th>\n",
       "      <th>number</th>\n",
       "    </tr>\n",
       "  </thead>\n",
       "  <tbody>\n",
       "    <tr>\n",
       "      <th>2</th>\n",
       "      <td>hollywood</td>\n",
       "      <td>56.842520</td>\n",
       "    </tr>\n",
       "    <tr>\n",
       "      <th>9</th>\n",
       "      <td>wilshire</td>\n",
       "      <td>52.655779</td>\n",
       "    </tr>\n",
       "    <tr>\n",
       "      <th>3</th>\n",
       "      <td>olympic</td>\n",
       "      <td>49.339806</td>\n",
       "    </tr>\n",
       "    <tr>\n",
       "      <th>6</th>\n",
       "      <td>sunset</td>\n",
       "      <td>47.903704</td>\n",
       "    </tr>\n",
       "    <tr>\n",
       "      <th>7</th>\n",
       "      <td>vermont</td>\n",
       "      <td>45.371528</td>\n",
       "    </tr>\n",
       "    <tr>\n",
       "      <th>1</th>\n",
       "      <td>figueroa</td>\n",
       "      <td>45.050898</td>\n",
       "    </tr>\n",
       "    <tr>\n",
       "      <th>8</th>\n",
       "      <td>western</td>\n",
       "      <td>41.344173</td>\n",
       "    </tr>\n",
       "    <tr>\n",
       "      <th>4</th>\n",
       "      <td>pico</td>\n",
       "      <td>40.544474</td>\n",
       "    </tr>\n",
       "    <tr>\n",
       "      <th>0</th>\n",
       "      <td>3rd</td>\n",
       "      <td>40.532319</td>\n",
       "    </tr>\n",
       "    <tr>\n",
       "      <th>5</th>\n",
       "      <td>santa monica</td>\n",
       "      <td>35.045455</td>\n",
       "    </tr>\n",
       "  </tbody>\n",
       "</table>\n",
       "</div>"
      ],
      "text/plain": [
       "  clean_street_check     number\n",
       "2          hollywood  56.842520\n",
       "9           wilshire  52.655779\n",
       "3            olympic  49.339806\n",
       "6             sunset  47.903704\n",
       "7            vermont  45.371528\n",
       "1           figueroa  45.050898\n",
       "8            western  41.344173\n",
       "4               pico  40.544474\n",
       "0                3rd  40.532319\n",
       "5       santa monica  35.045455"
      ]
     },
     "execution_count": 60,
     "metadata": {},
     "output_type": "execute_result"
    }
   ],
   "source": [
    "#finding the average seat number per street in the top ten streets\n",
    "rest_list = []\n",
    "for i in rest10.clean_street_check:\n",
    "    rest_list.append(i)\n",
    "top10 = rest[rest['clean_street_check'].isin(rest_list)]\n",
    "top_10_seats = top10.groupby('clean_street_check')['number'].mean().reset_index()\n",
    "top_10_seats = top_10_seats.sort_values(by = 'number',ascending = False)\n",
    "top_10_seats"
   ]
  },
  {
   "cell_type": "code",
   "execution_count": 61,
   "metadata": {},
   "outputs": [
    {
     "data": {
      "application/vnd.plotly.v1+json": {
       "config": {
        "plotlyServerURL": "https://plot.ly"
       },
       "data": [
        {
         "alignmentgroup": "True",
         "hovertemplate": "clean_street_check=%{x}<br>number=%{y}<extra></extra>",
         "legendgroup": "",
         "marker": {
          "color": "#636efa",
          "pattern": {
           "shape": ""
          }
         },
         "name": "",
         "offsetgroup": "",
         "orientation": "v",
         "showlegend": false,
         "textposition": "auto",
         "type": "bar",
         "x": [
          "hollywood",
          "wilshire",
          "olympic",
          "sunset",
          "vermont",
          "figueroa",
          "western",
          "pico",
          "3rd",
          "santa monica"
         ],
         "xaxis": "x",
         "y": [
          56.84251968503937,
          52.65577889447236,
          49.33980582524272,
          47.903703703703705,
          45.37152777777778,
          45.050898203592816,
          41.34417344173442,
          40.544474393531,
          40.53231939163498,
          35.04545454545455
         ],
         "yaxis": "y"
        }
       ],
       "layout": {
        "barmode": "relative",
        "legend": {
         "tracegroupgap": 0
        },
        "template": {
         "data": {
          "bar": [
           {
            "error_x": {
             "color": "#2a3f5f"
            },
            "error_y": {
             "color": "#2a3f5f"
            },
            "marker": {
             "line": {
              "color": "#E5ECF6",
              "width": 0.5
             },
             "pattern": {
              "fillmode": "overlay",
              "size": 10,
              "solidity": 0.2
             }
            },
            "type": "bar"
           }
          ],
          "barpolar": [
           {
            "marker": {
             "line": {
              "color": "#E5ECF6",
              "width": 0.5
             },
             "pattern": {
              "fillmode": "overlay",
              "size": 10,
              "solidity": 0.2
             }
            },
            "type": "barpolar"
           }
          ],
          "carpet": [
           {
            "aaxis": {
             "endlinecolor": "#2a3f5f",
             "gridcolor": "white",
             "linecolor": "white",
             "minorgridcolor": "white",
             "startlinecolor": "#2a3f5f"
            },
            "baxis": {
             "endlinecolor": "#2a3f5f",
             "gridcolor": "white",
             "linecolor": "white",
             "minorgridcolor": "white",
             "startlinecolor": "#2a3f5f"
            },
            "type": "carpet"
           }
          ],
          "choropleth": [
           {
            "colorbar": {
             "outlinewidth": 0,
             "ticks": ""
            },
            "type": "choropleth"
           }
          ],
          "contour": [
           {
            "colorbar": {
             "outlinewidth": 0,
             "ticks": ""
            },
            "colorscale": [
             [
              0,
              "#0d0887"
             ],
             [
              0.1111111111111111,
              "#46039f"
             ],
             [
              0.2222222222222222,
              "#7201a8"
             ],
             [
              0.3333333333333333,
              "#9c179e"
             ],
             [
              0.4444444444444444,
              "#bd3786"
             ],
             [
              0.5555555555555556,
              "#d8576b"
             ],
             [
              0.6666666666666666,
              "#ed7953"
             ],
             [
              0.7777777777777778,
              "#fb9f3a"
             ],
             [
              0.8888888888888888,
              "#fdca26"
             ],
             [
              1,
              "#f0f921"
             ]
            ],
            "type": "contour"
           }
          ],
          "contourcarpet": [
           {
            "colorbar": {
             "outlinewidth": 0,
             "ticks": ""
            },
            "type": "contourcarpet"
           }
          ],
          "heatmap": [
           {
            "colorbar": {
             "outlinewidth": 0,
             "ticks": ""
            },
            "colorscale": [
             [
              0,
              "#0d0887"
             ],
             [
              0.1111111111111111,
              "#46039f"
             ],
             [
              0.2222222222222222,
              "#7201a8"
             ],
             [
              0.3333333333333333,
              "#9c179e"
             ],
             [
              0.4444444444444444,
              "#bd3786"
             ],
             [
              0.5555555555555556,
              "#d8576b"
             ],
             [
              0.6666666666666666,
              "#ed7953"
             ],
             [
              0.7777777777777778,
              "#fb9f3a"
             ],
             [
              0.8888888888888888,
              "#fdca26"
             ],
             [
              1,
              "#f0f921"
             ]
            ],
            "type": "heatmap"
           }
          ],
          "heatmapgl": [
           {
            "colorbar": {
             "outlinewidth": 0,
             "ticks": ""
            },
            "colorscale": [
             [
              0,
              "#0d0887"
             ],
             [
              0.1111111111111111,
              "#46039f"
             ],
             [
              0.2222222222222222,
              "#7201a8"
             ],
             [
              0.3333333333333333,
              "#9c179e"
             ],
             [
              0.4444444444444444,
              "#bd3786"
             ],
             [
              0.5555555555555556,
              "#d8576b"
             ],
             [
              0.6666666666666666,
              "#ed7953"
             ],
             [
              0.7777777777777778,
              "#fb9f3a"
             ],
             [
              0.8888888888888888,
              "#fdca26"
             ],
             [
              1,
              "#f0f921"
             ]
            ],
            "type": "heatmapgl"
           }
          ],
          "histogram": [
           {
            "marker": {
             "pattern": {
              "fillmode": "overlay",
              "size": 10,
              "solidity": 0.2
             }
            },
            "type": "histogram"
           }
          ],
          "histogram2d": [
           {
            "colorbar": {
             "outlinewidth": 0,
             "ticks": ""
            },
            "colorscale": [
             [
              0,
              "#0d0887"
             ],
             [
              0.1111111111111111,
              "#46039f"
             ],
             [
              0.2222222222222222,
              "#7201a8"
             ],
             [
              0.3333333333333333,
              "#9c179e"
             ],
             [
              0.4444444444444444,
              "#bd3786"
             ],
             [
              0.5555555555555556,
              "#d8576b"
             ],
             [
              0.6666666666666666,
              "#ed7953"
             ],
             [
              0.7777777777777778,
              "#fb9f3a"
             ],
             [
              0.8888888888888888,
              "#fdca26"
             ],
             [
              1,
              "#f0f921"
             ]
            ],
            "type": "histogram2d"
           }
          ],
          "histogram2dcontour": [
           {
            "colorbar": {
             "outlinewidth": 0,
             "ticks": ""
            },
            "colorscale": [
             [
              0,
              "#0d0887"
             ],
             [
              0.1111111111111111,
              "#46039f"
             ],
             [
              0.2222222222222222,
              "#7201a8"
             ],
             [
              0.3333333333333333,
              "#9c179e"
             ],
             [
              0.4444444444444444,
              "#bd3786"
             ],
             [
              0.5555555555555556,
              "#d8576b"
             ],
             [
              0.6666666666666666,
              "#ed7953"
             ],
             [
              0.7777777777777778,
              "#fb9f3a"
             ],
             [
              0.8888888888888888,
              "#fdca26"
             ],
             [
              1,
              "#f0f921"
             ]
            ],
            "type": "histogram2dcontour"
           }
          ],
          "mesh3d": [
           {
            "colorbar": {
             "outlinewidth": 0,
             "ticks": ""
            },
            "type": "mesh3d"
           }
          ],
          "parcoords": [
           {
            "line": {
             "colorbar": {
              "outlinewidth": 0,
              "ticks": ""
             }
            },
            "type": "parcoords"
           }
          ],
          "pie": [
           {
            "automargin": true,
            "type": "pie"
           }
          ],
          "scatter": [
           {
            "fillpattern": {
             "fillmode": "overlay",
             "size": 10,
             "solidity": 0.2
            },
            "type": "scatter"
           }
          ],
          "scatter3d": [
           {
            "line": {
             "colorbar": {
              "outlinewidth": 0,
              "ticks": ""
             }
            },
            "marker": {
             "colorbar": {
              "outlinewidth": 0,
              "ticks": ""
             }
            },
            "type": "scatter3d"
           }
          ],
          "scattercarpet": [
           {
            "marker": {
             "colorbar": {
              "outlinewidth": 0,
              "ticks": ""
             }
            },
            "type": "scattercarpet"
           }
          ],
          "scattergeo": [
           {
            "marker": {
             "colorbar": {
              "outlinewidth": 0,
              "ticks": ""
             }
            },
            "type": "scattergeo"
           }
          ],
          "scattergl": [
           {
            "marker": {
             "colorbar": {
              "outlinewidth": 0,
              "ticks": ""
             }
            },
            "type": "scattergl"
           }
          ],
          "scattermapbox": [
           {
            "marker": {
             "colorbar": {
              "outlinewidth": 0,
              "ticks": ""
             }
            },
            "type": "scattermapbox"
           }
          ],
          "scatterpolar": [
           {
            "marker": {
             "colorbar": {
              "outlinewidth": 0,
              "ticks": ""
             }
            },
            "type": "scatterpolar"
           }
          ],
          "scatterpolargl": [
           {
            "marker": {
             "colorbar": {
              "outlinewidth": 0,
              "ticks": ""
             }
            },
            "type": "scatterpolargl"
           }
          ],
          "scatterternary": [
           {
            "marker": {
             "colorbar": {
              "outlinewidth": 0,
              "ticks": ""
             }
            },
            "type": "scatterternary"
           }
          ],
          "surface": [
           {
            "colorbar": {
             "outlinewidth": 0,
             "ticks": ""
            },
            "colorscale": [
             [
              0,
              "#0d0887"
             ],
             [
              0.1111111111111111,
              "#46039f"
             ],
             [
              0.2222222222222222,
              "#7201a8"
             ],
             [
              0.3333333333333333,
              "#9c179e"
             ],
             [
              0.4444444444444444,
              "#bd3786"
             ],
             [
              0.5555555555555556,
              "#d8576b"
             ],
             [
              0.6666666666666666,
              "#ed7953"
             ],
             [
              0.7777777777777778,
              "#fb9f3a"
             ],
             [
              0.8888888888888888,
              "#fdca26"
             ],
             [
              1,
              "#f0f921"
             ]
            ],
            "type": "surface"
           }
          ],
          "table": [
           {
            "cells": {
             "fill": {
              "color": "#EBF0F8"
             },
             "line": {
              "color": "white"
             }
            },
            "header": {
             "fill": {
              "color": "#C8D4E3"
             },
             "line": {
              "color": "white"
             }
            },
            "type": "table"
           }
          ]
         },
         "layout": {
          "annotationdefaults": {
           "arrowcolor": "#2a3f5f",
           "arrowhead": 0,
           "arrowwidth": 1
          },
          "autotypenumbers": "strict",
          "coloraxis": {
           "colorbar": {
            "outlinewidth": 0,
            "ticks": ""
           }
          },
          "colorscale": {
           "diverging": [
            [
             0,
             "#8e0152"
            ],
            [
             0.1,
             "#c51b7d"
            ],
            [
             0.2,
             "#de77ae"
            ],
            [
             0.3,
             "#f1b6da"
            ],
            [
             0.4,
             "#fde0ef"
            ],
            [
             0.5,
             "#f7f7f7"
            ],
            [
             0.6,
             "#e6f5d0"
            ],
            [
             0.7,
             "#b8e186"
            ],
            [
             0.8,
             "#7fbc41"
            ],
            [
             0.9,
             "#4d9221"
            ],
            [
             1,
             "#276419"
            ]
           ],
           "sequential": [
            [
             0,
             "#0d0887"
            ],
            [
             0.1111111111111111,
             "#46039f"
            ],
            [
             0.2222222222222222,
             "#7201a8"
            ],
            [
             0.3333333333333333,
             "#9c179e"
            ],
            [
             0.4444444444444444,
             "#bd3786"
            ],
            [
             0.5555555555555556,
             "#d8576b"
            ],
            [
             0.6666666666666666,
             "#ed7953"
            ],
            [
             0.7777777777777778,
             "#fb9f3a"
            ],
            [
             0.8888888888888888,
             "#fdca26"
            ],
            [
             1,
             "#f0f921"
            ]
           ],
           "sequentialminus": [
            [
             0,
             "#0d0887"
            ],
            [
             0.1111111111111111,
             "#46039f"
            ],
            [
             0.2222222222222222,
             "#7201a8"
            ],
            [
             0.3333333333333333,
             "#9c179e"
            ],
            [
             0.4444444444444444,
             "#bd3786"
            ],
            [
             0.5555555555555556,
             "#d8576b"
            ],
            [
             0.6666666666666666,
             "#ed7953"
            ],
            [
             0.7777777777777778,
             "#fb9f3a"
            ],
            [
             0.8888888888888888,
             "#fdca26"
            ],
            [
             1,
             "#f0f921"
            ]
           ]
          },
          "colorway": [
           "#636efa",
           "#EF553B",
           "#00cc96",
           "#ab63fa",
           "#FFA15A",
           "#19d3f3",
           "#FF6692",
           "#B6E880",
           "#FF97FF",
           "#FECB52"
          ],
          "font": {
           "color": "#2a3f5f"
          },
          "geo": {
           "bgcolor": "white",
           "lakecolor": "white",
           "landcolor": "#E5ECF6",
           "showlakes": true,
           "showland": true,
           "subunitcolor": "white"
          },
          "hoverlabel": {
           "align": "left"
          },
          "hovermode": "closest",
          "mapbox": {
           "style": "light"
          },
          "paper_bgcolor": "white",
          "plot_bgcolor": "#E5ECF6",
          "polar": {
           "angularaxis": {
            "gridcolor": "white",
            "linecolor": "white",
            "ticks": ""
           },
           "bgcolor": "#E5ECF6",
           "radialaxis": {
            "gridcolor": "white",
            "linecolor": "white",
            "ticks": ""
           }
          },
          "scene": {
           "xaxis": {
            "backgroundcolor": "#E5ECF6",
            "gridcolor": "white",
            "gridwidth": 2,
            "linecolor": "white",
            "showbackground": true,
            "ticks": "",
            "zerolinecolor": "white"
           },
           "yaxis": {
            "backgroundcolor": "#E5ECF6",
            "gridcolor": "white",
            "gridwidth": 2,
            "linecolor": "white",
            "showbackground": true,
            "ticks": "",
            "zerolinecolor": "white"
           },
           "zaxis": {
            "backgroundcolor": "#E5ECF6",
            "gridcolor": "white",
            "gridwidth": 2,
            "linecolor": "white",
            "showbackground": true,
            "ticks": "",
            "zerolinecolor": "white"
           }
          },
          "shapedefaults": {
           "line": {
            "color": "#2a3f5f"
           }
          },
          "ternary": {
           "aaxis": {
            "gridcolor": "white",
            "linecolor": "white",
            "ticks": ""
           },
           "baxis": {
            "gridcolor": "white",
            "linecolor": "white",
            "ticks": ""
           },
           "bgcolor": "#E5ECF6",
           "caxis": {
            "gridcolor": "white",
            "linecolor": "white",
            "ticks": ""
           }
          },
          "title": {
           "x": 0.05
          },
          "xaxis": {
           "automargin": true,
           "gridcolor": "white",
           "linecolor": "white",
           "ticks": "",
           "title": {
            "standoff": 15
           },
           "zerolinecolor": "white",
           "zerolinewidth": 2
          },
          "yaxis": {
           "automargin": true,
           "gridcolor": "white",
           "linecolor": "white",
           "ticks": "",
           "title": {
            "standoff": 15
           },
           "zerolinecolor": "white",
           "zerolinewidth": 2
          }
         }
        },
        "title": {
         "text": "Top 10 streets seats Distribution "
        },
        "xaxis": {
         "anchor": "y",
         "domain": [
          0,
          1
         ],
         "tickangle": 45,
         "tickfont": {
          "size": 20
         },
         "title": {
          "text": "clean_street_check"
         }
        },
        "yaxis": {
         "anchor": "x",
         "domain": [
          0,
          1
         ],
         "title": {
          "text": "number"
         }
        }
       }
      },
      "text/html": [
       "<div>                            <div id=\"9d430836-3f84-45d1-ab9f-06874949513b\" class=\"plotly-graph-div\" style=\"height:525px; width:100%;\"></div>            <script type=\"text/javascript\">                require([\"plotly\"], function(Plotly) {                    window.PLOTLYENV=window.PLOTLYENV || {};                                    if (document.getElementById(\"9d430836-3f84-45d1-ab9f-06874949513b\")) {                    Plotly.newPlot(                        \"9d430836-3f84-45d1-ab9f-06874949513b\",                        [{\"alignmentgroup\":\"True\",\"hovertemplate\":\"clean_street_check=%{x}<br>number=%{y}<extra></extra>\",\"legendgroup\":\"\",\"marker\":{\"color\":\"#636efa\",\"pattern\":{\"shape\":\"\"}},\"name\":\"\",\"offsetgroup\":\"\",\"orientation\":\"v\",\"showlegend\":false,\"textposition\":\"auto\",\"x\":[\"hollywood\",\"wilshire\",\"olympic\",\"sunset\",\"vermont\",\"figueroa\",\"western\",\"pico\",\"3rd\",\"santa monica\"],\"xaxis\":\"x\",\"y\":[56.84251968503937,52.65577889447236,49.33980582524272,47.903703703703705,45.37152777777778,45.050898203592816,41.34417344173442,40.544474393531,40.53231939163498,35.04545454545455],\"yaxis\":\"y\",\"type\":\"bar\"}],                        {\"template\":{\"data\":{\"histogram2dcontour\":[{\"type\":\"histogram2dcontour\",\"colorbar\":{\"outlinewidth\":0,\"ticks\":\"\"},\"colorscale\":[[0.0,\"#0d0887\"],[0.1111111111111111,\"#46039f\"],[0.2222222222222222,\"#7201a8\"],[0.3333333333333333,\"#9c179e\"],[0.4444444444444444,\"#bd3786\"],[0.5555555555555556,\"#d8576b\"],[0.6666666666666666,\"#ed7953\"],[0.7777777777777778,\"#fb9f3a\"],[0.8888888888888888,\"#fdca26\"],[1.0,\"#f0f921\"]]}],\"choropleth\":[{\"type\":\"choropleth\",\"colorbar\":{\"outlinewidth\":0,\"ticks\":\"\"}}],\"histogram2d\":[{\"type\":\"histogram2d\",\"colorbar\":{\"outlinewidth\":0,\"ticks\":\"\"},\"colorscale\":[[0.0,\"#0d0887\"],[0.1111111111111111,\"#46039f\"],[0.2222222222222222,\"#7201a8\"],[0.3333333333333333,\"#9c179e\"],[0.4444444444444444,\"#bd3786\"],[0.5555555555555556,\"#d8576b\"],[0.6666666666666666,\"#ed7953\"],[0.7777777777777778,\"#fb9f3a\"],[0.8888888888888888,\"#fdca26\"],[1.0,\"#f0f921\"]]}],\"heatmap\":[{\"type\":\"heatmap\",\"colorbar\":{\"outlinewidth\":0,\"ticks\":\"\"},\"colorscale\":[[0.0,\"#0d0887\"],[0.1111111111111111,\"#46039f\"],[0.2222222222222222,\"#7201a8\"],[0.3333333333333333,\"#9c179e\"],[0.4444444444444444,\"#bd3786\"],[0.5555555555555556,\"#d8576b\"],[0.6666666666666666,\"#ed7953\"],[0.7777777777777778,\"#fb9f3a\"],[0.8888888888888888,\"#fdca26\"],[1.0,\"#f0f921\"]]}],\"heatmapgl\":[{\"type\":\"heatmapgl\",\"colorbar\":{\"outlinewidth\":0,\"ticks\":\"\"},\"colorscale\":[[0.0,\"#0d0887\"],[0.1111111111111111,\"#46039f\"],[0.2222222222222222,\"#7201a8\"],[0.3333333333333333,\"#9c179e\"],[0.4444444444444444,\"#bd3786\"],[0.5555555555555556,\"#d8576b\"],[0.6666666666666666,\"#ed7953\"],[0.7777777777777778,\"#fb9f3a\"],[0.8888888888888888,\"#fdca26\"],[1.0,\"#f0f921\"]]}],\"contourcarpet\":[{\"type\":\"contourcarpet\",\"colorbar\":{\"outlinewidth\":0,\"ticks\":\"\"}}],\"contour\":[{\"type\":\"contour\",\"colorbar\":{\"outlinewidth\":0,\"ticks\":\"\"},\"colorscale\":[[0.0,\"#0d0887\"],[0.1111111111111111,\"#46039f\"],[0.2222222222222222,\"#7201a8\"],[0.3333333333333333,\"#9c179e\"],[0.4444444444444444,\"#bd3786\"],[0.5555555555555556,\"#d8576b\"],[0.6666666666666666,\"#ed7953\"],[0.7777777777777778,\"#fb9f3a\"],[0.8888888888888888,\"#fdca26\"],[1.0,\"#f0f921\"]]}],\"surface\":[{\"type\":\"surface\",\"colorbar\":{\"outlinewidth\":0,\"ticks\":\"\"},\"colorscale\":[[0.0,\"#0d0887\"],[0.1111111111111111,\"#46039f\"],[0.2222222222222222,\"#7201a8\"],[0.3333333333333333,\"#9c179e\"],[0.4444444444444444,\"#bd3786\"],[0.5555555555555556,\"#d8576b\"],[0.6666666666666666,\"#ed7953\"],[0.7777777777777778,\"#fb9f3a\"],[0.8888888888888888,\"#fdca26\"],[1.0,\"#f0f921\"]]}],\"mesh3d\":[{\"type\":\"mesh3d\",\"colorbar\":{\"outlinewidth\":0,\"ticks\":\"\"}}],\"scatter\":[{\"fillpattern\":{\"fillmode\":\"overlay\",\"size\":10,\"solidity\":0.2},\"type\":\"scatter\"}],\"parcoords\":[{\"type\":\"parcoords\",\"line\":{\"colorbar\":{\"outlinewidth\":0,\"ticks\":\"\"}}}],\"scatterpolargl\":[{\"type\":\"scatterpolargl\",\"marker\":{\"colorbar\":{\"outlinewidth\":0,\"ticks\":\"\"}}}],\"bar\":[{\"error_x\":{\"color\":\"#2a3f5f\"},\"error_y\":{\"color\":\"#2a3f5f\"},\"marker\":{\"line\":{\"color\":\"#E5ECF6\",\"width\":0.5},\"pattern\":{\"fillmode\":\"overlay\",\"size\":10,\"solidity\":0.2}},\"type\":\"bar\"}],\"scattergeo\":[{\"type\":\"scattergeo\",\"marker\":{\"colorbar\":{\"outlinewidth\":0,\"ticks\":\"\"}}}],\"scatterpolar\":[{\"type\":\"scatterpolar\",\"marker\":{\"colorbar\":{\"outlinewidth\":0,\"ticks\":\"\"}}}],\"histogram\":[{\"marker\":{\"pattern\":{\"fillmode\":\"overlay\",\"size\":10,\"solidity\":0.2}},\"type\":\"histogram\"}],\"scattergl\":[{\"type\":\"scattergl\",\"marker\":{\"colorbar\":{\"outlinewidth\":0,\"ticks\":\"\"}}}],\"scatter3d\":[{\"type\":\"scatter3d\",\"line\":{\"colorbar\":{\"outlinewidth\":0,\"ticks\":\"\"}},\"marker\":{\"colorbar\":{\"outlinewidth\":0,\"ticks\":\"\"}}}],\"scattermapbox\":[{\"type\":\"scattermapbox\",\"marker\":{\"colorbar\":{\"outlinewidth\":0,\"ticks\":\"\"}}}],\"scatterternary\":[{\"type\":\"scatterternary\",\"marker\":{\"colorbar\":{\"outlinewidth\":0,\"ticks\":\"\"}}}],\"scattercarpet\":[{\"type\":\"scattercarpet\",\"marker\":{\"colorbar\":{\"outlinewidth\":0,\"ticks\":\"\"}}}],\"carpet\":[{\"aaxis\":{\"endlinecolor\":\"#2a3f5f\",\"gridcolor\":\"white\",\"linecolor\":\"white\",\"minorgridcolor\":\"white\",\"startlinecolor\":\"#2a3f5f\"},\"baxis\":{\"endlinecolor\":\"#2a3f5f\",\"gridcolor\":\"white\",\"linecolor\":\"white\",\"minorgridcolor\":\"white\",\"startlinecolor\":\"#2a3f5f\"},\"type\":\"carpet\"}],\"table\":[{\"cells\":{\"fill\":{\"color\":\"#EBF0F8\"},\"line\":{\"color\":\"white\"}},\"header\":{\"fill\":{\"color\":\"#C8D4E3\"},\"line\":{\"color\":\"white\"}},\"type\":\"table\"}],\"barpolar\":[{\"marker\":{\"line\":{\"color\":\"#E5ECF6\",\"width\":0.5},\"pattern\":{\"fillmode\":\"overlay\",\"size\":10,\"solidity\":0.2}},\"type\":\"barpolar\"}],\"pie\":[{\"automargin\":true,\"type\":\"pie\"}]},\"layout\":{\"autotypenumbers\":\"strict\",\"colorway\":[\"#636efa\",\"#EF553B\",\"#00cc96\",\"#ab63fa\",\"#FFA15A\",\"#19d3f3\",\"#FF6692\",\"#B6E880\",\"#FF97FF\",\"#FECB52\"],\"font\":{\"color\":\"#2a3f5f\"},\"hovermode\":\"closest\",\"hoverlabel\":{\"align\":\"left\"},\"paper_bgcolor\":\"white\",\"plot_bgcolor\":\"#E5ECF6\",\"polar\":{\"bgcolor\":\"#E5ECF6\",\"angularaxis\":{\"gridcolor\":\"white\",\"linecolor\":\"white\",\"ticks\":\"\"},\"radialaxis\":{\"gridcolor\":\"white\",\"linecolor\":\"white\",\"ticks\":\"\"}},\"ternary\":{\"bgcolor\":\"#E5ECF6\",\"aaxis\":{\"gridcolor\":\"white\",\"linecolor\":\"white\",\"ticks\":\"\"},\"baxis\":{\"gridcolor\":\"white\",\"linecolor\":\"white\",\"ticks\":\"\"},\"caxis\":{\"gridcolor\":\"white\",\"linecolor\":\"white\",\"ticks\":\"\"}},\"coloraxis\":{\"colorbar\":{\"outlinewidth\":0,\"ticks\":\"\"}},\"colorscale\":{\"sequential\":[[0.0,\"#0d0887\"],[0.1111111111111111,\"#46039f\"],[0.2222222222222222,\"#7201a8\"],[0.3333333333333333,\"#9c179e\"],[0.4444444444444444,\"#bd3786\"],[0.5555555555555556,\"#d8576b\"],[0.6666666666666666,\"#ed7953\"],[0.7777777777777778,\"#fb9f3a\"],[0.8888888888888888,\"#fdca26\"],[1.0,\"#f0f921\"]],\"sequentialminus\":[[0.0,\"#0d0887\"],[0.1111111111111111,\"#46039f\"],[0.2222222222222222,\"#7201a8\"],[0.3333333333333333,\"#9c179e\"],[0.4444444444444444,\"#bd3786\"],[0.5555555555555556,\"#d8576b\"],[0.6666666666666666,\"#ed7953\"],[0.7777777777777778,\"#fb9f3a\"],[0.8888888888888888,\"#fdca26\"],[1.0,\"#f0f921\"]],\"diverging\":[[0,\"#8e0152\"],[0.1,\"#c51b7d\"],[0.2,\"#de77ae\"],[0.3,\"#f1b6da\"],[0.4,\"#fde0ef\"],[0.5,\"#f7f7f7\"],[0.6,\"#e6f5d0\"],[0.7,\"#b8e186\"],[0.8,\"#7fbc41\"],[0.9,\"#4d9221\"],[1,\"#276419\"]]},\"xaxis\":{\"gridcolor\":\"white\",\"linecolor\":\"white\",\"ticks\":\"\",\"title\":{\"standoff\":15},\"zerolinecolor\":\"white\",\"automargin\":true,\"zerolinewidth\":2},\"yaxis\":{\"gridcolor\":\"white\",\"linecolor\":\"white\",\"ticks\":\"\",\"title\":{\"standoff\":15},\"zerolinecolor\":\"white\",\"automargin\":true,\"zerolinewidth\":2},\"scene\":{\"xaxis\":{\"backgroundcolor\":\"#E5ECF6\",\"gridcolor\":\"white\",\"linecolor\":\"white\",\"showbackground\":true,\"ticks\":\"\",\"zerolinecolor\":\"white\",\"gridwidth\":2},\"yaxis\":{\"backgroundcolor\":\"#E5ECF6\",\"gridcolor\":\"white\",\"linecolor\":\"white\",\"showbackground\":true,\"ticks\":\"\",\"zerolinecolor\":\"white\",\"gridwidth\":2},\"zaxis\":{\"backgroundcolor\":\"#E5ECF6\",\"gridcolor\":\"white\",\"linecolor\":\"white\",\"showbackground\":true,\"ticks\":\"\",\"zerolinecolor\":\"white\",\"gridwidth\":2}},\"shapedefaults\":{\"line\":{\"color\":\"#2a3f5f\"}},\"annotationdefaults\":{\"arrowcolor\":\"#2a3f5f\",\"arrowhead\":0,\"arrowwidth\":1},\"geo\":{\"bgcolor\":\"white\",\"landcolor\":\"#E5ECF6\",\"subunitcolor\":\"white\",\"showland\":true,\"showlakes\":true,\"lakecolor\":\"white\"},\"title\":{\"x\":0.05},\"mapbox\":{\"style\":\"light\"}}},\"xaxis\":{\"anchor\":\"y\",\"domain\":[0.0,1.0],\"title\":{\"text\":\"clean_street_check\"},\"tickfont\":{\"size\":20},\"tickangle\":45},\"yaxis\":{\"anchor\":\"x\",\"domain\":[0.0,1.0],\"title\":{\"text\":\"number\"}},\"legend\":{\"tracegroupgap\":0},\"title\":{\"text\":\"Top 10 streets seats Distribution \"},\"barmode\":\"relative\"},                        {\"responsive\": true}                    ).then(function(){\n",
       "                            \n",
       "var gd = document.getElementById('9d430836-3f84-45d1-ab9f-06874949513b');\n",
       "var x = new MutationObserver(function (mutations, observer) {{\n",
       "        var display = window.getComputedStyle(gd).display;\n",
       "        if (!display || display === 'none') {{\n",
       "            console.log([gd, 'removed!']);\n",
       "            Plotly.purge(gd);\n",
       "            observer.disconnect();\n",
       "        }}\n",
       "}});\n",
       "\n",
       "// Listen for the removal of the full notebook cells\n",
       "var notebookContainer = gd.closest('#notebook-container');\n",
       "if (notebookContainer) {{\n",
       "    x.observe(notebookContainer, {childList: true});\n",
       "}}\n",
       "\n",
       "// Listen for the clearing of the current output cell\n",
       "var outputEl = gd.closest('.output');\n",
       "if (outputEl) {{\n",
       "    x.observe(outputEl, {childList: true});\n",
       "}}\n",
       "\n",
       "                        })                };                });            </script>        </div>"
      ]
     },
     "metadata": {},
     "output_type": "display_data"
    }
   ],
   "source": [
    "#Visualising the data\n",
    "\n",
    "s_fig = px.bar(top_10_seats, x='clean_street_check', y='number', title='Top 10 streets seats Distribution ')\n",
    "s_fig.update_layout(\n",
    "xaxis = dict(\n",
    "tickfont = dict(size=20)))\n",
    "s_fig.update_xaxes(tickangle=45)\n",
    "\n",
    "s_fig.show() "
   ]
  },
  {
   "cell_type": "markdown",
   "metadata": {},
   "source": [
    "Hollywood st was last in terms of venues, but  has the highest average of seats with 56.8, \n",
    "All of the “most busy” streets seats average is between 36 – 58\n",
    "Cafes have 25 seat number (as we seen in previeus slide), so Santa Monica would be a great fit for a café with average seat number of 35(the least) \n"
   ]
  },
  {
   "cell_type": "code",
   "execution_count": 62,
   "metadata": {},
   "outputs": [
    {
     "data": {
      "application/vnd.plotly.v1+json": {
       "config": {
        "plotlyServerURL": "https://plot.ly"
       },
       "data": [
        {
         "alignmentgroup": "True",
         "hovertemplate": "type=Bakery<br>street=%{x}<br>seats_avg=%{y}<extra></extra>",
         "legendgroup": "Bakery",
         "marker": {
          "color": "#636efa",
          "pattern": {
           "shape": ""
          }
         },
         "name": "Bakery",
         "offsetgroup": "Bakery",
         "orientation": "v",
         "showlegend": true,
         "textposition": "auto",
         "type": "bar",
         "x": [
          "3rd",
          "figueroa",
          "hollywood",
          "olympic",
          "pico",
          "santa monica",
          "sunset",
          "vermont",
          "western",
          "wilshire"
         ],
         "xaxis": "x",
         "y": [
          41.09090909090909,
          25.3,
          13.5,
          16.125,
          15.923076923076923,
          17.7,
          31.923076923076923,
          25.22222222222222,
          15.071428571428571,
          37.8
         ],
         "yaxis": "y"
        },
        {
         "alignmentgroup": "True",
         "hovertemplate": "type=Bar<br>street=%{x}<br>seats_avg=%{y}<extra></extra>",
         "legendgroup": "Bar",
         "marker": {
          "color": "#EF553B",
          "pattern": {
           "shape": ""
          }
         },
         "name": "Bar",
         "offsetgroup": "Bar",
         "orientation": "v",
         "showlegend": true,
         "textposition": "auto",
         "type": "bar",
         "x": [
          "3rd",
          "figueroa",
          "hollywood",
          "olympic",
          "pico",
          "santa monica",
          "sunset",
          "vermont",
          "western",
          "wilshire"
         ],
         "xaxis": "x",
         "y": [
          19.6,
          69.57142857142857,
          59.083333333333336,
          12.714285714285714,
          63.75,
          38.166666666666664,
          43.142857142857146,
          51.333333333333336,
          34.833333333333336,
          41
         ],
         "yaxis": "y"
        },
        {
         "alignmentgroup": "True",
         "hovertemplate": "type=Cafe<br>street=%{x}<br>seats_avg=%{y}<extra></extra>",
         "legendgroup": "Cafe",
         "marker": {
          "color": "#00cc96",
          "pattern": {
           "shape": ""
          }
         },
         "name": "Cafe",
         "offsetgroup": "Cafe",
         "orientation": "v",
         "showlegend": true,
         "textposition": "auto",
         "type": "bar",
         "x": [
          "3rd",
          "figueroa",
          "hollywood",
          "olympic",
          "pico",
          "santa monica",
          "sunset",
          "vermont",
          "western",
          "wilshire"
         ],
         "xaxis": "x",
         "y": [
          19.846153846153847,
          22.4,
          21.714285714285715,
          21.90909090909091,
          22.307692307692307,
          20.333333333333332,
          23.321428571428573,
          41.142857142857146,
          36.666666666666664,
          30.68
         ],
         "yaxis": "y"
        },
        {
         "alignmentgroup": "True",
         "hovertemplate": "type=Fast Food<br>street=%{x}<br>seats_avg=%{y}<extra></extra>",
         "legendgroup": "Fast Food",
         "marker": {
          "color": "#ab63fa",
          "pattern": {
           "shape": ""
          }
         },
         "name": "Fast Food",
         "offsetgroup": "Fast Food",
         "orientation": "v",
         "showlegend": true,
         "textposition": "auto",
         "type": "bar",
         "x": [
          "3rd",
          "figueroa",
          "hollywood",
          "olympic",
          "pico",
          "santa monica",
          "sunset",
          "vermont",
          "western",
          "wilshire"
         ],
         "xaxis": "x",
         "y": [
          39.22222222222222,
          36.46551724137931,
          28.2,
          48.38095238095238,
          30.40625,
          28.85,
          36.61764705882353,
          38.13953488372093,
          35.303030303030305,
          42.82142857142857
         ],
         "yaxis": "y"
        },
        {
         "alignmentgroup": "True",
         "hovertemplate": "type=Pizza<br>street=%{x}<br>seats_avg=%{y}<extra></extra>",
         "legendgroup": "Pizza",
         "marker": {
          "color": "#FFA15A",
          "pattern": {
           "shape": ""
          }
         },
         "name": "Pizza",
         "offsetgroup": "Pizza",
         "orientation": "v",
         "showlegend": true,
         "textposition": "auto",
         "type": "bar",
         "x": [
          "3rd",
          "figueroa",
          "hollywood",
          "olympic",
          "pico",
          "santa monica",
          "sunset",
          "vermont",
          "western",
          "wilshire"
         ],
         "xaxis": "x",
         "y": [
          24.75,
          46.53333333333333,
          45.90909090909091,
          54,
          26.11111111111111,
          41.083333333333336,
          35.44444444444444,
          16.25,
          22.916666666666668,
          37.63636363636363
         ],
         "yaxis": "y"
        },
        {
         "alignmentgroup": "True",
         "hovertemplate": "type=Restaurant<br>street=%{x}<br>seats_avg=%{y}<extra></extra>",
         "legendgroup": "Restaurant",
         "marker": {
          "color": "#19d3f3",
          "pattern": {
           "shape": ""
          }
         },
         "name": "Restaurant",
         "offsetgroup": "Restaurant",
         "orientation": "v",
         "showlegend": true,
         "textposition": "auto",
         "type": "bar",
         "x": [
          "3rd",
          "figueroa",
          "hollywood",
          "olympic",
          "pico",
          "santa monica",
          "sunset",
          "vermont",
          "western",
          "wilshire"
         ],
         "xaxis": "x",
         "y": [
          43.01923076923077,
          48.162393162393165,
          62.843434343434346,
          52.53307392996109,
          43.59363957597173,
          36.92156862745098,
          53.1744966442953,
          48.75229357798165,
          44.36986301369863,
          56.357366771159874
         ],
         "yaxis": "y"
        }
       ],
       "layout": {
        "barmode": "group",
        "legend": {
         "title": {
          "text": "type"
         },
         "tracegroupgap": 0
        },
        "template": {
         "data": {
          "bar": [
           {
            "error_x": {
             "color": "#2a3f5f"
            },
            "error_y": {
             "color": "#2a3f5f"
            },
            "marker": {
             "line": {
              "color": "#E5ECF6",
              "width": 0.5
             },
             "pattern": {
              "fillmode": "overlay",
              "size": 10,
              "solidity": 0.2
             }
            },
            "type": "bar"
           }
          ],
          "barpolar": [
           {
            "marker": {
             "line": {
              "color": "#E5ECF6",
              "width": 0.5
             },
             "pattern": {
              "fillmode": "overlay",
              "size": 10,
              "solidity": 0.2
             }
            },
            "type": "barpolar"
           }
          ],
          "carpet": [
           {
            "aaxis": {
             "endlinecolor": "#2a3f5f",
             "gridcolor": "white",
             "linecolor": "white",
             "minorgridcolor": "white",
             "startlinecolor": "#2a3f5f"
            },
            "baxis": {
             "endlinecolor": "#2a3f5f",
             "gridcolor": "white",
             "linecolor": "white",
             "minorgridcolor": "white",
             "startlinecolor": "#2a3f5f"
            },
            "type": "carpet"
           }
          ],
          "choropleth": [
           {
            "colorbar": {
             "outlinewidth": 0,
             "ticks": ""
            },
            "type": "choropleth"
           }
          ],
          "contour": [
           {
            "colorbar": {
             "outlinewidth": 0,
             "ticks": ""
            },
            "colorscale": [
             [
              0,
              "#0d0887"
             ],
             [
              0.1111111111111111,
              "#46039f"
             ],
             [
              0.2222222222222222,
              "#7201a8"
             ],
             [
              0.3333333333333333,
              "#9c179e"
             ],
             [
              0.4444444444444444,
              "#bd3786"
             ],
             [
              0.5555555555555556,
              "#d8576b"
             ],
             [
              0.6666666666666666,
              "#ed7953"
             ],
             [
              0.7777777777777778,
              "#fb9f3a"
             ],
             [
              0.8888888888888888,
              "#fdca26"
             ],
             [
              1,
              "#f0f921"
             ]
            ],
            "type": "contour"
           }
          ],
          "contourcarpet": [
           {
            "colorbar": {
             "outlinewidth": 0,
             "ticks": ""
            },
            "type": "contourcarpet"
           }
          ],
          "heatmap": [
           {
            "colorbar": {
             "outlinewidth": 0,
             "ticks": ""
            },
            "colorscale": [
             [
              0,
              "#0d0887"
             ],
             [
              0.1111111111111111,
              "#46039f"
             ],
             [
              0.2222222222222222,
              "#7201a8"
             ],
             [
              0.3333333333333333,
              "#9c179e"
             ],
             [
              0.4444444444444444,
              "#bd3786"
             ],
             [
              0.5555555555555556,
              "#d8576b"
             ],
             [
              0.6666666666666666,
              "#ed7953"
             ],
             [
              0.7777777777777778,
              "#fb9f3a"
             ],
             [
              0.8888888888888888,
              "#fdca26"
             ],
             [
              1,
              "#f0f921"
             ]
            ],
            "type": "heatmap"
           }
          ],
          "heatmapgl": [
           {
            "colorbar": {
             "outlinewidth": 0,
             "ticks": ""
            },
            "colorscale": [
             [
              0,
              "#0d0887"
             ],
             [
              0.1111111111111111,
              "#46039f"
             ],
             [
              0.2222222222222222,
              "#7201a8"
             ],
             [
              0.3333333333333333,
              "#9c179e"
             ],
             [
              0.4444444444444444,
              "#bd3786"
             ],
             [
              0.5555555555555556,
              "#d8576b"
             ],
             [
              0.6666666666666666,
              "#ed7953"
             ],
             [
              0.7777777777777778,
              "#fb9f3a"
             ],
             [
              0.8888888888888888,
              "#fdca26"
             ],
             [
              1,
              "#f0f921"
             ]
            ],
            "type": "heatmapgl"
           }
          ],
          "histogram": [
           {
            "marker": {
             "pattern": {
              "fillmode": "overlay",
              "size": 10,
              "solidity": 0.2
             }
            },
            "type": "histogram"
           }
          ],
          "histogram2d": [
           {
            "colorbar": {
             "outlinewidth": 0,
             "ticks": ""
            },
            "colorscale": [
             [
              0,
              "#0d0887"
             ],
             [
              0.1111111111111111,
              "#46039f"
             ],
             [
              0.2222222222222222,
              "#7201a8"
             ],
             [
              0.3333333333333333,
              "#9c179e"
             ],
             [
              0.4444444444444444,
              "#bd3786"
             ],
             [
              0.5555555555555556,
              "#d8576b"
             ],
             [
              0.6666666666666666,
              "#ed7953"
             ],
             [
              0.7777777777777778,
              "#fb9f3a"
             ],
             [
              0.8888888888888888,
              "#fdca26"
             ],
             [
              1,
              "#f0f921"
             ]
            ],
            "type": "histogram2d"
           }
          ],
          "histogram2dcontour": [
           {
            "colorbar": {
             "outlinewidth": 0,
             "ticks": ""
            },
            "colorscale": [
             [
              0,
              "#0d0887"
             ],
             [
              0.1111111111111111,
              "#46039f"
             ],
             [
              0.2222222222222222,
              "#7201a8"
             ],
             [
              0.3333333333333333,
              "#9c179e"
             ],
             [
              0.4444444444444444,
              "#bd3786"
             ],
             [
              0.5555555555555556,
              "#d8576b"
             ],
             [
              0.6666666666666666,
              "#ed7953"
             ],
             [
              0.7777777777777778,
              "#fb9f3a"
             ],
             [
              0.8888888888888888,
              "#fdca26"
             ],
             [
              1,
              "#f0f921"
             ]
            ],
            "type": "histogram2dcontour"
           }
          ],
          "mesh3d": [
           {
            "colorbar": {
             "outlinewidth": 0,
             "ticks": ""
            },
            "type": "mesh3d"
           }
          ],
          "parcoords": [
           {
            "line": {
             "colorbar": {
              "outlinewidth": 0,
              "ticks": ""
             }
            },
            "type": "parcoords"
           }
          ],
          "pie": [
           {
            "automargin": true,
            "type": "pie"
           }
          ],
          "scatter": [
           {
            "fillpattern": {
             "fillmode": "overlay",
             "size": 10,
             "solidity": 0.2
            },
            "type": "scatter"
           }
          ],
          "scatter3d": [
           {
            "line": {
             "colorbar": {
              "outlinewidth": 0,
              "ticks": ""
             }
            },
            "marker": {
             "colorbar": {
              "outlinewidth": 0,
              "ticks": ""
             }
            },
            "type": "scatter3d"
           }
          ],
          "scattercarpet": [
           {
            "marker": {
             "colorbar": {
              "outlinewidth": 0,
              "ticks": ""
             }
            },
            "type": "scattercarpet"
           }
          ],
          "scattergeo": [
           {
            "marker": {
             "colorbar": {
              "outlinewidth": 0,
              "ticks": ""
             }
            },
            "type": "scattergeo"
           }
          ],
          "scattergl": [
           {
            "marker": {
             "colorbar": {
              "outlinewidth": 0,
              "ticks": ""
             }
            },
            "type": "scattergl"
           }
          ],
          "scattermapbox": [
           {
            "marker": {
             "colorbar": {
              "outlinewidth": 0,
              "ticks": ""
             }
            },
            "type": "scattermapbox"
           }
          ],
          "scatterpolar": [
           {
            "marker": {
             "colorbar": {
              "outlinewidth": 0,
              "ticks": ""
             }
            },
            "type": "scatterpolar"
           }
          ],
          "scatterpolargl": [
           {
            "marker": {
             "colorbar": {
              "outlinewidth": 0,
              "ticks": ""
             }
            },
            "type": "scatterpolargl"
           }
          ],
          "scatterternary": [
           {
            "marker": {
             "colorbar": {
              "outlinewidth": 0,
              "ticks": ""
             }
            },
            "type": "scatterternary"
           }
          ],
          "surface": [
           {
            "colorbar": {
             "outlinewidth": 0,
             "ticks": ""
            },
            "colorscale": [
             [
              0,
              "#0d0887"
             ],
             [
              0.1111111111111111,
              "#46039f"
             ],
             [
              0.2222222222222222,
              "#7201a8"
             ],
             [
              0.3333333333333333,
              "#9c179e"
             ],
             [
              0.4444444444444444,
              "#bd3786"
             ],
             [
              0.5555555555555556,
              "#d8576b"
             ],
             [
              0.6666666666666666,
              "#ed7953"
             ],
             [
              0.7777777777777778,
              "#fb9f3a"
             ],
             [
              0.8888888888888888,
              "#fdca26"
             ],
             [
              1,
              "#f0f921"
             ]
            ],
            "type": "surface"
           }
          ],
          "table": [
           {
            "cells": {
             "fill": {
              "color": "#EBF0F8"
             },
             "line": {
              "color": "white"
             }
            },
            "header": {
             "fill": {
              "color": "#C8D4E3"
             },
             "line": {
              "color": "white"
             }
            },
            "type": "table"
           }
          ]
         },
         "layout": {
          "annotationdefaults": {
           "arrowcolor": "#2a3f5f",
           "arrowhead": 0,
           "arrowwidth": 1
          },
          "autotypenumbers": "strict",
          "coloraxis": {
           "colorbar": {
            "outlinewidth": 0,
            "ticks": ""
           }
          },
          "colorscale": {
           "diverging": [
            [
             0,
             "#8e0152"
            ],
            [
             0.1,
             "#c51b7d"
            ],
            [
             0.2,
             "#de77ae"
            ],
            [
             0.3,
             "#f1b6da"
            ],
            [
             0.4,
             "#fde0ef"
            ],
            [
             0.5,
             "#f7f7f7"
            ],
            [
             0.6,
             "#e6f5d0"
            ],
            [
             0.7,
             "#b8e186"
            ],
            [
             0.8,
             "#7fbc41"
            ],
            [
             0.9,
             "#4d9221"
            ],
            [
             1,
             "#276419"
            ]
           ],
           "sequential": [
            [
             0,
             "#0d0887"
            ],
            [
             0.1111111111111111,
             "#46039f"
            ],
            [
             0.2222222222222222,
             "#7201a8"
            ],
            [
             0.3333333333333333,
             "#9c179e"
            ],
            [
             0.4444444444444444,
             "#bd3786"
            ],
            [
             0.5555555555555556,
             "#d8576b"
            ],
            [
             0.6666666666666666,
             "#ed7953"
            ],
            [
             0.7777777777777778,
             "#fb9f3a"
            ],
            [
             0.8888888888888888,
             "#fdca26"
            ],
            [
             1,
             "#f0f921"
            ]
           ],
           "sequentialminus": [
            [
             0,
             "#0d0887"
            ],
            [
             0.1111111111111111,
             "#46039f"
            ],
            [
             0.2222222222222222,
             "#7201a8"
            ],
            [
             0.3333333333333333,
             "#9c179e"
            ],
            [
             0.4444444444444444,
             "#bd3786"
            ],
            [
             0.5555555555555556,
             "#d8576b"
            ],
            [
             0.6666666666666666,
             "#ed7953"
            ],
            [
             0.7777777777777778,
             "#fb9f3a"
            ],
            [
             0.8888888888888888,
             "#fdca26"
            ],
            [
             1,
             "#f0f921"
            ]
           ]
          },
          "colorway": [
           "#636efa",
           "#EF553B",
           "#00cc96",
           "#ab63fa",
           "#FFA15A",
           "#19d3f3",
           "#FF6692",
           "#B6E880",
           "#FF97FF",
           "#FECB52"
          ],
          "font": {
           "color": "#2a3f5f"
          },
          "geo": {
           "bgcolor": "white",
           "lakecolor": "white",
           "landcolor": "#E5ECF6",
           "showlakes": true,
           "showland": true,
           "subunitcolor": "white"
          },
          "hoverlabel": {
           "align": "left"
          },
          "hovermode": "closest",
          "mapbox": {
           "style": "light"
          },
          "paper_bgcolor": "white",
          "plot_bgcolor": "#E5ECF6",
          "polar": {
           "angularaxis": {
            "gridcolor": "white",
            "linecolor": "white",
            "ticks": ""
           },
           "bgcolor": "#E5ECF6",
           "radialaxis": {
            "gridcolor": "white",
            "linecolor": "white",
            "ticks": ""
           }
          },
          "scene": {
           "xaxis": {
            "backgroundcolor": "#E5ECF6",
            "gridcolor": "white",
            "gridwidth": 2,
            "linecolor": "white",
            "showbackground": true,
            "ticks": "",
            "zerolinecolor": "white"
           },
           "yaxis": {
            "backgroundcolor": "#E5ECF6",
            "gridcolor": "white",
            "gridwidth": 2,
            "linecolor": "white",
            "showbackground": true,
            "ticks": "",
            "zerolinecolor": "white"
           },
           "zaxis": {
            "backgroundcolor": "#E5ECF6",
            "gridcolor": "white",
            "gridwidth": 2,
            "linecolor": "white",
            "showbackground": true,
            "ticks": "",
            "zerolinecolor": "white"
           }
          },
          "shapedefaults": {
           "line": {
            "color": "#2a3f5f"
           }
          },
          "ternary": {
           "aaxis": {
            "gridcolor": "white",
            "linecolor": "white",
            "ticks": ""
           },
           "baxis": {
            "gridcolor": "white",
            "linecolor": "white",
            "ticks": ""
           },
           "bgcolor": "#E5ECF6",
           "caxis": {
            "gridcolor": "white",
            "linecolor": "white",
            "ticks": ""
           }
          },
          "title": {
           "x": 0.05
          },
          "xaxis": {
           "automargin": true,
           "gridcolor": "white",
           "linecolor": "white",
           "ticks": "",
           "title": {
            "standoff": 15
           },
           "zerolinecolor": "white",
           "zerolinewidth": 2
          },
          "yaxis": {
           "automargin": true,
           "gridcolor": "white",
           "linecolor": "white",
           "ticks": "",
           "title": {
            "standoff": 15
           },
           "zerolinecolor": "white",
           "zerolinewidth": 2
          }
         }
        },
        "title": {
         "text": "Distribution of sets for establishments type in top ten streets"
        },
        "xaxis": {
         "anchor": "y",
         "domain": [
          0,
          1
         ],
         "title": {
          "text": "street"
         }
        },
        "yaxis": {
         "anchor": "x",
         "domain": [
          0,
          1
         ],
         "title": {
          "text": "seats_avg"
         }
        }
       }
      },
      "text/html": [
       "<div>                            <div id=\"8470a950-7290-405b-8009-7e5aafc566f9\" class=\"plotly-graph-div\" style=\"height:525px; width:100%;\"></div>            <script type=\"text/javascript\">                require([\"plotly\"], function(Plotly) {                    window.PLOTLYENV=window.PLOTLYENV || {};                                    if (document.getElementById(\"8470a950-7290-405b-8009-7e5aafc566f9\")) {                    Plotly.newPlot(                        \"8470a950-7290-405b-8009-7e5aafc566f9\",                        [{\"alignmentgroup\":\"True\",\"hovertemplate\":\"type=Bakery<br>street=%{x}<br>seats_avg=%{y}<extra></extra>\",\"legendgroup\":\"Bakery\",\"marker\":{\"color\":\"#636efa\",\"pattern\":{\"shape\":\"\"}},\"name\":\"Bakery\",\"offsetgroup\":\"Bakery\",\"orientation\":\"v\",\"showlegend\":true,\"textposition\":\"auto\",\"x\":[\"3rd\",\"figueroa\",\"hollywood\",\"olympic\",\"pico\",\"santa monica\",\"sunset\",\"vermont\",\"western\",\"wilshire\"],\"xaxis\":\"x\",\"y\":[41.09090909090909,25.3,13.5,16.125,15.923076923076923,17.7,31.923076923076923,25.22222222222222,15.071428571428571,37.8],\"yaxis\":\"y\",\"type\":\"bar\"},{\"alignmentgroup\":\"True\",\"hovertemplate\":\"type=Bar<br>street=%{x}<br>seats_avg=%{y}<extra></extra>\",\"legendgroup\":\"Bar\",\"marker\":{\"color\":\"#EF553B\",\"pattern\":{\"shape\":\"\"}},\"name\":\"Bar\",\"offsetgroup\":\"Bar\",\"orientation\":\"v\",\"showlegend\":true,\"textposition\":\"auto\",\"x\":[\"3rd\",\"figueroa\",\"hollywood\",\"olympic\",\"pico\",\"santa monica\",\"sunset\",\"vermont\",\"western\",\"wilshire\"],\"xaxis\":\"x\",\"y\":[19.6,69.57142857142857,59.083333333333336,12.714285714285714,63.75,38.166666666666664,43.142857142857146,51.333333333333336,34.833333333333336,41.0],\"yaxis\":\"y\",\"type\":\"bar\"},{\"alignmentgroup\":\"True\",\"hovertemplate\":\"type=Cafe<br>street=%{x}<br>seats_avg=%{y}<extra></extra>\",\"legendgroup\":\"Cafe\",\"marker\":{\"color\":\"#00cc96\",\"pattern\":{\"shape\":\"\"}},\"name\":\"Cafe\",\"offsetgroup\":\"Cafe\",\"orientation\":\"v\",\"showlegend\":true,\"textposition\":\"auto\",\"x\":[\"3rd\",\"figueroa\",\"hollywood\",\"olympic\",\"pico\",\"santa monica\",\"sunset\",\"vermont\",\"western\",\"wilshire\"],\"xaxis\":\"x\",\"y\":[19.846153846153847,22.4,21.714285714285715,21.90909090909091,22.307692307692307,20.333333333333332,23.321428571428573,41.142857142857146,36.666666666666664,30.68],\"yaxis\":\"y\",\"type\":\"bar\"},{\"alignmentgroup\":\"True\",\"hovertemplate\":\"type=Fast Food<br>street=%{x}<br>seats_avg=%{y}<extra></extra>\",\"legendgroup\":\"Fast Food\",\"marker\":{\"color\":\"#ab63fa\",\"pattern\":{\"shape\":\"\"}},\"name\":\"Fast Food\",\"offsetgroup\":\"Fast Food\",\"orientation\":\"v\",\"showlegend\":true,\"textposition\":\"auto\",\"x\":[\"3rd\",\"figueroa\",\"hollywood\",\"olympic\",\"pico\",\"santa monica\",\"sunset\",\"vermont\",\"western\",\"wilshire\"],\"xaxis\":\"x\",\"y\":[39.22222222222222,36.46551724137931,28.2,48.38095238095238,30.40625,28.85,36.61764705882353,38.13953488372093,35.303030303030305,42.82142857142857],\"yaxis\":\"y\",\"type\":\"bar\"},{\"alignmentgroup\":\"True\",\"hovertemplate\":\"type=Pizza<br>street=%{x}<br>seats_avg=%{y}<extra></extra>\",\"legendgroup\":\"Pizza\",\"marker\":{\"color\":\"#FFA15A\",\"pattern\":{\"shape\":\"\"}},\"name\":\"Pizza\",\"offsetgroup\":\"Pizza\",\"orientation\":\"v\",\"showlegend\":true,\"textposition\":\"auto\",\"x\":[\"3rd\",\"figueroa\",\"hollywood\",\"olympic\",\"pico\",\"santa monica\",\"sunset\",\"vermont\",\"western\",\"wilshire\"],\"xaxis\":\"x\",\"y\":[24.75,46.53333333333333,45.90909090909091,54.0,26.11111111111111,41.083333333333336,35.44444444444444,16.25,22.916666666666668,37.63636363636363],\"yaxis\":\"y\",\"type\":\"bar\"},{\"alignmentgroup\":\"True\",\"hovertemplate\":\"type=Restaurant<br>street=%{x}<br>seats_avg=%{y}<extra></extra>\",\"legendgroup\":\"Restaurant\",\"marker\":{\"color\":\"#19d3f3\",\"pattern\":{\"shape\":\"\"}},\"name\":\"Restaurant\",\"offsetgroup\":\"Restaurant\",\"orientation\":\"v\",\"showlegend\":true,\"textposition\":\"auto\",\"x\":[\"3rd\",\"figueroa\",\"hollywood\",\"olympic\",\"pico\",\"santa monica\",\"sunset\",\"vermont\",\"western\",\"wilshire\"],\"xaxis\":\"x\",\"y\":[43.01923076923077,48.162393162393165,62.843434343434346,52.53307392996109,43.59363957597173,36.92156862745098,53.1744966442953,48.75229357798165,44.36986301369863,56.357366771159874],\"yaxis\":\"y\",\"type\":\"bar\"}],                        {\"template\":{\"data\":{\"histogram2dcontour\":[{\"type\":\"histogram2dcontour\",\"colorbar\":{\"outlinewidth\":0,\"ticks\":\"\"},\"colorscale\":[[0.0,\"#0d0887\"],[0.1111111111111111,\"#46039f\"],[0.2222222222222222,\"#7201a8\"],[0.3333333333333333,\"#9c179e\"],[0.4444444444444444,\"#bd3786\"],[0.5555555555555556,\"#d8576b\"],[0.6666666666666666,\"#ed7953\"],[0.7777777777777778,\"#fb9f3a\"],[0.8888888888888888,\"#fdca26\"],[1.0,\"#f0f921\"]]}],\"choropleth\":[{\"type\":\"choropleth\",\"colorbar\":{\"outlinewidth\":0,\"ticks\":\"\"}}],\"histogram2d\":[{\"type\":\"histogram2d\",\"colorbar\":{\"outlinewidth\":0,\"ticks\":\"\"},\"colorscale\":[[0.0,\"#0d0887\"],[0.1111111111111111,\"#46039f\"],[0.2222222222222222,\"#7201a8\"],[0.3333333333333333,\"#9c179e\"],[0.4444444444444444,\"#bd3786\"],[0.5555555555555556,\"#d8576b\"],[0.6666666666666666,\"#ed7953\"],[0.7777777777777778,\"#fb9f3a\"],[0.8888888888888888,\"#fdca26\"],[1.0,\"#f0f921\"]]}],\"heatmap\":[{\"type\":\"heatmap\",\"colorbar\":{\"outlinewidth\":0,\"ticks\":\"\"},\"colorscale\":[[0.0,\"#0d0887\"],[0.1111111111111111,\"#46039f\"],[0.2222222222222222,\"#7201a8\"],[0.3333333333333333,\"#9c179e\"],[0.4444444444444444,\"#bd3786\"],[0.5555555555555556,\"#d8576b\"],[0.6666666666666666,\"#ed7953\"],[0.7777777777777778,\"#fb9f3a\"],[0.8888888888888888,\"#fdca26\"],[1.0,\"#f0f921\"]]}],\"heatmapgl\":[{\"type\":\"heatmapgl\",\"colorbar\":{\"outlinewidth\":0,\"ticks\":\"\"},\"colorscale\":[[0.0,\"#0d0887\"],[0.1111111111111111,\"#46039f\"],[0.2222222222222222,\"#7201a8\"],[0.3333333333333333,\"#9c179e\"],[0.4444444444444444,\"#bd3786\"],[0.5555555555555556,\"#d8576b\"],[0.6666666666666666,\"#ed7953\"],[0.7777777777777778,\"#fb9f3a\"],[0.8888888888888888,\"#fdca26\"],[1.0,\"#f0f921\"]]}],\"contourcarpet\":[{\"type\":\"contourcarpet\",\"colorbar\":{\"outlinewidth\":0,\"ticks\":\"\"}}],\"contour\":[{\"type\":\"contour\",\"colorbar\":{\"outlinewidth\":0,\"ticks\":\"\"},\"colorscale\":[[0.0,\"#0d0887\"],[0.1111111111111111,\"#46039f\"],[0.2222222222222222,\"#7201a8\"],[0.3333333333333333,\"#9c179e\"],[0.4444444444444444,\"#bd3786\"],[0.5555555555555556,\"#d8576b\"],[0.6666666666666666,\"#ed7953\"],[0.7777777777777778,\"#fb9f3a\"],[0.8888888888888888,\"#fdca26\"],[1.0,\"#f0f921\"]]}],\"surface\":[{\"type\":\"surface\",\"colorbar\":{\"outlinewidth\":0,\"ticks\":\"\"},\"colorscale\":[[0.0,\"#0d0887\"],[0.1111111111111111,\"#46039f\"],[0.2222222222222222,\"#7201a8\"],[0.3333333333333333,\"#9c179e\"],[0.4444444444444444,\"#bd3786\"],[0.5555555555555556,\"#d8576b\"],[0.6666666666666666,\"#ed7953\"],[0.7777777777777778,\"#fb9f3a\"],[0.8888888888888888,\"#fdca26\"],[1.0,\"#f0f921\"]]}],\"mesh3d\":[{\"type\":\"mesh3d\",\"colorbar\":{\"outlinewidth\":0,\"ticks\":\"\"}}],\"scatter\":[{\"fillpattern\":{\"fillmode\":\"overlay\",\"size\":10,\"solidity\":0.2},\"type\":\"scatter\"}],\"parcoords\":[{\"type\":\"parcoords\",\"line\":{\"colorbar\":{\"outlinewidth\":0,\"ticks\":\"\"}}}],\"scatterpolargl\":[{\"type\":\"scatterpolargl\",\"marker\":{\"colorbar\":{\"outlinewidth\":0,\"ticks\":\"\"}}}],\"bar\":[{\"error_x\":{\"color\":\"#2a3f5f\"},\"error_y\":{\"color\":\"#2a3f5f\"},\"marker\":{\"line\":{\"color\":\"#E5ECF6\",\"width\":0.5},\"pattern\":{\"fillmode\":\"overlay\",\"size\":10,\"solidity\":0.2}},\"type\":\"bar\"}],\"scattergeo\":[{\"type\":\"scattergeo\",\"marker\":{\"colorbar\":{\"outlinewidth\":0,\"ticks\":\"\"}}}],\"scatterpolar\":[{\"type\":\"scatterpolar\",\"marker\":{\"colorbar\":{\"outlinewidth\":0,\"ticks\":\"\"}}}],\"histogram\":[{\"marker\":{\"pattern\":{\"fillmode\":\"overlay\",\"size\":10,\"solidity\":0.2}},\"type\":\"histogram\"}],\"scattergl\":[{\"type\":\"scattergl\",\"marker\":{\"colorbar\":{\"outlinewidth\":0,\"ticks\":\"\"}}}],\"scatter3d\":[{\"type\":\"scatter3d\",\"line\":{\"colorbar\":{\"outlinewidth\":0,\"ticks\":\"\"}},\"marker\":{\"colorbar\":{\"outlinewidth\":0,\"ticks\":\"\"}}}],\"scattermapbox\":[{\"type\":\"scattermapbox\",\"marker\":{\"colorbar\":{\"outlinewidth\":0,\"ticks\":\"\"}}}],\"scatterternary\":[{\"type\":\"scatterternary\",\"marker\":{\"colorbar\":{\"outlinewidth\":0,\"ticks\":\"\"}}}],\"scattercarpet\":[{\"type\":\"scattercarpet\",\"marker\":{\"colorbar\":{\"outlinewidth\":0,\"ticks\":\"\"}}}],\"carpet\":[{\"aaxis\":{\"endlinecolor\":\"#2a3f5f\",\"gridcolor\":\"white\",\"linecolor\":\"white\",\"minorgridcolor\":\"white\",\"startlinecolor\":\"#2a3f5f\"},\"baxis\":{\"endlinecolor\":\"#2a3f5f\",\"gridcolor\":\"white\",\"linecolor\":\"white\",\"minorgridcolor\":\"white\",\"startlinecolor\":\"#2a3f5f\"},\"type\":\"carpet\"}],\"table\":[{\"cells\":{\"fill\":{\"color\":\"#EBF0F8\"},\"line\":{\"color\":\"white\"}},\"header\":{\"fill\":{\"color\":\"#C8D4E3\"},\"line\":{\"color\":\"white\"}},\"type\":\"table\"}],\"barpolar\":[{\"marker\":{\"line\":{\"color\":\"#E5ECF6\",\"width\":0.5},\"pattern\":{\"fillmode\":\"overlay\",\"size\":10,\"solidity\":0.2}},\"type\":\"barpolar\"}],\"pie\":[{\"automargin\":true,\"type\":\"pie\"}]},\"layout\":{\"autotypenumbers\":\"strict\",\"colorway\":[\"#636efa\",\"#EF553B\",\"#00cc96\",\"#ab63fa\",\"#FFA15A\",\"#19d3f3\",\"#FF6692\",\"#B6E880\",\"#FF97FF\",\"#FECB52\"],\"font\":{\"color\":\"#2a3f5f\"},\"hovermode\":\"closest\",\"hoverlabel\":{\"align\":\"left\"},\"paper_bgcolor\":\"white\",\"plot_bgcolor\":\"#E5ECF6\",\"polar\":{\"bgcolor\":\"#E5ECF6\",\"angularaxis\":{\"gridcolor\":\"white\",\"linecolor\":\"white\",\"ticks\":\"\"},\"radialaxis\":{\"gridcolor\":\"white\",\"linecolor\":\"white\",\"ticks\":\"\"}},\"ternary\":{\"bgcolor\":\"#E5ECF6\",\"aaxis\":{\"gridcolor\":\"white\",\"linecolor\":\"white\",\"ticks\":\"\"},\"baxis\":{\"gridcolor\":\"white\",\"linecolor\":\"white\",\"ticks\":\"\"},\"caxis\":{\"gridcolor\":\"white\",\"linecolor\":\"white\",\"ticks\":\"\"}},\"coloraxis\":{\"colorbar\":{\"outlinewidth\":0,\"ticks\":\"\"}},\"colorscale\":{\"sequential\":[[0.0,\"#0d0887\"],[0.1111111111111111,\"#46039f\"],[0.2222222222222222,\"#7201a8\"],[0.3333333333333333,\"#9c179e\"],[0.4444444444444444,\"#bd3786\"],[0.5555555555555556,\"#d8576b\"],[0.6666666666666666,\"#ed7953\"],[0.7777777777777778,\"#fb9f3a\"],[0.8888888888888888,\"#fdca26\"],[1.0,\"#f0f921\"]],\"sequentialminus\":[[0.0,\"#0d0887\"],[0.1111111111111111,\"#46039f\"],[0.2222222222222222,\"#7201a8\"],[0.3333333333333333,\"#9c179e\"],[0.4444444444444444,\"#bd3786\"],[0.5555555555555556,\"#d8576b\"],[0.6666666666666666,\"#ed7953\"],[0.7777777777777778,\"#fb9f3a\"],[0.8888888888888888,\"#fdca26\"],[1.0,\"#f0f921\"]],\"diverging\":[[0,\"#8e0152\"],[0.1,\"#c51b7d\"],[0.2,\"#de77ae\"],[0.3,\"#f1b6da\"],[0.4,\"#fde0ef\"],[0.5,\"#f7f7f7\"],[0.6,\"#e6f5d0\"],[0.7,\"#b8e186\"],[0.8,\"#7fbc41\"],[0.9,\"#4d9221\"],[1,\"#276419\"]]},\"xaxis\":{\"gridcolor\":\"white\",\"linecolor\":\"white\",\"ticks\":\"\",\"title\":{\"standoff\":15},\"zerolinecolor\":\"white\",\"automargin\":true,\"zerolinewidth\":2},\"yaxis\":{\"gridcolor\":\"white\",\"linecolor\":\"white\",\"ticks\":\"\",\"title\":{\"standoff\":15},\"zerolinecolor\":\"white\",\"automargin\":true,\"zerolinewidth\":2},\"scene\":{\"xaxis\":{\"backgroundcolor\":\"#E5ECF6\",\"gridcolor\":\"white\",\"linecolor\":\"white\",\"showbackground\":true,\"ticks\":\"\",\"zerolinecolor\":\"white\",\"gridwidth\":2},\"yaxis\":{\"backgroundcolor\":\"#E5ECF6\",\"gridcolor\":\"white\",\"linecolor\":\"white\",\"showbackground\":true,\"ticks\":\"\",\"zerolinecolor\":\"white\",\"gridwidth\":2},\"zaxis\":{\"backgroundcolor\":\"#E5ECF6\",\"gridcolor\":\"white\",\"linecolor\":\"white\",\"showbackground\":true,\"ticks\":\"\",\"zerolinecolor\":\"white\",\"gridwidth\":2}},\"shapedefaults\":{\"line\":{\"color\":\"#2a3f5f\"}},\"annotationdefaults\":{\"arrowcolor\":\"#2a3f5f\",\"arrowhead\":0,\"arrowwidth\":1},\"geo\":{\"bgcolor\":\"white\",\"landcolor\":\"#E5ECF6\",\"subunitcolor\":\"white\",\"showland\":true,\"showlakes\":true,\"lakecolor\":\"white\"},\"title\":{\"x\":0.05},\"mapbox\":{\"style\":\"light\"}}},\"xaxis\":{\"anchor\":\"y\",\"domain\":[0.0,1.0],\"title\":{\"text\":\"street\"}},\"yaxis\":{\"anchor\":\"x\",\"domain\":[0.0,1.0],\"title\":{\"text\":\"seats_avg\"}},\"legend\":{\"title\":{\"text\":\"type\"},\"tracegroupgap\":0},\"title\":{\"text\":\"Distribution of sets for establishments type in top ten streets\"},\"barmode\":\"group\"},                        {\"responsive\": true}                    ).then(function(){\n",
       "                            \n",
       "var gd = document.getElementById('8470a950-7290-405b-8009-7e5aafc566f9');\n",
       "var x = new MutationObserver(function (mutations, observer) {{\n",
       "        var display = window.getComputedStyle(gd).display;\n",
       "        if (!display || display === 'none') {{\n",
       "            console.log([gd, 'removed!']);\n",
       "            Plotly.purge(gd);\n",
       "            observer.disconnect();\n",
       "        }}\n",
       "}});\n",
       "\n",
       "// Listen for the removal of the full notebook cells\n",
       "var notebookContainer = gd.closest('#notebook-container');\n",
       "if (notebookContainer) {{\n",
       "    x.observe(notebookContainer, {childList: true});\n",
       "}}\n",
       "\n",
       "// Listen for the clearing of the current output cell\n",
       "var outputEl = gd.closest('.output');\n",
       "if (outputEl) {{\n",
       "    x.observe(outputEl, {childList: true});\n",
       "}}\n",
       "\n",
       "                        })                };                });            </script>        </div>"
      ]
     },
     "metadata": {},
     "output_type": "display_data"
    }
   ],
   "source": [
    "#Grouping by streets names and venue type and calculating the average seat number per type.\n",
    "seats_type_top = top10.groupby(['clean_street_check','object_type']).agg({'number': ['count','mean']}).reset_index()\n",
    "seats_type_top.columns = ['street','type','num_of_estab','seats_avg']\n",
    "street_vis = px.bar(seats_type_top,x = 'street',y = 'seats_avg',color = 'type',barmode = 'group',title = 'Distribution of sets for establishments type in top ten streets')\n",
    "street_vis.show()"
   ]
  },
  {
   "cell_type": "markdown",
   "metadata": {},
   "source": [
    "Cafes have average number of seats between 20-43 in all of the top streets\n"
   ]
  },
  {
   "cell_type": "markdown",
   "metadata": {},
   "source": [
    "## conclusion"
   ]
  },
  {
   "cell_type": "markdown",
   "metadata": {},
   "source": [
    "In this project, my goal was to make investigate the current market situation and make recommendations for a robot run cafe that wants to open a venue in LA. \n",
    "my conclusions are:\n",
    "1. In terms of market condition of cafes in LA:\n",
    "     61% of Cafes in LA are a part of a chain, so my recommendetion would be to consider \n",
    "     being a part of a chain.\n",
    "2. In terms of establishment type, Cafes are only 4.5% of the LA market.\n",
    "     In my opinion, In order open a successful place,  I would recommend to open a chain of.                 cafes in       the top streets that were mentioned in previous slides, with 25-25 seats per place. \n",
    "3. The best place to start with will be Santa Monica ST. Cafes have 25 seat number so Santa Monica would be a great fit for a café with average seat number of 35.\n",
    "5. If it is wanted to open a venue with a lot of seats, the best street to it will be Vermont st, with 41 average seats for cafes \n"
   ]
  },
  {
   "cell_type": "markdown",
   "metadata": {},
   "source": [
    "\n",
    "## Presentation: <https://drive.google.com/file/d/1dz4EtshtCaK0j3FGObUgBOH40CxJEYtE/view?usp=sharing> \n"
   ]
  }
 ],
 "metadata": {
  "ExecuteTimeLog": [
   {
    "duration": 2070,
    "start_time": "2022-04-18T08:53:40.006Z"
   },
   {
    "duration": 85,
    "start_time": "2022-04-18T08:55:43.727Z"
   },
   {
    "duration": 18,
    "start_time": "2022-04-18T08:55:51.266Z"
   },
   {
    "duration": 19,
    "start_time": "2022-04-18T08:56:14.500Z"
   },
   {
    "duration": 6,
    "start_time": "2022-04-18T09:01:19.958Z"
   },
   {
    "duration": 10,
    "start_time": "2022-04-18T09:01:24.070Z"
   },
   {
    "duration": 177,
    "start_time": "2022-04-18T09:01:41.652Z"
   },
   {
    "duration": 18,
    "start_time": "2022-04-18T09:01:46.647Z"
   },
   {
    "duration": 19,
    "start_time": "2022-04-18T09:05:12.220Z"
   },
   {
    "duration": 20,
    "start_time": "2022-04-18T09:05:22.625Z"
   },
   {
    "duration": 18,
    "start_time": "2022-04-18T09:06:14.638Z"
   },
   {
    "duration": 20,
    "start_time": "2022-04-18T09:06:35.107Z"
   },
   {
    "duration": 27,
    "start_time": "2022-04-18T09:08:20.148Z"
   },
   {
    "duration": 15,
    "start_time": "2022-04-18T09:12:04.806Z"
   },
   {
    "duration": 18,
    "start_time": "2022-04-18T09:13:45.964Z"
   },
   {
    "duration": 13,
    "start_time": "2022-04-18T09:13:56.919Z"
   },
   {
    "duration": 37,
    "start_time": "2022-04-18T09:15:03.446Z"
   },
   {
    "duration": 16,
    "start_time": "2022-04-18T09:15:40.981Z"
   },
   {
    "duration": 16,
    "start_time": "2022-04-18T09:16:28.048Z"
   },
   {
    "duration": 24,
    "start_time": "2022-04-18T09:16:37.585Z"
   },
   {
    "duration": 27,
    "start_time": "2022-04-18T09:18:01.414Z"
   },
   {
    "duration": 17,
    "start_time": "2022-04-18T09:18:04.444Z"
   },
   {
    "duration": 12,
    "start_time": "2022-04-18T09:18:15.791Z"
   },
   {
    "duration": 26,
    "start_time": "2022-04-18T09:18:27.334Z"
   },
   {
    "duration": 18,
    "start_time": "2022-04-18T09:19:43.416Z"
   },
   {
    "duration": 20,
    "start_time": "2022-04-18T09:20:06.695Z"
   },
   {
    "duration": 105,
    "start_time": "2022-04-18T09:33:38.135Z"
   },
   {
    "duration": 16,
    "start_time": "2022-04-18T09:33:42.823Z"
   },
   {
    "duration": 130,
    "start_time": "2022-04-18T09:34:03.273Z"
   },
   {
    "duration": 35,
    "start_time": "2022-04-18T09:34:59.750Z"
   },
   {
    "duration": 4,
    "start_time": "2022-04-18T09:35:54.830Z"
   },
   {
    "duration": 6,
    "start_time": "2022-04-18T09:35:58.186Z"
   },
   {
    "duration": 43,
    "start_time": "2022-04-18T09:39:41.491Z"
   },
   {
    "duration": 25,
    "start_time": "2022-04-18T09:39:58.774Z"
   },
   {
    "duration": 25,
    "start_time": "2022-04-18T09:40:04.619Z"
   },
   {
    "duration": 19,
    "start_time": "2022-04-18T09:40:14.716Z"
   },
   {
    "duration": 16,
    "start_time": "2022-04-18T09:40:37.892Z"
   },
   {
    "duration": 5,
    "start_time": "2022-04-18T09:40:53.293Z"
   },
   {
    "duration": 20,
    "start_time": "2022-04-18T09:40:59.728Z"
   },
   {
    "duration": 11,
    "start_time": "2022-04-18T09:41:19.776Z"
   },
   {
    "duration": 20,
    "start_time": "2022-04-18T09:41:25.684Z"
   },
   {
    "duration": 17,
    "start_time": "2022-04-18T09:41:51.052Z"
   },
   {
    "duration": 28,
    "start_time": "2022-04-18T09:46:02.849Z"
   },
   {
    "duration": 25,
    "start_time": "2022-04-18T09:46:18.492Z"
   },
   {
    "duration": 13,
    "start_time": "2022-04-18T09:48:19.610Z"
   },
   {
    "duration": 14,
    "start_time": "2022-04-18T09:48:26.168Z"
   },
   {
    "duration": 23,
    "start_time": "2022-04-18T09:50:10.710Z"
   },
   {
    "duration": 27,
    "start_time": "2022-04-18T09:50:23.018Z"
   },
   {
    "duration": 28,
    "start_time": "2022-04-18T09:50:26.223Z"
   },
   {
    "duration": 25,
    "start_time": "2022-04-18T09:50:53.936Z"
   },
   {
    "duration": 15,
    "start_time": "2022-04-18T09:52:36.404Z"
   },
   {
    "duration": 15,
    "start_time": "2022-04-18T09:53:13.062Z"
   },
   {
    "duration": 18,
    "start_time": "2022-04-18T09:54:38.862Z"
   },
   {
    "duration": 13,
    "start_time": "2022-04-18T09:55:25.459Z"
   },
   {
    "duration": 1171,
    "start_time": "2022-04-18T09:57:20.882Z"
   },
   {
    "duration": 644,
    "start_time": "2022-04-18T09:57:27.369Z"
   },
   {
    "duration": 1409,
    "start_time": "2022-04-18T09:57:54.472Z"
   },
   {
    "duration": 14,
    "start_time": "2022-04-18T09:57:55.884Z"
   },
   {
    "duration": 7,
    "start_time": "2022-04-18T10:02:05.363Z"
   },
   {
    "duration": 17,
    "start_time": "2022-04-18T10:02:17.663Z"
   },
   {
    "duration": 1154,
    "start_time": "2022-04-18T10:04:16.957Z"
   },
   {
    "duration": 20,
    "start_time": "2022-04-18T10:04:18.730Z"
   },
   {
    "duration": 22,
    "start_time": "2022-04-18T10:04:19.518Z"
   },
   {
    "duration": 20,
    "start_time": "2022-04-18T10:06:51.122Z"
   },
   {
    "duration": 21,
    "start_time": "2022-04-18T10:07:00.076Z"
   },
   {
    "duration": 18,
    "start_time": "2022-04-18T10:07:04.873Z"
   },
   {
    "duration": 21,
    "start_time": "2022-04-18T10:08:18.028Z"
   },
   {
    "duration": 13,
    "start_time": "2022-04-18T10:08:48.390Z"
   },
   {
    "duration": 12,
    "start_time": "2022-04-18T10:09:09.275Z"
   },
   {
    "duration": 28,
    "start_time": "2022-04-18T10:09:12.806Z"
   },
   {
    "duration": 18,
    "start_time": "2022-04-18T10:14:09.627Z"
   },
   {
    "duration": 25,
    "start_time": "2022-04-18T10:21:30.054Z"
   },
   {
    "duration": 1602,
    "start_time": "2022-04-18T10:21:37.183Z"
   },
   {
    "duration": 100,
    "start_time": "2022-04-18T10:21:40.161Z"
   },
   {
    "duration": 35,
    "start_time": "2022-04-18T10:21:48.196Z"
   },
   {
    "duration": 7,
    "start_time": "2022-04-18T10:21:59.947Z"
   },
   {
    "duration": 30,
    "start_time": "2022-04-18T10:22:12.694Z"
   },
   {
    "duration": 3419,
    "start_time": "2022-04-24T09:59:04.614Z"
   },
   {
    "duration": 25,
    "start_time": "2022-04-24T09:59:08.035Z"
   },
   {
    "duration": 13,
    "start_time": "2022-04-24T09:59:08.061Z"
   },
   {
    "duration": 13,
    "start_time": "2022-04-24T09:59:08.076Z"
   },
   {
    "duration": 25,
    "start_time": "2022-04-24T09:59:08.091Z"
   },
   {
    "duration": 22,
    "start_time": "2022-04-24T09:59:08.118Z"
   },
   {
    "duration": 10,
    "start_time": "2022-04-24T09:59:08.141Z"
   },
   {
    "duration": 10,
    "start_time": "2022-04-24T09:59:08.153Z"
   },
   {
    "duration": 47,
    "start_time": "2022-04-24T09:59:08.165Z"
   },
   {
    "duration": 10,
    "start_time": "2022-04-24T09:59:08.215Z"
   },
   {
    "duration": 18,
    "start_time": "2022-04-24T09:59:08.227Z"
   },
   {
    "duration": 9,
    "start_time": "2022-04-24T09:59:08.246Z"
   },
   {
    "duration": 12,
    "start_time": "2022-04-24T09:59:08.257Z"
   },
   {
    "duration": 6,
    "start_time": "2022-04-24T10:01:59.659Z"
   },
   {
    "duration": 132,
    "start_time": "2022-04-24T10:02:10.515Z"
   },
   {
    "duration": 11,
    "start_time": "2022-04-24T10:02:30.212Z"
   },
   {
    "duration": 7,
    "start_time": "2022-04-24T10:02:51.609Z"
   },
   {
    "duration": 14,
    "start_time": "2022-04-24T10:03:06.232Z"
   },
   {
    "duration": 68,
    "start_time": "2022-04-24T10:06:20.361Z"
   },
   {
    "duration": 8,
    "start_time": "2022-04-24T10:06:31.275Z"
   },
   {
    "duration": 13,
    "start_time": "2022-04-24T10:06:35.941Z"
   },
   {
    "duration": 13,
    "start_time": "2022-04-24T10:07:28.672Z"
   },
   {
    "duration": 9,
    "start_time": "2022-04-24T10:07:51.657Z"
   },
   {
    "duration": 14,
    "start_time": "2022-04-24T10:08:13.575Z"
   },
   {
    "duration": 8,
    "start_time": "2022-04-24T10:08:17.741Z"
   },
   {
    "duration": 11,
    "start_time": "2022-04-24T10:08:40.477Z"
   },
   {
    "duration": 12,
    "start_time": "2022-04-24T10:08:55.306Z"
   },
   {
    "duration": 10,
    "start_time": "2022-04-24T10:09:12.801Z"
   },
   {
    "duration": 11,
    "start_time": "2022-04-24T10:09:17.336Z"
   },
   {
    "duration": 11,
    "start_time": "2022-04-24T10:09:23.181Z"
   },
   {
    "duration": 16,
    "start_time": "2022-04-24T10:09:34.063Z"
   },
   {
    "duration": 12,
    "start_time": "2022-04-24T10:09:38.869Z"
   },
   {
    "duration": 9,
    "start_time": "2022-04-24T10:10:22.886Z"
   },
   {
    "duration": 10,
    "start_time": "2022-04-24T10:10:35.730Z"
   },
   {
    "duration": 9,
    "start_time": "2022-04-24T10:12:18.586Z"
   },
   {
    "duration": 10,
    "start_time": "2022-04-24T10:12:32.801Z"
   },
   {
    "duration": 9,
    "start_time": "2022-04-24T10:12:41.876Z"
   },
   {
    "duration": 5,
    "start_time": "2022-04-24T10:13:15.893Z"
   },
   {
    "duration": 9,
    "start_time": "2022-04-24T10:13:43.990Z"
   },
   {
    "duration": 9,
    "start_time": "2022-04-24T10:13:59.731Z"
   },
   {
    "duration": 11,
    "start_time": "2022-04-24T10:14:12.481Z"
   },
   {
    "duration": 10,
    "start_time": "2022-04-24T10:14:47.156Z"
   },
   {
    "duration": 11,
    "start_time": "2022-04-24T10:15:02.641Z"
   },
   {
    "duration": 12,
    "start_time": "2022-04-24T10:16:04.616Z"
   },
   {
    "duration": 9,
    "start_time": "2022-04-24T10:16:21.053Z"
   },
   {
    "duration": 9,
    "start_time": "2022-04-24T10:16:46.634Z"
   },
   {
    "duration": 14,
    "start_time": "2022-04-24T10:18:01.308Z"
   },
   {
    "duration": 11,
    "start_time": "2022-04-24T10:18:31.609Z"
   },
   {
    "duration": 14,
    "start_time": "2022-04-24T10:18:56.996Z"
   },
   {
    "duration": 22,
    "start_time": "2022-04-24T10:19:08.777Z"
   },
   {
    "duration": 18,
    "start_time": "2022-04-24T10:19:20.854Z"
   },
   {
    "duration": 17,
    "start_time": "2022-04-24T10:20:05.374Z"
   },
   {
    "duration": 15,
    "start_time": "2022-04-24T10:20:11.119Z"
   },
   {
    "duration": 70,
    "start_time": "2022-04-24T10:26:58.807Z"
   },
   {
    "duration": 11,
    "start_time": "2022-04-24T10:27:07.019Z"
   },
   {
    "duration": 131,
    "start_time": "2022-04-24T10:27:43.576Z"
   },
   {
    "duration": 111,
    "start_time": "2022-04-24T10:29:12.601Z"
   },
   {
    "duration": 17,
    "start_time": "2022-04-24T10:29:53.177Z"
   },
   {
    "duration": 18,
    "start_time": "2022-04-24T10:30:02.711Z"
   },
   {
    "duration": 16,
    "start_time": "2022-04-24T10:30:44.184Z"
   },
   {
    "duration": 14,
    "start_time": "2022-04-24T10:31:05.405Z"
   },
   {
    "duration": 16,
    "start_time": "2022-04-24T10:31:22.863Z"
   },
   {
    "duration": 153,
    "start_time": "2022-04-24T10:35:08.280Z"
   },
   {
    "duration": 149,
    "start_time": "2022-04-24T10:35:19.924Z"
   },
   {
    "duration": 118,
    "start_time": "2022-04-24T10:35:48.383Z"
   },
   {
    "duration": 134,
    "start_time": "2022-04-24T10:36:00.752Z"
   },
   {
    "duration": 126,
    "start_time": "2022-04-24T10:36:11.543Z"
   },
   {
    "duration": 141,
    "start_time": "2022-04-24T10:36:14.636Z"
   },
   {
    "duration": 17,
    "start_time": "2022-04-24T10:38:31.088Z"
   },
   {
    "duration": 127,
    "start_time": "2022-04-24T10:38:43.048Z"
   },
   {
    "duration": 141,
    "start_time": "2022-04-24T10:40:49.412Z"
   },
   {
    "duration": 122,
    "start_time": "2022-04-24T10:41:01.956Z"
   },
   {
    "duration": 309,
    "start_time": "2022-04-24T10:41:54.571Z"
   },
   {
    "duration": 55,
    "start_time": "2022-04-24T10:43:25.561Z"
   },
   {
    "duration": 57,
    "start_time": "2022-04-24T10:43:45.781Z"
   },
   {
    "duration": 172,
    "start_time": "2022-04-24T10:44:15.201Z"
   },
   {
    "duration": 59,
    "start_time": "2022-04-24T10:46:26.818Z"
   },
   {
    "duration": 56,
    "start_time": "2022-04-24T10:46:46.173Z"
   },
   {
    "duration": 56,
    "start_time": "2022-04-24T10:46:59.457Z"
   },
   {
    "duration": 61,
    "start_time": "2022-04-24T10:50:11.036Z"
   },
   {
    "duration": 6,
    "start_time": "2022-04-24T10:50:14.516Z"
   },
   {
    "duration": 12,
    "start_time": "2022-04-24T10:50:19.007Z"
   },
   {
    "duration": 48,
    "start_time": "2022-04-24T10:57:28.105Z"
   },
   {
    "duration": 7,
    "start_time": "2022-04-24T10:58:01.351Z"
   },
   {
    "duration": 46,
    "start_time": "2022-04-24T10:58:04.094Z"
   },
   {
    "duration": 7,
    "start_time": "2022-04-24T10:58:20.877Z"
   },
   {
    "duration": 46,
    "start_time": "2022-04-24T10:58:21.524Z"
   },
   {
    "duration": 9,
    "start_time": "2022-04-24T10:58:52.052Z"
   },
   {
    "duration": 200,
    "start_time": "2022-04-24T11:06:04.480Z"
   },
   {
    "duration": 286,
    "start_time": "2022-04-24T11:06:44.688Z"
   },
   {
    "duration": 12,
    "start_time": "2022-04-24T11:15:27.632Z"
   },
   {
    "duration": 13,
    "start_time": "2022-04-24T11:15:31.507Z"
   },
   {
    "duration": 11,
    "start_time": "2022-04-24T11:26:20.854Z"
   },
   {
    "duration": 1040,
    "start_time": "2022-04-24T11:26:31.464Z"
   },
   {
    "duration": 1002,
    "start_time": "2022-04-24T11:26:40.888Z"
   },
   {
    "duration": 983,
    "start_time": "2022-04-24T11:26:48.841Z"
   },
   {
    "duration": 9,
    "start_time": "2022-04-24T11:26:56.969Z"
   },
   {
    "duration": 12,
    "start_time": "2022-04-24T11:37:13.612Z"
   },
   {
    "duration": 6,
    "start_time": "2022-04-24T11:37:15.867Z"
   },
   {
    "duration": 1046,
    "start_time": "2022-04-24T11:37:16.714Z"
   },
   {
    "duration": 5,
    "start_time": "2022-04-24T11:37:28.917Z"
   },
   {
    "duration": 31,
    "start_time": "2022-04-24T11:37:29.436Z"
   },
   {
    "duration": 5,
    "start_time": "2022-04-24T11:37:57.109Z"
   },
   {
    "duration": 17,
    "start_time": "2022-04-24T11:37:57.849Z"
   },
   {
    "duration": 5,
    "start_time": "2022-04-24T11:38:19.713Z"
   },
   {
    "duration": 998,
    "start_time": "2022-04-24T11:38:28.789Z"
   },
   {
    "duration": 5,
    "start_time": "2022-04-24T11:40:58.419Z"
   },
   {
    "duration": 66,
    "start_time": "2022-04-24T11:40:59.834Z"
   },
   {
    "duration": 1018,
    "start_time": "2022-04-24T11:41:30.191Z"
   },
   {
    "duration": 1014,
    "start_time": "2022-04-24T11:41:45.190Z"
   },
   {
    "duration": 1194,
    "start_time": "2022-04-24T11:41:57.656Z"
   },
   {
    "duration": 11,
    "start_time": "2022-04-24T11:42:39.111Z"
   },
   {
    "duration": 5281,
    "start_time": "2022-04-24T11:42:39.677Z"
   },
   {
    "duration": 17,
    "start_time": "2022-04-24T11:43:15.795Z"
   },
   {
    "duration": 5,
    "start_time": "2022-04-24T11:44:51.201Z"
   },
   {
    "duration": 24,
    "start_time": "2022-04-24T11:45:06.656Z"
   },
   {
    "duration": 14,
    "start_time": "2022-04-24T11:47:03.367Z"
   },
   {
    "duration": 1156,
    "start_time": "2022-04-24T11:47:22.158Z"
   },
   {
    "duration": 4,
    "start_time": "2022-04-24T12:14:10.266Z"
   },
   {
    "duration": 3,
    "start_time": "2022-04-24T12:14:14.976Z"
   },
   {
    "duration": 4,
    "start_time": "2022-04-24T12:14:19.072Z"
   },
   {
    "duration": 86,
    "start_time": "2022-04-24T12:14:40.754Z"
   },
   {
    "duration": 2,
    "start_time": "2022-04-24T12:14:45.775Z"
   },
   {
    "duration": 3,
    "start_time": "2022-04-24T12:17:24.071Z"
   },
   {
    "duration": 4,
    "start_time": "2022-04-24T12:17:43.965Z"
   },
   {
    "duration": 9,
    "start_time": "2022-04-24T12:18:42.832Z"
   },
   {
    "duration": 44,
    "start_time": "2022-04-24T12:19:31.492Z"
   },
   {
    "duration": 3,
    "start_time": "2022-04-24T12:19:57.790Z"
   },
   {
    "duration": 3,
    "start_time": "2022-04-24T12:20:03.878Z"
   },
   {
    "duration": 3,
    "start_time": "2022-04-24T12:20:10.092Z"
   },
   {
    "duration": 5,
    "start_time": "2022-04-24T12:21:20.743Z"
   },
   {
    "duration": 3,
    "start_time": "2022-04-24T12:22:12.539Z"
   },
   {
    "duration": 5,
    "start_time": "2022-04-24T12:22:17.900Z"
   },
   {
    "duration": 3,
    "start_time": "2022-04-24T12:24:01.026Z"
   },
   {
    "duration": 3,
    "start_time": "2022-04-24T12:25:17.726Z"
   },
   {
    "duration": 1010,
    "start_time": "2022-04-24T12:25:18.673Z"
   },
   {
    "duration": 15,
    "start_time": "2022-04-24T12:25:23.989Z"
   },
   {
    "duration": 4,
    "start_time": "2022-04-24T12:26:37.762Z"
   },
   {
    "duration": 21,
    "start_time": "2022-04-24T12:29:12.890Z"
   },
   {
    "duration": 62,
    "start_time": "2022-04-24T12:34:24.991Z"
   },
   {
    "duration": 4,
    "start_time": "2022-04-24T12:34:32.680Z"
   },
   {
    "duration": 124,
    "start_time": "2022-04-24T12:34:52.239Z"
   },
   {
    "duration": 24,
    "start_time": "2022-04-24T12:38:27.674Z"
   },
   {
    "duration": 12,
    "start_time": "2022-04-24T12:39:24.364Z"
   },
   {
    "duration": 17,
    "start_time": "2022-04-24T12:39:36.580Z"
   },
   {
    "duration": 13,
    "start_time": "2022-04-24T12:45:05.771Z"
   },
   {
    "duration": 11,
    "start_time": "2022-04-24T12:45:08.816Z"
   },
   {
    "duration": 35044,
    "start_time": "2022-04-24T12:59:58.219Z"
   },
   {
    "duration": 10,
    "start_time": "2022-04-24T13:00:35.018Z"
   },
   {
    "duration": 13,
    "start_time": "2022-04-24T13:03:44.887Z"
   },
   {
    "duration": 5,
    "start_time": "2022-04-24T13:04:41.137Z"
   },
   {
    "duration": 5,
    "start_time": "2022-04-24T13:04:41.991Z"
   },
   {
    "duration": 5,
    "start_time": "2022-04-24T13:04:42.900Z"
   },
   {
    "duration": 3,
    "start_time": "2022-04-24T13:04:59.103Z"
   },
   {
    "duration": 4,
    "start_time": "2022-04-24T13:04:59.477Z"
   },
   {
    "duration": 17,
    "start_time": "2022-04-24T13:05:00.195Z"
   },
   {
    "duration": 13,
    "start_time": "2022-04-24T13:05:05.398Z"
   },
   {
    "duration": 11,
    "start_time": "2022-04-24T13:05:08.912Z"
   },
   {
    "duration": 143,
    "start_time": "2022-04-24T13:05:09.788Z"
   },
   {
    "duration": 10,
    "start_time": "2022-04-24T13:05:12.698Z"
   },
   {
    "duration": 32242,
    "start_time": "2022-04-24T13:05:13.185Z"
   },
   {
    "duration": 14,
    "start_time": "2022-04-24T13:05:45.429Z"
   },
   {
    "duration": 11,
    "start_time": "2022-04-24T13:05:45.445Z"
   },
   {
    "duration": 10189,
    "start_time": "2022-04-24T13:09:18.029Z"
   },
   {
    "duration": 10,
    "start_time": "2022-04-24T13:09:35.422Z"
   },
   {
    "duration": 1708,
    "start_time": "2022-04-24T13:10:45.892Z"
   },
   {
    "duration": 27,
    "start_time": "2022-04-24T13:10:47.602Z"
   },
   {
    "duration": 12,
    "start_time": "2022-04-24T13:10:47.631Z"
   },
   {
    "duration": 13,
    "start_time": "2022-04-24T13:10:47.645Z"
   },
   {
    "duration": 10,
    "start_time": "2022-04-24T13:10:47.659Z"
   },
   {
    "duration": 43,
    "start_time": "2022-04-24T13:10:47.671Z"
   },
   {
    "duration": 10,
    "start_time": "2022-04-24T13:10:47.716Z"
   },
   {
    "duration": 12,
    "start_time": "2022-04-24T13:10:47.728Z"
   },
   {
    "duration": 24,
    "start_time": "2022-04-24T13:10:47.742Z"
   },
   {
    "duration": 9,
    "start_time": "2022-04-24T13:10:47.769Z"
   },
   {
    "duration": 38,
    "start_time": "2022-04-24T13:10:47.780Z"
   },
   {
    "duration": 6,
    "start_time": "2022-04-24T13:10:47.820Z"
   },
   {
    "duration": 11,
    "start_time": "2022-04-24T13:10:47.828Z"
   },
   {
    "duration": 15,
    "start_time": "2022-04-24T13:10:47.840Z"
   },
   {
    "duration": 263,
    "start_time": "2022-04-24T13:10:47.857Z"
   },
   {
    "duration": 9,
    "start_time": "2022-04-24T13:10:48.122Z"
   },
   {
    "duration": 47,
    "start_time": "2022-04-24T13:10:48.133Z"
   },
   {
    "duration": 11,
    "start_time": "2022-04-24T13:10:48.206Z"
   },
   {
    "duration": 6,
    "start_time": "2022-04-24T13:10:48.219Z"
   },
   {
    "duration": 202,
    "start_time": "2022-04-24T13:10:48.227Z"
   },
   {
    "duration": 0,
    "start_time": "2022-04-24T13:10:48.431Z"
   },
   {
    "duration": 0,
    "start_time": "2022-04-24T13:10:48.433Z"
   },
   {
    "duration": 0,
    "start_time": "2022-04-24T13:10:48.435Z"
   },
   {
    "duration": 0,
    "start_time": "2022-04-24T13:10:48.436Z"
   },
   {
    "duration": 0,
    "start_time": "2022-04-24T13:10:48.438Z"
   },
   {
    "duration": 0,
    "start_time": "2022-04-24T13:10:48.440Z"
   },
   {
    "duration": 0,
    "start_time": "2022-04-24T13:10:48.441Z"
   },
   {
    "duration": 0,
    "start_time": "2022-04-24T13:10:48.442Z"
   },
   {
    "duration": 0,
    "start_time": "2022-04-24T13:10:48.445Z"
   },
   {
    "duration": 0,
    "start_time": "2022-04-24T13:10:48.447Z"
   },
   {
    "duration": 0,
    "start_time": "2022-04-24T13:10:48.448Z"
   },
   {
    "duration": 0,
    "start_time": "2022-04-24T13:10:48.450Z"
   },
   {
    "duration": 0,
    "start_time": "2022-04-24T13:10:48.451Z"
   },
   {
    "duration": 5,
    "start_time": "2022-04-24T13:11:06.661Z"
   },
   {
    "duration": 4,
    "start_time": "2022-04-24T13:11:06.857Z"
   },
   {
    "duration": 18,
    "start_time": "2022-04-24T13:11:07.037Z"
   },
   {
    "duration": 3,
    "start_time": "2022-04-24T13:11:07.201Z"
   },
   {
    "duration": 4,
    "start_time": "2022-04-24T13:11:07.356Z"
   },
   {
    "duration": 9,
    "start_time": "2022-04-24T13:11:07.528Z"
   },
   {
    "duration": 1360,
    "start_time": "2022-04-24T13:11:07.684Z"
   },
   {
    "duration": 10,
    "start_time": "2022-04-24T13:11:09.046Z"
   },
   {
    "duration": 31654,
    "start_time": "2022-04-24T13:11:09.058Z"
   },
   {
    "duration": 10,
    "start_time": "2022-04-24T13:11:40.715Z"
   },
   {
    "duration": 10086,
    "start_time": "2022-04-24T13:11:40.727Z"
   },
   {
    "duration": 10,
    "start_time": "2022-04-24T13:11:50.815Z"
   },
   {
    "duration": 67,
    "start_time": "2022-04-24T13:12:16.797Z"
   },
   {
    "duration": 1610,
    "start_time": "2022-04-24T13:12:38.245Z"
   },
   {
    "duration": 26,
    "start_time": "2022-04-24T13:12:39.857Z"
   },
   {
    "duration": 13,
    "start_time": "2022-04-24T13:12:39.885Z"
   },
   {
    "duration": 16,
    "start_time": "2022-04-24T13:12:39.900Z"
   },
   {
    "duration": 10,
    "start_time": "2022-04-24T13:12:39.918Z"
   },
   {
    "duration": 22,
    "start_time": "2022-04-24T13:12:39.929Z"
   },
   {
    "duration": 10,
    "start_time": "2022-04-24T13:12:39.952Z"
   },
   {
    "duration": 44,
    "start_time": "2022-04-24T13:12:39.964Z"
   },
   {
    "duration": 19,
    "start_time": "2022-04-24T13:12:40.010Z"
   },
   {
    "duration": 10,
    "start_time": "2022-04-24T13:12:40.031Z"
   },
   {
    "duration": 14,
    "start_time": "2022-04-24T13:12:40.042Z"
   },
   {
    "duration": 7,
    "start_time": "2022-04-24T13:12:40.057Z"
   },
   {
    "duration": 47,
    "start_time": "2022-04-24T13:12:40.066Z"
   },
   {
    "duration": 16,
    "start_time": "2022-04-24T13:12:40.116Z"
   },
   {
    "duration": 232,
    "start_time": "2022-04-24T13:12:40.133Z"
   },
   {
    "duration": 8,
    "start_time": "2022-04-24T13:12:40.366Z"
   },
   {
    "duration": 62,
    "start_time": "2022-04-24T13:12:40.375Z"
   },
   {
    "duration": 9,
    "start_time": "2022-04-24T13:12:40.438Z"
   },
   {
    "duration": 6,
    "start_time": "2022-04-24T13:12:40.449Z"
   },
   {
    "duration": 1083,
    "start_time": "2022-04-24T13:12:40.456Z"
   },
   {
    "duration": 7,
    "start_time": "2022-04-24T13:12:41.541Z"
   },
   {
    "duration": 5,
    "start_time": "2022-04-24T13:12:41.549Z"
   },
   {
    "duration": 41,
    "start_time": "2022-04-24T13:12:41.555Z"
   },
   {
    "duration": 11,
    "start_time": "2022-04-24T13:12:41.597Z"
   },
   {
    "duration": 10,
    "start_time": "2022-04-24T13:12:41.609Z"
   },
   {
    "duration": 10,
    "start_time": "2022-04-24T13:12:41.620Z"
   },
   {
    "duration": 1420,
    "start_time": "2022-04-24T13:12:41.631Z"
   },
   {
    "duration": 9,
    "start_time": "2022-04-24T13:12:43.053Z"
   },
   {
    "duration": 31337,
    "start_time": "2022-04-24T13:12:43.064Z"
   },
   {
    "duration": 10,
    "start_time": "2022-04-24T13:13:14.403Z"
   },
   {
    "duration": 67,
    "start_time": "2022-04-24T13:13:14.415Z"
   },
   {
    "duration": 0,
    "start_time": "2022-04-24T13:13:14.484Z"
   },
   {
    "duration": 68,
    "start_time": "2022-04-24T13:13:19.216Z"
   },
   {
    "duration": 10443,
    "start_time": "2022-04-24T13:13:29.711Z"
   },
   {
    "duration": 10,
    "start_time": "2022-04-24T13:13:43.012Z"
   },
   {
    "duration": 1636,
    "start_time": "2022-04-24T13:15:38.663Z"
   },
   {
    "duration": 25,
    "start_time": "2022-04-24T13:15:40.301Z"
   },
   {
    "duration": 13,
    "start_time": "2022-04-24T13:15:40.328Z"
   },
   {
    "duration": 12,
    "start_time": "2022-04-24T13:15:40.343Z"
   },
   {
    "duration": 11,
    "start_time": "2022-04-24T13:15:40.357Z"
   },
   {
    "duration": 46,
    "start_time": "2022-04-24T13:15:40.370Z"
   },
   {
    "duration": 14,
    "start_time": "2022-04-24T13:15:40.417Z"
   },
   {
    "duration": 14,
    "start_time": "2022-04-24T13:15:40.432Z"
   },
   {
    "duration": 20,
    "start_time": "2022-04-24T13:15:40.448Z"
   },
   {
    "duration": 41,
    "start_time": "2022-04-24T13:15:40.470Z"
   },
   {
    "duration": 15,
    "start_time": "2022-04-24T13:15:40.513Z"
   },
   {
    "duration": 8,
    "start_time": "2022-04-24T13:15:40.529Z"
   },
   {
    "duration": 11,
    "start_time": "2022-04-24T13:15:40.538Z"
   },
   {
    "duration": 14,
    "start_time": "2022-04-24T13:15:40.552Z"
   },
   {
    "duration": 275,
    "start_time": "2022-04-24T13:15:40.568Z"
   },
   {
    "duration": 6,
    "start_time": "2022-04-24T13:15:40.844Z"
   },
   {
    "duration": 56,
    "start_time": "2022-04-24T13:15:40.851Z"
   },
   {
    "duration": 8,
    "start_time": "2022-04-24T13:15:40.909Z"
   },
   {
    "duration": 7,
    "start_time": "2022-04-24T13:15:40.919Z"
   },
   {
    "duration": 1101,
    "start_time": "2022-04-24T13:15:40.927Z"
   },
   {
    "duration": 7,
    "start_time": "2022-04-24T13:15:42.029Z"
   },
   {
    "duration": 14,
    "start_time": "2022-04-24T13:15:42.037Z"
   },
   {
    "duration": 26,
    "start_time": "2022-04-24T13:15:42.053Z"
   },
   {
    "duration": 2,
    "start_time": "2022-04-24T13:15:42.082Z"
   },
   {
    "duration": 7,
    "start_time": "2022-04-24T13:15:42.086Z"
   },
   {
    "duration": 24,
    "start_time": "2022-04-24T13:15:42.095Z"
   },
   {
    "duration": 1445,
    "start_time": "2022-04-24T13:15:42.121Z"
   },
   {
    "duration": 9,
    "start_time": "2022-04-24T13:15:43.568Z"
   },
   {
    "duration": 30625,
    "start_time": "2022-04-24T13:15:43.578Z"
   },
   {
    "duration": 10,
    "start_time": "2022-04-24T13:16:14.205Z"
   },
   {
    "duration": 84,
    "start_time": "2022-04-24T13:16:14.217Z"
   },
   {
    "duration": 0,
    "start_time": "2022-04-24T13:16:14.303Z"
   },
   {
    "duration": 9975,
    "start_time": "2022-04-24T13:16:19.276Z"
   },
   {
    "duration": 9,
    "start_time": "2022-04-24T13:16:31.352Z"
   },
   {
    "duration": 1686,
    "start_time": "2022-04-24T13:16:53.719Z"
   },
   {
    "duration": 26,
    "start_time": "2022-04-24T13:16:55.407Z"
   },
   {
    "duration": 12,
    "start_time": "2022-04-24T13:16:55.435Z"
   },
   {
    "duration": 12,
    "start_time": "2022-04-24T13:16:55.449Z"
   },
   {
    "duration": 9,
    "start_time": "2022-04-24T13:16:55.463Z"
   },
   {
    "duration": 42,
    "start_time": "2022-04-24T13:16:55.473Z"
   },
   {
    "duration": 10,
    "start_time": "2022-04-24T13:16:55.517Z"
   },
   {
    "duration": 11,
    "start_time": "2022-04-24T13:16:55.528Z"
   },
   {
    "duration": 17,
    "start_time": "2022-04-24T13:16:55.540Z"
   },
   {
    "duration": 9,
    "start_time": "2022-04-24T13:16:55.560Z"
   },
   {
    "duration": 46,
    "start_time": "2022-04-24T13:16:55.570Z"
   },
   {
    "duration": 7,
    "start_time": "2022-04-24T13:16:55.617Z"
   },
   {
    "duration": 13,
    "start_time": "2022-04-24T13:16:55.625Z"
   },
   {
    "duration": 14,
    "start_time": "2022-04-24T13:16:55.639Z"
   },
   {
    "duration": 242,
    "start_time": "2022-04-24T13:16:55.655Z"
   },
   {
    "duration": 6,
    "start_time": "2022-04-24T13:16:55.907Z"
   },
   {
    "duration": 47,
    "start_time": "2022-04-24T13:16:55.914Z"
   },
   {
    "duration": 8,
    "start_time": "2022-04-24T13:16:55.963Z"
   },
   {
    "duration": 4,
    "start_time": "2022-04-24T13:16:55.973Z"
   },
   {
    "duration": 1068,
    "start_time": "2022-04-24T13:16:55.978Z"
   },
   {
    "duration": 5,
    "start_time": "2022-04-24T13:16:57.048Z"
   },
   {
    "duration": 5,
    "start_time": "2022-04-24T13:16:57.055Z"
   },
   {
    "duration": 61,
    "start_time": "2022-04-24T13:16:57.062Z"
   },
   {
    "duration": 3,
    "start_time": "2022-04-24T13:16:57.126Z"
   },
   {
    "duration": 5,
    "start_time": "2022-04-24T13:16:57.131Z"
   },
   {
    "duration": 13,
    "start_time": "2022-04-24T13:16:57.138Z"
   },
   {
    "duration": 1457,
    "start_time": "2022-04-24T13:16:57.153Z"
   },
   {
    "duration": 11,
    "start_time": "2022-04-24T13:16:58.614Z"
   },
   {
    "duration": 30614,
    "start_time": "2022-04-24T13:16:58.627Z"
   },
   {
    "duration": 11,
    "start_time": "2022-04-24T13:17:29.243Z"
   },
   {
    "duration": 4473,
    "start_time": "2022-04-24T13:17:29.255Z"
   },
   {
    "duration": 9,
    "start_time": "2022-04-24T13:17:33.729Z"
   },
   {
    "duration": 6,
    "start_time": "2022-04-24T13:18:27.003Z"
   },
   {
    "duration": 6,
    "start_time": "2022-04-24T13:18:29.775Z"
   },
   {
    "duration": 9,
    "start_time": "2022-04-24T13:18:39.305Z"
   },
   {
    "duration": 65,
    "start_time": "2022-04-24T13:23:06.890Z"
   },
   {
    "duration": 1619,
    "start_time": "2022-04-24T13:23:55.547Z"
   },
   {
    "duration": 27,
    "start_time": "2022-04-24T13:23:57.169Z"
   },
   {
    "duration": 14,
    "start_time": "2022-04-24T13:23:57.198Z"
   },
   {
    "duration": 14,
    "start_time": "2022-04-24T13:23:57.213Z"
   },
   {
    "duration": 10,
    "start_time": "2022-04-24T13:23:57.229Z"
   },
   {
    "duration": 23,
    "start_time": "2022-04-24T13:23:57.241Z"
   },
   {
    "duration": 10,
    "start_time": "2022-04-24T13:23:57.266Z"
   },
   {
    "duration": 11,
    "start_time": "2022-04-24T13:23:57.307Z"
   },
   {
    "duration": 19,
    "start_time": "2022-04-24T13:23:57.320Z"
   },
   {
    "duration": 10,
    "start_time": "2022-04-24T13:23:57.341Z"
   },
   {
    "duration": 14,
    "start_time": "2022-04-24T13:23:57.353Z"
   },
   {
    "duration": 41,
    "start_time": "2022-04-24T13:23:57.369Z"
   },
   {
    "duration": 12,
    "start_time": "2022-04-24T13:23:57.411Z"
   },
   {
    "duration": 15,
    "start_time": "2022-04-24T13:23:57.426Z"
   },
   {
    "duration": 245,
    "start_time": "2022-04-24T13:23:57.443Z"
   },
   {
    "duration": 7,
    "start_time": "2022-04-24T13:23:57.690Z"
   },
   {
    "duration": 46,
    "start_time": "2022-04-24T13:23:57.708Z"
   },
   {
    "duration": 9,
    "start_time": "2022-04-24T13:23:57.756Z"
   },
   {
    "duration": 5,
    "start_time": "2022-04-24T13:23:57.767Z"
   },
   {
    "duration": 1264,
    "start_time": "2022-04-24T13:23:57.773Z"
   },
   {
    "duration": 8,
    "start_time": "2022-04-24T13:23:59.041Z"
   },
   {
    "duration": 6,
    "start_time": "2022-04-24T13:23:59.051Z"
   },
   {
    "duration": 53,
    "start_time": "2022-04-24T13:23:59.058Z"
   },
   {
    "duration": 4,
    "start_time": "2022-04-24T13:23:59.114Z"
   },
   {
    "duration": 5,
    "start_time": "2022-04-24T13:23:59.120Z"
   },
   {
    "duration": 19,
    "start_time": "2022-04-24T13:23:59.126Z"
   },
   {
    "duration": 1639,
    "start_time": "2022-04-24T13:23:59.147Z"
   },
   {
    "duration": 11,
    "start_time": "2022-04-24T13:24:00.788Z"
   },
   {
    "duration": 32159,
    "start_time": "2022-04-24T13:24:00.808Z"
   },
   {
    "duration": 10,
    "start_time": "2022-04-24T13:24:32.969Z"
   },
   {
    "duration": 4902,
    "start_time": "2022-04-24T13:24:32.981Z"
   },
   {
    "duration": 10,
    "start_time": "2022-04-24T13:24:37.884Z"
   },
   {
    "duration": 23,
    "start_time": "2022-04-24T13:24:37.895Z"
   },
   {
    "duration": 12,
    "start_time": "2022-04-24T13:24:58.915Z"
   },
   {
    "duration": 78,
    "start_time": "2022-04-24T13:25:06.713Z"
   },
   {
    "duration": 12,
    "start_time": "2022-04-24T13:25:09.320Z"
   },
   {
    "duration": 2631,
    "start_time": "2022-04-24T13:26:35.008Z"
   },
   {
    "duration": 30,
    "start_time": "2022-04-24T13:26:37.641Z"
   },
   {
    "duration": 12,
    "start_time": "2022-04-24T13:26:37.673Z"
   },
   {
    "duration": 14,
    "start_time": "2022-04-24T13:26:37.687Z"
   },
   {
    "duration": 10,
    "start_time": "2022-04-24T13:26:37.708Z"
   },
   {
    "duration": 22,
    "start_time": "2022-04-24T13:26:37.720Z"
   },
   {
    "duration": 11,
    "start_time": "2022-04-24T13:26:37.744Z"
   },
   {
    "duration": 12,
    "start_time": "2022-04-24T13:26:37.757Z"
   },
   {
    "duration": 19,
    "start_time": "2022-04-24T13:26:37.808Z"
   },
   {
    "duration": 12,
    "start_time": "2022-04-24T13:26:37.829Z"
   },
   {
    "duration": 14,
    "start_time": "2022-04-24T13:26:37.842Z"
   },
   {
    "duration": 8,
    "start_time": "2022-04-24T13:26:37.858Z"
   },
   {
    "duration": 47,
    "start_time": "2022-04-24T13:26:37.868Z"
   },
   {
    "duration": 15,
    "start_time": "2022-04-24T13:26:37.919Z"
   },
   {
    "duration": 240,
    "start_time": "2022-04-24T13:26:37.936Z"
   },
   {
    "duration": 7,
    "start_time": "2022-04-24T13:26:38.178Z"
   },
   {
    "duration": 65,
    "start_time": "2022-04-24T13:26:38.186Z"
   },
   {
    "duration": 9,
    "start_time": "2022-04-24T13:26:38.253Z"
   },
   {
    "duration": 5,
    "start_time": "2022-04-24T13:26:38.263Z"
   },
   {
    "duration": 1179,
    "start_time": "2022-04-24T13:26:38.270Z"
   },
   {
    "duration": 6,
    "start_time": "2022-04-24T13:26:39.451Z"
   },
   {
    "duration": 6,
    "start_time": "2022-04-24T13:26:39.459Z"
   },
   {
    "duration": 72,
    "start_time": "2022-04-24T13:26:39.467Z"
   },
   {
    "duration": 4,
    "start_time": "2022-04-24T13:26:39.541Z"
   },
   {
    "duration": 7,
    "start_time": "2022-04-24T13:26:39.547Z"
   },
   {
    "duration": 11,
    "start_time": "2022-04-24T13:26:39.556Z"
   },
   {
    "duration": 1487,
    "start_time": "2022-04-24T13:26:39.568Z"
   },
   {
    "duration": 10,
    "start_time": "2022-04-24T13:26:41.057Z"
   },
   {
    "duration": 64,
    "start_time": "2022-04-24T13:26:41.069Z"
   },
   {
    "duration": 0,
    "start_time": "2022-04-24T13:26:41.135Z"
   },
   {
    "duration": 0,
    "start_time": "2022-04-24T13:26:41.136Z"
   },
   {
    "duration": 0,
    "start_time": "2022-04-24T13:26:41.137Z"
   },
   {
    "duration": 0,
    "start_time": "2022-04-24T13:26:41.139Z"
   },
   {
    "duration": 61,
    "start_time": "2022-04-24T13:26:48.760Z"
   },
   {
    "duration": 31444,
    "start_time": "2022-04-24T13:27:00.743Z"
   },
   {
    "duration": 18,
    "start_time": "2022-04-24T13:27:32.189Z"
   },
   {
    "duration": 4800,
    "start_time": "2022-04-24T13:27:32.209Z"
   },
   {
    "duration": 9,
    "start_time": "2022-04-24T13:27:37.012Z"
   },
   {
    "duration": 14,
    "start_time": "2022-04-24T13:27:37.024Z"
   },
   {
    "duration": 12,
    "start_time": "2022-04-24T13:32:52.616Z"
   },
   {
    "duration": 182,
    "start_time": "2022-04-24T13:33:36.406Z"
   },
   {
    "duration": 1720,
    "start_time": "2022-04-24T13:34:03.177Z"
   },
   {
    "duration": 33,
    "start_time": "2022-04-24T13:34:04.900Z"
   },
   {
    "duration": 13,
    "start_time": "2022-04-24T13:34:04.935Z"
   },
   {
    "duration": 14,
    "start_time": "2022-04-24T13:34:04.950Z"
   },
   {
    "duration": 11,
    "start_time": "2022-04-24T13:34:04.967Z"
   },
   {
    "duration": 44,
    "start_time": "2022-04-24T13:34:04.980Z"
   },
   {
    "duration": 12,
    "start_time": "2022-04-24T13:34:05.026Z"
   },
   {
    "duration": 13,
    "start_time": "2022-04-24T13:34:05.039Z"
   },
   {
    "duration": 20,
    "start_time": "2022-04-24T13:34:05.054Z"
   },
   {
    "duration": 12,
    "start_time": "2022-04-24T13:34:05.108Z"
   },
   {
    "duration": 13,
    "start_time": "2022-04-24T13:34:05.123Z"
   },
   {
    "duration": 8,
    "start_time": "2022-04-24T13:34:05.138Z"
   },
   {
    "duration": 14,
    "start_time": "2022-04-24T13:34:05.148Z"
   },
   {
    "duration": 49,
    "start_time": "2022-04-24T13:34:05.166Z"
   },
   {
    "duration": 232,
    "start_time": "2022-04-24T13:34:05.217Z"
   },
   {
    "duration": 9,
    "start_time": "2022-04-24T13:34:05.451Z"
   },
   {
    "duration": 65,
    "start_time": "2022-04-24T13:34:05.462Z"
   },
   {
    "duration": 11,
    "start_time": "2022-04-24T13:34:05.529Z"
   },
   {
    "duration": 6,
    "start_time": "2022-04-24T13:34:05.542Z"
   },
   {
    "duration": 1161,
    "start_time": "2022-04-24T13:34:05.549Z"
   },
   {
    "duration": 6,
    "start_time": "2022-04-24T13:34:06.712Z"
   },
   {
    "duration": 5,
    "start_time": "2022-04-24T13:34:06.720Z"
   },
   {
    "duration": 57,
    "start_time": "2022-04-24T13:34:06.727Z"
   },
   {
    "duration": 3,
    "start_time": "2022-04-24T13:34:06.785Z"
   },
   {
    "duration": 6,
    "start_time": "2022-04-24T13:34:06.790Z"
   },
   {
    "duration": 9,
    "start_time": "2022-04-24T13:34:06.798Z"
   },
   {
    "duration": 1492,
    "start_time": "2022-04-24T13:34:06.809Z"
   },
   {
    "duration": 10,
    "start_time": "2022-04-24T13:34:08.307Z"
   },
   {
    "duration": 4041,
    "start_time": "2022-04-24T13:34:08.319Z"
   },
   {
    "duration": 0,
    "start_time": "2022-04-24T13:34:12.361Z"
   },
   {
    "duration": 0,
    "start_time": "2022-04-24T13:34:12.362Z"
   },
   {
    "duration": 0,
    "start_time": "2022-04-24T13:34:12.363Z"
   },
   {
    "duration": 0,
    "start_time": "2022-04-24T13:34:12.364Z"
   },
   {
    "duration": 1986,
    "start_time": "2022-04-24T13:41:55.511Z"
   },
   {
    "duration": 27976,
    "start_time": "2022-04-24T13:42:21.349Z"
   },
   {
    "duration": 9,
    "start_time": "2022-04-24T13:42:49.327Z"
   },
   {
    "duration": 4590,
    "start_time": "2022-04-24T13:42:49.338Z"
   },
   {
    "duration": 9,
    "start_time": "2022-04-24T13:42:53.929Z"
   },
   {
    "duration": 15,
    "start_time": "2022-04-24T13:42:53.939Z"
   },
   {
    "duration": 7,
    "start_time": "2022-04-24T13:46:28.458Z"
   },
   {
    "duration": 12,
    "start_time": "2022-04-24T13:46:33.889Z"
   },
   {
    "duration": 1661,
    "start_time": "2022-04-24T13:48:30.576Z"
   },
   {
    "duration": 32,
    "start_time": "2022-04-24T13:48:32.239Z"
   },
   {
    "duration": 12,
    "start_time": "2022-04-24T13:48:32.272Z"
   },
   {
    "duration": 13,
    "start_time": "2022-04-24T13:48:32.286Z"
   },
   {
    "duration": 16,
    "start_time": "2022-04-24T13:48:32.300Z"
   },
   {
    "duration": 21,
    "start_time": "2022-04-24T13:48:32.317Z"
   },
   {
    "duration": 9,
    "start_time": "2022-04-24T13:48:32.339Z"
   },
   {
    "duration": 9,
    "start_time": "2022-04-24T13:48:32.350Z"
   },
   {
    "duration": 17,
    "start_time": "2022-04-24T13:48:32.360Z"
   },
   {
    "duration": 10,
    "start_time": "2022-04-24T13:48:32.408Z"
   },
   {
    "duration": 12,
    "start_time": "2022-04-24T13:48:32.420Z"
   },
   {
    "duration": 6,
    "start_time": "2022-04-24T13:48:32.433Z"
   },
   {
    "duration": 13,
    "start_time": "2022-04-24T13:48:32.441Z"
   },
   {
    "duration": 14,
    "start_time": "2022-04-24T13:48:32.455Z"
   },
   {
    "duration": 245,
    "start_time": "2022-04-24T13:48:32.471Z"
   },
   {
    "duration": 7,
    "start_time": "2022-04-24T13:48:32.717Z"
   },
   {
    "duration": 44,
    "start_time": "2022-04-24T13:48:32.726Z"
   },
   {
    "duration": 9,
    "start_time": "2022-04-24T13:48:32.772Z"
   },
   {
    "duration": 27,
    "start_time": "2022-04-24T13:48:32.782Z"
   },
   {
    "duration": 1104,
    "start_time": "2022-04-24T13:48:32.811Z"
   },
   {
    "duration": 6,
    "start_time": "2022-04-24T13:48:33.916Z"
   },
   {
    "duration": 5,
    "start_time": "2022-04-24T13:48:33.924Z"
   },
   {
    "duration": 24,
    "start_time": "2022-04-24T13:48:33.931Z"
   },
   {
    "duration": 3,
    "start_time": "2022-04-24T13:48:33.957Z"
   },
   {
    "duration": 6,
    "start_time": "2022-04-24T13:48:33.961Z"
   },
   {
    "duration": 8,
    "start_time": "2022-04-24T13:48:33.969Z"
   },
   {
    "duration": 1465,
    "start_time": "2022-04-24T13:48:33.979Z"
   },
   {
    "duration": 10,
    "start_time": "2022-04-24T13:48:35.447Z"
   },
   {
    "duration": 30261,
    "start_time": "2022-04-24T13:48:35.458Z"
   },
   {
    "duration": 11,
    "start_time": "2022-04-24T13:49:05.721Z"
   },
   {
    "duration": 4698,
    "start_time": "2022-04-24T13:49:05.734Z"
   },
   {
    "duration": 9,
    "start_time": "2022-04-24T13:49:10.434Z"
   },
   {
    "duration": 11,
    "start_time": "2022-04-24T13:49:10.445Z"
   },
   {
    "duration": 1659,
    "start_time": "2022-04-24T14:14:45.666Z"
   },
   {
    "duration": 25,
    "start_time": "2022-04-24T14:14:47.327Z"
   },
   {
    "duration": 13,
    "start_time": "2022-04-24T14:14:47.354Z"
   },
   {
    "duration": 12,
    "start_time": "2022-04-24T14:14:47.369Z"
   },
   {
    "duration": 26,
    "start_time": "2022-04-24T14:14:47.383Z"
   },
   {
    "duration": 20,
    "start_time": "2022-04-24T14:14:47.410Z"
   },
   {
    "duration": 9,
    "start_time": "2022-04-24T14:14:47.432Z"
   },
   {
    "duration": 15,
    "start_time": "2022-04-24T14:14:47.442Z"
   },
   {
    "duration": 17,
    "start_time": "2022-04-24T14:14:47.459Z"
   },
   {
    "duration": 35,
    "start_time": "2022-04-24T14:14:47.478Z"
   },
   {
    "duration": 12,
    "start_time": "2022-04-24T14:14:47.515Z"
   },
   {
    "duration": 6,
    "start_time": "2022-04-24T14:14:47.529Z"
   },
   {
    "duration": 9,
    "start_time": "2022-04-24T14:14:47.536Z"
   },
   {
    "duration": 16,
    "start_time": "2022-04-24T14:14:47.547Z"
   },
   {
    "duration": 256,
    "start_time": "2022-04-24T14:14:47.564Z"
   },
   {
    "duration": 7,
    "start_time": "2022-04-24T14:14:47.821Z"
   },
   {
    "duration": 47,
    "start_time": "2022-04-24T14:14:47.830Z"
   },
   {
    "duration": 30,
    "start_time": "2022-04-24T14:14:47.879Z"
   },
   {
    "duration": 6,
    "start_time": "2022-04-24T14:14:47.911Z"
   },
   {
    "duration": 1112,
    "start_time": "2022-04-24T14:14:47.919Z"
   },
   {
    "duration": 6,
    "start_time": "2022-04-24T14:14:49.032Z"
   },
   {
    "duration": 5,
    "start_time": "2022-04-24T14:14:49.039Z"
   },
   {
    "duration": 29,
    "start_time": "2022-04-24T14:14:49.046Z"
   },
   {
    "duration": 3,
    "start_time": "2022-04-24T14:14:49.077Z"
   },
   {
    "duration": 5,
    "start_time": "2022-04-24T14:14:49.082Z"
   },
   {
    "duration": 8,
    "start_time": "2022-04-24T14:14:49.107Z"
   },
   {
    "duration": 1439,
    "start_time": "2022-04-24T14:14:49.117Z"
   },
   {
    "duration": 9,
    "start_time": "2022-04-24T14:14:50.559Z"
   },
   {
    "duration": 31072,
    "start_time": "2022-04-24T14:14:50.570Z"
   },
   {
    "duration": 10,
    "start_time": "2022-04-24T14:15:21.643Z"
   },
   {
    "duration": 4951,
    "start_time": "2022-04-24T14:15:21.655Z"
   },
   {
    "duration": 11,
    "start_time": "2022-04-24T14:15:26.608Z"
   },
   {
    "duration": 12,
    "start_time": "2022-04-24T14:15:26.620Z"
   },
   {
    "duration": 2655,
    "start_time": "2022-04-26T14:54:55.882Z"
   },
   {
    "duration": 39,
    "start_time": "2022-04-26T14:54:58.540Z"
   },
   {
    "duration": 18,
    "start_time": "2022-04-26T14:54:58.581Z"
   },
   {
    "duration": 24,
    "start_time": "2022-04-26T14:54:58.602Z"
   },
   {
    "duration": 32,
    "start_time": "2022-04-26T14:54:58.628Z"
   },
   {
    "duration": 32,
    "start_time": "2022-04-26T14:54:58.663Z"
   },
   {
    "duration": 14,
    "start_time": "2022-04-26T14:54:58.697Z"
   },
   {
    "duration": 47,
    "start_time": "2022-04-26T14:54:58.713Z"
   },
   {
    "duration": 31,
    "start_time": "2022-04-26T14:54:58.762Z"
   },
   {
    "duration": 14,
    "start_time": "2022-04-26T14:54:58.796Z"
   },
   {
    "duration": 54,
    "start_time": "2022-04-26T14:54:58.812Z"
   },
   {
    "duration": 10,
    "start_time": "2022-04-26T14:54:58.868Z"
   },
   {
    "duration": 15,
    "start_time": "2022-04-26T14:54:58.893Z"
   },
   {
    "duration": 22,
    "start_time": "2022-04-26T14:54:58.970Z"
   },
   {
    "duration": 370,
    "start_time": "2022-04-26T14:54:59.054Z"
   },
   {
    "duration": 10,
    "start_time": "2022-04-26T14:54:59.426Z"
   },
   {
    "duration": 77,
    "start_time": "2022-04-26T14:54:59.453Z"
   },
   {
    "duration": 14,
    "start_time": "2022-04-26T14:54:59.551Z"
   },
   {
    "duration": 9,
    "start_time": "2022-04-26T14:54:59.567Z"
   },
   {
    "duration": 1628,
    "start_time": "2022-04-26T14:54:59.578Z"
   },
   {
    "duration": 45,
    "start_time": "2022-04-26T14:55:01.208Z"
   },
   {
    "duration": 14,
    "start_time": "2022-04-26T14:55:01.255Z"
   },
   {
    "duration": 41,
    "start_time": "2022-04-26T14:55:01.271Z"
   },
   {
    "duration": 5,
    "start_time": "2022-04-26T14:55:01.315Z"
   },
   {
    "duration": 37,
    "start_time": "2022-04-26T14:55:01.322Z"
   },
   {
    "duration": 26,
    "start_time": "2022-04-26T14:55:01.361Z"
   },
   {
    "duration": 2317,
    "start_time": "2022-04-26T14:55:01.391Z"
   },
   {
    "duration": 16,
    "start_time": "2022-04-26T14:55:03.710Z"
   },
   {
    "duration": 45547,
    "start_time": "2022-04-26T14:55:03.728Z"
   },
   {
    "duration": 18,
    "start_time": "2022-04-26T14:55:49.277Z"
   },
   {
    "duration": 7674,
    "start_time": "2022-04-26T14:55:49.297Z"
   },
   {
    "duration": 13,
    "start_time": "2022-04-26T14:55:56.973Z"
   },
   {
    "duration": 19,
    "start_time": "2022-04-26T14:55:56.989Z"
   },
   {
    "duration": 106335,
    "start_time": "2022-04-26T14:56:37.949Z"
   },
   {
    "duration": 16,
    "start_time": "2022-04-26T14:58:24.286Z"
   },
   {
    "duration": 7949,
    "start_time": "2022-04-26T14:58:24.305Z"
   },
   {
    "duration": 15,
    "start_time": "2022-04-26T14:58:32.257Z"
   },
   {
    "duration": 19,
    "start_time": "2022-04-26T14:58:32.275Z"
   },
   {
    "duration": 75,
    "start_time": "2022-04-26T14:59:31.046Z"
   },
   {
    "duration": 8,
    "start_time": "2022-04-26T14:59:37.182Z"
   },
   {
    "duration": 8,
    "start_time": "2022-04-26T14:59:37.678Z"
   },
   {
    "duration": 9,
    "start_time": "2022-04-26T14:59:37.762Z"
   },
   {
    "duration": 9,
    "start_time": "2022-04-26T14:59:37.847Z"
   },
   {
    "duration": 2518,
    "start_time": "2022-04-26T14:59:42.594Z"
   },
   {
    "duration": 40,
    "start_time": "2022-04-26T14:59:45.115Z"
   },
   {
    "duration": 20,
    "start_time": "2022-04-26T14:59:45.157Z"
   },
   {
    "duration": 18,
    "start_time": "2022-04-26T14:59:45.180Z"
   },
   {
    "duration": 18,
    "start_time": "2022-04-26T14:59:45.200Z"
   },
   {
    "duration": 60,
    "start_time": "2022-04-26T14:59:45.220Z"
   },
   {
    "duration": 17,
    "start_time": "2022-04-26T14:59:45.282Z"
   },
   {
    "duration": 55,
    "start_time": "2022-04-26T14:59:45.301Z"
   },
   {
    "duration": 28,
    "start_time": "2022-04-26T14:59:45.359Z"
   },
   {
    "duration": 15,
    "start_time": "2022-04-26T14:59:45.392Z"
   },
   {
    "duration": 59,
    "start_time": "2022-04-26T14:59:45.409Z"
   },
   {
    "duration": 9,
    "start_time": "2022-04-26T14:59:45.471Z"
   },
   {
    "duration": 20,
    "start_time": "2022-04-26T14:59:45.482Z"
   },
   {
    "duration": 51,
    "start_time": "2022-04-26T14:59:45.505Z"
   },
   {
    "duration": 350,
    "start_time": "2022-04-26T14:59:45.592Z"
   },
   {
    "duration": 14,
    "start_time": "2022-04-26T14:59:45.945Z"
   },
   {
    "duration": 90,
    "start_time": "2022-04-26T14:59:45.972Z"
   },
   {
    "duration": 15,
    "start_time": "2022-04-26T14:59:46.143Z"
   },
   {
    "duration": 7,
    "start_time": "2022-04-26T14:59:46.368Z"
   },
   {
    "duration": 1931,
    "start_time": "2022-04-26T14:59:46.524Z"
   },
   {
    "duration": 9,
    "start_time": "2022-04-26T14:59:48.464Z"
   },
   {
    "duration": 8,
    "start_time": "2022-04-26T14:59:48.475Z"
   },
   {
    "duration": 39,
    "start_time": "2022-04-26T14:59:48.486Z"
   },
   {
    "duration": 4,
    "start_time": "2022-04-26T14:59:48.527Z"
   },
   {
    "duration": 23,
    "start_time": "2022-04-26T14:59:48.533Z"
   },
   {
    "duration": 14,
    "start_time": "2022-04-26T14:59:48.558Z"
   },
   {
    "duration": 2959,
    "start_time": "2022-04-26T14:59:48.575Z"
   },
   {
    "duration": 24,
    "start_time": "2022-04-26T14:59:51.537Z"
   },
   {
    "duration": 46114,
    "start_time": "2022-04-26T14:59:51.564Z"
   },
   {
    "duration": 15,
    "start_time": "2022-04-26T15:00:37.680Z"
   },
   {
    "duration": 7657,
    "start_time": "2022-04-26T15:00:37.697Z"
   },
   {
    "duration": 14,
    "start_time": "2022-04-26T15:00:45.356Z"
   },
   {
    "duration": 18,
    "start_time": "2022-04-26T15:00:45.372Z"
   },
   {
    "duration": 2473,
    "start_time": "2022-04-26T15:01:54.519Z"
   },
   {
    "duration": 32,
    "start_time": "2022-04-26T15:01:56.995Z"
   },
   {
    "duration": 26,
    "start_time": "2022-04-26T15:01:57.029Z"
   },
   {
    "duration": 19,
    "start_time": "2022-04-26T15:01:57.057Z"
   },
   {
    "duration": 15,
    "start_time": "2022-04-26T15:01:57.079Z"
   },
   {
    "duration": 61,
    "start_time": "2022-04-26T15:01:57.096Z"
   },
   {
    "duration": 13,
    "start_time": "2022-04-26T15:01:57.159Z"
   },
   {
    "duration": 21,
    "start_time": "2022-04-26T15:01:57.174Z"
   },
   {
    "duration": 56,
    "start_time": "2022-04-26T15:01:57.197Z"
   },
   {
    "duration": 13,
    "start_time": "2022-04-26T15:01:57.255Z"
   },
   {
    "duration": 18,
    "start_time": "2022-04-26T15:01:57.270Z"
   },
   {
    "duration": 10,
    "start_time": "2022-04-26T15:01:57.291Z"
   },
   {
    "duration": 54,
    "start_time": "2022-04-26T15:01:57.303Z"
   },
   {
    "duration": 22,
    "start_time": "2022-04-26T15:01:57.363Z"
   },
   {
    "duration": 476,
    "start_time": "2022-04-26T15:01:57.387Z"
   },
   {
    "duration": 12,
    "start_time": "2022-04-26T15:01:57.866Z"
   },
   {
    "duration": 106,
    "start_time": "2022-04-26T15:01:57.881Z"
   },
   {
    "duration": 13,
    "start_time": "2022-04-26T15:01:57.989Z"
   },
   {
    "duration": 15,
    "start_time": "2022-04-26T15:01:58.005Z"
   },
   {
    "duration": 2052,
    "start_time": "2022-04-26T15:01:58.022Z"
   },
   {
    "duration": 8,
    "start_time": "2022-04-26T15:02:00.077Z"
   },
   {
    "duration": 9,
    "start_time": "2022-04-26T15:02:00.088Z"
   },
   {
    "duration": 53,
    "start_time": "2022-04-26T15:02:00.099Z"
   },
   {
    "duration": 6,
    "start_time": "2022-04-26T15:02:00.154Z"
   },
   {
    "duration": 18,
    "start_time": "2022-04-26T15:02:00.162Z"
   },
   {
    "duration": 30,
    "start_time": "2022-04-26T15:02:00.183Z"
   },
   {
    "duration": 3893,
    "start_time": "2022-04-26T15:02:00.215Z"
   },
   {
    "duration": 23,
    "start_time": "2022-04-26T15:02:04.111Z"
   },
   {
    "duration": 9604,
    "start_time": "2022-04-26T15:02:04.136Z"
   },
   {
    "duration": 0,
    "start_time": "2022-04-26T15:02:13.743Z"
   },
   {
    "duration": 0,
    "start_time": "2022-04-26T15:02:13.752Z"
   },
   {
    "duration": 0,
    "start_time": "2022-04-26T15:02:13.753Z"
   },
   {
    "duration": 0,
    "start_time": "2022-04-26T15:02:13.755Z"
   },
   {
    "duration": 3809,
    "start_time": "2022-04-26T15:03:07.077Z"
   },
   {
    "duration": 3030,
    "start_time": "2022-04-26T15:05:13.040Z"
   },
   {
    "duration": 45574,
    "start_time": "2022-04-26T15:05:45.838Z"
   },
   {
    "duration": 116,
    "start_time": "2022-04-26T15:19:17.845Z"
   },
   {
    "duration": 90,
    "start_time": "2022-04-26T15:19:23.482Z"
   },
   {
    "duration": 50,
    "start_time": "2022-04-29T10:24:12.830Z"
   },
   {
    "duration": 120,
    "start_time": "2022-04-29T10:25:30.614Z"
   },
   {
    "duration": 75092,
    "start_time": "2022-04-29T10:27:43.034Z"
   },
   {
    "duration": 31,
    "start_time": "2022-04-29T10:28:58.128Z"
   },
   {
    "duration": 12,
    "start_time": "2022-04-29T10:28:58.161Z"
   },
   {
    "duration": 13,
    "start_time": "2022-04-29T10:28:58.175Z"
   },
   {
    "duration": 11,
    "start_time": "2022-04-29T10:28:58.190Z"
   },
   {
    "duration": 21,
    "start_time": "2022-04-29T10:28:58.203Z"
   },
   {
    "duration": 10,
    "start_time": "2022-04-29T10:28:58.225Z"
   },
   {
    "duration": 41,
    "start_time": "2022-04-29T10:28:58.237Z"
   },
   {
    "duration": 22,
    "start_time": "2022-04-29T10:28:58.280Z"
   },
   {
    "duration": 10,
    "start_time": "2022-04-29T10:28:58.305Z"
   },
   {
    "duration": 13,
    "start_time": "2022-04-29T10:28:58.317Z"
   },
   {
    "duration": 8,
    "start_time": "2022-04-29T10:28:58.332Z"
   },
   {
    "duration": 11,
    "start_time": "2022-04-29T10:28:58.373Z"
   },
   {
    "duration": 30,
    "start_time": "2022-04-29T10:28:58.385Z"
   },
   {
    "duration": 241,
    "start_time": "2022-04-29T10:28:58.417Z"
   },
   {
    "duration": 14,
    "start_time": "2022-04-29T10:28:58.660Z"
   },
   {
    "duration": 49,
    "start_time": "2022-04-29T10:28:58.676Z"
   },
   {
    "duration": 10,
    "start_time": "2022-04-29T10:28:58.727Z"
   },
   {
    "duration": 6,
    "start_time": "2022-04-29T10:28:58.739Z"
   },
   {
    "duration": 1156,
    "start_time": "2022-04-29T10:28:58.747Z"
   },
   {
    "duration": 6,
    "start_time": "2022-04-29T10:28:59.905Z"
   },
   {
    "duration": 22,
    "start_time": "2022-04-29T10:28:59.913Z"
   },
   {
    "duration": 28,
    "start_time": "2022-04-29T10:28:59.937Z"
   },
   {
    "duration": 19,
    "start_time": "2022-04-29T10:28:59.967Z"
   },
   {
    "duration": 35,
    "start_time": "2022-04-29T10:28:59.987Z"
   },
   {
    "duration": 57,
    "start_time": "2022-04-29T10:29:00.024Z"
   },
   {
    "duration": 1561,
    "start_time": "2022-04-29T10:29:00.083Z"
   },
   {
    "duration": 12,
    "start_time": "2022-04-29T10:29:01.647Z"
   },
   {
    "duration": 30825,
    "start_time": "2022-04-29T10:29:01.673Z"
   },
   {
    "duration": 11,
    "start_time": "2022-04-29T10:29:32.499Z"
   },
   {
    "duration": 4687,
    "start_time": "2022-04-29T10:29:32.511Z"
   },
   {
    "duration": 9,
    "start_time": "2022-04-29T10:29:37.200Z"
   },
   {
    "duration": 27,
    "start_time": "2022-04-29T10:29:37.211Z"
   },
   {
    "duration": 4,
    "start_time": "2022-04-29T10:39:14.277Z"
   },
   {
    "duration": 661,
    "start_time": "2022-04-29T10:39:56.671Z"
   },
   {
    "duration": 7349,
    "start_time": "2022-04-29T10:40:20.739Z"
   },
   {
    "duration": 4,
    "start_time": "2022-04-29T10:40:28.091Z"
   },
   {
    "duration": 1091,
    "start_time": "2022-04-29T10:40:28.096Z"
   },
   {
    "duration": 21,
    "start_time": "2022-04-29T10:40:51.357Z"
   },
   {
    "duration": 11,
    "start_time": "2022-04-29T10:44:42.617Z"
   },
   {
    "duration": 5,
    "start_time": "2022-04-29T10:46:19.322Z"
   },
   {
    "duration": 118,
    "start_time": "2022-04-29T10:47:05.105Z"
   },
   {
    "duration": 122,
    "start_time": "2022-04-29T10:47:20.896Z"
   },
   {
    "duration": 4,
    "start_time": "2022-04-29T10:47:25.985Z"
   },
   {
    "duration": 4,
    "start_time": "2022-04-29T10:47:41.742Z"
   },
   {
    "duration": 1084,
    "start_time": "2022-04-29T10:48:03.695Z"
   },
   {
    "duration": 3,
    "start_time": "2022-04-29T10:51:51.123Z"
   },
   {
    "duration": 4,
    "start_time": "2022-04-29T10:52:27.464Z"
   },
   {
    "duration": 20,
    "start_time": "2022-04-29T11:01:02.577Z"
   },
   {
    "duration": 4,
    "start_time": "2022-04-29T11:01:08.125Z"
   },
   {
    "duration": 5,
    "start_time": "2022-04-29T11:01:16.856Z"
   },
   {
    "duration": 4,
    "start_time": "2022-04-29T11:01:53.958Z"
   },
   {
    "duration": 4,
    "start_time": "2022-04-29T11:02:09.116Z"
   },
   {
    "duration": 3,
    "start_time": "2022-04-29T11:02:36.446Z"
   },
   {
    "duration": 111,
    "start_time": "2022-04-29T11:09:49.723Z"
   },
   {
    "duration": 4,
    "start_time": "2022-04-29T11:10:01.568Z"
   },
   {
    "duration": 508,
    "start_time": "2022-04-29T11:10:30.390Z"
   },
   {
    "duration": 4,
    "start_time": "2022-04-29T11:11:00.235Z"
   },
   {
    "duration": 1071,
    "start_time": "2022-04-29T11:11:00.889Z"
   },
   {
    "duration": 125,
    "start_time": "2022-04-29T11:11:42.830Z"
   },
   {
    "duration": 111,
    "start_time": "2022-04-29T11:11:57.090Z"
   },
   {
    "duration": 4,
    "start_time": "2022-04-29T11:12:04.601Z"
   },
   {
    "duration": 4,
    "start_time": "2022-04-29T11:12:16.617Z"
   },
   {
    "duration": 138,
    "start_time": "2022-04-29T11:17:19.534Z"
   },
   {
    "duration": 4,
    "start_time": "2022-04-29T11:17:25.324Z"
   },
   {
    "duration": 13,
    "start_time": "2022-04-29T11:17:55.537Z"
   },
   {
    "duration": 5,
    "start_time": "2022-04-29T11:17:58.079Z"
   },
   {
    "duration": 5,
    "start_time": "2022-04-29T11:18:03.725Z"
   },
   {
    "duration": 2,
    "start_time": "2022-04-29T11:19:16.090Z"
   },
   {
    "duration": 110,
    "start_time": "2022-04-29T11:19:23.270Z"
   },
   {
    "duration": 119,
    "start_time": "2022-04-29T11:22:27.734Z"
   },
   {
    "duration": 3,
    "start_time": "2022-04-29T11:22:30.973Z"
   },
   {
    "duration": 5,
    "start_time": "2022-04-29T11:22:35.948Z"
   },
   {
    "duration": 16,
    "start_time": "2022-04-29T11:22:55.509Z"
   },
   {
    "duration": 5,
    "start_time": "2022-04-29T11:23:00.604Z"
   },
   {
    "duration": 16,
    "start_time": "2022-04-29T11:23:21.029Z"
   },
   {
    "duration": 5,
    "start_time": "2022-04-29T11:23:30.309Z"
   },
   {
    "duration": 5,
    "start_time": "2022-04-29T11:23:59.279Z"
   },
   {
    "duration": 6,
    "start_time": "2022-04-29T11:24:01.710Z"
   },
   {
    "duration": 14,
    "start_time": "2022-04-29T11:24:18.037Z"
   },
   {
    "duration": 13,
    "start_time": "2022-04-29T11:24:31.766Z"
   },
   {
    "duration": 5,
    "start_time": "2022-04-29T11:26:04.699Z"
   },
   {
    "duration": 5,
    "start_time": "2022-04-29T11:27:06.489Z"
   },
   {
    "duration": 5,
    "start_time": "2022-04-29T11:42:40.650Z"
   },
   {
    "duration": 5788,
    "start_time": "2022-04-29T11:42:47.359Z"
   },
   {
    "duration": 5,
    "start_time": "2022-04-29T11:44:20.035Z"
   },
   {
    "duration": 1076,
    "start_time": "2022-04-29T11:44:23.090Z"
   },
   {
    "duration": 5,
    "start_time": "2022-04-29T11:48:54.473Z"
   },
   {
    "duration": 1054,
    "start_time": "2022-04-29T11:48:58.294Z"
   },
   {
    "duration": 5,
    "start_time": "2022-04-29T11:49:06.777Z"
   },
   {
    "duration": 1064,
    "start_time": "2022-04-29T11:49:08.917Z"
   },
   {
    "duration": 7,
    "start_time": "2022-04-29T11:49:14.624Z"
   },
   {
    "duration": 1121,
    "start_time": "2022-04-29T11:49:17.255Z"
   },
   {
    "duration": 5,
    "start_time": "2022-04-29T11:49:48.237Z"
   },
   {
    "duration": 1078,
    "start_time": "2022-04-29T11:50:51.772Z"
   },
   {
    "duration": 115,
    "start_time": "2022-04-29T11:52:45.718Z"
   },
   {
    "duration": 5,
    "start_time": "2022-04-29T11:52:49.703Z"
   },
   {
    "duration": 14919,
    "start_time": "2022-04-29T11:52:50.546Z"
   },
   {
    "duration": 5,
    "start_time": "2022-04-29T12:16:33.392Z"
   },
   {
    "duration": 1118,
    "start_time": "2022-04-29T12:16:37.125Z"
   },
   {
    "duration": 4,
    "start_time": "2022-04-29T12:17:18.267Z"
   },
   {
    "duration": 641,
    "start_time": "2022-04-29T12:17:21.498Z"
   },
   {
    "duration": 5,
    "start_time": "2022-04-29T12:17:45.197Z"
   },
   {
    "duration": 577,
    "start_time": "2022-04-29T12:17:48.469Z"
   },
   {
    "duration": 4,
    "start_time": "2022-04-29T12:18:40.572Z"
   },
   {
    "duration": 1096,
    "start_time": "2022-04-29T12:18:43.111Z"
   },
   {
    "duration": 1081,
    "start_time": "2022-04-29T12:18:58.114Z"
   },
   {
    "duration": 10,
    "start_time": "2022-04-29T12:27:30.977Z"
   },
   {
    "duration": 9,
    "start_time": "2022-04-29T12:27:48.784Z"
   },
   {
    "duration": 9,
    "start_time": "2022-04-29T12:27:52.962Z"
   },
   {
    "duration": 9,
    "start_time": "2022-04-29T12:27:54.624Z"
   },
   {
    "duration": 9,
    "start_time": "2022-04-29T12:28:56.348Z"
   },
   {
    "duration": 10,
    "start_time": "2022-04-29T12:29:29.017Z"
   },
   {
    "duration": 99,
    "start_time": "2022-04-29T12:31:02.220Z"
   },
   {
    "duration": 17,
    "start_time": "2022-04-29T12:31:10.231Z"
   },
   {
    "duration": 3,
    "start_time": "2022-04-29T12:31:38.074Z"
   },
   {
    "duration": 9,
    "start_time": "2022-04-29T12:31:44.036Z"
   },
   {
    "duration": 135,
    "start_time": "2022-04-29T12:32:02.589Z"
   },
   {
    "duration": 11,
    "start_time": "2022-04-29T12:32:05.465Z"
   },
   {
    "duration": 17,
    "start_time": "2022-04-29T12:32:33.137Z"
   },
   {
    "duration": 16,
    "start_time": "2022-04-29T12:32:51.644Z"
   },
   {
    "duration": 5,
    "start_time": "2022-04-29T12:33:12.844Z"
   },
   {
    "duration": 5,
    "start_time": "2022-04-29T12:33:16.663Z"
   },
   {
    "duration": 16,
    "start_time": "2022-04-29T12:33:31.141Z"
   },
   {
    "duration": 5,
    "start_time": "2022-04-29T12:33:36.558Z"
   },
   {
    "duration": 6,
    "start_time": "2022-04-29T12:33:54.087Z"
   },
   {
    "duration": 5,
    "start_time": "2022-04-29T12:36:12.272Z"
   },
   {
    "duration": 1170,
    "start_time": "2022-04-29T12:36:17.784Z"
   },
   {
    "duration": 4,
    "start_time": "2022-04-29T12:38:43.719Z"
   },
   {
    "duration": 4,
    "start_time": "2022-04-29T12:38:44.268Z"
   },
   {
    "duration": 1208,
    "start_time": "2022-04-29T12:38:45.460Z"
   },
   {
    "duration": 12,
    "start_time": "2022-04-29T12:39:43.343Z"
   },
   {
    "duration": 18,
    "start_time": "2022-04-29T12:46:29.115Z"
   },
   {
    "duration": 20,
    "start_time": "2022-04-29T12:49:45.085Z"
   },
   {
    "duration": 11,
    "start_time": "2022-04-29T12:49:51.122Z"
   },
   {
    "duration": 11,
    "start_time": "2022-04-29T12:50:46.626Z"
   },
   {
    "duration": 7,
    "start_time": "2022-04-29T12:51:29.015Z"
   },
   {
    "duration": 9,
    "start_time": "2022-04-29T12:51:35.588Z"
   },
   {
    "duration": 16,
    "start_time": "2022-04-29T12:51:54.412Z"
   },
   {
    "duration": 9,
    "start_time": "2022-04-29T12:52:35.031Z"
   },
   {
    "duration": 104,
    "start_time": "2022-04-29T12:54:32.525Z"
   },
   {
    "duration": 11,
    "start_time": "2022-04-29T12:54:40.898Z"
   },
   {
    "duration": 10,
    "start_time": "2022-04-29T12:54:54.775Z"
   },
   {
    "duration": 8,
    "start_time": "2022-04-29T12:54:59.270Z"
   },
   {
    "duration": 13,
    "start_time": "2022-04-29T12:57:47.737Z"
   },
   {
    "duration": 52,
    "start_time": "2022-04-29T13:02:08.399Z"
   },
   {
    "duration": 49,
    "start_time": "2022-04-29T13:02:26.338Z"
   },
   {
    "duration": 13,
    "start_time": "2022-04-29T13:03:12.389Z"
   },
   {
    "duration": 47,
    "start_time": "2022-04-29T13:03:16.253Z"
   },
   {
    "duration": 46,
    "start_time": "2022-04-29T13:03:52.037Z"
   },
   {
    "duration": 18,
    "start_time": "2022-04-29T13:08:57.588Z"
   },
   {
    "duration": 20,
    "start_time": "2022-04-29T13:09:12.145Z"
   },
   {
    "duration": 13,
    "start_time": "2022-04-29T13:09:20.349Z"
   },
   {
    "duration": 228,
    "start_time": "2022-04-29T13:09:43.920Z"
   },
   {
    "duration": 4,
    "start_time": "2022-04-29T13:09:51.623Z"
   },
   {
    "duration": 11,
    "start_time": "2022-04-29T13:09:58.555Z"
   },
   {
    "duration": 8,
    "start_time": "2022-04-29T13:11:23.041Z"
   },
   {
    "duration": 14,
    "start_time": "2022-04-29T13:11:25.450Z"
   },
   {
    "duration": 47,
    "start_time": "2022-04-29T13:11:28.378Z"
   },
   {
    "duration": 11,
    "start_time": "2022-04-29T13:11:29.553Z"
   },
   {
    "duration": 10,
    "start_time": "2022-04-29T13:12:11.370Z"
   },
   {
    "duration": 132,
    "start_time": "2022-04-29T13:18:47.726Z"
   },
   {
    "duration": 4,
    "start_time": "2022-04-29T13:18:54.757Z"
   },
   {
    "duration": 13,
    "start_time": "2022-04-29T13:20:15.722Z"
   },
   {
    "duration": 12,
    "start_time": "2022-04-29T13:20:41.726Z"
   },
   {
    "duration": 3,
    "start_time": "2022-04-29T13:20:45.453Z"
   },
   {
    "duration": 12,
    "start_time": "2022-04-29T13:20:45.796Z"
   },
   {
    "duration": 10,
    "start_time": "2022-04-29T13:21:39.222Z"
   },
   {
    "duration": 18,
    "start_time": "2022-04-29T13:21:43.316Z"
   },
   {
    "duration": 107,
    "start_time": "2022-04-29T13:23:28.314Z"
   },
   {
    "duration": 5,
    "start_time": "2022-04-29T13:23:37.095Z"
   },
   {
    "duration": 17,
    "start_time": "2022-04-29T13:23:38.289Z"
   },
   {
    "duration": 4,
    "start_time": "2022-04-29T13:24:13.993Z"
   },
   {
    "duration": 17,
    "start_time": "2022-04-29T13:24:14.750Z"
   },
   {
    "duration": 12,
    "start_time": "2022-04-29T13:24:25.365Z"
   },
   {
    "duration": 15,
    "start_time": "2022-04-29T13:26:31.959Z"
   },
   {
    "duration": 3,
    "start_time": "2022-04-29T13:26:39.463Z"
   },
   {
    "duration": 19,
    "start_time": "2022-04-29T13:26:40.408Z"
   },
   {
    "duration": 21,
    "start_time": "2022-04-29T13:27:05.477Z"
   },
   {
    "duration": 8,
    "start_time": "2022-04-29T13:27:33.415Z"
   },
   {
    "duration": 14,
    "start_time": "2022-04-29T13:27:33.912Z"
   },
   {
    "duration": 50,
    "start_time": "2022-04-29T13:27:35.152Z"
   },
   {
    "duration": 10,
    "start_time": "2022-04-29T13:27:35.734Z"
   },
   {
    "duration": 3,
    "start_time": "2022-04-29T13:27:39.665Z"
   },
   {
    "duration": 20,
    "start_time": "2022-04-29T13:27:40.736Z"
   },
   {
    "duration": 1134,
    "start_time": "2022-04-29T13:28:13.363Z"
   },
   {
    "duration": 7,
    "start_time": "2022-04-29T13:28:17.322Z"
   },
   {
    "duration": 17,
    "start_time": "2022-04-29T13:28:27.686Z"
   },
   {
    "duration": 15,
    "start_time": "2022-04-29T13:28:33.181Z"
   },
   {
    "duration": 44,
    "start_time": "2022-04-29T13:28:37.076Z"
   },
   {
    "duration": 10,
    "start_time": "2022-04-29T13:28:40.123Z"
   },
   {
    "duration": 4,
    "start_time": "2022-04-29T13:28:43.170Z"
   },
   {
    "duration": 502,
    "start_time": "2022-04-29T13:28:48.224Z"
   },
   {
    "duration": 3,
    "start_time": "2022-04-29T13:29:08.521Z"
   },
   {
    "duration": 459,
    "start_time": "2022-04-29T13:29:09.004Z"
   },
   {
    "duration": 502,
    "start_time": "2022-04-29T13:29:28.658Z"
   },
   {
    "duration": 14,
    "start_time": "2022-04-29T13:29:34.025Z"
   },
   {
    "duration": 1295,
    "start_time": "2022-04-29T13:29:56.885Z"
   },
   {
    "duration": 16,
    "start_time": "2022-04-29T13:30:34.985Z"
   },
   {
    "duration": 456,
    "start_time": "2022-04-29T13:30:50.241Z"
   },
   {
    "duration": 4,
    "start_time": "2022-04-29T13:31:35.155Z"
   },
   {
    "duration": 479,
    "start_time": "2022-04-29T13:31:36.048Z"
   },
   {
    "duration": 28,
    "start_time": "2022-04-29T13:32:19.549Z"
   },
   {
    "duration": 3,
    "start_time": "2022-04-29T13:33:02.108Z"
   },
   {
    "duration": 25,
    "start_time": "2022-04-29T13:33:02.890Z"
   },
   {
    "duration": 12,
    "start_time": "2022-04-29T13:34:08.415Z"
   },
   {
    "duration": 5,
    "start_time": "2022-04-29T13:34:58.179Z"
   },
   {
    "duration": 12,
    "start_time": "2022-04-29T13:37:21.850Z"
   },
   {
    "duration": 6,
    "start_time": "2022-04-29T13:37:39.511Z"
   },
   {
    "duration": 12,
    "start_time": "2022-04-29T13:40:48.106Z"
   },
   {
    "duration": 10,
    "start_time": "2022-04-29T13:40:52.463Z"
   },
   {
    "duration": 10,
    "start_time": "2022-04-29T13:41:17.406Z"
   },
   {
    "duration": 5,
    "start_time": "2022-04-29T13:43:02.044Z"
   },
   {
    "duration": 4,
    "start_time": "2022-04-29T13:43:11.310Z"
   },
   {
    "duration": 12,
    "start_time": "2022-04-29T13:52:16.555Z"
   },
   {
    "duration": 14,
    "start_time": "2022-04-29T13:52:33.257Z"
   },
   {
    "duration": 7,
    "start_time": "2022-04-29T13:52:50.791Z"
   },
   {
    "duration": 9,
    "start_time": "2022-04-29T13:52:57.625Z"
   },
   {
    "duration": 3,
    "start_time": "2022-04-29T13:53:38.873Z"
   },
   {
    "duration": 18,
    "start_time": "2022-04-29T13:54:16.486Z"
   },
   {
    "duration": 229,
    "start_time": "2022-04-29T13:54:48.936Z"
   },
   {
    "duration": 63,
    "start_time": "2022-04-29T14:01:57.237Z"
   },
   {
    "duration": 61,
    "start_time": "2022-04-29T14:02:21.266Z"
   },
   {
    "duration": 62,
    "start_time": "2022-04-29T14:02:28.586Z"
   },
   {
    "duration": 169,
    "start_time": "2022-04-29T14:07:24.234Z"
   },
   {
    "duration": 126,
    "start_time": "2022-04-29T14:07:38.975Z"
   },
   {
    "duration": 114,
    "start_time": "2022-04-29T14:07:50.559Z"
   },
   {
    "duration": 170,
    "start_time": "2022-04-29T14:11:05.649Z"
   },
   {
    "duration": 176,
    "start_time": "2022-04-29T14:11:25.042Z"
   },
   {
    "duration": 251,
    "start_time": "2022-04-29T14:11:29.932Z"
   },
   {
    "duration": 171,
    "start_time": "2022-04-29T14:11:34.576Z"
   },
   {
    "duration": 17,
    "start_time": "2022-04-29T14:14:01.405Z"
   },
   {
    "duration": 14,
    "start_time": "2022-04-29T14:14:26.427Z"
   },
   {
    "duration": 15,
    "start_time": "2022-04-29T14:14:33.012Z"
   },
   {
    "duration": 15,
    "start_time": "2022-04-29T14:14:36.525Z"
   },
   {
    "duration": 16,
    "start_time": "2022-04-29T14:16:59.552Z"
   },
   {
    "duration": 166,
    "start_time": "2022-04-29T14:17:15.013Z"
   },
   {
    "duration": 164,
    "start_time": "2022-04-29T14:17:26.730Z"
   },
   {
    "duration": 279,
    "start_time": "2022-04-29T14:17:39.970Z"
   },
   {
    "duration": 181,
    "start_time": "2022-04-29T14:17:53.243Z"
   },
   {
    "duration": 187,
    "start_time": "2022-04-29T14:18:22.708Z"
   },
   {
    "duration": 17,
    "start_time": "2022-04-29T14:22:11.354Z"
   },
   {
    "duration": 18,
    "start_time": "2022-04-29T14:23:01.989Z"
   },
   {
    "duration": 17,
    "start_time": "2022-04-29T14:23:05.653Z"
   },
   {
    "duration": 60,
    "start_time": "2022-04-29T14:23:27.199Z"
   },
   {
    "duration": 10,
    "start_time": "2022-04-29T14:30:33.287Z"
   },
   {
    "duration": 8290,
    "start_time": "2022-04-30T08:03:31.552Z"
   },
   {
    "duration": 38,
    "start_time": "2022-04-30T08:03:39.844Z"
   },
   {
    "duration": 15,
    "start_time": "2022-04-30T08:03:40.731Z"
   },
   {
    "duration": 16,
    "start_time": "2022-04-30T08:03:41.432Z"
   },
   {
    "duration": 12,
    "start_time": "2022-04-30T08:03:41.747Z"
   },
   {
    "duration": 35,
    "start_time": "2022-04-30T08:03:42.022Z"
   },
   {
    "duration": 12,
    "start_time": "2022-04-30T08:03:42.363Z"
   },
   {
    "duration": 14,
    "start_time": "2022-04-30T08:03:42.377Z"
   },
   {
    "duration": 17,
    "start_time": "2022-04-30T08:03:42.752Z"
   },
   {
    "duration": 11,
    "start_time": "2022-04-30T08:03:43.411Z"
   },
   {
    "duration": 12,
    "start_time": "2022-04-30T08:03:43.424Z"
   },
   {
    "duration": 7,
    "start_time": "2022-04-30T08:03:43.438Z"
   },
   {
    "duration": 9,
    "start_time": "2022-04-30T08:03:43.460Z"
   },
   {
    "duration": 17,
    "start_time": "2022-04-30T08:03:43.562Z"
   },
   {
    "duration": 212,
    "start_time": "2022-04-30T08:03:43.635Z"
   },
   {
    "duration": 6,
    "start_time": "2022-04-30T08:03:43.849Z"
   },
   {
    "duration": 54,
    "start_time": "2022-04-30T08:03:43.856Z"
   },
   {
    "duration": 9,
    "start_time": "2022-04-30T08:03:43.913Z"
   },
   {
    "duration": 3,
    "start_time": "2022-04-30T08:03:44.045Z"
   },
   {
    "duration": 3,
    "start_time": "2022-04-30T08:03:44.125Z"
   },
   {
    "duration": 1051,
    "start_time": "2022-04-30T08:03:44.458Z"
   },
   {
    "duration": 10,
    "start_time": "2022-04-30T08:03:45.511Z"
   },
   {
    "duration": 8,
    "start_time": "2022-04-30T08:03:45.523Z"
   },
   {
    "duration": 1085,
    "start_time": "2022-04-30T08:03:45.533Z"
   },
   {
    "duration": 12,
    "start_time": "2022-04-30T08:03:46.619Z"
   },
   {
    "duration": 17,
    "start_time": "2022-04-30T08:03:46.633Z"
   },
   {
    "duration": 53,
    "start_time": "2022-04-30T08:03:46.652Z"
   },
   {
    "duration": 9,
    "start_time": "2022-04-30T08:03:46.707Z"
   },
   {
    "duration": 16,
    "start_time": "2022-04-30T08:03:46.717Z"
   },
   {
    "duration": 14,
    "start_time": "2022-04-30T08:03:46.735Z"
   },
   {
    "duration": 24,
    "start_time": "2022-04-30T08:03:46.750Z"
   },
   {
    "duration": 183,
    "start_time": "2022-04-30T08:03:46.775Z"
   },
   {
    "duration": 13,
    "start_time": "2022-04-30T08:09:43.548Z"
   },
   {
    "duration": 19,
    "start_time": "2022-04-30T08:09:51.047Z"
   },
   {
    "duration": 14,
    "start_time": "2022-04-30T08:09:59.017Z"
   },
   {
    "duration": 141,
    "start_time": "2022-04-30T08:16:38.904Z"
   },
   {
    "duration": 228,
    "start_time": "2022-04-30T08:17:25.128Z"
   },
   {
    "duration": 137,
    "start_time": "2022-04-30T08:18:13.967Z"
   },
   {
    "duration": 142,
    "start_time": "2022-04-30T08:18:24.380Z"
   },
   {
    "duration": 202,
    "start_time": "2022-04-30T08:18:31.051Z"
   },
   {
    "duration": 208,
    "start_time": "2022-04-30T08:19:58.470Z"
   },
   {
    "duration": 213,
    "start_time": "2022-04-30T08:20:14.129Z"
   },
   {
    "duration": 144,
    "start_time": "2022-04-30T08:20:23.797Z"
   },
   {
    "duration": 136,
    "start_time": "2022-04-30T08:20:35.611Z"
   },
   {
    "duration": 140,
    "start_time": "2022-04-30T08:20:43.513Z"
   },
   {
    "duration": 140,
    "start_time": "2022-04-30T08:20:56.492Z"
   },
   {
    "duration": 140,
    "start_time": "2022-04-30T08:21:00.138Z"
   },
   {
    "duration": 141,
    "start_time": "2022-04-30T08:21:05.046Z"
   },
   {
    "duration": 221,
    "start_time": "2022-04-30T08:22:28.083Z"
   },
   {
    "duration": 139,
    "start_time": "2022-04-30T08:22:36.988Z"
   },
   {
    "duration": 247,
    "start_time": "2022-04-30T08:22:41.547Z"
   },
   {
    "duration": 138,
    "start_time": "2022-04-30T08:22:53.734Z"
   },
   {
    "duration": 137,
    "start_time": "2022-04-30T08:22:58.566Z"
   },
   {
    "duration": 136,
    "start_time": "2022-04-30T08:23:57.467Z"
   },
   {
    "duration": 139,
    "start_time": "2022-04-30T08:24:09.892Z"
   },
   {
    "duration": 137,
    "start_time": "2022-04-30T08:24:19.196Z"
   },
   {
    "duration": 166,
    "start_time": "2022-04-30T08:32:52.709Z"
   },
   {
    "duration": 21,
    "start_time": "2022-04-30T08:33:18.749Z"
   },
   {
    "duration": 26,
    "start_time": "2022-04-30T08:33:44.804Z"
   },
   {
    "duration": 18,
    "start_time": "2022-04-30T08:34:03.313Z"
   },
   {
    "duration": 18,
    "start_time": "2022-04-30T08:34:45.002Z"
   },
   {
    "duration": 17,
    "start_time": "2022-04-30T08:34:56.164Z"
   },
   {
    "duration": 20,
    "start_time": "2022-04-30T08:35:16.965Z"
   },
   {
    "duration": 18,
    "start_time": "2022-04-30T08:35:23.325Z"
   },
   {
    "duration": 17,
    "start_time": "2022-04-30T08:35:37.975Z"
   },
   {
    "duration": 17,
    "start_time": "2022-04-30T08:36:02.295Z"
   },
   {
    "duration": 55,
    "start_time": "2022-04-30T08:36:22.733Z"
   },
   {
    "duration": 56,
    "start_time": "2022-04-30T08:37:01.687Z"
   },
   {
    "duration": 7817,
    "start_time": "2022-05-01T08:33:59.702Z"
   },
   {
    "duration": 35,
    "start_time": "2022-05-01T08:34:07.552Z"
   },
   {
    "duration": 0,
    "start_time": "2022-05-01T08:34:11.480Z"
   },
   {
    "duration": 0,
    "start_time": "2022-05-01T08:34:11.481Z"
   },
   {
    "duration": 0,
    "start_time": "2022-05-01T08:34:11.482Z"
   },
   {
    "duration": 0,
    "start_time": "2022-05-01T08:34:11.483Z"
   },
   {
    "duration": 0,
    "start_time": "2022-05-01T08:34:11.484Z"
   },
   {
    "duration": 0,
    "start_time": "2022-05-01T08:34:11.485Z"
   },
   {
    "duration": 0,
    "start_time": "2022-05-01T08:34:11.486Z"
   },
   {
    "duration": 0,
    "start_time": "2022-05-01T08:34:11.487Z"
   },
   {
    "duration": 0,
    "start_time": "2022-05-01T08:34:11.489Z"
   },
   {
    "duration": 11,
    "start_time": "2022-05-01T08:34:11.492Z"
   },
   {
    "duration": 17,
    "start_time": "2022-05-01T08:34:11.692Z"
   },
   {
    "duration": 8,
    "start_time": "2022-05-01T08:34:11.920Z"
   },
   {
    "duration": 11,
    "start_time": "2022-05-01T08:34:12.216Z"
   },
   {
    "duration": 21,
    "start_time": "2022-05-01T08:34:12.615Z"
   },
   {
    "duration": 70,
    "start_time": "2022-05-01T08:34:12.893Z"
   },
   {
    "duration": 7,
    "start_time": "2022-05-01T08:34:13.202Z"
   },
   {
    "duration": 44,
    "start_time": "2022-05-01T08:34:13.664Z"
   },
   {
    "duration": 10,
    "start_time": "2022-05-01T08:34:14.005Z"
   },
   {
    "duration": 4,
    "start_time": "2022-05-01T08:34:14.537Z"
   },
   {
    "duration": 7,
    "start_time": "2022-05-01T08:34:14.732Z"
   },
   {
    "duration": 1338,
    "start_time": "2022-05-01T08:34:14.950Z"
   },
   {
    "duration": 11,
    "start_time": "2022-05-01T08:34:16.290Z"
   },
   {
    "duration": 6,
    "start_time": "2022-05-01T08:34:16.302Z"
   },
   {
    "duration": 1430,
    "start_time": "2022-05-01T08:34:16.310Z"
   },
   {
    "duration": 26,
    "start_time": "2022-05-01T08:34:17.743Z"
   },
   {
    "duration": 18,
    "start_time": "2022-05-01T08:34:17.771Z"
   },
   {
    "duration": 199,
    "start_time": "2022-05-01T08:34:17.792Z"
   },
   {
    "duration": 11,
    "start_time": "2022-05-01T08:34:17.993Z"
   },
   {
    "duration": 11,
    "start_time": "2022-05-01T08:34:18.006Z"
   },
   {
    "duration": 13,
    "start_time": "2022-05-01T08:34:18.018Z"
   },
   {
    "duration": 156,
    "start_time": "2022-05-01T08:34:18.034Z"
   },
   {
    "duration": 0,
    "start_time": "2022-05-01T08:34:18.192Z"
   },
   {
    "duration": 0,
    "start_time": "2022-05-01T08:34:18.193Z"
   },
   {
    "duration": 29,
    "start_time": "2022-05-01T08:52:51.532Z"
   },
   {
    "duration": 217,
    "start_time": "2022-05-01T08:52:52.458Z"
   },
   {
    "duration": 7,
    "start_time": "2022-05-01T08:54:45.448Z"
   },
   {
    "duration": 15,
    "start_time": "2022-05-01T08:54:49.551Z"
   },
   {
    "duration": 4,
    "start_time": "2022-05-01T08:55:41.696Z"
   },
   {
    "duration": 7,
    "start_time": "2022-05-01T08:55:43.736Z"
   },
   {
    "duration": 12,
    "start_time": "2022-05-01T08:59:22.463Z"
   },
   {
    "duration": 71,
    "start_time": "2022-05-01T09:01:54.880Z"
   },
   {
    "duration": 32,
    "start_time": "2022-05-01T09:04:00.003Z"
   },
   {
    "duration": 9,
    "start_time": "2022-05-01T09:04:00.322Z"
   },
   {
    "duration": 13,
    "start_time": "2022-05-01T09:04:00.534Z"
   },
   {
    "duration": 13,
    "start_time": "2022-05-01T09:04:00.741Z"
   },
   {
    "duration": 11,
    "start_time": "2022-05-01T09:04:00.942Z"
   },
   {
    "duration": 14,
    "start_time": "2022-05-01T09:04:01.123Z"
   },
   {
    "duration": 11,
    "start_time": "2022-05-01T09:04:01.386Z"
   },
   {
    "duration": 12,
    "start_time": "2022-05-01T09:04:01.603Z"
   },
   {
    "duration": 10,
    "start_time": "2022-05-01T09:23:03.517Z"
   },
   {
    "duration": 17,
    "start_time": "2022-05-01T09:25:39.567Z"
   },
   {
    "duration": 198,
    "start_time": "2022-05-01T09:25:40.517Z"
   },
   {
    "duration": 175,
    "start_time": "2022-05-01T09:49:39.085Z"
   },
   {
    "duration": 5,
    "start_time": "2022-05-01T09:56:29.394Z"
   },
   {
    "duration": 1150,
    "start_time": "2022-05-01T09:56:29.935Z"
   },
   {
    "duration": 14,
    "start_time": "2022-05-01T09:56:32.204Z"
   },
   {
    "duration": 14,
    "start_time": "2022-05-01T09:56:32.762Z"
   },
   {
    "duration": 44,
    "start_time": "2022-05-01T09:56:33.545Z"
   },
   {
    "duration": 13,
    "start_time": "2022-05-01T09:57:25.370Z"
   },
   {
    "duration": 47,
    "start_time": "2022-05-01T09:57:26.062Z"
   },
   {
    "duration": 15,
    "start_time": "2022-05-01T09:57:43.954Z"
   },
   {
    "duration": 14,
    "start_time": "2022-05-01T09:57:53.879Z"
   },
   {
    "duration": 11,
    "start_time": "2022-05-01T09:58:22.376Z"
   },
   {
    "duration": 16,
    "start_time": "2022-05-01T09:58:28.687Z"
   },
   {
    "duration": 15,
    "start_time": "2022-05-01T09:58:33.711Z"
   },
   {
    "duration": 49,
    "start_time": "2022-05-01T09:58:34.540Z"
   },
   {
    "duration": 16,
    "start_time": "2022-05-01T09:58:44.903Z"
   },
   {
    "duration": 48,
    "start_time": "2022-05-01T09:58:45.528Z"
   },
   {
    "duration": 13,
    "start_time": "2022-05-01T09:59:22.859Z"
   },
   {
    "duration": 44,
    "start_time": "2022-05-01T09:59:24.157Z"
   },
   {
    "duration": 177,
    "start_time": "2022-05-01T10:35:50.931Z"
   },
   {
    "duration": 176,
    "start_time": "2022-05-01T10:36:02.640Z"
   },
   {
    "duration": 53,
    "start_time": "2022-05-01T10:45:18.506Z"
   },
   {
    "duration": 47,
    "start_time": "2022-05-01T10:48:05.702Z"
   },
   {
    "duration": 46,
    "start_time": "2022-05-01T10:52:13.496Z"
   },
   {
    "duration": 52,
    "start_time": "2022-05-01T10:52:59.172Z"
   },
   {
    "duration": 47,
    "start_time": "2022-05-01T10:54:26.876Z"
   },
   {
    "duration": 48,
    "start_time": "2022-05-01T10:54:38.851Z"
   },
   {
    "duration": 49,
    "start_time": "2022-05-01T10:54:47.345Z"
   },
   {
    "duration": 46,
    "start_time": "2022-05-01T10:54:54.076Z"
   },
   {
    "duration": 50,
    "start_time": "2022-05-01T10:54:58.671Z"
   },
   {
    "duration": 46,
    "start_time": "2022-05-01T10:55:06.947Z"
   },
   {
    "duration": 49,
    "start_time": "2022-05-01T10:55:30.317Z"
   },
   {
    "duration": 48,
    "start_time": "2022-05-01T10:55:33.771Z"
   },
   {
    "duration": 52,
    "start_time": "2022-05-01T10:55:41.470Z"
   },
   {
    "duration": 47,
    "start_time": "2022-05-01T10:55:45.483Z"
   },
   {
    "duration": 47,
    "start_time": "2022-05-01T10:55:49.850Z"
   },
   {
    "duration": 49,
    "start_time": "2022-05-01T10:55:55.782Z"
   },
   {
    "duration": 52,
    "start_time": "2022-05-01T10:56:01.171Z"
   },
   {
    "duration": 48,
    "start_time": "2022-05-01T10:56:06.874Z"
   },
   {
    "duration": 46,
    "start_time": "2022-05-01T10:56:11.672Z"
   },
   {
    "duration": 47,
    "start_time": "2022-05-01T10:56:18.767Z"
   },
   {
    "duration": 47,
    "start_time": "2022-05-01T10:56:25.160Z"
   },
   {
    "duration": 50,
    "start_time": "2022-05-01T10:56:29.966Z"
   },
   {
    "duration": 47,
    "start_time": "2022-05-01T10:56:45.327Z"
   },
   {
    "duration": 49,
    "start_time": "2022-05-01T10:56:49.712Z"
   },
   {
    "duration": 47,
    "start_time": "2022-05-01T10:56:57.215Z"
   },
   {
    "duration": 47,
    "start_time": "2022-05-01T10:57:06.499Z"
   },
   {
    "duration": 9,
    "start_time": "2022-05-01T11:06:33.291Z"
   },
   {
    "duration": 8,
    "start_time": "2022-05-01T11:06:36.936Z"
   },
   {
    "duration": 13,
    "start_time": "2022-05-01T11:06:43.772Z"
   },
   {
    "duration": 8,
    "start_time": "2022-05-01T11:10:08.569Z"
   },
   {
    "duration": 11,
    "start_time": "2022-05-01T11:15:14.390Z"
   },
   {
    "duration": 15,
    "start_time": "2022-05-01T11:15:26.053Z"
   },
   {
    "duration": 10,
    "start_time": "2022-05-01T11:16:02.191Z"
   },
   {
    "duration": 21,
    "start_time": "2022-05-01T11:16:08.030Z"
   },
   {
    "duration": 14,
    "start_time": "2022-05-01T11:16:30.194Z"
   },
   {
    "duration": 48,
    "start_time": "2022-05-01T11:18:13.028Z"
   },
   {
    "duration": 6249,
    "start_time": "2022-05-02T14:56:00.267Z"
   },
   {
    "duration": 41,
    "start_time": "2022-05-02T14:56:07.240Z"
   },
   {
    "duration": 19,
    "start_time": "2022-05-02T14:56:08.066Z"
   },
   {
    "duration": 17,
    "start_time": "2022-05-02T14:56:10.427Z"
   },
   {
    "duration": 27,
    "start_time": "2022-05-02T14:56:13.284Z"
   },
   {
    "duration": 15,
    "start_time": "2022-05-02T14:56:22.888Z"
   },
   {
    "duration": 36,
    "start_time": "2022-05-02T14:56:23.808Z"
   },
   {
    "duration": 15,
    "start_time": "2022-05-02T14:56:30.754Z"
   },
   {
    "duration": 21,
    "start_time": "2022-05-02T14:56:31.663Z"
   },
   {
    "duration": 25,
    "start_time": "2022-05-02T14:56:36.408Z"
   },
   {
    "duration": 298,
    "start_time": "2022-05-02T14:56:38.678Z"
   },
   {
    "duration": 18,
    "start_time": "2022-05-02T14:56:42.196Z"
   },
   {
    "duration": 24,
    "start_time": "2022-05-02T14:56:42.766Z"
   },
   {
    "duration": 492,
    "start_time": "2022-05-02T14:56:48.727Z"
   },
   {
    "duration": 19,
    "start_time": "2022-05-02T14:56:55.154Z"
   },
   {
    "duration": 129,
    "start_time": "2022-05-02T14:56:56.131Z"
   },
   {
    "duration": 328,
    "start_time": "2022-05-02T14:56:57.875Z"
   },
   {
    "duration": 6,
    "start_time": "2022-05-02T14:57:00.249Z"
   },
   {
    "duration": 5,
    "start_time": "2022-05-02T14:57:02.912Z"
   },
   {
    "duration": 2088,
    "start_time": "2022-05-02T14:57:03.885Z"
   },
   {
    "duration": 20,
    "start_time": "2022-05-02T14:57:05.977Z"
   },
   {
    "duration": 13,
    "start_time": "2022-05-02T14:57:06.000Z"
   },
   {
    "duration": 3556,
    "start_time": "2022-05-02T14:57:06.016Z"
   },
   {
    "duration": 29,
    "start_time": "2022-05-02T14:57:09.575Z"
   },
   {
    "duration": 200,
    "start_time": "2022-05-02T14:57:09.607Z"
   },
   {
    "duration": 20,
    "start_time": "2022-05-02T14:57:41.016Z"
   },
   {
    "duration": 18,
    "start_time": "2022-05-02T14:57:41.324Z"
   },
   {
    "duration": 8,
    "start_time": "2022-05-02T14:57:41.750Z"
   },
   {
    "duration": 11,
    "start_time": "2022-05-02T14:57:42.164Z"
   },
   {
    "duration": 86,
    "start_time": "2022-05-02T14:57:49.621Z"
   },
   {
    "duration": 16,
    "start_time": "2022-05-02T14:57:50.666Z"
   },
   {
    "duration": 7,
    "start_time": "2022-05-02T14:57:52.417Z"
   },
   {
    "duration": 23,
    "start_time": "2022-05-02T14:57:53.765Z"
   },
   {
    "duration": 84,
    "start_time": "2022-05-02T14:57:54.712Z"
   },
   {
    "duration": 114,
    "start_time": "2022-05-02T14:57:56.440Z"
   },
   {
    "duration": 74819,
    "start_time": "2022-05-02T17:15:17.513Z"
   },
   {
    "duration": 85,
    "start_time": "2022-05-02T17:16:32.335Z"
   },
   {
    "duration": 68,
    "start_time": "2022-05-02T17:16:32.427Z"
   },
   {
    "duration": 41,
    "start_time": "2022-05-02T17:16:32.499Z"
   },
   {
    "duration": 90,
    "start_time": "2022-05-02T17:16:32.542Z"
   },
   {
    "duration": 74,
    "start_time": "2022-05-02T17:16:32.636Z"
   },
   {
    "duration": 118,
    "start_time": "2022-05-02T17:16:32.713Z"
   },
   {
    "duration": 14,
    "start_time": "2022-05-02T17:16:32.833Z"
   },
   {
    "duration": 35,
    "start_time": "2022-05-02T17:16:32.895Z"
   },
   {
    "duration": 116,
    "start_time": "2022-05-02T17:16:32.934Z"
   },
   {
    "duration": 804,
    "start_time": "2022-05-02T17:16:33.052Z"
   },
   {
    "duration": 32,
    "start_time": "2022-05-02T17:16:33.899Z"
   },
   {
    "duration": 80,
    "start_time": "2022-05-02T17:16:33.934Z"
   },
   {
    "duration": 824,
    "start_time": "2022-05-02T17:16:34.017Z"
   },
   {
    "duration": 14,
    "start_time": "2022-05-02T17:16:34.894Z"
   },
   {
    "duration": 226,
    "start_time": "2022-05-02T17:16:34.911Z"
   },
   {
    "duration": 775,
    "start_time": "2022-05-02T17:16:35.140Z"
   },
   {
    "duration": 8,
    "start_time": "2022-05-02T17:16:35.918Z"
   },
   {
    "duration": 65,
    "start_time": "2022-05-02T17:16:35.929Z"
   },
   {
    "duration": 4434,
    "start_time": "2022-05-02T17:16:35.998Z"
   },
   {
    "duration": 17,
    "start_time": "2022-05-02T17:16:40.434Z"
   },
   {
    "duration": 8,
    "start_time": "2022-05-02T17:16:40.454Z"
   },
   {
    "duration": 2714,
    "start_time": "2022-05-02T17:16:40.464Z"
   },
   {
    "duration": 152,
    "start_time": "2022-05-02T17:16:43.180Z"
   },
   {
    "duration": 18,
    "start_time": "2022-05-02T17:16:43.334Z"
   },
   {
    "duration": 93,
    "start_time": "2022-05-02T17:16:43.354Z"
   },
   {
    "duration": 12,
    "start_time": "2022-05-02T17:16:43.449Z"
   },
   {
    "duration": 84,
    "start_time": "2022-05-02T17:16:43.467Z"
   },
   {
    "duration": 30,
    "start_time": "2022-05-02T17:16:43.554Z"
   },
   {
    "duration": 101,
    "start_time": "2022-05-02T17:16:43.586Z"
   },
   {
    "duration": 148,
    "start_time": "2022-05-02T17:16:43.689Z"
   },
   {
    "duration": 21,
    "start_time": "2022-05-02T20:10:17.322Z"
   },
   {
    "duration": 78,
    "start_time": "2022-05-02T20:10:18.045Z"
   },
   {
    "duration": 99,
    "start_time": "2022-05-02T20:10:19.748Z"
   },
   {
    "duration": 171,
    "start_time": "2022-05-03T09:30:30.108Z"
   },
   {
    "duration": 122,
    "start_time": "2022-05-03T09:30:50.687Z"
   }
  ],
  "kernelspec": {
   "display_name": "Python 3",
   "language": "python",
   "name": "python3"
  },
  "language_info": {
   "codemirror_mode": {
    "name": "ipython",
    "version": 3
   },
   "file_extension": ".py",
   "mimetype": "text/x-python",
   "name": "python",
   "nbconvert_exporter": "python",
   "pygments_lexer": "ipython3",
   "version": "3.8.8"
  },
  "toc": {
   "base_numbering": 1,
   "nav_menu": {},
   "number_sections": true,
   "sideBar": true,
   "skip_h1_title": true,
   "title_cell": "Table of Contents",
   "title_sidebar": "Contents",
   "toc_cell": false,
   "toc_position": {
    "height": "calc(100% - 180px)",
    "left": "10px",
    "top": "150px",
    "width": "340.797px"
   },
   "toc_section_display": true,
   "toc_window_display": false
  }
 },
 "nbformat": 4,
 "nbformat_minor": 2
}
